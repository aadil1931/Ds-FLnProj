{
  "metadata": {
    "kernelspec": {
      "name": "python",
      "display_name": "Python (Pyodide)",
      "language": "python"
    },
    "language_info": {
      "codemirror_mode": {
        "name": "python",
        "version": 3
      },
      "file_extension": ".py",
      "mimetype": "text/x-python",
      "name": "python",
      "nbconvert_exporter": "python",
      "pygments_lexer": "ipython3",
      "version": "3.8"
    }
  },
  "nbformat_minor": 4,
  "nbformat": 4,
  "cells": [
    {
      "cell_type": "code",
      "source": "# What is 7 to the power of 4?\nresult = 7 ** 4\n\nprint(result)\n",
      "metadata": {
        "trusted": true
      },
      "outputs": [
        {
          "name": "stdout",
          "text": "2401\n",
          "output_type": "stream"
        }
      ],
      "execution_count": 1
    },
    {
      "cell_type": "code",
      "source": "#Split this string: s = \"Hi there Sam!\" into a list\ns = \"Hi there Sam!\"\nlist_s = s.split()\nprint(list_s)\n",
      "metadata": {
        "trusted": true
      },
      "outputs": [
        {
          "name": "stdout",
          "text": "['Hi', 'there', 'Sam!']\n",
          "output_type": "stream"
        }
      ],
      "execution_count": 3
    },
    {
      "cell_type": "code",
      "source": "#Given the variables: planet = \"Earth\" diameter = 12742Use .format() to print the following string:The diameter of Earth is 12742 kilometers.\nplanet = \"Earth\"\ndia = 12742\n\nprint(\"The diameter of {} is {} kilometers.\".format(planet, dia))\n",
      "metadata": {
        "trusted": true
      },
      "outputs": [
        {
          "name": "stdout",
          "text": "The diameter of Earth is 12742 kilometers.\n",
          "output_type": "stream"
        }
      ],
      "execution_count": 4
    },
    {
      "cell_type": "code",
      "source": "#Given this nested list, use indexing to grab the word \"helloâ€ lst = [1,2,[3,4],[5,[100,200,['hello']],23,11],1,7]\nlst = [1,2,[3,4],[5,[100,200,['hello']],23,11],1,7]\nprint(lst[3][1][2][0])",
      "metadata": {
        "trusted": true
      },
      "outputs": [
        {
          "name": "stdout",
          "text": "hello\n",
          "output_type": "stream"
        }
      ],
      "execution_count": 11
    },
    {
      "cell_type": "code",
      "source": "#Create a function that grabs the email website domain from a string in the form: **user@domain.com\ndef get_domain(email):\n    return email.split('@')[-1]\nemail = \"user@domain.com\"\nprint(get_domain(email))\n",
      "metadata": {
        "trusted": true
      },
      "outputs": [
        {
          "name": "stdout",
          "text": "domain.com\n",
          "output_type": "stream"
        }
      ],
      "execution_count": 15
    },
    {
      "cell_type": "code",
      "source": "#Create a basic function that returns True if the word 'dog' is contained in the input string. Don't worry about edge cases like a punctuation being attached to the word dog,\n#  but do account for capitalization. : findDog('Is there a dog here?')\ndef findDog(s):\n    return 'dog' in s.lower()\n\n# Test the function\nprint(findDog('Is there a Dog here?'))\n",
      "metadata": {
        "trusted": true
      },
      "outputs": [
        {
          "name": "stdout",
          "text": "dog\n",
          "output_type": "stream"
        }
      ],
      "execution_count": 17
    },
    {
      "cell_type": "code",
      "source": "#9. Use lambda expressions and the filter() function to filter out words from a list that don't start with the letter 's'. \n# For example: seq = ['soup','dog','salad','cat','great'] should be filtered down to: ['soup','salad']\nseq = ['soup','dog','salad','cat','great']\nfiltered_seq = list(filter(lambda word: word[0].lower() == 's', seq))\nprint(filtered_seq)\n",
      "metadata": {
        "trusted": true
      },
      "outputs": [
        {
          "name": "stdout",
          "text": "['soup', 'salad']\n",
          "output_type": "stream"
        }
      ],
      "execution_count": 9
    },
    {
      "cell_type": "code",
      "source": "# 10. You are driving a little too fast, and a police officer stops you. \n# Write a function to return one of 3 possible results: \"No ticket\", \"Small ticket\", or \"Big Ticket\". If your speed is 60 or less, the result is \"No Ticket\". \n# If speed is between 61 and 80 inclusive, the result is \"Small Ticket\". If speed is 81 or more, the result is \"Big Ticket\". \n# Unless it is your birthday (encoded as a boolean value in the parameters of the function) -- on your birthday, your speed can be 5 higher in all cases.\ndef caught_speeding(speed, is_birthday):\n    if is_birthday:\n        speed -= 5\n\n    if speed <= 60:\n        return \"No Ticket\"\n    elif speed <= 80:\n        return \"Small Ticket\"\n    else:\n        return \"Big Ticket\"\n\n# Test the function\nprint(caught_speeding(81, True))\n",
      "metadata": {
        "trusted": true
      },
      "outputs": [
        {
          "name": "stdout",
          "text": "Small Ticket\n",
          "output_type": "stream"
        }
      ],
      "execution_count": 10
    },
    {
      "cell_type": "code",
      "source": "# 11.\tWrite a program to input roll no, student name, marks of physics, chemistry and maths out of 100. (0-100). Calculate total, percentage, calculate STATUS (pass, fail) if students scores above 40 in all the 3 subjects the STATUS should be pass otherwise fail. Calculate GRADE if STATUS is pass.\n# Grade must be based on percentage value\n# if percentage is above 70, then grade must be DISTINCTION if percentage is above 60, then grade must be FIRST CLASS\n# if percentage is above 50, then grade must be SECOND CLASS if percentage is above 40, then grade must be PASS CLASS\ndef cg(roll_no, name, ph, ch, ma):\n    total = ph + ch + ma\n    percentage = total / 3\n\n    if ph < 40 or ch < 40 or ma < 40:\n        st = \"Fail\"\n        gr = \"N/A\"\n    else:\n        st = \"Pass\"\n        if percentage > 70:\n            gr = \"DISTINCTION\"\n        elif percentage > 60:\n            gr = \"FIRST CLASS\"\n        elif percentage > 50:\n            gr = \"SECOND CLASS\"\n        else:\n            gr = \"PASS CLASS\"\n\n    return roll_no, name, total, percentage, st, gr\n\n# Test the function\nroll_no, name, total, percentage, st, gr = cg(210, \"Aadil\", 85, 75, 65)\nprint(f\"Roll No: {roll_no}, Name: {name}, Total: {total}, Percentage: {percentage}, Status: {st}, Grade: {gr}\")\n",
      "metadata": {
        "trusted": true
      },
      "outputs": [
        {
          "name": "stdout",
          "text": "Roll No: 210, Name: Aadil, Total: 225, Percentage: 75.0, Status: Pass, Grade: DISTINCTION\n",
          "output_type": "stream"
        }
      ],
      "execution_count": 3
    },
    {
      "cell_type": "code",
      "source": "class Employee:\n    def __init__(self, empid, name, basic_salary, experience_years):\n        self._empid = empid\n        self._name = name\n        self._basic_salary = basic_salary\n        self._experience_years = experience_years\n        self._hra = 0\n        self._da = 0\n        self._pf = 0\n        self._bonus = 0\n        self._netsalary = 0\n        \n\n\n    def calculate_hra(self):\n        self._hra = 0.35 * self._basic_salary\n\n    def calculate_da(self):\n        self._da = 0.58 * self._basic_salary\n\n    def calculate_pf(self):\n        self._pf = 0.095 * self._basic_salary\n\n    def calculate_bonus(self):\n        if self._experience_years >= 30:\n            self._bonus = 0.59 * self._basic_salary\n        elif self._experience_years >= 23:\n            self._bonus = 0.51 * self._basic_salary\n        elif self._experience_years >= 15:\n            self._bonus = 0.45 * self._basic_salary\n        elif self._experience_years >= 7:\n            self._bonus = 0.33 * self._basic_salary\n        else:\n            self._bonus = 0.16 * self._basic_salary\n\n    def calculate_netsalary(self):\n        self._netsalary = (\n            self._basic_salary + self._da + self._hra - self._pf + self._bonus\n        )\n\n    def display_details(self):\n        print(f\"Employee ID:\",self._empid)\n        print(f\"Name: {self._name}\")\n        print(f\"Basic Salary: {self._basic_salary}\")\n        print(f\"Experience in Years: {self._experience_years}\")\n        print(f\"HRA: {self._hra}\")\n        print(f\"DA: {self._da}\")\n        print(f\"PF: {self._pf}\")\n        print(f\"Bonus: {self._bonus}\")\n        print(f\"Net Salary: {self._netsalary}\")\n\n\n# Example Usage:\nemployee1 = Employee(empid=\"22000210\", name=\"Aadil\", basic_salary=10000, experience_years=6)\nemployee1.calculate_hra()\nemployee1.calculate_da()\nemployee1.calculate_pf()\nemployee1.calculate_bonus()\nemployee1.calculate_netsalary()\nemployee1.display_details()",
      "metadata": {
        "trusted": true
      },
      "outputs": [
        {
          "name": "stdout",
          "text": "Employee ID: 22000210\nName: Aadil\nBasic Salary: 10000\nExperience in Years: 6\nHRA: 3500.0\nDA: 5800.0\nPF: 950.0\nBonus: 1600.0\nNet Salary: 19950.0\n",
          "output_type": "stream"
        }
      ],
      "execution_count": 24
    },
    {
      "cell_type": "code",
      "source": "class Listt:\n    def __init__(self, n):\n        self.n = n\n        self.fl = []\n        self.sl = []\n    \n   \n\n    def in_fl(self):\n        print(\"Enter numbers:\",self.n)\n        for i in range(self.n):\n            vl = int(input())\n            self.fl.append(vl)\n\n    def cl_sl(self):\n        for i in range(self.n // 2):\n            sum_result = self.fl[i] + self.fl[self.n - 1 - i]\n            self.sl.append(sum_result)\n\n    def remove_duplicates_and_display(self):\n        rm_dup = list(set(self.sl))\n        tuple_newlist = tuple(rm_dup)\n\n        print(\"\\nResult:\")\n        print(\"Original List:\", self.sl)\n        print(\"List after removing duplicates:\", rm_dup)\n        print(\"Tuple:\", tuple_newlist)\n\ndef main():\n    n = 8\n    processor = Listt(n)\n    \n    processor.in_fl()\n    processor.cl_sl()\n    processor.remove_duplicates_and_display()\n    print(processor.fl)\n\n\n",
      "metadata": {
        "trusted": true
      },
      "outputs": [],
      "execution_count": 1
    },
    {
      "cell_type": "code",
      "source": "class MyNumber:\n    def __init__(self, value=0):\n        self._num = value\n\n    def set_num(self, value):\n        self._num = value\n\n    def get_num(self):\n        return self._num\n\n    def add(self, other):\n        result = MyNumber(self._num + other.get_num())\n        return result\n\n    def raised_to(self, other):\n        result = MyNumber(self._num ** other.get_num())\n        return result\n\n    def concat(self, other):\n        result = MyNumber(int(str(self._num) + str(other.get_num())))\n        return result\n\n    def max(self, other):\n        result = MyNumber(max(self._num, other.get_num()))\n        return result\n\n    def min(self, other):\n        result = MyNumber(min(self._num, other.get_num()))\n        return result\n\nn1 = MyNumber(2)\nn2 = MyNumber()\nn2.set_num(5)\n\nn3 = n1.add(n2)\nprint(\"Addition is\", n3.get_num())  # Output: 7\n\n# Power\nn3 = n1.raised_to(n2)\nprint(f\"{n1.get_num()} raised to {n2.get_num()} is {n3.get_num()}\")  # Output: 32\n\nn3 = n1.concat(n2)\nprint(\"Concat answer is\", n3.get_num())  # Output: 25\n\nn3 = n1.max(n2)\nprint(\"Max is\", n3.get_num())  # Output: 5\n",
      "metadata": {
        "trusted": true
      },
      "outputs": [
        {
          "name": "stdout",
          "text": "Addition is 7\n2 raised to 5 is 32\nConcat answer is 25\nMax is 5\n",
          "output_type": "stream"
        }
      ],
      "execution_count": 3
    },
    {
      "cell_type": "markdown",
      "source": "# Write a program to access each element of list and return all the information of the client   \ndata = [(12345,\"Diskha\",\"Diskha@nuv.ac.in\"),(45667,\"Jiva\",\"JIva@nuv.ac.in\"),(16789,\"Rohit\",\"Rohit@nuv.ac.in\"),(69433,\"Heena\",\"Heena@nuv.ac.in\")]\n",
      "metadata": {}
    },
    {
      "cell_type": "code",
      "source": "class Access:\n    def __init__(self):\n        self.data =  []\n        \n    def set_data(self,n):\n        self.data = n \n        \n    def get_data(self):\n        return self.data\n\n    def accs(self, query):\n        for id, name, email in self.data:\n            if query == id or query == name or query == email:\n                return (\"Student name is\",name,\"and ID and Email is\",id, email)\n        return \"No match found\"\n        \naccess = Access()\n\ndata = [(12345,\"Diskha\",\"Diskha@nuv.ac.in\"),(45667,\"Jiva\",\"JIva@nuv.ac.in\"),(16789,\"Rohit\",\"Rohit@nuv.ac.in\"),(69433,\"Heena\",\"Heena@nuv.ac.in\")]\naccess.set_data(data)\n\nprint(access.accs(12345))  \nprint(access.accs(\"Heena\"))  \nprint(access.accs(\"unnkown@nuv.ac.in\"))\n\n",
      "metadata": {
        "trusted": true
      },
      "outputs": [
        {
          "name": "stdout",
          "text": "('Student name is', 'Diskha', 'and ID and Email is', 12345, 'Diskha@nuv.ac.in')\n('Student name is', 'Heena', 'and ID and Email is', 69433, 'Heena@nuv.ac.in')\nNo match found\n",
          "output_type": "stream"
        }
      ],
      "execution_count": 45
    },
    {
      "cell_type": "markdown",
      "source": "# Write a program to access following dictionary ",
      "metadata": {}
    },
    {
      "cell_type": "code",
      "source": "Mydict = {\n    \"Enrollment Id\": [12345, 45667, 16789, 69433],\n    \"Student Name\": [\"Diksha\", \"Jiva\", \"Ronit\", \"Heena\"],\n    \"Email Id\": [\"Diksha r@nuv.ac.in\", \"Jiva@nuv.ac.in\", \"Ronitd@nuv.ac.in\", \"Heena@nuv.ac.in\"]\n}\n\nfor i in range(len(Mydict[\"Enrollment Id\"])):\n    enrolid = Mydict[\"Enrollment Id\"][i]\n    sname = Mydict[\"Student Name\"][i]\n    emailid = Mydict[\"Email Id\"][i]\n    print(f\"{enrolid:<7}{sname:12}{emailid:25}\")",
      "metadata": {
        "trusted": true
      },
      "outputs": [
        {
          "name": "stdout",
          "text": "12345  Diksha      Diksha r@nuv.ac.in       \n45667  Jiva        Jiva@nuv.ac.in           \n16789  Ronit       Ronitd@nuv.ac.in         \n69433  Heena       Heena@nuv.ac.in          \n",
          "output_type": "stream"
        }
      ],
      "execution_count": 89
    },
    {
      "cell_type": "markdown",
      "source": "# Convert data in nested list structure to dictionary.\n",
      "metadata": {}
    },
    {
      "cell_type": "code",
      "source": "data = [(12345,\"Diksha \",\"Diksha r@nuv.ac.in\"),(45667,\"Jiva\",\"Jiva@nuv.ac.in\"),\n        (16789,\"Ronit\",\"Ronit@nuv.ac.in\"),(69433,\"Heena\",\"Heena@nuv.ac.in\")]\n\n\nmydic = {\"Enrollment Id\":[], \"Student Name\":[], \"Email Id\":[]}\n\n\nfor i,j,k in data: \n    for i,j,k in data:\n        mydic[\"Student Name\"].append(j)\n        mydic[\"Enrollment Id\"].append(i)\n        mydic[\"Email Id\"].append(k)        \n    print(mydic)  \n    break\n",
      "metadata": {
        "trusted": true
      },
      "outputs": [
        {
          "name": "stdout",
          "text": "{'Enrollment Id': [12345, 45667, 16789, 69433], 'Student Name': ['Diksha ', 'Jiva', 'Ronit', 'Heena'], 'Email Id': ['Diksha r@nuv.ac.in', 'Jiva@nuv.ac.in', 'Ronit@nuv.ac.in', 'Heena@nuv.ac.in']}\n",
          "output_type": "stream"
        }
      ],
      "execution_count": 71
    },
    {
      "cell_type": "code",
      "source": "",
      "metadata": {
        "trusted": true
      },
      "outputs": [],
      "execution_count": null
    }
  ]
}