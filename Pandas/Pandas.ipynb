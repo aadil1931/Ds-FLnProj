{
  "metadata": {
    "kernelspec": {
      "name": "python",
      "display_name": "Python (Pyodide)",
      "language": "python"
    },
    "language_info": {
      "codemirror_mode": {
        "name": "python",
        "version": 3
      },
      "file_extension": ".py",
      "mimetype": "text/x-python",
      "name": "python",
      "nbconvert_exporter": "python",
      "pygments_lexer": "ipython3",
      "version": "3.8"
    }
  },
  "nbformat_minor": 4,
  "nbformat": 4,
  "cells": [
    {
      "cell_type": "code",
      "source": "# Implicit indexing is an index number which is already given where as explicit indexing is a number which we can give i.e a[15] we can name it as \"XYZ\"\n# .setIndex is used to change name of index\n#  To delete a coloumn we use .drop(Column name, axis = 0, Inplace = True)\n# .head() used to get or read first five rows of dataset \n#  .tail() is used to get last rows of data set you can add number to get the number of data \n#  .shape is used  to get shape of matrix \n# Conditional statement in panda:  \"name > 17\"\n# ## Missing data are of 2 types Nan and None \n# isnull() used to check whether data has none value or not \n# .dropna() will remove the whole row if their is nan or none value \n#  .dropna(axis = 1) remove whole row and thres is an attribute which will remove the row according to number of NaN\n# .fillna() used to fill some values in NaN section \n# .fillna(method = 'ffill') forward filling is a method whihc will copy previous data value into current NaN \n# disadv of forward is you can't do it if the NaN is in the first row at that time you will use bakcward filling \n# .fillna(method = 'vfill') vfill is backward filling which will copy next row value  into current NaN row \n# .replace(to replace = 'string',NaN)",
      "metadata": {
        "trusted": true
      },
      "outputs": [],
      "execution_count": 78
    },
    {
      "cell_type": "markdown",
      "source": "# we are creating 1D series, series is used present data in 1D series \n",
      "metadata": {}
    },
    {
      "cell_type": "code",
      "source": "# we are creating 1D series, series is used present data in 1D series \nimport numpy  as np\nimport pandas as pd\ndata   = [90,60,80,30]\nvr = [\"Aadil\",\"Akshay \",\"Aamish\",\"Arshil\"]\nsr = pd.Series(data,vr)\nsr",
      "metadata": {
        "trusted": true
      },
      "outputs": [
        {
          "execution_count": 363,
          "output_type": "execute_result",
          "data": {
            "text/plain": "Aadil      90\nAkshay     60\nAamish     80\nArshil     30\ndtype: int64"
          },
          "metadata": {}
        }
      ],
      "execution_count": 363
    },
    {
      "cell_type": "markdown",
      "source": "#  .dataframe () is used to represent data in 2D series\n",
      "metadata": {}
    },
    {
      "cell_type": "code",
      "source": "import numpy as  np\ndt = [[90,60,80,60],[50,60,70,80]]\nvr = [\"Krish\",\"Aadil\"]\n\nnmm = pd.DataFrame(dt, vr, columns = [\"Math\",\"Science\",\"SS\",\"Bio\"])\nnmm\n# nmm[\"Math\"]# to get specific data from the column \n",
      "metadata": {
        "trusted": true
      },
      "outputs": [
        {
          "execution_count": 275,
          "output_type": "execute_result",
          "data": {
            "text/plain": "       Math  Science  SS  Bio\nKrish    90       60  80   60\nAadil    50       60  70   80",
            "text/html": "<div>\n<style scoped>\n    .dataframe tbody tr th:only-of-type {\n        vertical-align: middle;\n    }\n\n    .dataframe tbody tr th {\n        vertical-align: top;\n    }\n\n    .dataframe thead th {\n        text-align: right;\n    }\n</style>\n<table border=\"1\" class=\"dataframe\">\n  <thead>\n    <tr style=\"text-align: right;\">\n      <th></th>\n      <th>Math</th>\n      <th>Science</th>\n      <th>SS</th>\n      <th>Bio</th>\n    </tr>\n  </thead>\n  <tbody>\n    <tr>\n      <th>Krish</th>\n      <td>90</td>\n      <td>60</td>\n      <td>80</td>\n      <td>60</td>\n    </tr>\n    <tr>\n      <th>Aadil</th>\n      <td>50</td>\n      <td>60</td>\n      <td>70</td>\n      <td>80</td>\n    </tr>\n  </tbody>\n</table>\n</div>"
          },
          "metadata": {}
        }
      ],
      "execution_count": 275
    },
    {
      "cell_type": "markdown",
      "source": "# To get specific values from rows\n",
      "metadata": {}
    },
    {
      "cell_type": "code",
      "source": "nmm.loc[[\"Aadil\"]]",
      "metadata": {
        "trusted": true
      },
      "outputs": [
        {
          "execution_count": 276,
          "output_type": "execute_result",
          "data": {
            "text/plain": "       Math  Science  SS  Bio\nAadil    50       60  70   80",
            "text/html": "<div>\n<style scoped>\n    .dataframe tbody tr th:only-of-type {\n        vertical-align: middle;\n    }\n\n    .dataframe tbody tr th {\n        vertical-align: top;\n    }\n\n    .dataframe thead th {\n        text-align: right;\n    }\n</style>\n<table border=\"1\" class=\"dataframe\">\n  <thead>\n    <tr style=\"text-align: right;\">\n      <th></th>\n      <th>Math</th>\n      <th>Science</th>\n      <th>SS</th>\n      <th>Bio</th>\n    </tr>\n  </thead>\n  <tbody>\n    <tr>\n      <th>Aadil</th>\n      <td>50</td>\n      <td>60</td>\n      <td>70</td>\n      <td>80</td>\n    </tr>\n  </tbody>\n</table>\n</div>"
          },
          "metadata": {}
        }
      ],
      "execution_count": 276
    },
    {
      "cell_type": "markdown",
      "source": "# Create 3 list viz. productId, Product Name, Product Price with 5 elements each.\r\nAdd this element to create a DataFrame.\r",
      "metadata": {}
    },
    {
      "cell_type": "code",
      "source": "pId= [101,102,103,104,105]\npNm= [\"Chips\",\"Drinks\",\"Snacks\",\"Maggie\",\"Fruit Beer\"]\npP=[100,50,55,80,500]\nassi = {\n    \"Product Id\"  : pId,\n    \"Product Name\" : pNm,\n    \"Product Price\" : pP\n    \n}\n \na = pd.DataFrame(assi)\na[1:4]\n",
      "metadata": {
        "trusted": true
      },
      "outputs": [
        {
          "execution_count": 277,
          "output_type": "execute_result",
          "data": {
            "text/plain": "   Product Id Product Name  Product Price\n1         102       Drinks             50\n2         103       Snacks             55\n3         104       Maggie             80",
            "text/html": "<div>\n<style scoped>\n    .dataframe tbody tr th:only-of-type {\n        vertical-align: middle;\n    }\n\n    .dataframe tbody tr th {\n        vertical-align: top;\n    }\n\n    .dataframe thead th {\n        text-align: right;\n    }\n</style>\n<table border=\"1\" class=\"dataframe\">\n  <thead>\n    <tr style=\"text-align: right;\">\n      <th></th>\n      <th>Product Id</th>\n      <th>Product Name</th>\n      <th>Product Price</th>\n    </tr>\n  </thead>\n  <tbody>\n    <tr>\n      <th>1</th>\n      <td>102</td>\n      <td>Drinks</td>\n      <td>50</td>\n    </tr>\n    <tr>\n      <th>2</th>\n      <td>103</td>\n      <td>Snacks</td>\n      <td>55</td>\n    </tr>\n    <tr>\n      <th>3</th>\n      <td>104</td>\n      <td>Maggie</td>\n      <td>80</td>\n    </tr>\n  </tbody>\n</table>\n</div>"
          },
          "metadata": {}
        }
      ],
      "execution_count": 277
    },
    {
      "cell_type": "markdown",
      "source": "# Extract one by one column and display separately from above dataframe",
      "metadata": {}
    },
    {
      "cell_type": "code",
      "source": "a[[\"Product Id\"]]",
      "metadata": {
        "trusted": true
      },
      "outputs": [
        {
          "execution_count": 8,
          "output_type": "execute_result",
          "data": {
            "text/plain": "   Product Id\n0         101\n1         102\n2         103\n3         104\n4         105",
            "text/html": "<div>\n<style scoped>\n    .dataframe tbody tr th:only-of-type {\n        vertical-align: middle;\n    }\n\n    .dataframe tbody tr th {\n        vertical-align: top;\n    }\n\n    .dataframe thead th {\n        text-align: right;\n    }\n</style>\n<table border=\"1\" class=\"dataframe\">\n  <thead>\n    <tr style=\"text-align: right;\">\n      <th></th>\n      <th>Product Id</th>\n    </tr>\n  </thead>\n  <tbody>\n    <tr>\n      <th>0</th>\n      <td>101</td>\n    </tr>\n    <tr>\n      <th>1</th>\n      <td>102</td>\n    </tr>\n    <tr>\n      <th>2</th>\n      <td>103</td>\n    </tr>\n    <tr>\n      <th>3</th>\n      <td>104</td>\n    </tr>\n    <tr>\n      <th>4</th>\n      <td>105</td>\n    </tr>\n  </tbody>\n</table>\n</div>"
          },
          "metadata": {}
        }
      ],
      "execution_count": 8
    },
    {
      "cell_type": "code",
      "source": "a[[\"Product Name\"]]\n",
      "metadata": {
        "trusted": true
      },
      "outputs": [
        {
          "execution_count": 9,
          "output_type": "execute_result",
          "data": {
            "text/plain": "  Product Name\n0        Chips\n1       Drinks\n2       Snacks\n3       Maggie\n4   Fruit Beer",
            "text/html": "<div>\n<style scoped>\n    .dataframe tbody tr th:only-of-type {\n        vertical-align: middle;\n    }\n\n    .dataframe tbody tr th {\n        vertical-align: top;\n    }\n\n    .dataframe thead th {\n        text-align: right;\n    }\n</style>\n<table border=\"1\" class=\"dataframe\">\n  <thead>\n    <tr style=\"text-align: right;\">\n      <th></th>\n      <th>Product Name</th>\n    </tr>\n  </thead>\n  <tbody>\n    <tr>\n      <th>0</th>\n      <td>Chips</td>\n    </tr>\n    <tr>\n      <th>1</th>\n      <td>Drinks</td>\n    </tr>\n    <tr>\n      <th>2</th>\n      <td>Snacks</td>\n    </tr>\n    <tr>\n      <th>3</th>\n      <td>Maggie</td>\n    </tr>\n    <tr>\n      <th>4</th>\n      <td>Fruit Beer</td>\n    </tr>\n  </tbody>\n</table>\n</div>"
          },
          "metadata": {}
        }
      ],
      "execution_count": 9
    },
    {
      "cell_type": "code",
      "source": "a[[\"Product Price\"]]",
      "metadata": {
        "trusted": true
      },
      "outputs": [
        {
          "execution_count": 10,
          "output_type": "execute_result",
          "data": {
            "text/plain": "   Product Price\n0            100\n1             50\n2             55\n3             80\n4            500",
            "text/html": "<div>\n<style scoped>\n    .dataframe tbody tr th:only-of-type {\n        vertical-align: middle;\n    }\n\n    .dataframe tbody tr th {\n        vertical-align: top;\n    }\n\n    .dataframe thead th {\n        text-align: right;\n    }\n</style>\n<table border=\"1\" class=\"dataframe\">\n  <thead>\n    <tr style=\"text-align: right;\">\n      <th></th>\n      <th>Product Price</th>\n    </tr>\n  </thead>\n  <tbody>\n    <tr>\n      <th>0</th>\n      <td>100</td>\n    </tr>\n    <tr>\n      <th>1</th>\n      <td>50</td>\n    </tr>\n    <tr>\n      <th>2</th>\n      <td>55</td>\n    </tr>\n    <tr>\n      <th>3</th>\n      <td>80</td>\n    </tr>\n    <tr>\n      <th>4</th>\n      <td>500</td>\n    </tr>\n  </tbody>\n</table>\n</div>"
          },
          "metadata": {}
        }
      ],
      "execution_count": 10
    },
    {
      "cell_type": "markdown",
      "source": "# Display separately each and every row from an above dataframe. (use loc or iloc function)",
      "metadata": {}
    },
    {
      "cell_type": "code",
      "source": "a.loc[[0]]",
      "metadata": {
        "trusted": true
      },
      "outputs": [
        {
          "execution_count": 11,
          "output_type": "execute_result",
          "data": {
            "text/plain": "   Product Id Product Name  Product Price\n0         101        Chips            100",
            "text/html": "<div>\n<style scoped>\n    .dataframe tbody tr th:only-of-type {\n        vertical-align: middle;\n    }\n\n    .dataframe tbody tr th {\n        vertical-align: top;\n    }\n\n    .dataframe thead th {\n        text-align: right;\n    }\n</style>\n<table border=\"1\" class=\"dataframe\">\n  <thead>\n    <tr style=\"text-align: right;\">\n      <th></th>\n      <th>Product Id</th>\n      <th>Product Name</th>\n      <th>Product Price</th>\n    </tr>\n  </thead>\n  <tbody>\n    <tr>\n      <th>0</th>\n      <td>101</td>\n      <td>Chips</td>\n      <td>100</td>\n    </tr>\n  </tbody>\n</table>\n</div>"
          },
          "metadata": {}
        }
      ],
      "execution_count": 11
    },
    {
      "cell_type": "code",
      "source": "a.loc[[1]]",
      "metadata": {
        "trusted": true
      },
      "outputs": [
        {
          "execution_count": 12,
          "output_type": "execute_result",
          "data": {
            "text/plain": "   Product Id Product Name  Product Price\n1         102       Drinks             50",
            "text/html": "<div>\n<style scoped>\n    .dataframe tbody tr th:only-of-type {\n        vertical-align: middle;\n    }\n\n    .dataframe tbody tr th {\n        vertical-align: top;\n    }\n\n    .dataframe thead th {\n        text-align: right;\n    }\n</style>\n<table border=\"1\" class=\"dataframe\">\n  <thead>\n    <tr style=\"text-align: right;\">\n      <th></th>\n      <th>Product Id</th>\n      <th>Product Name</th>\n      <th>Product Price</th>\n    </tr>\n  </thead>\n  <tbody>\n    <tr>\n      <th>1</th>\n      <td>102</td>\n      <td>Drinks</td>\n      <td>50</td>\n    </tr>\n  </tbody>\n</table>\n</div>"
          },
          "metadata": {}
        }
      ],
      "execution_count": 12
    },
    {
      "cell_type": "code",
      "source": "a.loc[[2]]",
      "metadata": {
        "trusted": true
      },
      "outputs": [
        {
          "execution_count": 13,
          "output_type": "execute_result",
          "data": {
            "text/plain": "   Product Id Product Name  Product Price\n2         103       Snacks             55",
            "text/html": "<div>\n<style scoped>\n    .dataframe tbody tr th:only-of-type {\n        vertical-align: middle;\n    }\n\n    .dataframe tbody tr th {\n        vertical-align: top;\n    }\n\n    .dataframe thead th {\n        text-align: right;\n    }\n</style>\n<table border=\"1\" class=\"dataframe\">\n  <thead>\n    <tr style=\"text-align: right;\">\n      <th></th>\n      <th>Product Id</th>\n      <th>Product Name</th>\n      <th>Product Price</th>\n    </tr>\n  </thead>\n  <tbody>\n    <tr>\n      <th>2</th>\n      <td>103</td>\n      <td>Snacks</td>\n      <td>55</td>\n    </tr>\n  </tbody>\n</table>\n</div>"
          },
          "metadata": {}
        }
      ],
      "execution_count": 13
    },
    {
      "cell_type": "code",
      "source": "a.loc[[3]]",
      "metadata": {
        "trusted": true
      },
      "outputs": [
        {
          "execution_count": 14,
          "output_type": "execute_result",
          "data": {
            "text/plain": "   Product Id Product Name  Product Price\n3         104       Maggie             80",
            "text/html": "<div>\n<style scoped>\n    .dataframe tbody tr th:only-of-type {\n        vertical-align: middle;\n    }\n\n    .dataframe tbody tr th {\n        vertical-align: top;\n    }\n\n    .dataframe thead th {\n        text-align: right;\n    }\n</style>\n<table border=\"1\" class=\"dataframe\">\n  <thead>\n    <tr style=\"text-align: right;\">\n      <th></th>\n      <th>Product Id</th>\n      <th>Product Name</th>\n      <th>Product Price</th>\n    </tr>\n  </thead>\n  <tbody>\n    <tr>\n      <th>3</th>\n      <td>104</td>\n      <td>Maggie</td>\n      <td>80</td>\n    </tr>\n  </tbody>\n</table>\n</div>"
          },
          "metadata": {}
        }
      ],
      "execution_count": 14
    },
    {
      "cell_type": "code",
      "source": "a.loc[[4]]",
      "metadata": {
        "trusted": true
      },
      "outputs": [
        {
          "execution_count": 15,
          "output_type": "execute_result",
          "data": {
            "text/plain": "   Product Id Product Name  Product Price\n4         105   Fruit Beer            500",
            "text/html": "<div>\n<style scoped>\n    .dataframe tbody tr th:only-of-type {\n        vertical-align: middle;\n    }\n\n    .dataframe tbody tr th {\n        vertical-align: top;\n    }\n\n    .dataframe thead th {\n        text-align: right;\n    }\n</style>\n<table border=\"1\" class=\"dataframe\">\n  <thead>\n    <tr style=\"text-align: right;\">\n      <th></th>\n      <th>Product Id</th>\n      <th>Product Name</th>\n      <th>Product Price</th>\n    </tr>\n  </thead>\n  <tbody>\n    <tr>\n      <th>4</th>\n      <td>105</td>\n      <td>Fruit Beer</td>\n      <td>500</td>\n    </tr>\n  </tbody>\n</table>\n</div>"
          },
          "metadata": {}
        }
      ],
      "execution_count": 15
    },
    {
      "cell_type": "markdown",
      "source": "# Display product name from 3 row using loc function",
      "metadata": {}
    },
    {
      "cell_type": "code",
      "source": "a.loc[3, \"Product Name\"]",
      "metadata": {
        "trusted": true
      },
      "outputs": [
        {
          "execution_count": 16,
          "output_type": "execute_result",
          "data": {
            "text/plain": "'Maggie'"
          },
          "metadata": {}
        }
      ],
      "execution_count": 16
    },
    {
      "cell_type": "markdown",
      "source": "# Display price located in 2 row using iloc function",
      "metadata": {}
    },
    {
      "cell_type": "code",
      "source": "a.iloc[2][\"Product Price\"] ",
      "metadata": {
        "trusted": true
      },
      "outputs": [
        {
          "execution_count": 17,
          "output_type": "execute_result",
          "data": {
            "text/plain": "55"
          },
          "metadata": {}
        }
      ],
      "execution_count": 17
    },
    {
      "cell_type": "markdown",
      "source": "# Display 2nd to 4th row data excluding price",
      "metadata": {}
    },
    {
      "cell_type": "code",
      "source": "a.iloc[2:5][\"Product Price\"]",
      "metadata": {
        "trusted": true
      },
      "outputs": [
        {
          "execution_count": 18,
          "output_type": "execute_result",
          "data": {
            "text/plain": "2     55\n3     80\n4    500\nName: Product Price, dtype: int64"
          },
          "metadata": {}
        }
      ],
      "execution_count": 18
    },
    {
      "cell_type": "markdown",
      "source": "#   Display 1 to 3rd row price data only",
      "metadata": {}
    },
    {
      "cell_type": "code",
      "source": "a.iloc[1:4][\"Product Price\"]",
      "metadata": {
        "trusted": true
      },
      "outputs": [
        {
          "execution_count": 281,
          "output_type": "execute_result",
          "data": {
            "text/plain": "1    50\n2    55\n3    80\nName: Product Price, dtype: int64"
          },
          "metadata": {}
        }
      ],
      "execution_count": 281
    },
    {
      "cell_type": "markdown",
      "source": "#  Change marks in python column to 41 for students who have scored less than 40.",
      "metadata": {}
    },
    {
      "cell_type": "code",
      "source": "sr[sr < 40] = 41\nsr",
      "metadata": {
        "trusted": true
      },
      "outputs": [
        {
          "execution_count": 19,
          "output_type": "execute_result",
          "data": {
            "text/plain": "Aadil      90\nAkshay     60\nAamish     80\nArshil     41\ndtype: int64"
          },
          "metadata": {}
        }
      ],
      "execution_count": 19
    },
    {
      "cell_type": "markdown",
      "source": "# Add 2 marks to all the subjects marks. If any of the marks exceeds 100 change it to 100.",
      "metadata": {}
    },
    {
      "cell_type": "code",
      "source": "sr+=20",
      "metadata": {
        "trusted": true
      },
      "outputs": [],
      "execution_count": 305
    },
    {
      "cell_type": "code",
      "source": "sr[sr > 100] = 100\nsr",
      "metadata": {
        "trusted": true
      },
      "outputs": [
        {
          "execution_count": 362,
          "output_type": "execute_result",
          "data": {
            "text/plain": "array([100,  80, 100,  50], dtype=int64)"
          },
          "metadata": {}
        }
      ],
      "execution_count": 362
    },
    {
      "cell_type": "markdown",
      "source": "#  Display students who have scored more than 50 marks in python and more than 60 marks in data Science.\n",
      "metadata": {}
    },
    {
      "cell_type": "code",
      "source": "import numpy as  np\ndt = np.random.randint(1,100,8).reshape(2,4)\nvr = [\"Krish\",\"Aadil\"]\n\nnmm = pd.DataFrame(dt, vr, columns = [\"python\",\"data science\",\"SS\",\"Bio\"])\nnmm[(nmm['python'] > 50) & (nmm['data science'] > 60)]\n",
      "metadata": {
        "trusted": true
      },
      "outputs": [
        {
          "execution_count": 325,
          "output_type": "execute_result",
          "data": {
            "text/plain": "Empty DataFrame\nColumns: [python, data science, SS, Bio]\nIndex: []",
            "text/html": "<div>\n<style scoped>\n    .dataframe tbody tr th:only-of-type {\n        vertical-align: middle;\n    }\n\n    .dataframe tbody tr th {\n        vertical-align: top;\n    }\n\n    .dataframe thead th {\n        text-align: right;\n    }\n</style>\n<table border=\"1\" class=\"dataframe\">\n  <thead>\n    <tr style=\"text-align: right;\">\n      <th></th>\n      <th>python</th>\n      <th>data science</th>\n      <th>SS</th>\n      <th>Bio</th>\n    </tr>\n  </thead>\n  <tbody>\n  </tbody>\n</table>\n</div>"
          },
          "metadata": {}
        }
      ],
      "execution_count": 325
    },
    {
      "cell_type": "code",
      "source": "nmm",
      "metadata": {
        "trusted": true
      },
      "outputs": [
        {
          "execution_count": 326,
          "output_type": "execute_result",
          "data": {
            "text/plain": "       python  data science  SS  Bio\nKrish       6            43  45   27\nAadil      21            97   8   42",
            "text/html": "<div>\n<style scoped>\n    .dataframe tbody tr th:only-of-type {\n        vertical-align: middle;\n    }\n\n    .dataframe tbody tr th {\n        vertical-align: top;\n    }\n\n    .dataframe thead th {\n        text-align: right;\n    }\n</style>\n<table border=\"1\" class=\"dataframe\">\n  <thead>\n    <tr style=\"text-align: right;\">\n      <th></th>\n      <th>python</th>\n      <th>data science</th>\n      <th>SS</th>\n      <th>Bio</th>\n    </tr>\n  </thead>\n  <tbody>\n    <tr>\n      <th>Krish</th>\n      <td>6</td>\n      <td>43</td>\n      <td>45</td>\n      <td>27</td>\n    </tr>\n    <tr>\n      <th>Aadil</th>\n      <td>21</td>\n      <td>97</td>\n      <td>8</td>\n      <td>42</td>\n    </tr>\n  </tbody>\n</table>\n</div>"
          },
          "metadata": {}
        }
      ],
      "execution_count": 326
    },
    {
      "cell_type": "markdown",
      "source": "# Display students records whose name starts with letter S.",
      "metadata": {}
    },
    {
      "cell_type": "code",
      "source": "nmm[nmm.index.str.startswith('S')]",
      "metadata": {
        "trusted": true
      },
      "outputs": [
        {
          "execution_count": 330,
          "output_type": "execute_result",
          "data": {
            "text/plain": "Empty DataFrame\nColumns: [python, data science, SS, Bio]\nIndex: []",
            "text/html": "<div>\n<style scoped>\n    .dataframe tbody tr th:only-of-type {\n        vertical-align: middle;\n    }\n\n    .dataframe tbody tr th {\n        vertical-align: top;\n    }\n\n    .dataframe thead th {\n        text-align: right;\n    }\n</style>\n<table border=\"1\" class=\"dataframe\">\n  <thead>\n    <tr style=\"text-align: right;\">\n      <th></th>\n      <th>python</th>\n      <th>data science</th>\n      <th>SS</th>\n      <th>Bio</th>\n    </tr>\n  </thead>\n  <tbody>\n  </tbody>\n</table>\n</div>"
          },
          "metadata": {}
        }
      ],
      "execution_count": 330
    },
    {
      "cell_type": "markdown",
      "source": "# 12. Display students records whose name ends with letter a.\n",
      "metadata": {}
    },
    {
      "cell_type": "code",
      "source": "nmm[nmm.index.str.startswith('A')]",
      "metadata": {
        "trusted": true
      },
      "outputs": [
        {
          "execution_count": 331,
          "output_type": "execute_result",
          "data": {
            "text/plain": "       python  data science  SS  Bio\nAadil      21            97   8   42",
            "text/html": "<div>\n<style scoped>\n    .dataframe tbody tr th:only-of-type {\n        vertical-align: middle;\n    }\n\n    .dataframe tbody tr th {\n        vertical-align: top;\n    }\n\n    .dataframe thead th {\n        text-align: right;\n    }\n</style>\n<table border=\"1\" class=\"dataframe\">\n  <thead>\n    <tr style=\"text-align: right;\">\n      <th></th>\n      <th>python</th>\n      <th>data science</th>\n      <th>SS</th>\n      <th>Bio</th>\n    </tr>\n  </thead>\n  <tbody>\n    <tr>\n      <th>Aadil</th>\n      <td>21</td>\n      <td>97</td>\n      <td>8</td>\n      <td>42</td>\n    </tr>\n  </tbody>\n</table>\n</div>"
          },
          "metadata": {}
        }
      ],
      "execution_count": 331
    },
    {
      "cell_type": "code",
      "source": "nmm['total'] = nmm['python'] + nmm['data science'] + nmm['Bio'] + nmm['SS']",
      "metadata": {
        "trusted": true
      },
      "outputs": [],
      "execution_count": 332
    },
    {
      "cell_type": "code",
      "source": "nmm['percentage '] = nmm['total']/4",
      "metadata": {
        "trusted": true
      },
      "outputs": [],
      "execution_count": 334
    },
    {
      "cell_type": "code",
      "source": "nmm",
      "metadata": {
        "trusted": true
      },
      "outputs": [
        {
          "execution_count": 335,
          "output_type": "execute_result",
          "data": {
            "text/plain": "       python  data science  SS  Bio  total  percentage\nKrish       6            43  45   27    121       30.25\nAadil      21            97   8   42    168       42.00",
            "text/html": "<div>\n<style scoped>\n    .dataframe tbody tr th:only-of-type {\n        vertical-align: middle;\n    }\n\n    .dataframe tbody tr th {\n        vertical-align: top;\n    }\n\n    .dataframe thead th {\n        text-align: right;\n    }\n</style>\n<table border=\"1\" class=\"dataframe\">\n  <thead>\n    <tr style=\"text-align: right;\">\n      <th></th>\n      <th>python</th>\n      <th>data science</th>\n      <th>SS</th>\n      <th>Bio</th>\n      <th>total</th>\n      <th>percentage</th>\n    </tr>\n  </thead>\n  <tbody>\n    <tr>\n      <th>Krish</th>\n      <td>6</td>\n      <td>43</td>\n      <td>45</td>\n      <td>27</td>\n      <td>121</td>\n      <td>30.25</td>\n    </tr>\n    <tr>\n      <th>Aadil</th>\n      <td>21</td>\n      <td>97</td>\n      <td>8</td>\n      <td>42</td>\n      <td>168</td>\n      <td>42.00</td>\n    </tr>\n  </tbody>\n</table>\n</div>"
          },
          "metadata": {}
        }
      ],
      "execution_count": 335
    },
    {
      "cell_type": "markdown",
      "source": "# 14. Calculate Status (PASS / FAIL) for the Students.\n",
      "metadata": {}
    },
    {
      "cell_type": "code",
      "source": "nmm['status'] = np.where(nmm['percentage ']>40,'pass','fail')",
      "metadata": {
        "trusted": true
      },
      "outputs": [],
      "execution_count": 342
    },
    {
      "cell_type": "code",
      "source": "nmm",
      "metadata": {
        "trusted": true
      },
      "outputs": [
        {
          "execution_count": 343,
          "output_type": "execute_result",
          "data": {
            "text/plain": "       python  data science  SS  Bio  total  percentage status\nKrish       6            43  45   27    121       30.25   fail\nAadil      21            97   8   42    168       42.00   pass",
            "text/html": "<div>\n<style scoped>\n    .dataframe tbody tr th:only-of-type {\n        vertical-align: middle;\n    }\n\n    .dataframe tbody tr th {\n        vertical-align: top;\n    }\n\n    .dataframe thead th {\n        text-align: right;\n    }\n</style>\n<table border=\"1\" class=\"dataframe\">\n  <thead>\n    <tr style=\"text-align: right;\">\n      <th></th>\n      <th>python</th>\n      <th>data science</th>\n      <th>SS</th>\n      <th>Bio</th>\n      <th>total</th>\n      <th>percentage</th>\n      <th>status</th>\n    </tr>\n  </thead>\n  <tbody>\n    <tr>\n      <th>Krish</th>\n      <td>6</td>\n      <td>43</td>\n      <td>45</td>\n      <td>27</td>\n      <td>121</td>\n      <td>30.25</td>\n      <td>fail</td>\n    </tr>\n    <tr>\n      <th>Aadil</th>\n      <td>21</td>\n      <td>97</td>\n      <td>8</td>\n      <td>42</td>\n      <td>168</td>\n      <td>42.00</td>\n      <td>pass</td>\n    </tr>\n  </tbody>\n</table>\n</div>"
          },
          "metadata": {}
        }
      ],
      "execution_count": 343
    },
    {
      "cell_type": "markdown",
      "source": "# #15. Calculate percentage  based grade  value\n#  per>=90 then A-grade ,\n#  per>=80 then B-grade ,\n#  per>=70 then C-grade ,\n#  per>=60 then D-grade ,\n#  per>=50 then E-grade ,\n#  per<50 then F-grade .",
      "metadata": {}
    },
    {
      "cell_type": "code",
      "source": "nmm.loc[nmm['percentage']<50,'grade '] = 'F' \nnmm.loc[nmm['percentage']>=50,'grade '] = 'E' \nnmm.loc[nmm['percentage']>=60,'grade '] = 'D' \nnmm.loc[nmm['percentage']>=70,'grade '] = 'C' \nnmm.loc[nmm['percentage']>=80,'grade '] = 'B' \nnmm.loc[nmm['percentage']>=90,'grade '] = 'A' ",
      "metadata": {
        "trusted": true
      },
      "outputs": [],
      "execution_count": 365
    },
    {
      "cell_type": "code",
      "source": "nmm",
      "metadata": {
        "trusted": true
      },
      "outputs": [
        {
          "execution_count": 366,
          "output_type": "execute_result",
          "data": {
            "text/plain": "       python  data science  SS  Bio  total  percentage status grade \nKrish       6            43  45   27    121       30.25   fail      F\nAadil      21            97   8   42    168       42.00   pass      F",
            "text/html": "<div>\n<style scoped>\n    .dataframe tbody tr th:only-of-type {\n        vertical-align: middle;\n    }\n\n    .dataframe tbody tr th {\n        vertical-align: top;\n    }\n\n    .dataframe thead th {\n        text-align: right;\n    }\n</style>\n<table border=\"1\" class=\"dataframe\">\n  <thead>\n    <tr style=\"text-align: right;\">\n      <th></th>\n      <th>python</th>\n      <th>data science</th>\n      <th>SS</th>\n      <th>Bio</th>\n      <th>total</th>\n      <th>percentage</th>\n      <th>status</th>\n      <th>grade</th>\n    </tr>\n  </thead>\n  <tbody>\n    <tr>\n      <th>Krish</th>\n      <td>6</td>\n      <td>43</td>\n      <td>45</td>\n      <td>27</td>\n      <td>121</td>\n      <td>30.25</td>\n      <td>fail</td>\n      <td>F</td>\n    </tr>\n    <tr>\n      <th>Aadil</th>\n      <td>21</td>\n      <td>97</td>\n      <td>8</td>\n      <td>42</td>\n      <td>168</td>\n      <td>42.00</td>\n      <td>pass</td>\n      <td>F</td>\n    </tr>\n  </tbody>\n</table>\n</div>"
          },
          "metadata": {}
        }
      ],
      "execution_count": 366
    },
    {
      "cell_type": "markdown",
      "source": " # 16. Also calculate overall columns total, maximum, minimum and standard\n # deviation for each numeric columns",
      "metadata": {}
    },
    {
      "cell_type": "code",
      "source": "print(nmm.sum())\nprint(nmm.std())\nprint(nmm.max())\nprint(nmm.min())\nprint(nmm.var())",
      "metadata": {
        "trusted": true
      },
      "outputs": [
        {
          "name": "stdout",
          "text": "python                27\ndata science         140\nSS                    53\nBio                   69\ntotal                289\npercentage         72.25\nstatus          failpass\ngrade                 FF\ndtype: object\n",
          "output_type": "stream"
        },
        {
          "name": "stderr",
          "text": "<ipython-input-375-4da1d4bbdbc8>:2: FutureWarning: The default value of numeric_only in DataFrame.std is deprecated. In a future version, it will default to False. In addition, specifying 'numeric_only=None' is deprecated. Select only valid columns or specify the value of numeric_only to silence this warning.\n  print(nmm.std())\n",
          "output_type": "stream"
        },
        {
          "name": "stdout",
          "text": "python          10.606602\ndata science    38.183766\nSS              26.162951\nBio             10.606602\ntotal           33.234019\npercentage       8.308505\ndtype: float64\npython            21\ndata science      97\nSS                45\nBio               42\ntotal            168\npercentage      42.0\nstatus          pass\ngrade              F\ndtype: object\npython              6\ndata science       43\nSS                  8\nBio                27\ntotal             121\npercentage      30.25\nstatus           fail\ngrade               F\ndtype: object\n",
          "output_type": "stream"
        },
        {
          "name": "stderr",
          "text": "<ipython-input-375-4da1d4bbdbc8>:5: FutureWarning: The default value of numeric_only in DataFrame.var is deprecated. In a future version, it will default to False. In addition, specifying 'numeric_only=None' is deprecated. Select only valid columns or specify the value of numeric_only to silence this warning.\n  print(nmm.var())\n",
          "output_type": "stream"
        },
        {
          "name": "stdout",
          "text": "python           112.50000\ndata science    1458.00000\nSS               684.50000\nBio              112.50000\ntotal           1104.50000\npercentage        69.03125\ndtype: float64\n",
          "output_type": "stream"
        }
      ],
      "execution_count": 375
    },
    {
      "cell_type": "markdown",
      "source": " # 17. Display meta-data for each column for the above dataframe.\n",
      "metadata": {}
    },
    {
      "cell_type": "code",
      "source": "nmm.describe()",
      "metadata": {
        "trusted": true
      },
      "outputs": [
        {
          "execution_count": 376,
          "output_type": "execute_result",
          "data": {
            "text/plain": "          python  data science         SS        Bio       total  percentage\ncount   2.000000      2.000000   2.000000   2.000000    2.000000    2.000000\nmean   13.500000     70.000000  26.500000  34.500000  144.500000   36.125000\nstd    10.606602     38.183766  26.162951  10.606602   33.234019    8.308505\nmin     6.000000     43.000000   8.000000  27.000000  121.000000   30.250000\n25%     9.750000     56.500000  17.250000  30.750000  132.750000   33.187500\n50%    13.500000     70.000000  26.500000  34.500000  144.500000   36.125000\n75%    17.250000     83.500000  35.750000  38.250000  156.250000   39.062500\nmax    21.000000     97.000000  45.000000  42.000000  168.000000   42.000000",
            "text/html": "<div>\n<style scoped>\n    .dataframe tbody tr th:only-of-type {\n        vertical-align: middle;\n    }\n\n    .dataframe tbody tr th {\n        vertical-align: top;\n    }\n\n    .dataframe thead th {\n        text-align: right;\n    }\n</style>\n<table border=\"1\" class=\"dataframe\">\n  <thead>\n    <tr style=\"text-align: right;\">\n      <th></th>\n      <th>python</th>\n      <th>data science</th>\n      <th>SS</th>\n      <th>Bio</th>\n      <th>total</th>\n      <th>percentage</th>\n    </tr>\n  </thead>\n  <tbody>\n    <tr>\n      <th>count</th>\n      <td>2.000000</td>\n      <td>2.000000</td>\n      <td>2.000000</td>\n      <td>2.000000</td>\n      <td>2.000000</td>\n      <td>2.000000</td>\n    </tr>\n    <tr>\n      <th>mean</th>\n      <td>13.500000</td>\n      <td>70.000000</td>\n      <td>26.500000</td>\n      <td>34.500000</td>\n      <td>144.500000</td>\n      <td>36.125000</td>\n    </tr>\n    <tr>\n      <th>std</th>\n      <td>10.606602</td>\n      <td>38.183766</td>\n      <td>26.162951</td>\n      <td>10.606602</td>\n      <td>33.234019</td>\n      <td>8.308505</td>\n    </tr>\n    <tr>\n      <th>min</th>\n      <td>6.000000</td>\n      <td>43.000000</td>\n      <td>8.000000</td>\n      <td>27.000000</td>\n      <td>121.000000</td>\n      <td>30.250000</td>\n    </tr>\n    <tr>\n      <th>25%</th>\n      <td>9.750000</td>\n      <td>56.500000</td>\n      <td>17.250000</td>\n      <td>30.750000</td>\n      <td>132.750000</td>\n      <td>33.187500</td>\n    </tr>\n    <tr>\n      <th>50%</th>\n      <td>13.500000</td>\n      <td>70.000000</td>\n      <td>26.500000</td>\n      <td>34.500000</td>\n      <td>144.500000</td>\n      <td>36.125000</td>\n    </tr>\n    <tr>\n      <th>75%</th>\n      <td>17.250000</td>\n      <td>83.500000</td>\n      <td>35.750000</td>\n      <td>38.250000</td>\n      <td>156.250000</td>\n      <td>39.062500</td>\n    </tr>\n    <tr>\n      <th>max</th>\n      <td>21.000000</td>\n      <td>97.000000</td>\n      <td>45.000000</td>\n      <td>42.000000</td>\n      <td>168.000000</td>\n      <td>42.000000</td>\n    </tr>\n  </tbody>\n</table>\n</div>"
          },
          "metadata": {}
        }
      ],
      "execution_count": 376
    },
    {
      "cell_type": "markdown",
      "source": " # 18. Convert the above DataFrame to list within a dictionary.\n",
      "metadata": {}
    },
    {
      "cell_type": "code",
      "source": "nmm.to_dict(orient='list') ",
      "metadata": {
        "trusted": true
      },
      "outputs": [
        {
          "execution_count": 377,
          "output_type": "execute_result",
          "data": {
            "text/plain": "{'python': [6, 21],\n 'data science': [43, 97],\n 'SS': [45, 8],\n 'Bio': [27, 42],\n 'total': [121, 168],\n 'percentage': [30.25, 42.0],\n 'status': ['fail', 'pass'],\n 'grade ': ['F', 'F']}"
          },
          "metadata": {}
        }
      ],
      "execution_count": 377
    },
    {
      "cell_type": "markdown",
      "source": " # 19. Convert this dictionary again to a separate dataframe by adding 500\n # to each element in product price column",
      "metadata": {}
    },
    {
      "cell_type": "code",
      "source": "a['Product Price']+=500\na",
      "metadata": {
        "trusted": true
      },
      "outputs": [
        {
          "execution_count": 378,
          "output_type": "execute_result",
          "data": {
            "text/plain": "   Product Id Product Name  Product Price\n0         101        Chips            600\n1         102       Drinks            550\n2         103       Snacks            555\n3         104       Maggie            580\n4         105   Fruit Beer           1000",
            "text/html": "<div>\n<style scoped>\n    .dataframe tbody tr th:only-of-type {\n        vertical-align: middle;\n    }\n\n    .dataframe tbody tr th {\n        vertical-align: top;\n    }\n\n    .dataframe thead th {\n        text-align: right;\n    }\n</style>\n<table border=\"1\" class=\"dataframe\">\n  <thead>\n    <tr style=\"text-align: right;\">\n      <th></th>\n      <th>Product Id</th>\n      <th>Product Name</th>\n      <th>Product Price</th>\n    </tr>\n  </thead>\n  <tbody>\n    <tr>\n      <th>0</th>\n      <td>101</td>\n      <td>Chips</td>\n      <td>600</td>\n    </tr>\n    <tr>\n      <th>1</th>\n      <td>102</td>\n      <td>Drinks</td>\n      <td>550</td>\n    </tr>\n    <tr>\n      <th>2</th>\n      <td>103</td>\n      <td>Snacks</td>\n      <td>555</td>\n    </tr>\n    <tr>\n      <th>3</th>\n      <td>104</td>\n      <td>Maggie</td>\n      <td>580</td>\n    </tr>\n    <tr>\n      <th>4</th>\n      <td>105</td>\n      <td>Fruit Beer</td>\n      <td>1000</td>\n    </tr>\n  </tbody>\n</table>\n</div>"
          },
          "metadata": {}
        }
      ],
      "execution_count": 378
    },
    {
      "cell_type": "markdown",
      "source": "# 1. Import pandas as pd.",
      "metadata": {}
    },
    {
      "cell_type": "code",
      "source": "import pandas as pd ",
      "metadata": {
        "trusted": true
      },
      "outputs": [],
      "execution_count": 1
    },
    {
      "cell_type": "markdown",
      "source": "# Read Salaries.csv as a dataframe called sal.\n",
      "metadata": {}
    },
    {
      "cell_type": "code",
      "source": "\nsal =  pd.read_csv(\"Salaries.csv\")",
      "metadata": {
        "trusted": true
      },
      "outputs": [
        {
          "name": "stderr",
          "text": "<ipython-input-4-981ba06638b0>:1: DtypeWarning: Columns (3,4,5,6,12) have mixed types. Specify dtype option on import or set low_memory=False.\n  sal =  pd.read_csv(\"Salaries.csv\")\n",
          "output_type": "stream"
        }
      ],
      "execution_count": 4
    },
    {
      "cell_type": "markdown",
      "source": "# 3. Check the head of the DataFrame.\n",
      "metadata": {}
    },
    {
      "cell_type": "code",
      "source": "sal.head()",
      "metadata": {
        "trusted": true
      },
      "outputs": [
        {
          "execution_count": 5,
          "output_type": "execute_result",
          "data": {
            "text/plain": "   Id       EmployeeName                                        JobTitle  \\\n0   1     NATHANIEL FORD  GENERAL MANAGER-METROPOLITAN TRANSIT AUTHORITY   \n1   2       GARY JIMENEZ                 CAPTAIN III (POLICE DEPARTMENT)   \n2   3     ALBERT PARDINI                 CAPTAIN III (POLICE DEPARTMENT)   \n3   4  CHRISTOPHER CHONG            WIRE ROPE CABLE MAINTENANCE MECHANIC   \n4   5    PATRICK GARDNER    DEPUTY CHIEF OF DEPARTMENT,(FIRE DEPARTMENT)   \n\n     BasePay OvertimePay   OtherPay Benefits   TotalPay  TotalPayBenefits  \\\n0  167411.18         0.0  400184.25      NaN  567595.43         567595.43   \n1  155966.02   245131.88  137811.38      NaN  538909.28         538909.28   \n2  212739.13   106088.18    16452.6      NaN  335279.91         335279.91   \n3    77916.0    56120.71   198306.9      NaN  332343.61         332343.61   \n4   134401.6      9737.0  182234.59      NaN  326373.19         326373.19   \n\n   Year  Notes         Agency Status  \n0  2011    NaN  San Francisco    NaN  \n1  2011    NaN  San Francisco    NaN  \n2  2011    NaN  San Francisco    NaN  \n3  2011    NaN  San Francisco    NaN  \n4  2011    NaN  San Francisco    NaN  ",
            "text/html": "<div>\n<style scoped>\n    .dataframe tbody tr th:only-of-type {\n        vertical-align: middle;\n    }\n\n    .dataframe tbody tr th {\n        vertical-align: top;\n    }\n\n    .dataframe thead th {\n        text-align: right;\n    }\n</style>\n<table border=\"1\" class=\"dataframe\">\n  <thead>\n    <tr style=\"text-align: right;\">\n      <th></th>\n      <th>Id</th>\n      <th>EmployeeName</th>\n      <th>JobTitle</th>\n      <th>BasePay</th>\n      <th>OvertimePay</th>\n      <th>OtherPay</th>\n      <th>Benefits</th>\n      <th>TotalPay</th>\n      <th>TotalPayBenefits</th>\n      <th>Year</th>\n      <th>Notes</th>\n      <th>Agency</th>\n      <th>Status</th>\n    </tr>\n  </thead>\n  <tbody>\n    <tr>\n      <th>0</th>\n      <td>1</td>\n      <td>NATHANIEL FORD</td>\n      <td>GENERAL MANAGER-METROPOLITAN TRANSIT AUTHORITY</td>\n      <td>167411.18</td>\n      <td>0.0</td>\n      <td>400184.25</td>\n      <td>NaN</td>\n      <td>567595.43</td>\n      <td>567595.43</td>\n      <td>2011</td>\n      <td>NaN</td>\n      <td>San Francisco</td>\n      <td>NaN</td>\n    </tr>\n    <tr>\n      <th>1</th>\n      <td>2</td>\n      <td>GARY JIMENEZ</td>\n      <td>CAPTAIN III (POLICE DEPARTMENT)</td>\n      <td>155966.02</td>\n      <td>245131.88</td>\n      <td>137811.38</td>\n      <td>NaN</td>\n      <td>538909.28</td>\n      <td>538909.28</td>\n      <td>2011</td>\n      <td>NaN</td>\n      <td>San Francisco</td>\n      <td>NaN</td>\n    </tr>\n    <tr>\n      <th>2</th>\n      <td>3</td>\n      <td>ALBERT PARDINI</td>\n      <td>CAPTAIN III (POLICE DEPARTMENT)</td>\n      <td>212739.13</td>\n      <td>106088.18</td>\n      <td>16452.6</td>\n      <td>NaN</td>\n      <td>335279.91</td>\n      <td>335279.91</td>\n      <td>2011</td>\n      <td>NaN</td>\n      <td>San Francisco</td>\n      <td>NaN</td>\n    </tr>\n    <tr>\n      <th>3</th>\n      <td>4</td>\n      <td>CHRISTOPHER CHONG</td>\n      <td>WIRE ROPE CABLE MAINTENANCE MECHANIC</td>\n      <td>77916.0</td>\n      <td>56120.71</td>\n      <td>198306.9</td>\n      <td>NaN</td>\n      <td>332343.61</td>\n      <td>332343.61</td>\n      <td>2011</td>\n      <td>NaN</td>\n      <td>San Francisco</td>\n      <td>NaN</td>\n    </tr>\n    <tr>\n      <th>4</th>\n      <td>5</td>\n      <td>PATRICK GARDNER</td>\n      <td>DEPUTY CHIEF OF DEPARTMENT,(FIRE DEPARTMENT)</td>\n      <td>134401.6</td>\n      <td>9737.0</td>\n      <td>182234.59</td>\n      <td>NaN</td>\n      <td>326373.19</td>\n      <td>326373.19</td>\n      <td>2011</td>\n      <td>NaN</td>\n      <td>San Francisco</td>\n      <td>NaN</td>\n    </tr>\n  </tbody>\n</table>\n</div>"
          },
          "metadata": {}
        }
      ],
      "execution_count": 5
    },
    {
      "cell_type": "markdown",
      "source": "# 4. Use the .info() method to find out how many entries there are.\n",
      "metadata": {}
    },
    {
      "cell_type": "code",
      "source": "sal.info()",
      "metadata": {
        "trusted": true
      },
      "outputs": [
        {
          "name": "stdout",
          "text": "<class 'pandas.core.frame.DataFrame'>\nRangeIndex: 148654 entries, 0 to 148653\nData columns (total 13 columns):\n #   Column            Non-Null Count   Dtype  \n---  ------            --------------   -----  \n 0   Id                148654 non-null  int64  \n 1   EmployeeName      148654 non-null  object \n 2   JobTitle          148654 non-null  object \n 3   BasePay           148049 non-null  object \n 4   OvertimePay       148654 non-null  object \n 5   OtherPay          148654 non-null  object \n 6   Benefits          112495 non-null  object \n 7   TotalPay          148654 non-null  float64\n 8   TotalPayBenefits  148654 non-null  float64\n 9   Year              148654 non-null  int64  \n 10  Notes             0 non-null       float64\n 11  Agency            148654 non-null  object \n 12  Status            38119 non-null   object \ndtypes: float64(3), int64(2), object(8)\nmemory usage: 10.2+ MB\n",
          "output_type": "stream"
        }
      ],
      "execution_count": 6
    },
    {
      "cell_type": "markdown",
      "source": "# 5. What is the average BasePay ?\n",
      "metadata": {}
    },
    {
      "cell_type": "code",
      "source": "import numpy as np\nsal['BasePay'] = sal['BasePay'].replace(to_replace='Not Provided', value=np.nan).fillna(1)\nsal['BasePay'] = sal['BasePay'].astype(float)\nsal['BasePay'].mean()",
      "metadata": {
        "trusted": true
      },
      "outputs": [
        {
          "execution_count": 9,
          "output_type": "execute_result",
          "data": {
            "text/plain": "66053.73338483997"
          },
          "metadata": {}
        }
      ],
      "execution_count": 9
    },
    {
      "cell_type": "markdown",
      "source": "# 6. What is the highest amount of OvertimePay in the dataset ?\n",
      "metadata": {}
    },
    {
      "cell_type": "code",
      "source": "sal['OvertimePay'] = sal['OvertimePay'].replace(to_replace = 'Not Provided',value = np.nan).fillna(1)\nsal['OvertimePay'] = sal['OvertimePay'].astype('float')\nsal['OvertimePay'].max()",
      "metadata": {
        "trusted": true
      },
      "outputs": [
        {
          "execution_count": 11,
          "output_type": "execute_result",
          "data": {
            "text/plain": "245131.88"
          },
          "metadata": {}
        }
      ],
      "execution_count": 11
    },
    {
      "cell_type": "markdown",
      "source": "#  What is the job title of JOSEPH DRISCOLL ? Note: Use all caps, otherwise you may get an answer\r# that doesn't match up (there is also a lowercase Joseph Driscoll).",
      "metadata": {}
    },
    {
      "cell_type": "code",
      "source": "sal[sal['EmployeeName']=='JOSEPH DRISCOLL']['JobTitle']\n",
      "metadata": {
        "trusted": true
      },
      "outputs": [
        {
          "execution_count": 12,
          "output_type": "execute_result",
          "data": {
            "text/plain": "24    CAPTAIN, FIRE SUPPRESSION\nName: JobTitle, dtype: object"
          },
          "metadata": {}
        }
      ],
      "execution_count": 12
    },
    {
      "cell_type": "markdown",
      "source": "# How much does JOSEPH DRISCOLL make (including benefits)? ",
      "metadata": {}
    },
    {
      "cell_type": "code",
      "source": "sal[sal['EmployeeName']=='JOSEPH DRISCOLL']['TotalPayBenefits']",
      "metadata": {
        "trusted": true
      },
      "outputs": [
        {
          "execution_count": 13,
          "output_type": "execute_result",
          "data": {
            "text/plain": "24    270324.91\nName: TotalPayBenefits, dtype: float64"
          },
          "metadata": {}
        }
      ],
      "execution_count": 13
    },
    {
      "cell_type": "markdown",
      "source": "# What is the job title of JOSEPH DRISCOLL ? Note: Use all caps, otherwise you may get an answer\n# that doesn't match up (there is also a lowercase Joseph Driscoll).",
      "metadata": {}
    },
    {
      "cell_type": "code",
      "source": "sal[sal['TotalPayBenefits']== sal['TotalPayBenefits'].max()] ",
      "metadata": {
        "trusted": true
      },
      "outputs": [
        {
          "execution_count": 15,
          "output_type": "execute_result",
          "data": {
            "text/plain": "   Id    EmployeeName                                        JobTitle  \\\n0   1  NATHANIEL FORD  GENERAL MANAGER-METROPOLITAN TRANSIT AUTHORITY   \n\n     BasePay  OvertimePay   OtherPay Benefits   TotalPay  TotalPayBenefits  \\\n0  167411.18          0.0  400184.25      NaN  567595.43         567595.43   \n\n   Year  Notes         Agency Status  \n0  2011    NaN  San Francisco    NaN  ",
            "text/html": "<div>\n<style scoped>\n    .dataframe tbody tr th:only-of-type {\n        vertical-align: middle;\n    }\n\n    .dataframe tbody tr th {\n        vertical-align: top;\n    }\n\n    .dataframe thead th {\n        text-align: right;\n    }\n</style>\n<table border=\"1\" class=\"dataframe\">\n  <thead>\n    <tr style=\"text-align: right;\">\n      <th></th>\n      <th>Id</th>\n      <th>EmployeeName</th>\n      <th>JobTitle</th>\n      <th>BasePay</th>\n      <th>OvertimePay</th>\n      <th>OtherPay</th>\n      <th>Benefits</th>\n      <th>TotalPay</th>\n      <th>TotalPayBenefits</th>\n      <th>Year</th>\n      <th>Notes</th>\n      <th>Agency</th>\n      <th>Status</th>\n    </tr>\n  </thead>\n  <tbody>\n    <tr>\n      <th>0</th>\n      <td>1</td>\n      <td>NATHANIEL FORD</td>\n      <td>GENERAL MANAGER-METROPOLITAN TRANSIT AUTHORITY</td>\n      <td>167411.18</td>\n      <td>0.0</td>\n      <td>400184.25</td>\n      <td>NaN</td>\n      <td>567595.43</td>\n      <td>567595.43</td>\n      <td>2011</td>\n      <td>NaN</td>\n      <td>San Francisco</td>\n      <td>NaN</td>\n    </tr>\n  </tbody>\n</table>\n</div>"
          },
          "metadata": {}
        }
      ],
      "execution_count": 15
    },
    {
      "cell_type": "markdown",
      "source": "# ** What is the name of lowest paid person (including benefits)? Do you notice something strange about how much he or she is paid?**",
      "metadata": {}
    },
    {
      "cell_type": "code",
      "source": "sal[sal['TotalPayBenefits']== sal['TotalPayBenefits'].min()] ",
      "metadata": {
        "trusted": true
      },
      "outputs": [
        {
          "execution_count": 16,
          "output_type": "execute_result",
          "data": {
            "text/plain": "            Id EmployeeName                    JobTitle  BasePay  OvertimePay  \\\n148653  148654    Joe Lopez  Counselor, Log Cabin Ranch      0.0          0.0   \n\n       OtherPay Benefits  TotalPay  TotalPayBenefits  Year  Notes  \\\n148653  -618.13     0.00   -618.13           -618.13  2014    NaN   \n\n               Agency Status  \n148653  San Francisco     PT  ",
            "text/html": "<div>\n<style scoped>\n    .dataframe tbody tr th:only-of-type {\n        vertical-align: middle;\n    }\n\n    .dataframe tbody tr th {\n        vertical-align: top;\n    }\n\n    .dataframe thead th {\n        text-align: right;\n    }\n</style>\n<table border=\"1\" class=\"dataframe\">\n  <thead>\n    <tr style=\"text-align: right;\">\n      <th></th>\n      <th>Id</th>\n      <th>EmployeeName</th>\n      <th>JobTitle</th>\n      <th>BasePay</th>\n      <th>OvertimePay</th>\n      <th>OtherPay</th>\n      <th>Benefits</th>\n      <th>TotalPay</th>\n      <th>TotalPayBenefits</th>\n      <th>Year</th>\n      <th>Notes</th>\n      <th>Agency</th>\n      <th>Status</th>\n    </tr>\n  </thead>\n  <tbody>\n    <tr>\n      <th>148653</th>\n      <td>148654</td>\n      <td>Joe Lopez</td>\n      <td>Counselor, Log Cabin Ranch</td>\n      <td>0.0</td>\n      <td>0.0</td>\n      <td>-618.13</td>\n      <td>0.00</td>\n      <td>-618.13</td>\n      <td>-618.13</td>\n      <td>2014</td>\n      <td>NaN</td>\n      <td>San Francisco</td>\n      <td>PT</td>\n    </tr>\n  </tbody>\n</table>\n</div>"
          },
          "metadata": {}
        }
      ],
      "execution_count": 16
    },
    {
      "cell_type": "markdown",
      "source": "# What was the average (mean) BasePay of all employees per year? (2011-2014) ? ",
      "metadata": {}
    },
    {
      "cell_type": "code",
      "source": "sal.groupby('Year').mean()['BasePay']",
      "metadata": {
        "trusted": true
      },
      "outputs": [
        {
          "name": "stderr",
          "text": "<ipython-input-17-a42aa5aba483>:1: FutureWarning: The default value of numeric_only in DataFrameGroupBy.mean is deprecated. In a future version, numeric_only will default to False. Either specify numeric_only or select only columns which should be valid for the function.\n  sal.groupby('Year').mean()['BasePay']\n",
          "output_type": "stream"
        },
        {
          "execution_count": 17,
          "output_type": "execute_result",
          "data": {
            "text/plain": "Year\n2011    63595.956517\n2012    65436.406857\n2013    68509.848243\n2014    66557.437855\nName: BasePay, dtype: float64"
          },
          "metadata": {}
        }
      ],
      "execution_count": 17
    },
    {
      "cell_type": "markdown",
      "source": "# how many unique job titles are there?",
      "metadata": {}
    },
    {
      "cell_type": "code",
      "source": "sal['JobTitle'].nunique()",
      "metadata": {
        "trusted": true
      },
      "outputs": [
        {
          "execution_count": 19,
          "output_type": "execute_result",
          "data": {
            "text/plain": "2159"
          },
          "metadata": {}
        }
      ],
      "execution_count": 19
    },
    {
      "cell_type": "markdown",
      "source": "# What are the top 5 most common jobs?",
      "metadata": {}
    },
    {
      "cell_type": "code",
      "source": "sal['JobTitle'].value_counts().head(5)",
      "metadata": {
        "trusted": true
      },
      "outputs": [
        {
          "execution_count": 20,
          "output_type": "execute_result",
          "data": {
            "text/plain": "Transit Operator                7036\nSpecial Nurse                   4389\nRegistered Nurse                3736\nPublic Svc Aide-Public Works    2518\nPolice Officer 3                2421\nName: JobTitle, dtype: int64"
          },
          "metadata": {}
        }
      ],
      "execution_count": 20
    },
    {
      "cell_type": "markdown",
      "source": "# 14. How many Job Titles were represented by only one person in 2013? (e.g. Job Titles with only\r# one occurence in 2013?",
      "metadata": {}
    },
    {
      "cell_type": "code",
      "source": "sum(sal[sal['Year']==2013]['JobTitle'].value_counts() == 1) ",
      "metadata": {
        "trusted": true
      },
      "outputs": [
        {
          "execution_count": 22,
          "output_type": "execute_result",
          "data": {
            "text/plain": "202"
          },
          "metadata": {}
        }
      ],
      "execution_count": 22
    },
    {
      "cell_type": "markdown",
      "source": "# 15. How many people have the word Chief in their job title?",
      "metadata": {}
    },
    {
      "cell_type": "code",
      "source": "def chief_string(title):\n    if 'chief' in title.lower():\n        return True\n    else:\n        return False\nsum(sal['JobTitle'].apply(lambda x: chief_string(x)))",
      "metadata": {
        "trusted": true
      },
      "outputs": [
        {
          "execution_count": 25,
          "output_type": "execute_result",
          "data": {
            "text/plain": "627"
          },
          "metadata": {}
        }
      ],
      "execution_count": 25
    },
    {
      "cell_type": "markdown",
      "source": "# 16. Is there a correlation between length of the Job Title string and Salary?",
      "metadata": {}
    },
    {
      "cell_type": "code",
      "source": "",
      "metadata": {
        "trusted": true
      },
      "outputs": [],
      "execution_count": null
    },
    {
      "cell_type": "code",
      "source": "",
      "metadata": {
        "trusted": true
      },
      "outputs": [],
      "execution_count": null
    },
    {
      "cell_type": "code",
      "source": "",
      "metadata": {
        "trusted": true
      },
      "outputs": [],
      "execution_count": null
    },
    {
      "cell_type": "code",
      "source": "",
      "metadata": {
        "trusted": true
      },
      "outputs": [],
      "execution_count": null
    },
    {
      "cell_type": "code",
      "source": "",
      "metadata": {
        "trusted": true
      },
      "outputs": [],
      "execution_count": null
    },
    {
      "cell_type": "code",
      "source": "",
      "metadata": {
        "trusted": true
      },
      "outputs": [],
      "execution_count": null
    },
    {
      "cell_type": "code",
      "source": "",
      "metadata": {
        "trusted": true
      },
      "outputs": [],
      "execution_count": null
    },
    {
      "cell_type": "code",
      "source": "",
      "metadata": {
        "trusted": true
      },
      "outputs": [],
      "execution_count": null
    },
    {
      "cell_type": "code",
      "source": "",
      "metadata": {
        "trusted": true
      },
      "outputs": [],
      "execution_count": null
    },
    {
      "cell_type": "code",
      "source": "",
      "metadata": {
        "trusted": true
      },
      "outputs": [],
      "execution_count": null
    },
    {
      "cell_type": "code",
      "source": "",
      "metadata": {
        "trusted": true
      },
      "outputs": [],
      "execution_count": null
    },
    {
      "cell_type": "code",
      "source": "",
      "metadata": {
        "trusted": true
      },
      "outputs": [],
      "execution_count": null
    },
    {
      "cell_type": "code",
      "source": "",
      "metadata": {
        "trusted": true
      },
      "outputs": [],
      "execution_count": null
    },
    {
      "cell_type": "code",
      "source": "",
      "metadata": {
        "trusted": true
      },
      "outputs": [],
      "execution_count": null
    },
    {
      "cell_type": "markdown",
      "source": "# practice question",
      "metadata": {}
    },
    {
      "cell_type": "code",
      "source": "sal.groupby('Year').mean()['BasePay']",
      "metadata": {
        "trusted": true
      },
      "outputs": [
        {
          "name": "stderr",
          "text": "<ipython-input-21-a42aa5aba483>:1: FutureWarning: The default value of numeric_only in DataFrameGroupBy.mean is deprecated. In a future version, numeric_only will default to False. Either specify numeric_only or select only columns which should be valid for the function.\n  sal.groupby('Year').mean()['BasePay']\n",
          "output_type": "stream"
        },
        {
          "execution_count": 21,
          "output_type": "execute_result",
          "data": {
            "text/plain": "Year\n2011    63595.956517\n2012    65436.406857\n2013    68509.848243\n2014    66557.437855\nName: BasePay, dtype: float64"
          },
          "metadata": {}
        }
      ],
      "execution_count": 21
    },
    {
      "cell_type": "code",
      "source": "",
      "metadata": {
        "trusted": true
      },
      "outputs": [],
      "execution_count": null
    },
    {
      "cell_type": "code",
      "source": "",
      "metadata": {
        "trusted": true
      },
      "outputs": [],
      "execution_count": null
    },
    {
      "cell_type": "code",
      "source": "",
      "metadata": {
        "trusted": true
      },
      "outputs": [],
      "execution_count": null
    },
    {
      "cell_type": "code",
      "source": "sal[sal['TotalPayBenefits']== sal['TotalPayBenefits'].max()]",
      "metadata": {
        "trusted": true
      },
      "outputs": [
        {
          "execution_count": 14,
          "output_type": "execute_result",
          "data": {
            "text/plain": "   Id    EmployeeName                                        JobTitle  \\\n0   1  NATHANIEL FORD  GENERAL MANAGER-METROPOLITAN TRANSIT AUTHORITY   \n\n     BasePay  OvertimePay   OtherPay Benefits   TotalPay  TotalPayBenefits  \\\n0  167411.18          0.0  400184.25      NaN  567595.43         567595.43   \n\n   Year  Notes         Agency Status  \n0  2011    NaN  San Francisco    NaN  ",
            "text/html": "<div>\n<style scoped>\n    .dataframe tbody tr th:only-of-type {\n        vertical-align: middle;\n    }\n\n    .dataframe tbody tr th {\n        vertical-align: top;\n    }\n\n    .dataframe thead th {\n        text-align: right;\n    }\n</style>\n<table border=\"1\" class=\"dataframe\">\n  <thead>\n    <tr style=\"text-align: right;\">\n      <th></th>\n      <th>Id</th>\n      <th>EmployeeName</th>\n      <th>JobTitle</th>\n      <th>BasePay</th>\n      <th>OvertimePay</th>\n      <th>OtherPay</th>\n      <th>Benefits</th>\n      <th>TotalPay</th>\n      <th>TotalPayBenefits</th>\n      <th>Year</th>\n      <th>Notes</th>\n      <th>Agency</th>\n      <th>Status</th>\n    </tr>\n  </thead>\n  <tbody>\n    <tr>\n      <th>0</th>\n      <td>1</td>\n      <td>NATHANIEL FORD</td>\n      <td>GENERAL MANAGER-METROPOLITAN TRANSIT AUTHORITY</td>\n      <td>167411.18</td>\n      <td>0.0</td>\n      <td>400184.25</td>\n      <td>NaN</td>\n      <td>567595.43</td>\n      <td>567595.43</td>\n      <td>2011</td>\n      <td>NaN</td>\n      <td>San Francisco</td>\n      <td>NaN</td>\n    </tr>\n  </tbody>\n</table>\n</div>"
          },
          "metadata": {}
        }
      ],
      "execution_count": 14
    },
    {
      "cell_type": "code",
      "source": "",
      "metadata": {
        "trusted": true
      },
      "outputs": [],
      "execution_count": null
    },
    {
      "cell_type": "code",
      "source": "# \ndf.describe()\n",
      "metadata": {
        "trusted": true
      },
      "outputs": [
        {
          "execution_count": 22,
          "output_type": "execute_result",
          "data": {
            "text/plain": "                  Id       TotalPay  TotalPayBenefits           Year  Notes\ncount  148654.000000  148654.000000     148654.000000  148654.000000    0.0\nmean    74327.500000   74768.321972      93692.554811    2012.522643    NaN\nstd     42912.857795   50517.005274      62793.533483       1.117538    NaN\nmin         1.000000    -618.130000       -618.130000    2011.000000    NaN\n25%     37164.250000   36168.995000      44065.650000    2012.000000    NaN\n50%     74327.500000   71426.610000      92404.090000    2013.000000    NaN\n75%    111490.750000  105839.135000     132876.450000    2014.000000    NaN\nmax    148654.000000  567595.430000     567595.430000    2014.000000    NaN",
            "text/html": "<div>\n<style scoped>\n    .dataframe tbody tr th:only-of-type {\n        vertical-align: middle;\n    }\n\n    .dataframe tbody tr th {\n        vertical-align: top;\n    }\n\n    .dataframe thead th {\n        text-align: right;\n    }\n</style>\n<table border=\"1\" class=\"dataframe\">\n  <thead>\n    <tr style=\"text-align: right;\">\n      <th></th>\n      <th>Id</th>\n      <th>TotalPay</th>\n      <th>TotalPayBenefits</th>\n      <th>Year</th>\n      <th>Notes</th>\n    </tr>\n  </thead>\n  <tbody>\n    <tr>\n      <th>count</th>\n      <td>148654.000000</td>\n      <td>148654.000000</td>\n      <td>148654.000000</td>\n      <td>148654.000000</td>\n      <td>0.0</td>\n    </tr>\n    <tr>\n      <th>mean</th>\n      <td>74327.500000</td>\n      <td>74768.321972</td>\n      <td>93692.554811</td>\n      <td>2012.522643</td>\n      <td>NaN</td>\n    </tr>\n    <tr>\n      <th>std</th>\n      <td>42912.857795</td>\n      <td>50517.005274</td>\n      <td>62793.533483</td>\n      <td>1.117538</td>\n      <td>NaN</td>\n    </tr>\n    <tr>\n      <th>min</th>\n      <td>1.000000</td>\n      <td>-618.130000</td>\n      <td>-618.130000</td>\n      <td>2011.000000</td>\n      <td>NaN</td>\n    </tr>\n    <tr>\n      <th>25%</th>\n      <td>37164.250000</td>\n      <td>36168.995000</td>\n      <td>44065.650000</td>\n      <td>2012.000000</td>\n      <td>NaN</td>\n    </tr>\n    <tr>\n      <th>50%</th>\n      <td>74327.500000</td>\n      <td>71426.610000</td>\n      <td>92404.090000</td>\n      <td>2013.000000</td>\n      <td>NaN</td>\n    </tr>\n    <tr>\n      <th>75%</th>\n      <td>111490.750000</td>\n      <td>105839.135000</td>\n      <td>132876.450000</td>\n      <td>2014.000000</td>\n      <td>NaN</td>\n    </tr>\n    <tr>\n      <th>max</th>\n      <td>148654.000000</td>\n      <td>567595.430000</td>\n      <td>567595.430000</td>\n      <td>2014.000000</td>\n      <td>NaN</td>\n    </tr>\n  </tbody>\n</table>\n</div>"
          },
          "metadata": {}
        }
      ],
      "execution_count": 22
    },
    {
      "cell_type": "code",
      "source": "# df.head()\ndf[\"BasePay\"].mean()",
      "metadata": {
        "trusted": true
      },
      "outputs": [
        {
          "execution_count": 156,
          "output_type": "execute_result",
          "data": {
            "text/plain": "66053.73338483997"
          },
          "metadata": {}
        }
      ],
      "execution_count": 156
    },
    {
      "cell_type": "code",
      "source": "df.tail()\n",
      "metadata": {
        "trusted": true
      },
      "outputs": [
        {
          "execution_count": 24,
          "output_type": "execute_result",
          "data": {
            "text/plain": "            Id   EmployeeName                    JobTitle       BasePay  \\\n148649  148650  Roy I Tillery                   Custodian          0.00   \n148650  148651   Not provided                Not provided  Not Provided   \n148651  148652   Not provided                Not provided  Not Provided   \n148652  148653   Not provided                Not provided  Not Provided   \n148653  148654      Joe Lopez  Counselor, Log Cabin Ranch          0.00   \n\n         OvertimePay      OtherPay      Benefits  TotalPay  TotalPayBenefits  \\\n148649          0.00          0.00          0.00      0.00              0.00   \n148650  Not Provided  Not Provided  Not Provided      0.00              0.00   \n148651  Not Provided  Not Provided  Not Provided      0.00              0.00   \n148652  Not Provided  Not Provided  Not Provided      0.00              0.00   \n148653          0.00       -618.13          0.00   -618.13           -618.13   \n\n        Year  Notes         Agency Status  \n148649  2014    NaN  San Francisco     PT  \n148650  2014    NaN  San Francisco    NaN  \n148651  2014    NaN  San Francisco    NaN  \n148652  2014    NaN  San Francisco    NaN  \n148653  2014    NaN  San Francisco     PT  ",
            "text/html": "<div>\n<style scoped>\n    .dataframe tbody tr th:only-of-type {\n        vertical-align: middle;\n    }\n\n    .dataframe tbody tr th {\n        vertical-align: top;\n    }\n\n    .dataframe thead th {\n        text-align: right;\n    }\n</style>\n<table border=\"1\" class=\"dataframe\">\n  <thead>\n    <tr style=\"text-align: right;\">\n      <th></th>\n      <th>Id</th>\n      <th>EmployeeName</th>\n      <th>JobTitle</th>\n      <th>BasePay</th>\n      <th>OvertimePay</th>\n      <th>OtherPay</th>\n      <th>Benefits</th>\n      <th>TotalPay</th>\n      <th>TotalPayBenefits</th>\n      <th>Year</th>\n      <th>Notes</th>\n      <th>Agency</th>\n      <th>Status</th>\n    </tr>\n  </thead>\n  <tbody>\n    <tr>\n      <th>148649</th>\n      <td>148650</td>\n      <td>Roy I Tillery</td>\n      <td>Custodian</td>\n      <td>0.00</td>\n      <td>0.00</td>\n      <td>0.00</td>\n      <td>0.00</td>\n      <td>0.00</td>\n      <td>0.00</td>\n      <td>2014</td>\n      <td>NaN</td>\n      <td>San Francisco</td>\n      <td>PT</td>\n    </tr>\n    <tr>\n      <th>148650</th>\n      <td>148651</td>\n      <td>Not provided</td>\n      <td>Not provided</td>\n      <td>Not Provided</td>\n      <td>Not Provided</td>\n      <td>Not Provided</td>\n      <td>Not Provided</td>\n      <td>0.00</td>\n      <td>0.00</td>\n      <td>2014</td>\n      <td>NaN</td>\n      <td>San Francisco</td>\n      <td>NaN</td>\n    </tr>\n    <tr>\n      <th>148651</th>\n      <td>148652</td>\n      <td>Not provided</td>\n      <td>Not provided</td>\n      <td>Not Provided</td>\n      <td>Not Provided</td>\n      <td>Not Provided</td>\n      <td>Not Provided</td>\n      <td>0.00</td>\n      <td>0.00</td>\n      <td>2014</td>\n      <td>NaN</td>\n      <td>San Francisco</td>\n      <td>NaN</td>\n    </tr>\n    <tr>\n      <th>148652</th>\n      <td>148653</td>\n      <td>Not provided</td>\n      <td>Not provided</td>\n      <td>Not Provided</td>\n      <td>Not Provided</td>\n      <td>Not Provided</td>\n      <td>Not Provided</td>\n      <td>0.00</td>\n      <td>0.00</td>\n      <td>2014</td>\n      <td>NaN</td>\n      <td>San Francisco</td>\n      <td>NaN</td>\n    </tr>\n    <tr>\n      <th>148653</th>\n      <td>148654</td>\n      <td>Joe Lopez</td>\n      <td>Counselor, Log Cabin Ranch</td>\n      <td>0.00</td>\n      <td>0.00</td>\n      <td>-618.13</td>\n      <td>0.00</td>\n      <td>-618.13</td>\n      <td>-618.13</td>\n      <td>2014</td>\n      <td>NaN</td>\n      <td>San Francisco</td>\n      <td>PT</td>\n    </tr>\n  </tbody>\n</table>\n</div>"
          },
          "metadata": {}
        }
      ],
      "execution_count": 24
    },
    {
      "cell_type": "code",
      "source": "df.shape",
      "metadata": {
        "trusted": true
      },
      "outputs": [
        {
          "execution_count": 25,
          "output_type": "execute_result",
          "data": {
            "text/plain": "(148654, 13)"
          },
          "metadata": {}
        }
      ],
      "execution_count": 25
    },
    {
      "cell_type": "code",
      "source": "df.info()",
      "metadata": {
        "trusted": true
      },
      "outputs": [
        {
          "name": "stdout",
          "text": "<class 'pandas.core.frame.DataFrame'>\nRangeIndex: 148654 entries, 0 to 148653\nData columns (total 13 columns):\n #   Column            Non-Null Count   Dtype  \n---  ------            --------------   -----  \n 0   Id                148654 non-null  int64  \n 1   EmployeeName      148654 non-null  object \n 2   JobTitle          148654 non-null  object \n 3   BasePay           148049 non-null  object \n 4   OvertimePay       148654 non-null  object \n 5   OtherPay          148654 non-null  object \n 6   Benefits          112495 non-null  object \n 7   TotalPay          148654 non-null  float64\n 8   TotalPayBenefits  148654 non-null  float64\n 9   Year              148654 non-null  int64  \n 10  Notes             0 non-null       float64\n 11  Agency            148654 non-null  object \n 12  Status            38119 non-null   object \ndtypes: float64(3), int64(2), object(8)\nmemory usage: 10.2+ MB\n",
          "output_type": "stream"
        }
      ],
      "execution_count": 26
    },
    {
      "cell_type": "code",
      "source": "df['BasePay'] = df['BasePay'].replace(to_replace='Not Provided', value=np.nan).fillna(1)\ndf['BasePay'] = df['BasePay'].astype(float)\ndf['BasePay'].mean()\n",
      "metadata": {
        "trusted": true
      },
      "outputs": [
        {
          "execution_count": 111,
          "output_type": "execute_result",
          "data": {
            "text/plain": "66053.73338483997"
          },
          "metadata": {}
        }
      ],
      "execution_count": 111
    },
    {
      "cell_type": "code",
      "source": "# you have to check data that it should not contain any NaN value and if it their then you have to clean your data as it works as a virus for your dataset, you add average of data in that place to clean your data \n",
      "metadata": {
        "trusted": true
      },
      "outputs": [],
      "execution_count": 27
    },
    {
      "cell_type": "code",
      "source": "df.describe()",
      "metadata": {
        "trusted": true
      },
      "outputs": [
        {
          "execution_count": 112,
          "output_type": "execute_result",
          "data": {
            "text/plain": "                  Id        BasePay       TotalPay  TotalPayBenefits  \\\ncount  148654.000000  148654.000000  148654.000000     148654.000000   \nmean    74327.500000   66053.733385   74768.321972      93692.554811   \nstd     42912.857795   42886.704848   50517.005274      62793.533483   \nmin         1.000000    -166.010000    -618.130000       -618.130000   \n25%     37164.250000   32792.545000   36168.995000      44065.650000   \n50%     74327.500000   64861.600000   71426.610000      92404.090000   \n75%    111490.750000   94605.740000  105839.135000     132876.450000   \nmax    148654.000000  319275.010000  567595.430000     567595.430000   \n\n                Year  Notes  \ncount  148654.000000    0.0  \nmean     2012.522643    NaN  \nstd         1.117538    NaN  \nmin      2011.000000    NaN  \n25%      2012.000000    NaN  \n50%      2013.000000    NaN  \n75%      2014.000000    NaN  \nmax      2014.000000    NaN  ",
            "text/html": "<div>\n<style scoped>\n    .dataframe tbody tr th:only-of-type {\n        vertical-align: middle;\n    }\n\n    .dataframe tbody tr th {\n        vertical-align: top;\n    }\n\n    .dataframe thead th {\n        text-align: right;\n    }\n</style>\n<table border=\"1\" class=\"dataframe\">\n  <thead>\n    <tr style=\"text-align: right;\">\n      <th></th>\n      <th>Id</th>\n      <th>BasePay</th>\n      <th>TotalPay</th>\n      <th>TotalPayBenefits</th>\n      <th>Year</th>\n      <th>Notes</th>\n    </tr>\n  </thead>\n  <tbody>\n    <tr>\n      <th>count</th>\n      <td>148654.000000</td>\n      <td>148654.000000</td>\n      <td>148654.000000</td>\n      <td>148654.000000</td>\n      <td>148654.000000</td>\n      <td>0.0</td>\n    </tr>\n    <tr>\n      <th>mean</th>\n      <td>74327.500000</td>\n      <td>66053.733385</td>\n      <td>74768.321972</td>\n      <td>93692.554811</td>\n      <td>2012.522643</td>\n      <td>NaN</td>\n    </tr>\n    <tr>\n      <th>std</th>\n      <td>42912.857795</td>\n      <td>42886.704848</td>\n      <td>50517.005274</td>\n      <td>62793.533483</td>\n      <td>1.117538</td>\n      <td>NaN</td>\n    </tr>\n    <tr>\n      <th>min</th>\n      <td>1.000000</td>\n      <td>-166.010000</td>\n      <td>-618.130000</td>\n      <td>-618.130000</td>\n      <td>2011.000000</td>\n      <td>NaN</td>\n    </tr>\n    <tr>\n      <th>25%</th>\n      <td>37164.250000</td>\n      <td>32792.545000</td>\n      <td>36168.995000</td>\n      <td>44065.650000</td>\n      <td>2012.000000</td>\n      <td>NaN</td>\n    </tr>\n    <tr>\n      <th>50%</th>\n      <td>74327.500000</td>\n      <td>64861.600000</td>\n      <td>71426.610000</td>\n      <td>92404.090000</td>\n      <td>2013.000000</td>\n      <td>NaN</td>\n    </tr>\n    <tr>\n      <th>75%</th>\n      <td>111490.750000</td>\n      <td>94605.740000</td>\n      <td>105839.135000</td>\n      <td>132876.450000</td>\n      <td>2014.000000</td>\n      <td>NaN</td>\n    </tr>\n    <tr>\n      <th>max</th>\n      <td>148654.000000</td>\n      <td>319275.010000</td>\n      <td>567595.430000</td>\n      <td>567595.430000</td>\n      <td>2014.000000</td>\n      <td>NaN</td>\n    </tr>\n  </tbody>\n</table>\n</div>"
          },
          "metadata": {}
        }
      ],
      "execution_count": 112
    },
    {
      "cell_type": "code",
      "source": "# called that file \ndf.iloc[24][\"JobTitle\"]\n",
      "metadata": {
        "trusted": true
      },
      "outputs": [
        {
          "execution_count": 30,
          "output_type": "execute_result",
          "data": {
            "text/plain": "'CAPTAIN, FIRE SUPPRESSION'"
          },
          "metadata": {}
        }
      ],
      "execution_count": 30
    },
    {
      "cell_type": "code",
      "source": "# a = pd.DataFrame(columns=\"Science\",\"Bio\",\"Math\",data= np.random.randint(1,100,4))\na = np.random.randint(1,100,(4,3))\n\nb = \"Python Bio Math\"\nc = \"Aamish Aadil Akshay Krish\"\nSs = pd.DataFrame(columns=b.split(),data=a,index=c.split())\n",
      "metadata": {
        "trusted": true
      },
      "outputs": [],
      "execution_count": 61
    },
    {
      "cell_type": "code",
      "source": "Ss.loc[Ss[\"Python\"]<40,\"Python\"] = 41\nSs",
      "metadata": {
        "trusted": true
      },
      "outputs": [
        {
          "execution_count": 32,
          "output_type": "execute_result",
          "data": {
            "text/plain": "        Python  Bio  Math\nAamish      54   25    17\nAadil       59   36    53\nAkshay      75   79    33\nKrish       41   55    42",
            "text/html": "<div>\n<style scoped>\n    .dataframe tbody tr th:only-of-type {\n        vertical-align: middle;\n    }\n\n    .dataframe tbody tr th {\n        vertical-align: top;\n    }\n\n    .dataframe thead th {\n        text-align: right;\n    }\n</style>\n<table border=\"1\" class=\"dataframe\">\n  <thead>\n    <tr style=\"text-align: right;\">\n      <th></th>\n      <th>Python</th>\n      <th>Bio</th>\n      <th>Math</th>\n    </tr>\n  </thead>\n  <tbody>\n    <tr>\n      <th>Aamish</th>\n      <td>54</td>\n      <td>25</td>\n      <td>17</td>\n    </tr>\n    <tr>\n      <th>Aadil</th>\n      <td>59</td>\n      <td>36</td>\n      <td>53</td>\n    </tr>\n    <tr>\n      <th>Akshay</th>\n      <td>75</td>\n      <td>79</td>\n      <td>33</td>\n    </tr>\n    <tr>\n      <th>Krish</th>\n      <td>41</td>\n      <td>55</td>\n      <td>42</td>\n    </tr>\n  </tbody>\n</table>\n</div>"
          },
          "metadata": {}
        }
      ],
      "execution_count": 32
    },
    {
      "cell_type": "code",
      "source": "n_data = Ss[:]+13",
      "metadata": {
        "trusted": true
      },
      "outputs": [],
      "execution_count": 33
    },
    {
      "cell_type": "code",
      "source": "n_data[n_data[:]>100]=100",
      "metadata": {
        "trusted": true
      },
      "outputs": [],
      "execution_count": 34
    },
    {
      "cell_type": "code",
      "source": "n_data",
      "metadata": {
        "trusted": true
      },
      "outputs": [
        {
          "execution_count": 35,
          "output_type": "execute_result",
          "data": {
            "text/plain": "        Python  Bio  Math\nAamish      67   38    30\nAadil       72   49    66\nAkshay      88   92    46\nKrish       54   68    55",
            "text/html": "<div>\n<style scoped>\n    .dataframe tbody tr th:only-of-type {\n        vertical-align: middle;\n    }\n\n    .dataframe tbody tr th {\n        vertical-align: top;\n    }\n\n    .dataframe thead th {\n        text-align: right;\n    }\n</style>\n<table border=\"1\" class=\"dataframe\">\n  <thead>\n    <tr style=\"text-align: right;\">\n      <th></th>\n      <th>Python</th>\n      <th>Bio</th>\n      <th>Math</th>\n    </tr>\n  </thead>\n  <tbody>\n    <tr>\n      <th>Aamish</th>\n      <td>67</td>\n      <td>38</td>\n      <td>30</td>\n    </tr>\n    <tr>\n      <th>Aadil</th>\n      <td>72</td>\n      <td>49</td>\n      <td>66</td>\n    </tr>\n    <tr>\n      <th>Akshay</th>\n      <td>88</td>\n      <td>92</td>\n      <td>46</td>\n    </tr>\n    <tr>\n      <th>Krish</th>\n      <td>54</td>\n      <td>68</td>\n      <td>55</td>\n    </tr>\n  </tbody>\n</table>\n</div>"
          },
          "metadata": {}
        }
      ],
      "execution_count": 35
    },
    {
      "cell_type": "code",
      "source": "# my logic \nfor i in a:\n    for j in a[i]:\n        if (j>100):\n            a[i]=100\na\n",
      "metadata": {
        "trusted": true
      },
      "outputs": [
        {
          "execution_count": 42,
          "output_type": "execute_result",
          "data": {
            "text/plain": "        Python  Bio  Math\nAamish      54   25    17\nAadil       59   36    53\nAkshay      75   79    33",
            "text/html": "<div>\n<style scoped>\n    .dataframe tbody tr th:only-of-type {\n        vertical-align: middle;\n    }\n\n    .dataframe tbody tr th {\n        vertical-align: top;\n    }\n\n    .dataframe thead th {\n        text-align: right;\n    }\n</style>\n<table border=\"1\" class=\"dataframe\">\n  <thead>\n    <tr style=\"text-align: right;\">\n      <th></th>\n      <th>Python</th>\n      <th>Bio</th>\n      <th>Math</th>\n    </tr>\n  </thead>\n  <tbody>\n    <tr>\n      <th>Aamish</th>\n      <td>54</td>\n      <td>25</td>\n      <td>17</td>\n    </tr>\n    <tr>\n      <th>Aadil</th>\n      <td>59</td>\n      <td>36</td>\n      <td>53</td>\n    </tr>\n    <tr>\n      <th>Akshay</th>\n      <td>75</td>\n      <td>79</td>\n      <td>33</td>\n    </tr>\n  </tbody>\n</table>\n</div>"
          },
          "metadata": {}
        }
      ],
      "execution_count": 42
    },
    {
      "cell_type": "code",
      "source": "Ss",
      "metadata": {
        "trusted": true
      },
      "outputs": [
        {
          "execution_count": 37,
          "output_type": "execute_result",
          "data": {
            "text/plain": "        Python  Bio  Math\nAamish      54   25    17\nAadil       59   36    53\nAkshay      75   79    33\nKrish       41   55    42",
            "text/html": "<div>\n<style scoped>\n    .dataframe tbody tr th:only-of-type {\n        vertical-align: middle;\n    }\n\n    .dataframe tbody tr th {\n        vertical-align: top;\n    }\n\n    .dataframe thead th {\n        text-align: right;\n    }\n</style>\n<table border=\"1\" class=\"dataframe\">\n  <thead>\n    <tr style=\"text-align: right;\">\n      <th></th>\n      <th>Python</th>\n      <th>Bio</th>\n      <th>Math</th>\n    </tr>\n  </thead>\n  <tbody>\n    <tr>\n      <th>Aamish</th>\n      <td>54</td>\n      <td>25</td>\n      <td>17</td>\n    </tr>\n    <tr>\n      <th>Aadil</th>\n      <td>59</td>\n      <td>36</td>\n      <td>53</td>\n    </tr>\n    <tr>\n      <th>Akshay</th>\n      <td>75</td>\n      <td>79</td>\n      <td>33</td>\n    </tr>\n    <tr>\n      <th>Krish</th>\n      <td>41</td>\n      <td>55</td>\n      <td>42</td>\n    </tr>\n  </tbody>\n</table>\n</div>"
          },
          "metadata": {}
        }
      ],
      "execution_count": 37
    },
    {
      "cell_type": "code",
      "source": "a = Ss[Ss[\"Python\"]>50]\na\nb = Ss[Ss[\"Bio\"]>30]\nb\n",
      "metadata": {
        "trusted": true
      },
      "outputs": [
        {
          "execution_count": 38,
          "output_type": "execute_result",
          "data": {
            "text/plain": "        Python  Bio  Math\nAadil       59   36    53\nAkshay      75   79    33\nKrish       41   55    42",
            "text/html": "<div>\n<style scoped>\n    .dataframe tbody tr th:only-of-type {\n        vertical-align: middle;\n    }\n\n    .dataframe tbody tr th {\n        vertical-align: top;\n    }\n\n    .dataframe thead th {\n        text-align: right;\n    }\n</style>\n<table border=\"1\" class=\"dataframe\">\n  <thead>\n    <tr style=\"text-align: right;\">\n      <th></th>\n      <th>Python</th>\n      <th>Bio</th>\n      <th>Math</th>\n    </tr>\n  </thead>\n  <tbody>\n    <tr>\n      <th>Aadil</th>\n      <td>59</td>\n      <td>36</td>\n      <td>53</td>\n    </tr>\n    <tr>\n      <th>Akshay</th>\n      <td>75</td>\n      <td>79</td>\n      <td>33</td>\n    </tr>\n    <tr>\n      <th>Krish</th>\n      <td>41</td>\n      <td>55</td>\n      <td>42</td>\n    </tr>\n  </tbody>\n</table>\n</div>"
          },
          "metadata": {}
        }
      ],
      "execution_count": 38
    },
    {
      "cell_type": "code",
      "source": "Ss[(Ss[\"Python\"]>50)&(Ss[\"Bio\"]>30)]",
      "metadata": {
        "trusted": true
      },
      "outputs": [
        {
          "execution_count": 39,
          "output_type": "execute_result",
          "data": {
            "text/plain": "        Python  Bio  Math\nAadil       59   36    53\nAkshay      75   79    33",
            "text/html": "<div>\n<style scoped>\n    .dataframe tbody tr th:only-of-type {\n        vertical-align: middle;\n    }\n\n    .dataframe tbody tr th {\n        vertical-align: top;\n    }\n\n    .dataframe thead th {\n        text-align: right;\n    }\n</style>\n<table border=\"1\" class=\"dataframe\">\n  <thead>\n    <tr style=\"text-align: right;\">\n      <th></th>\n      <th>Python</th>\n      <th>Bio</th>\n      <th>Math</th>\n    </tr>\n  </thead>\n  <tbody>\n    <tr>\n      <th>Aadil</th>\n      <td>59</td>\n      <td>36</td>\n      <td>53</td>\n    </tr>\n    <tr>\n      <th>Akshay</th>\n      <td>75</td>\n      <td>79</td>\n      <td>33</td>\n    </tr>\n  </tbody>\n</table>\n</div>"
          },
          "metadata": {}
        }
      ],
      "execution_count": 39
    },
    {
      "cell_type": "code",
      "source": "Ss[Ss.index.str.startswith(\"K\")]",
      "metadata": {
        "trusted": true
      },
      "outputs": [
        {
          "execution_count": 40,
          "output_type": "execute_result",
          "data": {
            "text/plain": "       Python  Bio  Math\nKrish      41   55    42",
            "text/html": "<div>\n<style scoped>\n    .dataframe tbody tr th:only-of-type {\n        vertical-align: middle;\n    }\n\n    .dataframe tbody tr th {\n        vertical-align: top;\n    }\n\n    .dataframe thead th {\n        text-align: right;\n    }\n</style>\n<table border=\"1\" class=\"dataframe\">\n  <thead>\n    <tr style=\"text-align: right;\">\n      <th></th>\n      <th>Python</th>\n      <th>Bio</th>\n      <th>Math</th>\n    </tr>\n  </thead>\n  <tbody>\n    <tr>\n      <th>Krish</th>\n      <td>41</td>\n      <td>55</td>\n      <td>42</td>\n    </tr>\n  </tbody>\n</table>\n</div>"
          },
          "metadata": {}
        }
      ],
      "execution_count": 40
    },
    {
      "cell_type": "code",
      "source": "(Ss[Ss.index.str.startswith(\"K\")])\n",
      "metadata": {
        "trusted": true
      },
      "outputs": [
        {
          "execution_count": 44,
          "output_type": "execute_result",
          "data": {
            "text/plain": "       Python  Bio  Math\nKrish      41   55    42",
            "text/html": "<div>\n<style scoped>\n    .dataframe tbody tr th:only-of-type {\n        vertical-align: middle;\n    }\n\n    .dataframe tbody tr th {\n        vertical-align: top;\n    }\n\n    .dataframe thead th {\n        text-align: right;\n    }\n</style>\n<table border=\"1\" class=\"dataframe\">\n  <thead>\n    <tr style=\"text-align: right;\">\n      <th></th>\n      <th>Python</th>\n      <th>Bio</th>\n      <th>Math</th>\n    </tr>\n  </thead>\n  <tbody>\n    <tr>\n      <th>Krish</th>\n      <td>41</td>\n      <td>55</td>\n      <td>42</td>\n    </tr>\n  </tbody>\n</table>\n</div>"
          },
          "metadata": {}
        }
      ],
      "execution_count": 44
    },
    {
      "cell_type": "code",
      "source": "(Ss[Ss.index.str.startswith(\"A\")])\n",
      "metadata": {
        "trusted": true
      },
      "outputs": [
        {
          "execution_count": 54,
          "output_type": "execute_result",
          "data": {
            "text/plain": "        Python  Bio  Math     Total  Percentage\nAamish      54   25    17   515.328    103.0656\nAadil       59   36    53   794.464    158.8928\nAkshay      75   79    33  1003.816    200.7632",
            "text/html": "<div>\n<style scoped>\n    .dataframe tbody tr th:only-of-type {\n        vertical-align: middle;\n    }\n\n    .dataframe tbody tr th {\n        vertical-align: top;\n    }\n\n    .dataframe thead th {\n        text-align: right;\n    }\n</style>\n<table border=\"1\" class=\"dataframe\">\n  <thead>\n    <tr style=\"text-align: right;\">\n      <th></th>\n      <th>Python</th>\n      <th>Bio</th>\n      <th>Math</th>\n      <th>Total</th>\n      <th>Percentage</th>\n    </tr>\n  </thead>\n  <tbody>\n    <tr>\n      <th>Aamish</th>\n      <td>54</td>\n      <td>25</td>\n      <td>17</td>\n      <td>515.328</td>\n      <td>103.0656</td>\n    </tr>\n    <tr>\n      <th>Aadil</th>\n      <td>59</td>\n      <td>36</td>\n      <td>53</td>\n      <td>794.464</td>\n      <td>158.8928</td>\n    </tr>\n    <tr>\n      <th>Akshay</th>\n      <td>75</td>\n      <td>79</td>\n      <td>33</td>\n      <td>1003.816</td>\n      <td>200.7632</td>\n    </tr>\n  </tbody>\n</table>\n</div>"
          },
          "metadata": {}
        }
      ],
      "execution_count": 54
    },
    {
      "cell_type": "code",
      "source": "(Ss[Ss.index.str.startswith(\"N\")])\n",
      "metadata": {
        "trusted": true
      },
      "outputs": [
        {
          "execution_count": 53,
          "output_type": "execute_result",
          "data": {
            "text/plain": "Empty DataFrame\nColumns: [Python, Bio, Math, Total, Percentage]\nIndex: []",
            "text/html": "<div>\n<style scoped>\n    .dataframe tbody tr th:only-of-type {\n        vertical-align: middle;\n    }\n\n    .dataframe tbody tr th {\n        vertical-align: top;\n    }\n\n    .dataframe thead th {\n        text-align: right;\n    }\n</style>\n<table border=\"1\" class=\"dataframe\">\n  <thead>\n    <tr style=\"text-align: right;\">\n      <th></th>\n      <th>Python</th>\n      <th>Bio</th>\n      <th>Math</th>\n      <th>Total</th>\n      <th>Percentage</th>\n    </tr>\n  </thead>\n  <tbody>\n  </tbody>\n</table>\n</div>"
          },
          "metadata": {}
        }
      ],
      "execution_count": 53
    },
    {
      "cell_type": "code",
      "source": "Ss['Total'] = Ss.sum(axis=1)\nSs['percentage '] = (Ss['Total'] / 300) * 100\n\n",
      "metadata": {
        "trusted": true
      },
      "outputs": [],
      "execution_count": 62
    },
    {
      "cell_type": "code",
      "source": "Ss",
      "metadata": {
        "trusted": true
      },
      "outputs": [
        {
          "execution_count": 63,
          "output_type": "execute_result",
          "data": {
            "text/plain": "        Python  Bio  Math  Total  Percentage\nAamish      59    8    12     79   26.333333\nAadil       53    8    93    154   51.333333\nAkshay      39   62    31    132   44.000000\nKrish       86   29    28    143   47.666667",
            "text/html": "<div>\n<style scoped>\n    .dataframe tbody tr th:only-of-type {\n        vertical-align: middle;\n    }\n\n    .dataframe tbody tr th {\n        vertical-align: top;\n    }\n\n    .dataframe thead th {\n        text-align: right;\n    }\n</style>\n<table border=\"1\" class=\"dataframe\">\n  <thead>\n    <tr style=\"text-align: right;\">\n      <th></th>\n      <th>Python</th>\n      <th>Bio</th>\n      <th>Math</th>\n      <th>Total</th>\n      <th>Percentage</th>\n    </tr>\n  </thead>\n  <tbody>\n    <tr>\n      <th>Aamish</th>\n      <td>59</td>\n      <td>8</td>\n      <td>12</td>\n      <td>79</td>\n      <td>26.333333</td>\n    </tr>\n    <tr>\n      <th>Aadil</th>\n      <td>53</td>\n      <td>8</td>\n      <td>93</td>\n      <td>154</td>\n      <td>51.333333</td>\n    </tr>\n    <tr>\n      <th>Akshay</th>\n      <td>39</td>\n      <td>62</td>\n      <td>31</td>\n      <td>132</td>\n      <td>44.000000</td>\n    </tr>\n    <tr>\n      <th>Krish</th>\n      <td>86</td>\n      <td>29</td>\n      <td>28</td>\n      <td>143</td>\n      <td>47.666667</td>\n    </tr>\n  </tbody>\n</table>\n</div>"
          },
          "metadata": {}
        }
      ],
      "execution_count": 63
    },
    {
      "cell_type": "code",
      "source": "Ss['Status'] = np.where(Ss['percentage '] < 40, 'Fail', 'Pass')",
      "metadata": {
        "trusted": true
      },
      "outputs": [],
      "execution_count": 70
    },
    {
      "cell_type": "code",
      "source": "Ss",
      "metadata": {
        "trusted": true
      },
      "outputs": [
        {
          "execution_count": 71,
          "output_type": "execute_result",
          "data": {
            "text/plain": "        Python  Bio  Math  Total  Percentage Status\nAamish      59    8    12     79   26.333333   Fail\nAadil       53    8    93    154   51.333333   Pass\nAkshay      39   62    31    132   44.000000   Pass\nKrish       86   29    28    143   47.666667   Pass",
            "text/html": "<div>\n<style scoped>\n    .dataframe tbody tr th:only-of-type {\n        vertical-align: middle;\n    }\n\n    .dataframe tbody tr th {\n        vertical-align: top;\n    }\n\n    .dataframe thead th {\n        text-align: right;\n    }\n</style>\n<table border=\"1\" class=\"dataframe\">\n  <thead>\n    <tr style=\"text-align: right;\">\n      <th></th>\n      <th>Python</th>\n      <th>Bio</th>\n      <th>Math</th>\n      <th>Total</th>\n      <th>Percentage</th>\n      <th>Status</th>\n    </tr>\n  </thead>\n  <tbody>\n    <tr>\n      <th>Aamish</th>\n      <td>59</td>\n      <td>8</td>\n      <td>12</td>\n      <td>79</td>\n      <td>26.333333</td>\n      <td>Fail</td>\n    </tr>\n    <tr>\n      <th>Aadil</th>\n      <td>53</td>\n      <td>8</td>\n      <td>93</td>\n      <td>154</td>\n      <td>51.333333</td>\n      <td>Pass</td>\n    </tr>\n    <tr>\n      <th>Akshay</th>\n      <td>39</td>\n      <td>62</td>\n      <td>31</td>\n      <td>132</td>\n      <td>44.000000</td>\n      <td>Pass</td>\n    </tr>\n    <tr>\n      <th>Krish</th>\n      <td>86</td>\n      <td>29</td>\n      <td>28</td>\n      <td>143</td>\n      <td>47.666667</td>\n      <td>Pass</td>\n    </tr>\n  </tbody>\n</table>\n</div>"
          },
          "metadata": {}
        }
      ],
      "execution_count": 71
    },
    {
      "cell_type": "code",
      "source": "Ss.loc[Ss['percentage ']<50,'grade '] = 'F' \nSs.loc[Ss['percentage ']>=50,'grade '] = 'E' \nSs.loc[Ss['percentage ']>=60,'grade '] = 'D' \nSs.loc[Ss['percentage ']>=70,'grade '] = 'C' \nSs.loc[Ss['percentage ']>=80,'grade '] = 'B' \nSs.loc[Ss['percentage ']>=90,'grade '] = 'A' ",
      "metadata": {
        "trusted": true
      },
      "outputs": [],
      "execution_count": 118
    },
    {
      "cell_type": "code",
      "source": "Ss",
      "metadata": {
        "trusted": true
      },
      "outputs": [
        {
          "execution_count": 119,
          "output_type": "execute_result",
          "data": {
            "text/plain": "        Python  Bio  Math  Total  Percentage Status Grade\nAamish      59    8    12     79   26.333333   Fail     F\nAadil       53    8    93    154   51.333333   Pass     E\nAkshay      39   62    31    132   44.000000   Pass     F\nKrish       86   29    28    143   47.666667   Pass     F",
            "text/html": "<div>\n<style scoped>\n    .dataframe tbody tr th:only-of-type {\n        vertical-align: middle;\n    }\n\n    .dataframe tbody tr th {\n        vertical-align: top;\n    }\n\n    .dataframe thead th {\n        text-align: right;\n    }\n</style>\n<table border=\"1\" class=\"dataframe\">\n  <thead>\n    <tr style=\"text-align: right;\">\n      <th></th>\n      <th>Python</th>\n      <th>Bio</th>\n      <th>Math</th>\n      <th>Total</th>\n      <th>Percentage</th>\n      <th>Status</th>\n      <th>Grade</th>\n    </tr>\n  </thead>\n  <tbody>\n    <tr>\n      <th>Aamish</th>\n      <td>59</td>\n      <td>8</td>\n      <td>12</td>\n      <td>79</td>\n      <td>26.333333</td>\n      <td>Fail</td>\n      <td>F</td>\n    </tr>\n    <tr>\n      <th>Aadil</th>\n      <td>53</td>\n      <td>8</td>\n      <td>93</td>\n      <td>154</td>\n      <td>51.333333</td>\n      <td>Pass</td>\n      <td>E</td>\n    </tr>\n    <tr>\n      <th>Akshay</th>\n      <td>39</td>\n      <td>62</td>\n      <td>31</td>\n      <td>132</td>\n      <td>44.000000</td>\n      <td>Pass</td>\n      <td>F</td>\n    </tr>\n    <tr>\n      <th>Krish</th>\n      <td>86</td>\n      <td>29</td>\n      <td>28</td>\n      <td>143</td>\n      <td>47.666667</td>\n      <td>Pass</td>\n      <td>F</td>\n    </tr>\n  </tbody>\n</table>\n</div>"
          },
          "metadata": {}
        }
      ],
      "execution_count": 119
    },
    {
      "cell_type": "code",
      "source": "Ss.sum()  # Overall total for each column \n",
      "metadata": {
        "trusted": true
      },
      "outputs": [
        {
          "execution_count": 121,
          "output_type": "execute_result",
          "data": {
            "text/plain": "Python                     237\nBio                        107\nMath                       164\nTotal                      508\nPercentage          169.333333\nStatus        FailPassPassPass\nGrade                     FEFF\ndtype: object"
          },
          "metadata": {}
        }
      ],
      "execution_count": 121
    },
    {
      "cell_type": "code",
      "source": "Ss.max()\n",
      "metadata": {
        "trusted": true
      },
      "outputs": [
        {
          "execution_count": 122,
          "output_type": "execute_result",
          "data": {
            "text/plain": "Python               86\nBio                  62\nMath                 93\nTotal               154\nPercentage    51.333333\nStatus             Pass\nGrade                 F\ndtype: object"
          },
          "metadata": {}
        }
      ],
      "execution_count": 122
    },
    {
      "cell_type": "code",
      "source": "Ss.min()",
      "metadata": {
        "trusted": true
      },
      "outputs": [
        {
          "execution_count": 123,
          "output_type": "execute_result",
          "data": {
            "text/plain": "Python               39\nBio                   8\nMath                 12\nTotal                79\nPercentage    26.333333\nStatus             Fail\nGrade                 E\ndtype: object"
          },
          "metadata": {}
        }
      ],
      "execution_count": 123
    },
    {
      "cell_type": "code",
      "source": "Ss.nmm()",
      "metadata": {
        "trusted": true
      },
      "outputs": [
        {
          "name": "stderr",
          "text": "<ipython-input-124-916ca6ead70e>:1: FutureWarning: The default value of numeric_only in DataFrame.std is deprecated. In a future version, it will default to False. In addition, specifying 'numeric_only=None' is deprecated. Select only valid columns or specify the value of numeric_only to silence this warning.\n  Ss.std()\n",
          "output_type": "stream"
        },
        {
          "execution_count": 124,
          "output_type": "execute_result",
          "data": {
            "text/plain": "Python        19.704060\nBio           25.500000\nMath          35.655762\nTotal         33.236526\nPercentage    11.078842\ndtype: float64"
          },
          "metadata": {}
        }
      ],
      "execution_count": 124
    },
    {
      "cell_type": "code",
      "source": "Ss.var()",
      "metadata": {
        "trusted": true
      },
      "outputs": [
        {
          "name": "stderr",
          "text": "<ipython-input-125-b00c90776dc9>:1: FutureWarning: The default value of numeric_only in DataFrame.var is deprecated. In a future version, it will default to False. In addition, specifying 'numeric_only=None' is deprecated. Select only valid columns or specify the value of numeric_only to silence this warning.\n  Ss.var()\n",
          "output_type": "stream"
        },
        {
          "execution_count": 125,
          "output_type": "execute_result",
          "data": {
            "text/plain": "Python         388.250000\nBio            650.250000\nMath          1271.333333\nTotal         1104.666667\nPercentage     122.740741\ndtype: float64"
          },
          "metadata": {}
        }
      ],
      "execution_count": 125
    },
    {
      "cell_type": "code",
      "source": "Ss.describe()",
      "metadata": {
        "trusted": true
      },
      "outputs": [
        {
          "execution_count": 130,
          "output_type": "execute_result",
          "data": {
            "text/plain": "         Python    Bio       Math       Total  Percentage\ncount   4.00000   4.00   4.000000    4.000000    4.000000\nmean   59.25000  26.75  41.000000  127.000000   42.333333\nstd    19.70406  25.50  35.655762   33.236526   11.078842\nmin    39.00000   8.00  12.000000   79.000000   26.333333\n25%    49.50000   8.00  24.000000  118.750000   39.583333\n50%    56.00000  18.50  29.500000  137.500000   45.833333\n75%    65.75000  37.25  46.500000  145.750000   48.583333\nmax    86.00000  62.00  93.000000  154.000000   51.333333",
            "text/html": "<div>\n<style scoped>\n    .dataframe tbody tr th:only-of-type {\n        vertical-align: middle;\n    }\n\n    .dataframe tbody tr th {\n        vertical-align: top;\n    }\n\n    .dataframe thead th {\n        text-align: right;\n    }\n</style>\n<table border=\"1\" class=\"dataframe\">\n  <thead>\n    <tr style=\"text-align: right;\">\n      <th></th>\n      <th>Python</th>\n      <th>Bio</th>\n      <th>Math</th>\n      <th>Total</th>\n      <th>Percentage</th>\n    </tr>\n  </thead>\n  <tbody>\n    <tr>\n      <th>count</th>\n      <td>4.00000</td>\n      <td>4.00</td>\n      <td>4.000000</td>\n      <td>4.000000</td>\n      <td>4.000000</td>\n    </tr>\n    <tr>\n      <th>mean</th>\n      <td>59.25000</td>\n      <td>26.75</td>\n      <td>41.000000</td>\n      <td>127.000000</td>\n      <td>42.333333</td>\n    </tr>\n    <tr>\n      <th>std</th>\n      <td>19.70406</td>\n      <td>25.50</td>\n      <td>35.655762</td>\n      <td>33.236526</td>\n      <td>11.078842</td>\n    </tr>\n    <tr>\n      <th>min</th>\n      <td>39.00000</td>\n      <td>8.00</td>\n      <td>12.000000</td>\n      <td>79.000000</td>\n      <td>26.333333</td>\n    </tr>\n    <tr>\n      <th>25%</th>\n      <td>49.50000</td>\n      <td>8.00</td>\n      <td>24.000000</td>\n      <td>118.750000</td>\n      <td>39.583333</td>\n    </tr>\n    <tr>\n      <th>50%</th>\n      <td>56.00000</td>\n      <td>18.50</td>\n      <td>29.500000</td>\n      <td>137.500000</td>\n      <td>45.833333</td>\n    </tr>\n    <tr>\n      <th>75%</th>\n      <td>65.75000</td>\n      <td>37.25</td>\n      <td>46.500000</td>\n      <td>145.750000</td>\n      <td>48.583333</td>\n    </tr>\n    <tr>\n      <th>max</th>\n      <td>86.00000</td>\n      <td>62.00</td>\n      <td>93.000000</td>\n      <td>154.000000</td>\n      <td>51.333333</td>\n    </tr>\n  </tbody>\n</table>\n</div>"
          },
          "metadata": {}
        }
      ],
      "execution_count": 130
    },
    {
      "cell_type": "code",
      "source": "dic = Ss.to_dict(orient='list')\ndic",
      "metadata": {
        "trusted": true
      },
      "outputs": [
        {
          "execution_count": 134,
          "output_type": "execute_result",
          "data": {
            "text/plain": "{'Python': [59, 53, 39, 86],\n 'Bio': [8, 8, 62, 29],\n 'Math': [12, 93, 31, 28],\n 'Total': [79, 154, 132, 143],\n 'Percentage': [26.333333333333332,\n  51.33333333333333,\n  44.0,\n  47.66666666666667],\n 'Status': ['Fail', 'Pass', 'Pass', 'Pass'],\n 'Grade': ['F', 'E', 'F', 'F']}"
          },
          "metadata": {}
        }
      ],
      "execution_count": 134
    },
    {
      "cell_type": "code",
      "source": "Ss['Total']+=500\n",
      "metadata": {
        "trusted": true
      },
      "outputs": [],
      "execution_count": 135
    },
    {
      "cell_type": "code",
      "source": "Ss",
      "metadata": {
        "trusted": true
      },
      "outputs": [
        {
          "execution_count": 136,
          "output_type": "execute_result",
          "data": {
            "text/plain": "        Python  Bio  Math  Total  Percentage Status Grade\nAamish      59    8    12    579   26.333333   Fail     F\nAadil       53    8    93    654   51.333333   Pass     E\nAkshay      39   62    31    632   44.000000   Pass     F\nKrish       86   29    28    643   47.666667   Pass     F",
            "text/html": "<div>\n<style scoped>\n    .dataframe tbody tr th:only-of-type {\n        vertical-align: middle;\n    }\n\n    .dataframe tbody tr th {\n        vertical-align: top;\n    }\n\n    .dataframe thead th {\n        text-align: right;\n    }\n</style>\n<table border=\"1\" class=\"dataframe\">\n  <thead>\n    <tr style=\"text-align: right;\">\n      <th></th>\n      <th>Python</th>\n      <th>Bio</th>\n      <th>Math</th>\n      <th>Total</th>\n      <th>Percentage</th>\n      <th>Status</th>\n      <th>Grade</th>\n    </tr>\n  </thead>\n  <tbody>\n    <tr>\n      <th>Aamish</th>\n      <td>59</td>\n      <td>8</td>\n      <td>12</td>\n      <td>579</td>\n      <td>26.333333</td>\n      <td>Fail</td>\n      <td>F</td>\n    </tr>\n    <tr>\n      <th>Aadil</th>\n      <td>53</td>\n      <td>8</td>\n      <td>93</td>\n      <td>654</td>\n      <td>51.333333</td>\n      <td>Pass</td>\n      <td>E</td>\n    </tr>\n    <tr>\n      <th>Akshay</th>\n      <td>39</td>\n      <td>62</td>\n      <td>31</td>\n      <td>632</td>\n      <td>44.000000</td>\n      <td>Pass</td>\n      <td>F</td>\n    </tr>\n    <tr>\n      <th>Krish</th>\n      <td>86</td>\n      <td>29</td>\n      <td>28</td>\n      <td>643</td>\n      <td>47.666667</td>\n      <td>Pass</td>\n      <td>F</td>\n    </tr>\n  </tbody>\n</table>\n</div>"
          },
          "metadata": {}
        }
      ],
      "execution_count": 136
    },
    {
      "cell_type": "markdown",
      "source": "# Task 2",
      "metadata": {}
    },
    {
      "cell_type": "code",
      "source": "import pandas as pd\n",
      "metadata": {
        "trusted": true
      },
      "outputs": [],
      "execution_count": 185
    },
    {
      "cell_type": "code",
      "source": "sal = pd.read_csv('Salaries.csv')\n",
      "metadata": {
        "trusted": true
      },
      "outputs": [
        {
          "name": "stderr",
          "text": "<ipython-input-186-13aeaf90a974>:1: DtypeWarning: Columns (3,4,5,6,12) have mixed types. Specify dtype option on import or set low_memory=False.\n  sal = pd.read_csv('Salaries.csv')\n",
          "output_type": "stream"
        }
      ],
      "execution_count": 186
    },
    {
      "cell_type": "code",
      "source": "sal.head()\n",
      "metadata": {
        "trusted": true
      },
      "outputs": [
        {
          "execution_count": 187,
          "output_type": "execute_result",
          "data": {
            "text/plain": "   Id       EmployeeName                                        JobTitle  \\\n0   1     NATHANIEL FORD  GENERAL MANAGER-METROPOLITAN TRANSIT AUTHORITY   \n1   2       GARY JIMENEZ                 CAPTAIN III (POLICE DEPARTMENT)   \n2   3     ALBERT PARDINI                 CAPTAIN III (POLICE DEPARTMENT)   \n3   4  CHRISTOPHER CHONG            WIRE ROPE CABLE MAINTENANCE MECHANIC   \n4   5    PATRICK GARDNER    DEPUTY CHIEF OF DEPARTMENT,(FIRE DEPARTMENT)   \n\n     BasePay OvertimePay   OtherPay Benefits   TotalPay  TotalPayBenefits  \\\n0  167411.18         0.0  400184.25      NaN  567595.43         567595.43   \n1  155966.02   245131.88  137811.38      NaN  538909.28         538909.28   \n2  212739.13   106088.18    16452.6      NaN  335279.91         335279.91   \n3    77916.0    56120.71   198306.9      NaN  332343.61         332343.61   \n4   134401.6      9737.0  182234.59      NaN  326373.19         326373.19   \n\n   Year  Notes         Agency Status  \n0  2011    NaN  San Francisco    NaN  \n1  2011    NaN  San Francisco    NaN  \n2  2011    NaN  San Francisco    NaN  \n3  2011    NaN  San Francisco    NaN  \n4  2011    NaN  San Francisco    NaN  ",
            "text/html": "<div>\n<style scoped>\n    .dataframe tbody tr th:only-of-type {\n        vertical-align: middle;\n    }\n\n    .dataframe tbody tr th {\n        vertical-align: top;\n    }\n\n    .dataframe thead th {\n        text-align: right;\n    }\n</style>\n<table border=\"1\" class=\"dataframe\">\n  <thead>\n    <tr style=\"text-align: right;\">\n      <th></th>\n      <th>Id</th>\n      <th>EmployeeName</th>\n      <th>JobTitle</th>\n      <th>BasePay</th>\n      <th>OvertimePay</th>\n      <th>OtherPay</th>\n      <th>Benefits</th>\n      <th>TotalPay</th>\n      <th>TotalPayBenefits</th>\n      <th>Year</th>\n      <th>Notes</th>\n      <th>Agency</th>\n      <th>Status</th>\n    </tr>\n  </thead>\n  <tbody>\n    <tr>\n      <th>0</th>\n      <td>1</td>\n      <td>NATHANIEL FORD</td>\n      <td>GENERAL MANAGER-METROPOLITAN TRANSIT AUTHORITY</td>\n      <td>167411.18</td>\n      <td>0.0</td>\n      <td>400184.25</td>\n      <td>NaN</td>\n      <td>567595.43</td>\n      <td>567595.43</td>\n      <td>2011</td>\n      <td>NaN</td>\n      <td>San Francisco</td>\n      <td>NaN</td>\n    </tr>\n    <tr>\n      <th>1</th>\n      <td>2</td>\n      <td>GARY JIMENEZ</td>\n      <td>CAPTAIN III (POLICE DEPARTMENT)</td>\n      <td>155966.02</td>\n      <td>245131.88</td>\n      <td>137811.38</td>\n      <td>NaN</td>\n      <td>538909.28</td>\n      <td>538909.28</td>\n      <td>2011</td>\n      <td>NaN</td>\n      <td>San Francisco</td>\n      <td>NaN</td>\n    </tr>\n    <tr>\n      <th>2</th>\n      <td>3</td>\n      <td>ALBERT PARDINI</td>\n      <td>CAPTAIN III (POLICE DEPARTMENT)</td>\n      <td>212739.13</td>\n      <td>106088.18</td>\n      <td>16452.6</td>\n      <td>NaN</td>\n      <td>335279.91</td>\n      <td>335279.91</td>\n      <td>2011</td>\n      <td>NaN</td>\n      <td>San Francisco</td>\n      <td>NaN</td>\n    </tr>\n    <tr>\n      <th>3</th>\n      <td>4</td>\n      <td>CHRISTOPHER CHONG</td>\n      <td>WIRE ROPE CABLE MAINTENANCE MECHANIC</td>\n      <td>77916.0</td>\n      <td>56120.71</td>\n      <td>198306.9</td>\n      <td>NaN</td>\n      <td>332343.61</td>\n      <td>332343.61</td>\n      <td>2011</td>\n      <td>NaN</td>\n      <td>San Francisco</td>\n      <td>NaN</td>\n    </tr>\n    <tr>\n      <th>4</th>\n      <td>5</td>\n      <td>PATRICK GARDNER</td>\n      <td>DEPUTY CHIEF OF DEPARTMENT,(FIRE DEPARTMENT)</td>\n      <td>134401.6</td>\n      <td>9737.0</td>\n      <td>182234.59</td>\n      <td>NaN</td>\n      <td>326373.19</td>\n      <td>326373.19</td>\n      <td>2011</td>\n      <td>NaN</td>\n      <td>San Francisco</td>\n      <td>NaN</td>\n    </tr>\n  </tbody>\n</table>\n</div>"
          },
          "metadata": {}
        }
      ],
      "execution_count": 187
    },
    {
      "cell_type": "code",
      "source": "sal.info()",
      "metadata": {
        "trusted": true
      },
      "outputs": [
        {
          "name": "stdout",
          "text": "<class 'pandas.core.frame.DataFrame'>\nRangeIndex: 148654 entries, 0 to 148653\nData columns (total 13 columns):\n #   Column            Non-Null Count   Dtype  \n---  ------            --------------   -----  \n 0   Id                148654 non-null  int64  \n 1   EmployeeName      148654 non-null  object \n 2   JobTitle          148654 non-null  object \n 3   BasePay           148654 non-null  float64\n 4   OvertimePay       148654 non-null  float64\n 5   OtherPay          148654 non-null  object \n 6   Benefits          112495 non-null  object \n 7   TotalPay          148654 non-null  float64\n 8   TotalPayBenefits  148654 non-null  float64\n 9   Year              148654 non-null  int64  \n 10  Notes             0 non-null       float64\n 11  Agency            148654 non-null  object \n 12  Status            38119 non-null   object \ndtypes: float64(5), int64(2), object(6)\nmemory usage: 11.3+ MB\n",
          "output_type": "stream"
        }
      ],
      "execution_count": 191
    },
    {
      "cell_type": "code",
      "source": "sal['BasePay'].mean()\n",
      "metadata": {
        "trusted": true
      },
      "outputs": [
        {
          "execution_count": 192,
          "output_type": "execute_result",
          "data": {
            "text/plain": "66053.73338483997"
          },
          "metadata": {}
        }
      ],
      "execution_count": 192
    },
    {
      "cell_type": "code",
      "source": "sal['BasePay'] = sal['BasePay'].replace(to_replace = 'Not Provided',value = np.nan).fillna(1)\nsal['BasePay'] = sal['BasePay'].astype('float')",
      "metadata": {
        "trusted": true
      },
      "outputs": [],
      "execution_count": 189
    },
    {
      "cell_type": "code",
      "source": "\n",
      "metadata": {
        "trusted": true
      },
      "outputs": [
        {
          "execution_count": 190,
          "output_type": "execute_result",
          "data": {
            "text/plain": "245131.88"
          },
          "metadata": {}
        }
      ],
      "execution_count": 190
    },
    {
      "cell_type": "code",
      "source": "sal[sal['EmployeeName']=='JOSEPH DRISCOLL']['TotalPayBenefits']\n",
      "metadata": {
        "trusted": true
      },
      "outputs": [
        {
          "execution_count": 195,
          "output_type": "execute_result",
          "data": {
            "text/plain": "24    270324.91\nName: TotalPayBenefits, dtype: float64"
          },
          "metadata": {}
        }
      ],
      "execution_count": 195
    },
    {
      "cell_type": "code",
      "source": "sal[sal['TotalPayBenefits'] == sal['TotalPayBenefits'].max()]['EmployeeName']\n",
      "metadata": {
        "trusted": true
      },
      "outputs": [
        {
          "execution_count": 194,
          "output_type": "execute_result",
          "data": {
            "text/plain": "0    NATHANIEL FORD\nName: EmployeeName, dtype: object"
          },
          "metadata": {}
        }
      ],
      "execution_count": 194
    },
    {
      "cell_type": "code",
      "source": "sal[sal['TotalPayBenefits'] == sal['TotalPayBenefits'].min()]['EmployeeName']\n# Yes, the lowest paid person appears to have negative total pay.\n",
      "metadata": {
        "trusted": true
      },
      "outputs": [
        {
          "execution_count": 158,
          "output_type": "execute_result",
          "data": {
            "text/plain": "148653    Joe Lopez\nName: EmployeeName, dtype: object"
          },
          "metadata": {}
        }
      ],
      "execution_count": 158
    },
    {
      "cell_type": "code",
      "source": "sal.groupby('Year').mean()['BasePay']\n",
      "metadata": {
        "trusted": true
      },
      "outputs": [
        {
          "name": "stderr",
          "text": "<ipython-input-161-a42aa5aba483>:1: FutureWarning: The default value of numeric_only in DataFrameGroupBy.mean is deprecated. In a future version, numeric_only will default to False. Either specify numeric_only or select only columns which should be valid for the function.\n  sal.groupby('Year').mean()['BasePay']\n",
          "output_type": "stream"
        },
        {
          "execution_count": 161,
          "output_type": "execute_result",
          "data": {
            "text/plain": "Year\n2011    63595.956517\n2012    65436.406857\n2013    68509.848243\n2014    66557.437855\nName: BasePay, dtype: float64"
          },
          "metadata": {}
        }
      ],
      "execution_count": 161
    },
    {
      "cell_type": "code",
      "source": "sal['JobTitle'].nunique()\n",
      "metadata": {
        "trusted": true
      },
      "outputs": [
        {
          "execution_count": 162,
          "output_type": "execute_result",
          "data": {
            "text/plain": "2159"
          },
          "metadata": {}
        }
      ],
      "execution_count": 162
    },
    {
      "cell_type": "code",
      "source": "sal['JobTitle'].value_counts().tail(5)\n",
      "metadata": {
        "trusted": true
      },
      "outputs": [
        {
          "execution_count": 196,
          "output_type": "execute_result",
          "data": {
            "text/plain": "CHIEF HOUSING INSPECTOR                           1\nTRAFFIC SIGNAL OPERATOR                           1\nCOURT COMPUTER FACILITIES COORDINATOR             1\nAUTOMOTIVE BODY AND FENDER WORKER SUPERVISOR I    1\nVICTIM & WITNESS TECHNICIAN                       1\nName: JobTitle, dtype: int64"
          },
          "metadata": {}
        }
      ],
      "execution_count": 196
    },
    {
      "cell_type": "code",
      "source": "sum(sal[sal['Year'] == 2013]['JobTitle'].value_counts() == 1)",
      "metadata": {
        "trusted": true
      },
      "outputs": [
        {
          "execution_count": 200,
          "output_type": "execute_result",
          "data": {
            "text/plain": "202"
          },
          "metadata": {}
        }
      ],
      "execution_count": 200
    },
    {
      "cell_type": "code",
      "source": "sum(sal['JobTitle'].apply(lambda x: 'chief' in x.lower()))\n",
      "metadata": {
        "trusted": true
      },
      "outputs": [
        {
          "execution_count": 165,
          "output_type": "execute_result",
          "data": {
            "text/plain": "627"
          },
          "metadata": {}
        }
      ],
      "execution_count": 165
    },
    {
      "cell_type": "code",
      "source": "sal['title_len'] = sal['JobTitle'].apply(len)\nsal[['title_len', 'TotalPayBenefits']].corr()",
      "metadata": {
        "trusted": true
      },
      "outputs": [
        {
          "execution_count": 166,
          "output_type": "execute_result",
          "data": {
            "text/plain": "                  title_len  TotalPayBenefits\ntitle_len          1.000000         -0.036878\nTotalPayBenefits  -0.036878          1.000000",
            "text/html": "<div>\n<style scoped>\n    .dataframe tbody tr th:only-of-type {\n        vertical-align: middle;\n    }\n\n    .dataframe tbody tr th {\n        vertical-align: top;\n    }\n\n    .dataframe thead th {\n        text-align: right;\n    }\n</style>\n<table border=\"1\" class=\"dataframe\">\n  <thead>\n    <tr style=\"text-align: right;\">\n      <th></th>\n      <th>title_len</th>\n      <th>TotalPayBenefits</th>\n    </tr>\n  </thead>\n  <tbody>\n    <tr>\n      <th>title_len</th>\n      <td>1.000000</td>\n      <td>-0.036878</td>\n    </tr>\n    <tr>\n      <th>TotalPayBenefits</th>\n      <td>-0.036878</td>\n      <td>1.000000</td>\n    </tr>\n  </tbody>\n</table>\n</div>"
          },
          "metadata": {}
        }
      ],
      "execution_count": 166
    },
    {
      "cell_type": "code",
      "source": "df  = pd.read_csv('Salaries.csv')",
      "metadata": {
        "trusted": true
      },
      "outputs": [
        {
          "name": "stderr",
          "text": "<ipython-input-248-21b9523d7ca3>:1: DtypeWarning: Columns (3,4,5,6,12) have mixed types. Specify dtype option on import or set low_memory=False.\n  df  = pd.read_csv('Salaries.csv')\n",
          "output_type": "stream"
        }
      ],
      "execution_count": 248
    },
    {
      "cell_type": "code",
      "source": "df = df.replace(to_replace = 'Not Provided', value = np.nan)\n",
      "metadata": {
        "trusted": true
      },
      "outputs": [],
      "execution_count": 249
    },
    {
      "cell_type": "code",
      "source": "df.fillna(method = 'ffill')\ndf.fillna(method = 'bfill')\ndf.fillna(5)",
      "metadata": {
        "trusted": true
      },
      "outputs": [
        {
          "execution_count": 250,
          "output_type": "execute_result",
          "data": {
            "text/plain": "            Id       EmployeeName  \\\n0            1     NATHANIEL FORD   \n1            2       GARY JIMENEZ   \n2            3     ALBERT PARDINI   \n3            4  CHRISTOPHER CHONG   \n4            5    PATRICK GARDNER   \n...        ...                ...   \n148649  148650      Roy I Tillery   \n148650  148651       Not provided   \n148651  148652       Not provided   \n148652  148653       Not provided   \n148653  148654          Joe Lopez   \n\n                                              JobTitle    BasePay OvertimePay  \\\n0       GENERAL MANAGER-METROPOLITAN TRANSIT AUTHORITY  167411.18         0.0   \n1                      CAPTAIN III (POLICE DEPARTMENT)  155966.02   245131.88   \n2                      CAPTAIN III (POLICE DEPARTMENT)  212739.13   106088.18   \n3                 WIRE ROPE CABLE MAINTENANCE MECHANIC    77916.0    56120.71   \n4         DEPUTY CHIEF OF DEPARTMENT,(FIRE DEPARTMENT)   134401.6      9737.0   \n...                                                ...        ...         ...   \n148649                                       Custodian       0.00        0.00   \n148650                                    Not provided          5           5   \n148651                                    Not provided          5           5   \n148652                                    Not provided          5           5   \n148653                      Counselor, Log Cabin Ranch       0.00        0.00   \n\n         OtherPay Benefits   TotalPay  TotalPayBenefits  Year  Notes  \\\n0       400184.25        5  567595.43         567595.43  2011    5.0   \n1       137811.38        5  538909.28         538909.28  2011    5.0   \n2         16452.6        5  335279.91         335279.91  2011    5.0   \n3        198306.9        5  332343.61         332343.61  2011    5.0   \n4       182234.59        5  326373.19         326373.19  2011    5.0   \n...           ...      ...        ...               ...   ...    ...   \n148649       0.00     0.00       0.00              0.00  2014    5.0   \n148650          5        5       0.00              0.00  2014    5.0   \n148651          5        5       0.00              0.00  2014    5.0   \n148652          5        5       0.00              0.00  2014    5.0   \n148653    -618.13     0.00    -618.13           -618.13  2014    5.0   \n\n               Agency Status  \n0       San Francisco      5  \n1       San Francisco      5  \n2       San Francisco      5  \n3       San Francisco      5  \n4       San Francisco      5  \n...               ...    ...  \n148649  San Francisco     PT  \n148650  San Francisco      5  \n148651  San Francisco      5  \n148652  San Francisco      5  \n148653  San Francisco     PT  \n\n[148654 rows x 13 columns]",
            "text/html": "<div>\n<style scoped>\n    .dataframe tbody tr th:only-of-type {\n        vertical-align: middle;\n    }\n\n    .dataframe tbody tr th {\n        vertical-align: top;\n    }\n\n    .dataframe thead th {\n        text-align: right;\n    }\n</style>\n<table border=\"1\" class=\"dataframe\">\n  <thead>\n    <tr style=\"text-align: right;\">\n      <th></th>\n      <th>Id</th>\n      <th>EmployeeName</th>\n      <th>JobTitle</th>\n      <th>BasePay</th>\n      <th>OvertimePay</th>\n      <th>OtherPay</th>\n      <th>Benefits</th>\n      <th>TotalPay</th>\n      <th>TotalPayBenefits</th>\n      <th>Year</th>\n      <th>Notes</th>\n      <th>Agency</th>\n      <th>Status</th>\n    </tr>\n  </thead>\n  <tbody>\n    <tr>\n      <th>0</th>\n      <td>1</td>\n      <td>NATHANIEL FORD</td>\n      <td>GENERAL MANAGER-METROPOLITAN TRANSIT AUTHORITY</td>\n      <td>167411.18</td>\n      <td>0.0</td>\n      <td>400184.25</td>\n      <td>5</td>\n      <td>567595.43</td>\n      <td>567595.43</td>\n      <td>2011</td>\n      <td>5.0</td>\n      <td>San Francisco</td>\n      <td>5</td>\n    </tr>\n    <tr>\n      <th>1</th>\n      <td>2</td>\n      <td>GARY JIMENEZ</td>\n      <td>CAPTAIN III (POLICE DEPARTMENT)</td>\n      <td>155966.02</td>\n      <td>245131.88</td>\n      <td>137811.38</td>\n      <td>5</td>\n      <td>538909.28</td>\n      <td>538909.28</td>\n      <td>2011</td>\n      <td>5.0</td>\n      <td>San Francisco</td>\n      <td>5</td>\n    </tr>\n    <tr>\n      <th>2</th>\n      <td>3</td>\n      <td>ALBERT PARDINI</td>\n      <td>CAPTAIN III (POLICE DEPARTMENT)</td>\n      <td>212739.13</td>\n      <td>106088.18</td>\n      <td>16452.6</td>\n      <td>5</td>\n      <td>335279.91</td>\n      <td>335279.91</td>\n      <td>2011</td>\n      <td>5.0</td>\n      <td>San Francisco</td>\n      <td>5</td>\n    </tr>\n    <tr>\n      <th>3</th>\n      <td>4</td>\n      <td>CHRISTOPHER CHONG</td>\n      <td>WIRE ROPE CABLE MAINTENANCE MECHANIC</td>\n      <td>77916.0</td>\n      <td>56120.71</td>\n      <td>198306.9</td>\n      <td>5</td>\n      <td>332343.61</td>\n      <td>332343.61</td>\n      <td>2011</td>\n      <td>5.0</td>\n      <td>San Francisco</td>\n      <td>5</td>\n    </tr>\n    <tr>\n      <th>4</th>\n      <td>5</td>\n      <td>PATRICK GARDNER</td>\n      <td>DEPUTY CHIEF OF DEPARTMENT,(FIRE DEPARTMENT)</td>\n      <td>134401.6</td>\n      <td>9737.0</td>\n      <td>182234.59</td>\n      <td>5</td>\n      <td>326373.19</td>\n      <td>326373.19</td>\n      <td>2011</td>\n      <td>5.0</td>\n      <td>San Francisco</td>\n      <td>5</td>\n    </tr>\n    <tr>\n      <th>...</th>\n      <td>...</td>\n      <td>...</td>\n      <td>...</td>\n      <td>...</td>\n      <td>...</td>\n      <td>...</td>\n      <td>...</td>\n      <td>...</td>\n      <td>...</td>\n      <td>...</td>\n      <td>...</td>\n      <td>...</td>\n      <td>...</td>\n    </tr>\n    <tr>\n      <th>148649</th>\n      <td>148650</td>\n      <td>Roy I Tillery</td>\n      <td>Custodian</td>\n      <td>0.00</td>\n      <td>0.00</td>\n      <td>0.00</td>\n      <td>0.00</td>\n      <td>0.00</td>\n      <td>0.00</td>\n      <td>2014</td>\n      <td>5.0</td>\n      <td>San Francisco</td>\n      <td>PT</td>\n    </tr>\n    <tr>\n      <th>148650</th>\n      <td>148651</td>\n      <td>Not provided</td>\n      <td>Not provided</td>\n      <td>5</td>\n      <td>5</td>\n      <td>5</td>\n      <td>5</td>\n      <td>0.00</td>\n      <td>0.00</td>\n      <td>2014</td>\n      <td>5.0</td>\n      <td>San Francisco</td>\n      <td>5</td>\n    </tr>\n    <tr>\n      <th>148651</th>\n      <td>148652</td>\n      <td>Not provided</td>\n      <td>Not provided</td>\n      <td>5</td>\n      <td>5</td>\n      <td>5</td>\n      <td>5</td>\n      <td>0.00</td>\n      <td>0.00</td>\n      <td>2014</td>\n      <td>5.0</td>\n      <td>San Francisco</td>\n      <td>5</td>\n    </tr>\n    <tr>\n      <th>148652</th>\n      <td>148653</td>\n      <td>Not provided</td>\n      <td>Not provided</td>\n      <td>5</td>\n      <td>5</td>\n      <td>5</td>\n      <td>5</td>\n      <td>0.00</td>\n      <td>0.00</td>\n      <td>2014</td>\n      <td>5.0</td>\n      <td>San Francisco</td>\n      <td>5</td>\n    </tr>\n    <tr>\n      <th>148653</th>\n      <td>148654</td>\n      <td>Joe Lopez</td>\n      <td>Counselor, Log Cabin Ranch</td>\n      <td>0.00</td>\n      <td>0.00</td>\n      <td>-618.13</td>\n      <td>0.00</td>\n      <td>-618.13</td>\n      <td>-618.13</td>\n      <td>2014</td>\n      <td>5.0</td>\n      <td>San Francisco</td>\n      <td>PT</td>\n    </tr>\n  </tbody>\n</table>\n<p>148654 rows × 13 columns</p>\n</div>"
          },
          "metadata": {}
        }
      ],
      "execution_count": 250
    },
    {
      "cell_type": "code",
      "source": "df[\"EmployeeName\"] = df['EmployeeName'].replace(to_replace= \"Not Provided\", value = np.nan)\ndf[\"EmployeeName\"] = df['EmployeeName'].replace(to_replace= \"Not provided\", value = np.nan)",
      "metadata": {
        "trusted": true
      },
      "outputs": [],
      "execution_count": 263
    },
    {
      "cell_type": "code",
      "source": "df['EmployeeName'] = df['EmployeeName'].fillna(method = 'ffill')",
      "metadata": {
        "trusted": true
      },
      "outputs": [],
      "execution_count": 265
    },
    {
      "cell_type": "code",
      "source": "df",
      "metadata": {
        "trusted": true
      },
      "outputs": [
        {
          "execution_count": 266,
          "output_type": "execute_result",
          "data": {
            "text/plain": "            Id       EmployeeName  \\\n0            1     NATHANIEL FORD   \n1            2       GARY JIMENEZ   \n2            3     ALBERT PARDINI   \n3            4  CHRISTOPHER CHONG   \n4            5    PATRICK GARDNER   \n...        ...                ...   \n148649  148650      Roy I Tillery   \n148650  148651      Roy I Tillery   \n148651  148652      Roy I Tillery   \n148652  148653      Roy I Tillery   \n148653  148654          Joe Lopez   \n\n                                              JobTitle    BasePay OvertimePay  \\\n0       GENERAL MANAGER-METROPOLITAN TRANSIT AUTHORITY  167411.18         0.0   \n1                      CAPTAIN III (POLICE DEPARTMENT)  155966.02   245131.88   \n2                      CAPTAIN III (POLICE DEPARTMENT)  212739.13   106088.18   \n3                 WIRE ROPE CABLE MAINTENANCE MECHANIC    77916.0    56120.71   \n4         DEPUTY CHIEF OF DEPARTMENT,(FIRE DEPARTMENT)   134401.6      9737.0   \n...                                                ...        ...         ...   \n148649                                       Custodian       0.00        0.00   \n148650                                    Not provided        NaN         NaN   \n148651                                    Not provided        NaN         NaN   \n148652                                    Not provided        NaN         NaN   \n148653                      Counselor, Log Cabin Ranch       0.00        0.00   \n\n         OtherPay Benefits   TotalPay  TotalPayBenefits  Year  Notes  \\\n0       400184.25      NaN  567595.43         567595.43  2011    NaN   \n1       137811.38      NaN  538909.28         538909.28  2011    NaN   \n2         16452.6      NaN  335279.91         335279.91  2011    NaN   \n3        198306.9      NaN  332343.61         332343.61  2011    NaN   \n4       182234.59      NaN  326373.19         326373.19  2011    NaN   \n...           ...      ...        ...               ...   ...    ...   \n148649       0.00     0.00       0.00              0.00  2014    NaN   \n148650        NaN      NaN       0.00              0.00  2014    NaN   \n148651        NaN      NaN       0.00              0.00  2014    NaN   \n148652        NaN      NaN       0.00              0.00  2014    NaN   \n148653    -618.13     0.00    -618.13           -618.13  2014    NaN   \n\n               Agency Status  \n0       San Francisco    NaN  \n1       San Francisco    NaN  \n2       San Francisco    NaN  \n3       San Francisco    NaN  \n4       San Francisco    NaN  \n...               ...    ...  \n148649  San Francisco     PT  \n148650  San Francisco    NaN  \n148651  San Francisco    NaN  \n148652  San Francisco    NaN  \n148653  San Francisco     PT  \n\n[148654 rows x 13 columns]",
            "text/html": "<div>\n<style scoped>\n    .dataframe tbody tr th:only-of-type {\n        vertical-align: middle;\n    }\n\n    .dataframe tbody tr th {\n        vertical-align: top;\n    }\n\n    .dataframe thead th {\n        text-align: right;\n    }\n</style>\n<table border=\"1\" class=\"dataframe\">\n  <thead>\n    <tr style=\"text-align: right;\">\n      <th></th>\n      <th>Id</th>\n      <th>EmployeeName</th>\n      <th>JobTitle</th>\n      <th>BasePay</th>\n      <th>OvertimePay</th>\n      <th>OtherPay</th>\n      <th>Benefits</th>\n      <th>TotalPay</th>\n      <th>TotalPayBenefits</th>\n      <th>Year</th>\n      <th>Notes</th>\n      <th>Agency</th>\n      <th>Status</th>\n    </tr>\n  </thead>\n  <tbody>\n    <tr>\n      <th>0</th>\n      <td>1</td>\n      <td>NATHANIEL FORD</td>\n      <td>GENERAL MANAGER-METROPOLITAN TRANSIT AUTHORITY</td>\n      <td>167411.18</td>\n      <td>0.0</td>\n      <td>400184.25</td>\n      <td>NaN</td>\n      <td>567595.43</td>\n      <td>567595.43</td>\n      <td>2011</td>\n      <td>NaN</td>\n      <td>San Francisco</td>\n      <td>NaN</td>\n    </tr>\n    <tr>\n      <th>1</th>\n      <td>2</td>\n      <td>GARY JIMENEZ</td>\n      <td>CAPTAIN III (POLICE DEPARTMENT)</td>\n      <td>155966.02</td>\n      <td>245131.88</td>\n      <td>137811.38</td>\n      <td>NaN</td>\n      <td>538909.28</td>\n      <td>538909.28</td>\n      <td>2011</td>\n      <td>NaN</td>\n      <td>San Francisco</td>\n      <td>NaN</td>\n    </tr>\n    <tr>\n      <th>2</th>\n      <td>3</td>\n      <td>ALBERT PARDINI</td>\n      <td>CAPTAIN III (POLICE DEPARTMENT)</td>\n      <td>212739.13</td>\n      <td>106088.18</td>\n      <td>16452.6</td>\n      <td>NaN</td>\n      <td>335279.91</td>\n      <td>335279.91</td>\n      <td>2011</td>\n      <td>NaN</td>\n      <td>San Francisco</td>\n      <td>NaN</td>\n    </tr>\n    <tr>\n      <th>3</th>\n      <td>4</td>\n      <td>CHRISTOPHER CHONG</td>\n      <td>WIRE ROPE CABLE MAINTENANCE MECHANIC</td>\n      <td>77916.0</td>\n      <td>56120.71</td>\n      <td>198306.9</td>\n      <td>NaN</td>\n      <td>332343.61</td>\n      <td>332343.61</td>\n      <td>2011</td>\n      <td>NaN</td>\n      <td>San Francisco</td>\n      <td>NaN</td>\n    </tr>\n    <tr>\n      <th>4</th>\n      <td>5</td>\n      <td>PATRICK GARDNER</td>\n      <td>DEPUTY CHIEF OF DEPARTMENT,(FIRE DEPARTMENT)</td>\n      <td>134401.6</td>\n      <td>9737.0</td>\n      <td>182234.59</td>\n      <td>NaN</td>\n      <td>326373.19</td>\n      <td>326373.19</td>\n      <td>2011</td>\n      <td>NaN</td>\n      <td>San Francisco</td>\n      <td>NaN</td>\n    </tr>\n    <tr>\n      <th>...</th>\n      <td>...</td>\n      <td>...</td>\n      <td>...</td>\n      <td>...</td>\n      <td>...</td>\n      <td>...</td>\n      <td>...</td>\n      <td>...</td>\n      <td>...</td>\n      <td>...</td>\n      <td>...</td>\n      <td>...</td>\n      <td>...</td>\n    </tr>\n    <tr>\n      <th>148649</th>\n      <td>148650</td>\n      <td>Roy I Tillery</td>\n      <td>Custodian</td>\n      <td>0.00</td>\n      <td>0.00</td>\n      <td>0.00</td>\n      <td>0.00</td>\n      <td>0.00</td>\n      <td>0.00</td>\n      <td>2014</td>\n      <td>NaN</td>\n      <td>San Francisco</td>\n      <td>PT</td>\n    </tr>\n    <tr>\n      <th>148650</th>\n      <td>148651</td>\n      <td>Roy I Tillery</td>\n      <td>Not provided</td>\n      <td>NaN</td>\n      <td>NaN</td>\n      <td>NaN</td>\n      <td>NaN</td>\n      <td>0.00</td>\n      <td>0.00</td>\n      <td>2014</td>\n      <td>NaN</td>\n      <td>San Francisco</td>\n      <td>NaN</td>\n    </tr>\n    <tr>\n      <th>148651</th>\n      <td>148652</td>\n      <td>Roy I Tillery</td>\n      <td>Not provided</td>\n      <td>NaN</td>\n      <td>NaN</td>\n      <td>NaN</td>\n      <td>NaN</td>\n      <td>0.00</td>\n      <td>0.00</td>\n      <td>2014</td>\n      <td>NaN</td>\n      <td>San Francisco</td>\n      <td>NaN</td>\n    </tr>\n    <tr>\n      <th>148652</th>\n      <td>148653</td>\n      <td>Roy I Tillery</td>\n      <td>Not provided</td>\n      <td>NaN</td>\n      <td>NaN</td>\n      <td>NaN</td>\n      <td>NaN</td>\n      <td>0.00</td>\n      <td>0.00</td>\n      <td>2014</td>\n      <td>NaN</td>\n      <td>San Francisco</td>\n      <td>NaN</td>\n    </tr>\n    <tr>\n      <th>148653</th>\n      <td>148654</td>\n      <td>Joe Lopez</td>\n      <td>Counselor, Log Cabin Ranch</td>\n      <td>0.00</td>\n      <td>0.00</td>\n      <td>-618.13</td>\n      <td>0.00</td>\n      <td>-618.13</td>\n      <td>-618.13</td>\n      <td>2014</td>\n      <td>NaN</td>\n      <td>San Francisco</td>\n      <td>PT</td>\n    </tr>\n  </tbody>\n</table>\n<p>148654 rows × 13 columns</p>\n</div>"
          },
          "metadata": {}
        }
      ],
      "execution_count": 266
    },
    {
      "cell_type": "code",
      "source": "df[\"JobTitle\"] = df['JobTitle'].replace(to_replace= \"Not provided\", value = np.nan)\ndf['JobTitle'] = df['JobTitle'].fillna(method = 'ffill')",
      "metadata": {
        "trusted": true
      },
      "outputs": [],
      "execution_count": 269
    },
    {
      "cell_type": "code",
      "source": "df",
      "metadata": {
        "trusted": true
      },
      "outputs": [
        {
          "execution_count": 270,
          "output_type": "execute_result",
          "data": {
            "text/plain": "            Id       EmployeeName  \\\n0            1     NATHANIEL FORD   \n1            2       GARY JIMENEZ   \n2            3     ALBERT PARDINI   \n3            4  CHRISTOPHER CHONG   \n4            5    PATRICK GARDNER   \n...        ...                ...   \n148649  148650      Roy I Tillery   \n148650  148651      Roy I Tillery   \n148651  148652      Roy I Tillery   \n148652  148653      Roy I Tillery   \n148653  148654          Joe Lopez   \n\n                                              JobTitle    BasePay OvertimePay  \\\n0       GENERAL MANAGER-METROPOLITAN TRANSIT AUTHORITY  167411.18         0.0   \n1                      CAPTAIN III (POLICE DEPARTMENT)  155966.02   245131.88   \n2                      CAPTAIN III (POLICE DEPARTMENT)  212739.13   106088.18   \n3                 WIRE ROPE CABLE MAINTENANCE MECHANIC    77916.0    56120.71   \n4         DEPUTY CHIEF OF DEPARTMENT,(FIRE DEPARTMENT)   134401.6      9737.0   \n...                                                ...        ...         ...   \n148649                                       Custodian       0.00        0.00   \n148650                                       Custodian        NaN         NaN   \n148651                                       Custodian        NaN         NaN   \n148652                                       Custodian        NaN         NaN   \n148653                      Counselor, Log Cabin Ranch       0.00        0.00   \n\n         OtherPay Benefits   TotalPay  TotalPayBenefits  Year  Notes  \\\n0       400184.25      NaN  567595.43         567595.43  2011    NaN   \n1       137811.38      NaN  538909.28         538909.28  2011    NaN   \n2         16452.6      NaN  335279.91         335279.91  2011    NaN   \n3        198306.9      NaN  332343.61         332343.61  2011    NaN   \n4       182234.59      NaN  326373.19         326373.19  2011    NaN   \n...           ...      ...        ...               ...   ...    ...   \n148649       0.00     0.00       0.00              0.00  2014    NaN   \n148650        NaN      NaN       0.00              0.00  2014    NaN   \n148651        NaN      NaN       0.00              0.00  2014    NaN   \n148652        NaN      NaN       0.00              0.00  2014    NaN   \n148653    -618.13     0.00    -618.13           -618.13  2014    NaN   \n\n               Agency Status  \n0       San Francisco    NaN  \n1       San Francisco    NaN  \n2       San Francisco    NaN  \n3       San Francisco    NaN  \n4       San Francisco    NaN  \n...               ...    ...  \n148649  San Francisco     PT  \n148650  San Francisco    NaN  \n148651  San Francisco    NaN  \n148652  San Francisco    NaN  \n148653  San Francisco     PT  \n\n[148654 rows x 13 columns]",
            "text/html": "<div>\n<style scoped>\n    .dataframe tbody tr th:only-of-type {\n        vertical-align: middle;\n    }\n\n    .dataframe tbody tr th {\n        vertical-align: top;\n    }\n\n    .dataframe thead th {\n        text-align: right;\n    }\n</style>\n<table border=\"1\" class=\"dataframe\">\n  <thead>\n    <tr style=\"text-align: right;\">\n      <th></th>\n      <th>Id</th>\n      <th>EmployeeName</th>\n      <th>JobTitle</th>\n      <th>BasePay</th>\n      <th>OvertimePay</th>\n      <th>OtherPay</th>\n      <th>Benefits</th>\n      <th>TotalPay</th>\n      <th>TotalPayBenefits</th>\n      <th>Year</th>\n      <th>Notes</th>\n      <th>Agency</th>\n      <th>Status</th>\n    </tr>\n  </thead>\n  <tbody>\n    <tr>\n      <th>0</th>\n      <td>1</td>\n      <td>NATHANIEL FORD</td>\n      <td>GENERAL MANAGER-METROPOLITAN TRANSIT AUTHORITY</td>\n      <td>167411.18</td>\n      <td>0.0</td>\n      <td>400184.25</td>\n      <td>NaN</td>\n      <td>567595.43</td>\n      <td>567595.43</td>\n      <td>2011</td>\n      <td>NaN</td>\n      <td>San Francisco</td>\n      <td>NaN</td>\n    </tr>\n    <tr>\n      <th>1</th>\n      <td>2</td>\n      <td>GARY JIMENEZ</td>\n      <td>CAPTAIN III (POLICE DEPARTMENT)</td>\n      <td>155966.02</td>\n      <td>245131.88</td>\n      <td>137811.38</td>\n      <td>NaN</td>\n      <td>538909.28</td>\n      <td>538909.28</td>\n      <td>2011</td>\n      <td>NaN</td>\n      <td>San Francisco</td>\n      <td>NaN</td>\n    </tr>\n    <tr>\n      <th>2</th>\n      <td>3</td>\n      <td>ALBERT PARDINI</td>\n      <td>CAPTAIN III (POLICE DEPARTMENT)</td>\n      <td>212739.13</td>\n      <td>106088.18</td>\n      <td>16452.6</td>\n      <td>NaN</td>\n      <td>335279.91</td>\n      <td>335279.91</td>\n      <td>2011</td>\n      <td>NaN</td>\n      <td>San Francisco</td>\n      <td>NaN</td>\n    </tr>\n    <tr>\n      <th>3</th>\n      <td>4</td>\n      <td>CHRISTOPHER CHONG</td>\n      <td>WIRE ROPE CABLE MAINTENANCE MECHANIC</td>\n      <td>77916.0</td>\n      <td>56120.71</td>\n      <td>198306.9</td>\n      <td>NaN</td>\n      <td>332343.61</td>\n      <td>332343.61</td>\n      <td>2011</td>\n      <td>NaN</td>\n      <td>San Francisco</td>\n      <td>NaN</td>\n    </tr>\n    <tr>\n      <th>4</th>\n      <td>5</td>\n      <td>PATRICK GARDNER</td>\n      <td>DEPUTY CHIEF OF DEPARTMENT,(FIRE DEPARTMENT)</td>\n      <td>134401.6</td>\n      <td>9737.0</td>\n      <td>182234.59</td>\n      <td>NaN</td>\n      <td>326373.19</td>\n      <td>326373.19</td>\n      <td>2011</td>\n      <td>NaN</td>\n      <td>San Francisco</td>\n      <td>NaN</td>\n    </tr>\n    <tr>\n      <th>...</th>\n      <td>...</td>\n      <td>...</td>\n      <td>...</td>\n      <td>...</td>\n      <td>...</td>\n      <td>...</td>\n      <td>...</td>\n      <td>...</td>\n      <td>...</td>\n      <td>...</td>\n      <td>...</td>\n      <td>...</td>\n      <td>...</td>\n    </tr>\n    <tr>\n      <th>148649</th>\n      <td>148650</td>\n      <td>Roy I Tillery</td>\n      <td>Custodian</td>\n      <td>0.00</td>\n      <td>0.00</td>\n      <td>0.00</td>\n      <td>0.00</td>\n      <td>0.00</td>\n      <td>0.00</td>\n      <td>2014</td>\n      <td>NaN</td>\n      <td>San Francisco</td>\n      <td>PT</td>\n    </tr>\n    <tr>\n      <th>148650</th>\n      <td>148651</td>\n      <td>Roy I Tillery</td>\n      <td>Custodian</td>\n      <td>NaN</td>\n      <td>NaN</td>\n      <td>NaN</td>\n      <td>NaN</td>\n      <td>0.00</td>\n      <td>0.00</td>\n      <td>2014</td>\n      <td>NaN</td>\n      <td>San Francisco</td>\n      <td>NaN</td>\n    </tr>\n    <tr>\n      <th>148651</th>\n      <td>148652</td>\n      <td>Roy I Tillery</td>\n      <td>Custodian</td>\n      <td>NaN</td>\n      <td>NaN</td>\n      <td>NaN</td>\n      <td>NaN</td>\n      <td>0.00</td>\n      <td>0.00</td>\n      <td>2014</td>\n      <td>NaN</td>\n      <td>San Francisco</td>\n      <td>NaN</td>\n    </tr>\n    <tr>\n      <th>148652</th>\n      <td>148653</td>\n      <td>Roy I Tillery</td>\n      <td>Custodian</td>\n      <td>NaN</td>\n      <td>NaN</td>\n      <td>NaN</td>\n      <td>NaN</td>\n      <td>0.00</td>\n      <td>0.00</td>\n      <td>2014</td>\n      <td>NaN</td>\n      <td>San Francisco</td>\n      <td>NaN</td>\n    </tr>\n    <tr>\n      <th>148653</th>\n      <td>148654</td>\n      <td>Joe Lopez</td>\n      <td>Counselor, Log Cabin Ranch</td>\n      <td>0.00</td>\n      <td>0.00</td>\n      <td>-618.13</td>\n      <td>0.00</td>\n      <td>-618.13</td>\n      <td>-618.13</td>\n      <td>2014</td>\n      <td>NaN</td>\n      <td>San Francisco</td>\n      <td>PT</td>\n    </tr>\n  </tbody>\n</table>\n<p>148654 rows × 13 columns</p>\n</div>"
          },
          "metadata": {}
        }
      ],
      "execution_count": 270
    },
    {
      "cell_type": "code",
      "source": "df = df.replace(to_replace = 'Not Provided', value = np.nan)\ndf.fillna(method = 'ffill')\ndf.fillna(method = 'bfill')\ndf.fillna(5)",
      "metadata": {
        "trusted": true
      },
      "outputs": [
        {
          "execution_count": 272,
          "output_type": "execute_result",
          "data": {
            "text/plain": "            Id       EmployeeName  \\\n0            1     NATHANIEL FORD   \n1            2       GARY JIMENEZ   \n2            3     ALBERT PARDINI   \n3            4  CHRISTOPHER CHONG   \n4            5    PATRICK GARDNER   \n...        ...                ...   \n148649  148650      Roy I Tillery   \n148650  148651      Roy I Tillery   \n148651  148652      Roy I Tillery   \n148652  148653      Roy I Tillery   \n148653  148654          Joe Lopez   \n\n                                              JobTitle    BasePay OvertimePay  \\\n0       GENERAL MANAGER-METROPOLITAN TRANSIT AUTHORITY  167411.18         0.0   \n1                      CAPTAIN III (POLICE DEPARTMENT)  155966.02   245131.88   \n2                      CAPTAIN III (POLICE DEPARTMENT)  212739.13   106088.18   \n3                 WIRE ROPE CABLE MAINTENANCE MECHANIC    77916.0    56120.71   \n4         DEPUTY CHIEF OF DEPARTMENT,(FIRE DEPARTMENT)   134401.6      9737.0   \n...                                                ...        ...         ...   \n148649                                       Custodian       0.00        0.00   \n148650                                       Custodian          5           5   \n148651                                       Custodian          5           5   \n148652                                       Custodian          5           5   \n148653                      Counselor, Log Cabin Ranch       0.00        0.00   \n\n         OtherPay Benefits   TotalPay  TotalPayBenefits  Year  Notes  \\\n0       400184.25        5  567595.43         567595.43  2011    5.0   \n1       137811.38        5  538909.28         538909.28  2011    5.0   \n2         16452.6        5  335279.91         335279.91  2011    5.0   \n3        198306.9        5  332343.61         332343.61  2011    5.0   \n4       182234.59        5  326373.19         326373.19  2011    5.0   \n...           ...      ...        ...               ...   ...    ...   \n148649       0.00     0.00       0.00              0.00  2014    5.0   \n148650          5        5       0.00              0.00  2014    5.0   \n148651          5        5       0.00              0.00  2014    5.0   \n148652          5        5       0.00              0.00  2014    5.0   \n148653    -618.13     0.00    -618.13           -618.13  2014    5.0   \n\n               Agency Status  \n0       San Francisco      5  \n1       San Francisco      5  \n2       San Francisco      5  \n3       San Francisco      5  \n4       San Francisco      5  \n...               ...    ...  \n148649  San Francisco     PT  \n148650  San Francisco      5  \n148651  San Francisco      5  \n148652  San Francisco      5  \n148653  San Francisco     PT  \n\n[148654 rows x 13 columns]",
            "text/html": "<div>\n<style scoped>\n    .dataframe tbody tr th:only-of-type {\n        vertical-align: middle;\n    }\n\n    .dataframe tbody tr th {\n        vertical-align: top;\n    }\n\n    .dataframe thead th {\n        text-align: right;\n    }\n</style>\n<table border=\"1\" class=\"dataframe\">\n  <thead>\n    <tr style=\"text-align: right;\">\n      <th></th>\n      <th>Id</th>\n      <th>EmployeeName</th>\n      <th>JobTitle</th>\n      <th>BasePay</th>\n      <th>OvertimePay</th>\n      <th>OtherPay</th>\n      <th>Benefits</th>\n      <th>TotalPay</th>\n      <th>TotalPayBenefits</th>\n      <th>Year</th>\n      <th>Notes</th>\n      <th>Agency</th>\n      <th>Status</th>\n    </tr>\n  </thead>\n  <tbody>\n    <tr>\n      <th>0</th>\n      <td>1</td>\n      <td>NATHANIEL FORD</td>\n      <td>GENERAL MANAGER-METROPOLITAN TRANSIT AUTHORITY</td>\n      <td>167411.18</td>\n      <td>0.0</td>\n      <td>400184.25</td>\n      <td>5</td>\n      <td>567595.43</td>\n      <td>567595.43</td>\n      <td>2011</td>\n      <td>5.0</td>\n      <td>San Francisco</td>\n      <td>5</td>\n    </tr>\n    <tr>\n      <th>1</th>\n      <td>2</td>\n      <td>GARY JIMENEZ</td>\n      <td>CAPTAIN III (POLICE DEPARTMENT)</td>\n      <td>155966.02</td>\n      <td>245131.88</td>\n      <td>137811.38</td>\n      <td>5</td>\n      <td>538909.28</td>\n      <td>538909.28</td>\n      <td>2011</td>\n      <td>5.0</td>\n      <td>San Francisco</td>\n      <td>5</td>\n    </tr>\n    <tr>\n      <th>2</th>\n      <td>3</td>\n      <td>ALBERT PARDINI</td>\n      <td>CAPTAIN III (POLICE DEPARTMENT)</td>\n      <td>212739.13</td>\n      <td>106088.18</td>\n      <td>16452.6</td>\n      <td>5</td>\n      <td>335279.91</td>\n      <td>335279.91</td>\n      <td>2011</td>\n      <td>5.0</td>\n      <td>San Francisco</td>\n      <td>5</td>\n    </tr>\n    <tr>\n      <th>3</th>\n      <td>4</td>\n      <td>CHRISTOPHER CHONG</td>\n      <td>WIRE ROPE CABLE MAINTENANCE MECHANIC</td>\n      <td>77916.0</td>\n      <td>56120.71</td>\n      <td>198306.9</td>\n      <td>5</td>\n      <td>332343.61</td>\n      <td>332343.61</td>\n      <td>2011</td>\n      <td>5.0</td>\n      <td>San Francisco</td>\n      <td>5</td>\n    </tr>\n    <tr>\n      <th>4</th>\n      <td>5</td>\n      <td>PATRICK GARDNER</td>\n      <td>DEPUTY CHIEF OF DEPARTMENT,(FIRE DEPARTMENT)</td>\n      <td>134401.6</td>\n      <td>9737.0</td>\n      <td>182234.59</td>\n      <td>5</td>\n      <td>326373.19</td>\n      <td>326373.19</td>\n      <td>2011</td>\n      <td>5.0</td>\n      <td>San Francisco</td>\n      <td>5</td>\n    </tr>\n    <tr>\n      <th>...</th>\n      <td>...</td>\n      <td>...</td>\n      <td>...</td>\n      <td>...</td>\n      <td>...</td>\n      <td>...</td>\n      <td>...</td>\n      <td>...</td>\n      <td>...</td>\n      <td>...</td>\n      <td>...</td>\n      <td>...</td>\n      <td>...</td>\n    </tr>\n    <tr>\n      <th>148649</th>\n      <td>148650</td>\n      <td>Roy I Tillery</td>\n      <td>Custodian</td>\n      <td>0.00</td>\n      <td>0.00</td>\n      <td>0.00</td>\n      <td>0.00</td>\n      <td>0.00</td>\n      <td>0.00</td>\n      <td>2014</td>\n      <td>5.0</td>\n      <td>San Francisco</td>\n      <td>PT</td>\n    </tr>\n    <tr>\n      <th>148650</th>\n      <td>148651</td>\n      <td>Roy I Tillery</td>\n      <td>Custodian</td>\n      <td>5</td>\n      <td>5</td>\n      <td>5</td>\n      <td>5</td>\n      <td>0.00</td>\n      <td>0.00</td>\n      <td>2014</td>\n      <td>5.0</td>\n      <td>San Francisco</td>\n      <td>5</td>\n    </tr>\n    <tr>\n      <th>148651</th>\n      <td>148652</td>\n      <td>Roy I Tillery</td>\n      <td>Custodian</td>\n      <td>5</td>\n      <td>5</td>\n      <td>5</td>\n      <td>5</td>\n      <td>0.00</td>\n      <td>0.00</td>\n      <td>2014</td>\n      <td>5.0</td>\n      <td>San Francisco</td>\n      <td>5</td>\n    </tr>\n    <tr>\n      <th>148652</th>\n      <td>148653</td>\n      <td>Roy I Tillery</td>\n      <td>Custodian</td>\n      <td>5</td>\n      <td>5</td>\n      <td>5</td>\n      <td>5</td>\n      <td>0.00</td>\n      <td>0.00</td>\n      <td>2014</td>\n      <td>5.0</td>\n      <td>San Francisco</td>\n      <td>5</td>\n    </tr>\n    <tr>\n      <th>148653</th>\n      <td>148654</td>\n      <td>Joe Lopez</td>\n      <td>Counselor, Log Cabin Ranch</td>\n      <td>0.00</td>\n      <td>0.00</td>\n      <td>-618.13</td>\n      <td>0.00</td>\n      <td>-618.13</td>\n      <td>-618.13</td>\n      <td>2014</td>\n      <td>5.0</td>\n      <td>San Francisco</td>\n      <td>PT</td>\n    </tr>\n  </tbody>\n</table>\n<p>148654 rows × 13 columns</p>\n</div>"
          },
          "metadata": {}
        }
      ],
      "execution_count": 272
    },
    {
      "cell_type": "code",
      "source": "",
      "metadata": {
        "trusted": true
      },
      "outputs": [],
      "execution_count": null
    }
  ]
}