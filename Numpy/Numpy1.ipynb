{
  "metadata": {
    "kernelspec": {
      "name": "python",
      "display_name": "Python (Pyodide)",
      "language": "python"
    },
    "language_info": {
      "codemirror_mode": {
        "name": "python",
        "version": 3
      },
      "file_extension": ".py",
      "mimetype": "text/x-python",
      "name": "python",
      "nbconvert_exporter": "python",
      "pygments_lexer": "ipython3",
      "version": "3.8"
    }
  },
  "nbformat_minor": 5,
  "nbformat": 4,
  "cells": [
    {
      "id": "7da5fa24",
      "cell_type": "code",
      "source": "import numpy as np",
      "metadata": {
        "trusted": true
      },
      "outputs": [],
      "execution_count": 2
    },
    {
      "id": "89d18b8f",
      "cell_type": "code",
      "source": "np.zeros(10)\n",
      "metadata": {},
      "outputs": [
        {
          "data": {
            "text/plain": [
              "array([0., 0., 0., 0., 0., 0., 0., 0., 0., 0.])"
            ]
          },
          "execution_count": 2,
          "metadata": {},
          "output_type": "execute_result"
        }
      ],
      "execution_count": 2
    },
    {
      "id": "fd129e16",
      "cell_type": "code",
      "source": "np.ones(12).reshape(3,4)",
      "metadata": {
        "trusted": true
      },
      "outputs": [
        {
          "execution_count": 4,
          "output_type": "execute_result",
          "data": {
            "text/plain": "array([[1., 1., 1., 1.],\n       [1., 1., 1., 1.],\n       [1., 1., 1., 1.]])"
          },
          "metadata": {}
        }
      ],
      "execution_count": 4
    },
    {
      "id": "3a92c6d4",
      "cell_type": "code",
      "source": "np.ones(10)*5\n",
      "metadata": {},
      "outputs": [
        {
          "data": {
            "text/plain": [
              "array([5., 5., 5., 5., 5., 5., 5., 5., 5., 5.])"
            ]
          },
          "execution_count": 4,
          "metadata": {},
          "output_type": "execute_result"
        }
      ],
      "execution_count": 4
    },
    {
      "id": "62ba8efc-df3d-4e4d-bcb2-eda4db3bd42a",
      "cell_type": "code",
      "source": "\nnp.random.randint(0,100,20)\n",
      "metadata": {
        "trusted": true
      },
      "outputs": [
        {
          "execution_count": 5,
          "output_type": "execute_result",
          "data": {
            "text/plain": "array([75, 91, 39, 97, 53, 54, 17, 71, 43, 37, 83, 66,  5, 27, 22, 33, 72,\n       40, 78, 12])"
          },
          "metadata": {}
        }
      ],
      "execution_count": 5
    },
    {
      "id": "dac327a1",
      "cell_type": "code",
      "source": "np.arange(10,51)",
      "metadata": {},
      "outputs": [
        {
          "data": {
            "text/plain": [
              "array([10, 11, 12, 13, 14, 15, 16, 17, 18, 19, 20, 21, 22, 23, 24, 25, 26,\n",
              "       27, 28, 29, 30, 31, 32, 33, 34, 35, 36, 37, 38, 39, 40, 41, 42, 43,\n",
              "       44, 45, 46, 47, 48, 49, 50])"
            ]
          },
          "execution_count": 5,
          "metadata": {},
          "output_type": "execute_result"
        }
      ],
      "execution_count": 5
    },
    {
      "id": "1cba8d10",
      "cell_type": "code",
      "source": "np.arange(10,51,2)",
      "metadata": {},
      "outputs": [
        {
          "data": {
            "text/plain": [
              "array([10, 12, 14, 16, 18, 20, 22, 24, 26, 28, 30, 32, 34, 36, 38, 40, 42,\n",
              "       44, 46, 48, 50])"
            ]
          },
          "execution_count": 6,
          "metadata": {},
          "output_type": "execute_result"
        }
      ],
      "execution_count": 6
    },
    {
      "id": "fd0168b2",
      "cell_type": "code",
      "source": "np.arange(0,9).reshape(3,3)",
      "metadata": {},
      "outputs": [
        {
          "data": {
            "text/plain": [
              "array([[0, 1, 2],\n",
              "       [3, 4, 5],\n",
              "       [6, 7, 8]])"
            ]
          },
          "execution_count": 7,
          "metadata": {},
          "output_type": "execute_result"
        }
      ],
      "execution_count": 7
    },
    {
      "id": "8037960b",
      "cell_type": "code",
      "source": "np.eye(3)",
      "metadata": {},
      "outputs": [
        {
          "data": {
            "text/plain": [
              "array([[1., 0., 0.],\n",
              "       [0., 1., 0.],\n",
              "       [0., 0., 1.]])"
            ]
          },
          "execution_count": 8,
          "metadata": {},
          "output_type": "execute_result"
        }
      ],
      "execution_count": 8
    },
    {
      "id": "04d45f64",
      "cell_type": "code",
      "source": "np.random.randn(1)",
      "metadata": {},
      "outputs": [
        {
          "data": {
            "text/plain": [
              "array([-0.94124434])"
            ]
          },
          "execution_count": 9,
          "metadata": {},
          "output_type": "execute_result"
        }
      ],
      "execution_count": 9
    },
    {
      "id": "20c71da1",
      "cell_type": "code",
      "source": "import numpy as np\nnp.random.randn(25)",
      "metadata": {
        "trusted": true
      },
      "outputs": [
        {
          "execution_count": 8,
          "output_type": "execute_result",
          "data": {
            "text/plain": "array([ 3.55174579e-01, -6.90651315e-01,  6.64525872e-01,  5.16293160e-01,\n        7.67985316e-01, -1.68281513e+00,  1.58328290e+00,  1.50482335e-01,\n        9.31621945e-01,  1.69019274e-01,  1.57384096e-01,  6.91085563e-01,\n       -9.27623767e-04,  1.05408566e-01, -2.56694430e-01,  3.66068604e-01,\n       -1.32689394e+00,  3.58136514e-01,  7.96993138e-01,  6.77642515e-01,\n       -1.32886431e-01,  2.50970834e-01, -1.65079047e+00,  3.96576449e-01,\n        9.11210925e-01])"
          },
          "metadata": {}
        }
      ],
      "execution_count": 8
    },
    {
      "id": "af557cbe",
      "cell_type": "code",
      "source": "np.arange(1,101).reshape(10,10)/100",
      "metadata": {
        "trusted": true
      },
      "outputs": [
        {
          "execution_count": 5,
          "output_type": "execute_result",
          "data": {
            "text/plain": "array([[0.01, 0.02, 0.03, 0.04, 0.05, 0.06, 0.07, 0.08, 0.09, 0.1 ],\n       [0.11, 0.12, 0.13, 0.14, 0.15, 0.16, 0.17, 0.18, 0.19, 0.2 ],\n       [0.21, 0.22, 0.23, 0.24, 0.25, 0.26, 0.27, 0.28, 0.29, 0.3 ],\n       [0.31, 0.32, 0.33, 0.34, 0.35, 0.36, 0.37, 0.38, 0.39, 0.4 ],\n       [0.41, 0.42, 0.43, 0.44, 0.45, 0.46, 0.47, 0.48, 0.49, 0.5 ],\n       [0.51, 0.52, 0.53, 0.54, 0.55, 0.56, 0.57, 0.58, 0.59, 0.6 ],\n       [0.61, 0.62, 0.63, 0.64, 0.65, 0.66, 0.67, 0.68, 0.69, 0.7 ],\n       [0.71, 0.72, 0.73, 0.74, 0.75, 0.76, 0.77, 0.78, 0.79, 0.8 ],\n       [0.81, 0.82, 0.83, 0.84, 0.85, 0.86, 0.87, 0.88, 0.89, 0.9 ],\n       [0.91, 0.92, 0.93, 0.94, 0.95, 0.96, 0.97, 0.98, 0.99, 1.  ]])"
          },
          "metadata": {}
        }
      ],
      "execution_count": 5
    },
    {
      "id": "6271c71f",
      "cell_type": "code",
      "source": "np.linspace(0,1,20)",
      "metadata": {},
      "outputs": [
        {
          "data": {
            "text/plain": [
              "array([0.        , 0.05263158, 0.10526316, 0.15789474, 0.21052632,\n",
              "       0.26315789, 0.31578947, 0.36842105, 0.42105263, 0.47368421,\n",
              "       0.52631579, 0.57894737, 0.63157895, 0.68421053, 0.73684211,\n",
              "       0.78947368, 0.84210526, 0.89473684, 0.94736842, 1.        ])"
            ]
          },
          "execution_count": 12,
          "metadata": {},
          "output_type": "execute_result"
        }
      ],
      "execution_count": 12
    },
    {
      "id": "accc948b",
      "cell_type": "code",
      "source": "np.arange(1,26).reshape(5,5)",
      "metadata": {},
      "outputs": [
        {
          "data": {
            "text/plain": [
              "array([[ 1,  2,  3,  4,  5],\n",
              "       [ 6,  7,  8,  9, 10],\n",
              "       [11, 12, 13, 14, 15],\n",
              "       [16, 17, 18, 19, 20],\n",
              "       [21, 22, 23, 24, 25]])"
            ]
          },
          "execution_count": 13,
          "metadata": {},
          "output_type": "execute_result"
        }
      ],
      "execution_count": 13
    },
    {
      "id": "e1c6f50a",
      "cell_type": "code",
      "source": "\na=np.arange(1,26).reshape(5,5)\na[2:,1:]",
      "metadata": {
        "trusted": true
      },
      "outputs": [
        {
          "execution_count": 13,
          "output_type": "execute_result",
          "data": {
            "text/plain": "array([[12, 13, 14, 15],\n       [17, 18, 19, 20],\n       [22, 23, 24, 25]])"
          },
          "metadata": {}
        }
      ],
      "execution_count": 13
    },
    {
      "id": "1247c118",
      "cell_type": "code",
      "source": "import numpy as np\na=np.arange(1,26).reshape(5,5)\na[1:,2:]",
      "metadata": {},
      "outputs": [
        {
          "data": {
            "text/plain": [
              "array([[ 8,  9, 10],\n",
              "       [13, 14, 15],\n",
              "       [18, 19, 20],\n",
              "       [23, 24, 25]])"
            ]
          },
          "execution_count": 15,
          "metadata": {},
          "output_type": "execute_result"
        }
      ],
      "execution_count": 15
    },
    {
      "id": "d124ae76",
      "cell_type": "code",
      "source": "import numpy as np\na=np.arange(1,26).reshape(5,5)\na[3:4,4:]",
      "metadata": {},
      "outputs": [
        {
          "data": {
            "text/plain": [
              "array([[20]])"
            ]
          },
          "execution_count": 16,
          "metadata": {},
          "output_type": "execute_result"
        }
      ],
      "execution_count": 16
    },
    {
      "id": "da1a3bdf",
      "cell_type": "code",
      "source": "import numpy as np\na=np.arange(1,26).reshape(5,5)\na[1:3,2:]",
      "metadata": {
        "trusted": true
      },
      "outputs": [
        {
          "execution_count": 18,
          "output_type": "execute_result",
          "data": {
            "text/plain": "array([[ 8,  9, 10],\n       [13, 14, 15]])"
          },
          "metadata": {}
        }
      ],
      "execution_count": 18
    },
    {
      "id": "63aaddca",
      "cell_type": "code",
      "source": "import numpy as np\na=np.arange(1,26).reshape(5,5)\na[4]",
      "metadata": {},
      "outputs": [
        {
          "data": {
            "text/plain": [
              "array([21, 22, 23, 24, 25])"
            ]
          },
          "execution_count": 18,
          "metadata": {},
          "output_type": "execute_result"
        }
      ],
      "execution_count": 18
    },
    {
      "id": "d3c42bed",
      "cell_type": "code",
      "source": "import numpy as np\na=np.arange(1,26).reshape(5,5)\na[3:5]",
      "metadata": {},
      "outputs": [
        {
          "data": {
            "text/plain": [
              "array([[16, 17, 18, 19, 20],\n",
              "       [21, 22, 23, 24, 25]])"
            ]
          },
          "execution_count": 19,
          "metadata": {},
          "output_type": "execute_result"
        }
      ],
      "execution_count": 19
    },
    {
      "id": "1b5d1364",
      "cell_type": "code",
      "source": "sum(a)",
      "metadata": {},
      "outputs": [
        {
          "data": {
            "text/plain": [
              "array([55, 60, 65, 70, 75])"
            ]
          },
          "execution_count": 20,
          "metadata": {},
          "output_type": "execute_result"
        }
      ],
      "execution_count": 20
    },
    {
      "id": "45095c86",
      "cell_type": "code",
      "source": "a.sum()",
      "metadata": {},
      "outputs": [
        {
          "data": {
            "text/plain": [
              "325"
            ]
          },
          "execution_count": 21,
          "metadata": {},
          "output_type": "execute_result"
        }
      ],
      "execution_count": 21
    },
    {
      "id": "005b4aea",
      "cell_type": "code",
      "source": "a.std()",
      "metadata": {},
      "outputs": [
        {
          "data": {
            "text/plain": [
              "7.211102550927978"
            ]
          },
          "execution_count": 22,
          "metadata": {},
          "output_type": "execute_result"
        }
      ],
      "execution_count": 22
    },
    {
      "id": "01f7441a",
      "cell_type": "code",
      "source": "a.sum(axis=0)",
      "metadata": {},
      "outputs": [
        {
          "data": {
            "text/plain": [
              "array([55, 60, 65, 70, 75])"
            ]
          },
          "execution_count": 23,
          "metadata": {},
          "output_type": "execute_result"
        }
      ],
      "execution_count": 23
    },
    {
      "id": "5e734160",
      "cell_type": "code",
      "source": "a.sum(axis=1)",
      "metadata": {},
      "outputs": [
        {
          "data": {
            "text/plain": [
              "array([ 15,  40,  65,  90, 115])"
            ]
          },
          "execution_count": 24,
          "metadata": {},
          "output_type": "execute_result"
        }
      ],
      "execution_count": 24
    },
    {
      "id": "33f123b0",
      "cell_type": "code",
      "source": "d=np.arange(13)\nd",
      "metadata": {},
      "outputs": [
        {
          "data": {
            "text/plain": [
              "array([ 0,  1,  2,  3,  4,  5,  6,  7,  8,  9, 10, 11, 12])"
            ]
          },
          "execution_count": 25,
          "metadata": {},
          "output_type": "execute_result"
        }
      ],
      "execution_count": 25
    },
    {
      "id": "a1ff0b11",
      "cell_type": "code",
      "source": "m=np.arange(6).reshape(2,3)\nm",
      "metadata": {
        "trusted": true
      },
      "outputs": [
        {
          "execution_count": 12,
          "output_type": "execute_result",
          "data": {
            "text/plain": "array([[0, 1, 2],\n       [3, 4, 5]])"
          },
          "metadata": {}
        }
      ],
      "execution_count": 12
    },
    {
      "id": "a9e2502c",
      "cell_type": "code",
      "source": "n=np.arange(1,13).reshape(3,2,2)\nn",
      "metadata": {},
      "outputs": [
        {
          "data": {
            "text/plain": [
              "array([[[ 1,  2],\n",
              "        [ 3,  4]],\n",
              "\n",
              "       [[ 5,  6],\n",
              "        [ 7,  8]],\n",
              "\n",
              "       [[ 9, 10],\n",
              "        [11, 12]]])"
            ]
          },
          "execution_count": 27,
          "metadata": {},
          "output_type": "execute_result"
        }
      ],
      "execution_count": 27
    },
    {
      "id": "2658c701",
      "cell_type": "code",
      "source": "c=np.arange(1,5).reshape(2,2)\nc",
      "metadata": {},
      "outputs": [
        {
          "data": {
            "text/plain": [
              "array([[1, 2],\n",
              "       [3, 4]])"
            ]
          },
          "execution_count": 28,
          "metadata": {},
          "output_type": "execute_result"
        }
      ],
      "execution_count": 28
    },
    {
      "id": "cf59d4ab",
      "cell_type": "code",
      "source": "c.dtype",
      "metadata": {},
      "outputs": [
        {
          "data": {
            "text/plain": [
              "dtype('int32')"
            ]
          },
          "execution_count": 29,
          "metadata": {},
          "output_type": "execute_result"
        }
      ],
      "execution_count": 29
    },
    {
      "id": "20c7ec4e",
      "cell_type": "code",
      "source": "c.shape",
      "metadata": {},
      "outputs": [
        {
          "data": {
            "text/plain": [
              "(2, 2)"
            ]
          },
          "execution_count": 35,
          "metadata": {},
          "output_type": "execute_result"
        }
      ],
      "execution_count": 35
    },
    {
      "id": "b1603b65",
      "cell_type": "code",
      "source": "c.ndim",
      "metadata": {},
      "outputs": [
        {
          "data": {
            "text/plain": [
              "2"
            ]
          },
          "execution_count": 36,
          "metadata": {},
          "output_type": "execute_result"
        }
      ],
      "execution_count": 36
    },
    {
      "id": "979fb106",
      "cell_type": "code",
      "source": "m.shape",
      "metadata": {},
      "outputs": [
        {
          "data": {
            "text/plain": [
              "(2, 3)"
            ]
          },
          "execution_count": 31,
          "metadata": {},
          "output_type": "execute_result"
        }
      ],
      "execution_count": 31
    },
    {
      "id": "34da3b0d",
      "cell_type": "code",
      "source": "m.ndim",
      "metadata": {
        "trusted": true
      },
      "outputs": [
        {
          "execution_count": 15,
          "output_type": "execute_result",
          "data": {
            "text/plain": "2"
          },
          "metadata": {}
        }
      ],
      "execution_count": 15
    },
    {
      "id": "b99bae7f",
      "cell_type": "code",
      "source": "n.shape",
      "metadata": {},
      "outputs": [
        {
          "data": {
            "text/plain": [
              "(3, 2, 2)"
            ]
          },
          "execution_count": 32,
          "metadata": {},
          "output_type": "execute_result"
        }
      ],
      "execution_count": 32
    },
    {
      "id": "1fb22dfb",
      "cell_type": "code",
      "source": "n.ndim",
      "metadata": {},
      "outputs": [
        {
          "data": {
            "text/plain": [
              "3"
            ]
          },
          "execution_count": 38,
          "metadata": {},
          "output_type": "execute_result"
        }
      ],
      "execution_count": 38
    },
    {
      "id": "e21e3879",
      "cell_type": "code",
      "source": "np.zeros(12)",
      "metadata": {},
      "outputs": [
        {
          "data": {
            "text/plain": [
              "array([0., 0., 0., 0., 0., 0., 0., 0., 0., 0., 0., 0.])"
            ]
          },
          "execution_count": 33,
          "metadata": {},
          "output_type": "execute_result"
        }
      ],
      "execution_count": 33
    },
    {
      "id": "20482b88",
      "cell_type": "code",
      "source": "np.ones(4).reshape(2,2)",
      "metadata": {},
      "outputs": [
        {
          "data": {
            "text/plain": [
              "array([[1., 1.],\n",
              "       [1., 1.]])"
            ]
          },
          "execution_count": 34,
          "metadata": {},
          "output_type": "execute_result"
        }
      ],
      "execution_count": 34
    },
    {
      "id": "d16e096c",
      "cell_type": "code",
      "source": "maths_marks=np.random.randint(1,100,20)\nmaths_marks",
      "metadata": {
        "trusted": true
      },
      "outputs": [
        {
          "execution_count": 8,
          "output_type": "execute_result",
          "data": {
            "text/plain": "array([34, 76, 25, 48, 15, 12, 62, 27, 88, 68, 22, 68, 26, 12, 98,  3, 37,\n       65, 51,  2])"
          },
          "metadata": {}
        }
      ],
      "execution_count": 8
    },
    {
      "id": "124177c2",
      "cell_type": "code",
      "source": "b = np.sort(maths_marks)",
      "metadata": {
        "trusted": true
      },
      "outputs": [],
      "execution_count": 9
    },
    {
      "id": "51ed9479",
      "cell_type": "code",
      "source": "asc=2, 11, 23, 30, 41, 47, 53, 54, 58, 66, 76, 78, 80, 84, 85, 87, 88, 89, 92, 99\nnp.flip(b)",
      "metadata": {
        "trusted": true
      },
      "outputs": [
        {
          "execution_count": 12,
          "output_type": "execute_result",
          "data": {
            "text/plain": "array([98, 88, 76, 68, 68, 65, 62, 51, 48, 37, 34, 27, 26, 25, 22, 15, 12,\n       12,  3,  2])"
          },
          "metadata": {}
        }
      ],
      "execution_count": 12
    },
    {
      "id": "ca2bbcf6",
      "cell_type": "code",
      "source": "fxf = np.eye(5,5)\nfxf",
      "metadata": {
        "trusted": true
      },
      "outputs": [
        {
          "execution_count": 16,
          "output_type": "execute_result",
          "data": {
            "text/plain": "array([[1., 0., 0., 0., 0.],\n       [0., 1., 0., 0., 0.],\n       [0., 0., 1., 0., 0.],\n       [0., 0., 0., 1., 0.],\n       [0., 0., 0., 0., 1.]])"
          },
          "metadata": {}
        }
      ],
      "execution_count": 16
    },
    {
      "id": "78aaa368",
      "cell_type": "code",
      "source": "fxf.reshape(25)",
      "metadata": {
        "trusted": true
      },
      "outputs": [
        {
          "execution_count": 17,
          "output_type": "execute_result",
          "data": {
            "text/plain": "array([1., 0., 0., 0., 0., 0., 1., 0., 0., 0., 0., 0., 1., 0., 0., 0., 0.,\n       0., 1., 0., 0., 0., 0., 0., 1.])"
          },
          "metadata": {}
        }
      ],
      "execution_count": 17
    },
    {
      "id": "e1e6a540",
      "cell_type": "code",
      "source": "np.eye(5,5).ravel()",
      "metadata": {
        "trusted": true
      },
      "outputs": [
        {
          "execution_count": 3,
          "output_type": "execute_result",
          "data": {
            "text/plain": "array([1., 0., 0., 0., 0., 0., 1., 0., 0., 0., 0., 0., 1., 0., 0., 0., 0.,\n       0., 1., 0., 0., 0., 0., 0., 1.])"
          },
          "metadata": {}
        }
      ],
      "execution_count": 3
    },
    {
      "id": "788e1c68",
      "cell_type": "code",
      "source": "np.eye(5,5).flatten()",
      "metadata": {},
      "outputs": [
        {
          "data": {
            "text/plain": [
              "array([1., 0., 0., 0., 0., 0., 1., 0., 0., 0., 0., 0., 1., 0., 0., 0., 0.,\n",
              "       0., 1., 0., 0., 0., 0., 0., 1.])"
            ]
          },
          "execution_count": 53,
          "metadata": {},
          "output_type": "execute_result"
        }
      ],
      "execution_count": 53
    },
    {
      "id": "65e64b84",
      "cell_type": "code",
      "source": "mat=np.arange(0,9).reshape(3,3)\nmat",
      "metadata": {
        "trusted": true
      },
      "outputs": [
        {
          "execution_count": 7,
          "output_type": "execute_result",
          "data": {
            "text/plain": "array([[0, 1, 2],\n       [3, 4, 5],\n       [6, 7, 8]])"
          },
          "metadata": {}
        }
      ],
      "execution_count": 7
    },
    {
      "id": "d97f9800",
      "cell_type": "code",
      "source": "a= np.append(mat,[[9,10,11]],axis=0)\na",
      "metadata": {
        "trusted": true
      },
      "outputs": [
        {
          "execution_count": 8,
          "output_type": "execute_result",
          "data": {
            "text/plain": "array([[ 0,  1,  2],\n       [ 3,  4,  5],\n       [ 6,  7,  8],\n       [ 9, 10, 11]])"
          },
          "metadata": {}
        }
      ],
      "execution_count": 8
    },
    {
      "id": "05c147e0",
      "cell_type": "code",
      "source": "np.split(a,2)",
      "metadata": {
        "trusted": true
      },
      "outputs": [
        {
          "execution_count": 12,
          "output_type": "execute_result",
          "data": {
            "text/plain": "[array([[0, 1, 2],\n        [3, 4, 5]]),\n array([[ 6,  7,  8],\n        [ 9, 10, 11]])]"
          },
          "metadata": {}
        }
      ],
      "execution_count": 12
    },
    {
      "id": "e620ada4",
      "cell_type": "code",
      "source": "x=np.arange(0,9)\nx",
      "metadata": {},
      "outputs": [
        {
          "data": {
            "text/plain": [
              "array([0, 1, 2, 3, 4, 5, 6, 7, 8])"
            ]
          },
          "execution_count": 62,
          "metadata": {},
          "output_type": "execute_result"
        }
      ],
      "execution_count": 62
    },
    {
      "id": "0aeb8d05",
      "cell_type": "code",
      "source": "np.hsplit(mat,3)",
      "metadata": {
        "trusted": true
      },
      "outputs": [
        {
          "execution_count": 36,
          "output_type": "execute_result",
          "data": {
            "text/plain": "[array([[0],\n        [3],\n        [6]]),\n array([[1],\n        [4],\n        [7]]),\n array([[2],\n        [5],\n        [8]])]"
          },
          "metadata": {}
        }
      ],
      "execution_count": 36
    },
    {
      "id": "f7609212",
      "cell_type": "code",
      "source": "v=mat\nv",
      "metadata": {},
      "outputs": [
        {
          "data": {
            "text/plain": [
              "array([[0, 1, 2],\n",
              "       [3, 4, 5],\n",
              "       [6, 7, 8]])"
            ]
          },
          "execution_count": 69,
          "metadata": {},
          "output_type": "execute_result"
        }
      ],
      "execution_count": 69
    },
    {
      "id": "f9b79b01",
      "cell_type": "code",
      "source": "np.split(v,3,axis=1)",
      "metadata": {},
      "outputs": [
        {
          "data": {
            "text/plain": [
              "[array([[0],\n",
              "        [3],\n",
              "        [6]]),\n",
              " array([[1],\n",
              "        [4],\n",
              "        [7]]),\n",
              " array([[2],\n",
              "        [5],\n",
              "        [8]])]"
            ]
          },
          "execution_count": 70,
          "metadata": {},
          "output_type": "execute_result"
        }
      ],
      "execution_count": 70
    },
    {
      "id": "a0ea4d32",
      "cell_type": "code",
      "source": "np.eye(4)+4",
      "metadata": {},
      "outputs": [
        {
          "data": {
            "text/plain": [
              "array([[5., 4., 4., 4.],\n",
              "       [4., 5., 4., 4.],\n",
              "       [4., 4., 5., 4.],\n",
              "       [4., 4., 4., 5.]])"
            ]
          },
          "execution_count": 71,
          "metadata": {},
          "output_type": "execute_result"
        }
      ],
      "execution_count": 71
    },
    {
      "id": "64de2484",
      "cell_type": "code",
      "source": "np.random.uniform?\n",
      "metadata": {},
      "outputs": [],
      "execution_count": 72
    },
    {
      "id": "fa697c90",
      "cell_type": "code",
      "source": "s=np.random.uniform(0,100,15)\ns",
      "metadata": {
        "trusted": true
      },
      "outputs": [
        {
          "execution_count": 48,
          "output_type": "execute_result",
          "data": {
            "text/plain": "array([41.28831486, 57.62765842, 38.35661093,  1.03795661, 79.20390991,\n       25.28907269, 33.1323506 , 13.90300338, 22.78163382, 80.99499785,\n       54.18312014, 60.70204217, 47.71277093, 17.52430096, 26.15726185])"
          },
          "metadata": {}
        }
      ],
      "execution_count": 48
    },
    {
      "id": "323f5b36",
      "cell_type": "code",
      "source": "np.ceil(s)",
      "metadata": {},
      "outputs": [
        {
          "data": {
            "text/plain": [
              "array([8., 8., 1., 5., 6., 9., 5., 2., 3., 2.])"
            ]
          },
          "execution_count": 82,
          "metadata": {},
          "output_type": "execute_result"
        }
      ],
      "execution_count": 82
    },
    {
      "id": "e49ff1ba",
      "cell_type": "code",
      "source": "np.floor(s)",
      "metadata": {},
      "outputs": [
        {
          "data": {
            "text/plain": [
              "array([7., 7., 0., 4., 5., 8., 4., 1., 2., 1.])"
            ]
          },
          "execution_count": 83,
          "metadata": {},
          "output_type": "execute_result"
        }
      ],
      "execution_count": 83
    },
    {
      "id": "b7f36db2",
      "cell_type": "code",
      "source": "np.round(s,decimals=2)",
      "metadata": {},
      "outputs": [
        {
          "data": {
            "text/plain": [
              "array([7.85, 7.81, 0.21, 4.57, 5.48, 8.14, 4.54, 1.57, 2.71, 1.42])"
            ]
          },
          "execution_count": 85,
          "metadata": {},
          "output_type": "execute_result"
        }
      ],
      "execution_count": 85
    },
    {
      "id": "2cc4598a",
      "cell_type": "code",
      "source": "h=np.arange(0,25).reshape(5,5)\nh",
      "metadata": {
        "trusted": true
      },
      "outputs": [
        {
          "execution_count": 50,
          "output_type": "execute_result",
          "data": {
            "text/plain": "array([[ 0,  1,  2,  3,  4],\n       [ 5,  6,  7,  8,  9],\n       [10, 11, 12, 13, 14],\n       [15, 16, 17, 18, 19],\n       [20, 21, 22, 23, 24]])"
          },
          "metadata": {}
        }
      ],
      "execution_count": 50
    },
    {
      "id": "4edb39a9",
      "cell_type": "code",
      "source": "h.min(axis=0)",
      "metadata": {
        "trusted": true
      },
      "outputs": [
        {
          "execution_count": 54,
          "output_type": "execute_result",
          "data": {
            "text/plain": "array([0, 1, 2, 3, 4])"
          },
          "metadata": {}
        }
      ],
      "execution_count": 54
    },
    {
      "id": "5c17213a",
      "cell_type": "code",
      "source": "h.max(axis=0)",
      "metadata": {},
      "outputs": [
        {
          "data": {
            "text/plain": [
              "array([20, 21, 22, 23, 24])"
            ]
          },
          "execution_count": 96,
          "metadata": {},
          "output_type": "execute_result"
        }
      ],
      "execution_count": 96
    },
    {
      "id": "c579bae0",
      "cell_type": "code",
      "source": "h.var(axis=0)",
      "metadata": {},
      "outputs": [
        {
          "data": {
            "text/plain": [
              "array([50., 50., 50., 50., 50.])"
            ]
          },
          "execution_count": 97,
          "metadata": {},
          "output_type": "execute_result"
        }
      ],
      "execution_count": 97
    },
    {
      "id": "4e4d94f3",
      "cell_type": "code",
      "source": "h.std(axis=0)",
      "metadata": {},
      "outputs": [
        {
          "data": {
            "text/plain": [
              "array([7.07106781, 7.07106781, 7.07106781, 7.07106781, 7.07106781])"
            ]
          },
          "execution_count": 98,
          "metadata": {},
          "output_type": "execute_result"
        }
      ],
      "execution_count": 98
    },
    {
      "id": "cb0e78b0",
      "cell_type": "code",
      "source": "mv=np.arange(100,151)\nmv",
      "metadata": {},
      "outputs": [
        {
          "data": {
            "text/plain": [
              "array([100, 101, 102, 103, 104, 105, 106, 107, 108, 109, 110, 111, 112,\n",
              "       113, 114, 115, 116, 117, 118, 119, 120, 121, 122, 123, 124, 125,\n",
              "       126, 127, 128, 129, 130, 131, 132, 133, 134, 135, 136, 137, 138,\n",
              "       139, 140, 141, 142, 143, 144, 145, 146, 147, 148, 149, 150])"
            ]
          },
          "execution_count": 106,
          "metadata": {},
          "output_type": "execute_result"
        }
      ],
      "execution_count": 106
    },
    {
      "id": "5ff7e363",
      "cell_type": "code",
      "source": "np.flip(mv)",
      "metadata": {},
      "outputs": [
        {
          "data": {
            "text/plain": [
              "array([150, 149, 148, 147, 146, 145, 144, 143, 142, 141, 140, 139, 138,\n",
              "       137, 136, 135, 134, 133, 132, 131, 130, 129, 128, 127, 126, 125,\n",
              "       124, 123, 122, 121, 120, 119, 118, 117, 116, 115, 114, 113, 112,\n",
              "       111, 110, 109, 108, 107, 106, 105, 104, 103, 102, 101, 100])"
            ]
          },
          "execution_count": 107,
          "metadata": {},
          "output_type": "execute_result"
        }
      ],
      "execution_count": 107
    },
    {
      "id": "46049a4a",
      "cell_type": "code",
      "source": "np.arange(0,25).reshape(5,5)",
      "metadata": {},
      "outputs": [
        {
          "data": {
            "text/plain": [
              "array([[ 0,  1,  2,  3,  4],\n",
              "       [ 5,  6,  7,  8,  9],\n",
              "       [10, 11, 12, 13, 14],\n",
              "       [15, 16, 17, 18, 19],\n",
              "       [20, 21, 22, 23, 24]])"
            ]
          },
          "execution_count": 102,
          "metadata": {},
          "output_type": "execute_result"
        }
      ],
      "execution_count": 102
    },
    {
      "id": "9161df5b",
      "cell_type": "code",
      "source": "dh=np.array([1,2,3,4,5])\ndh",
      "metadata": {},
      "outputs": [
        {
          "data": {
            "text/plain": [
              "array([1, 2, 3, 4, 5])"
            ]
          },
          "execution_count": 109,
          "metadata": {},
          "output_type": "execute_result"
        }
      ],
      "execution_count": 109
    },
    {
      "id": "e319128a",
      "cell_type": "code",
      "source": "hd=(1,0,2,0,0,4,0,8)\nhd",
      "metadata": {
        "trusted": true
      },
      "outputs": [
        {
          "execution_count": 57,
          "output_type": "execute_result",
          "data": {
            "text/plain": "(1, 0, 2, 0, 0, 4, 0, 8)"
          },
          "metadata": {}
        }
      ],
      "execution_count": 57
    },
    {
      "id": "7ebd4925",
      "cell_type": "code",
      "source": "np.nonzero(hd)",
      "metadata": {
        "trusted": true
      },
      "outputs": [
        {
          "execution_count": 61,
          "output_type": "execute_result",
          "data": {
            "text/plain": "(array([0, 2, 5, 7], dtype=int32),)"
          },
          "metadata": {}
        }
      ],
      "execution_count": 61
    },
    {
      "id": "a65a329b",
      "cell_type": "code",
      "source": "z=np.ones((10,10))\nz[1:9,1:9]=0\nz",
      "metadata": {
        "trusted": true
      },
      "outputs": [
        {
          "execution_count": 65,
          "output_type": "execute_result",
          "data": {
            "text/plain": "array([[1., 1., 1., 1., 1., 1., 1., 1., 1., 1.],\n       [1., 0., 0., 0., 0., 0., 0., 0., 0., 1.],\n       [1., 0., 0., 0., 0., 0., 0., 0., 0., 1.],\n       [1., 0., 0., 0., 0., 0., 0., 0., 0., 1.],\n       [1., 0., 0., 0., 0., 0., 0., 0., 0., 1.],\n       [1., 0., 0., 0., 0., 0., 0., 0., 0., 1.],\n       [1., 0., 0., 0., 0., 0., 0., 0., 0., 1.],\n       [1., 0., 0., 0., 0., 0., 0., 0., 0., 1.],\n       [1., 0., 0., 0., 0., 0., 0., 0., 0., 1.],\n       [1., 1., 1., 1., 1., 1., 1., 1., 1., 1.]])"
          },
          "metadata": {}
        }
      ],
      "execution_count": 65
    },
    {
      "id": "27a4b2aa",
      "cell_type": "code",
      "source": "z[1:9,1:9]=0",
      "metadata": {},
      "outputs": [],
      "execution_count": 135
    },
    {
      "id": "c12fdf66",
      "cell_type": "code",
      "source": "z",
      "metadata": {},
      "outputs": [
        {
          "data": {
            "text/plain": [
              "array([[1., 1., 1., 1., 1., 1., 1., 1., 1., 1.],\n",
              "       [1., 0., 0., 0., 0., 0., 0., 0., 0., 1.],\n",
              "       [1., 0., 0., 0., 0., 0., 0., 0., 0., 1.],\n",
              "       [1., 0., 0., 0., 0., 0., 0., 0., 0., 1.],\n",
              "       [1., 0., 0., 0., 0., 0., 0., 0., 0., 1.],\n",
              "       [1., 0., 0., 0., 0., 0., 0., 0., 0., 1.],\n",
              "       [1., 0., 0., 0., 0., 0., 0., 0., 0., 1.],\n",
              "       [1., 0., 0., 0., 0., 0., 0., 0., 0., 1.],\n",
              "       [1., 0., 0., 0., 0., 0., 0., 0., 0., 1.],\n",
              "       [1., 1., 1., 1., 1., 1., 1., 1., 1., 1.]])"
            ]
          },
          "execution_count": 136,
          "metadata": {},
          "output_type": "execute_result"
        }
      ],
      "execution_count": 136
    },
    {
      "id": "cd5a9a77-319f-4995-ac6c-c4d31f5a7c2b",
      "cell_type": "code",
      "source": "a = np.ones(64).reshape(8,8)\n\n\na[::2,1::2]=0\na[1::2,::2]=0\na",
      "metadata": {
        "trusted": true
      },
      "outputs": [
        {
          "execution_count": 70,
          "output_type": "execute_result",
          "data": {
            "text/plain": "array([[1., 0., 1., 0., 1., 0., 1., 0.],\n       [0., 1., 0., 1., 0., 1., 0., 1.],\n       [1., 0., 1., 0., 1., 0., 1., 0.],\n       [0., 1., 0., 1., 0., 1., 0., 1.],\n       [1., 0., 1., 0., 1., 0., 1., 0.],\n       [0., 1., 0., 1., 0., 1., 0., 1.],\n       [1., 0., 1., 0., 1., 0., 1., 0.],\n       [0., 1., 0., 1., 0., 1., 0., 1.]])"
          },
          "metadata": {}
        }
      ],
      "execution_count": 70
    },
    {
      "id": "4079d94c",
      "cell_type": "code",
      "source": "p=np.zeros((8,8),dtype=int)\np[::2,::2]=1\np[1::2,1::2]=1\np",
      "metadata": {},
      "outputs": [
        {
          "data": {
            "text/plain": [
              "array([[1, 0, 1, 0, 1, 0, 1, 0],\n",
              "       [0, 1, 0, 1, 0, 1, 0, 1],\n",
              "       [1, 0, 1, 0, 1, 0, 1, 0],\n",
              "       [0, 1, 0, 1, 0, 1, 0, 1],\n",
              "       [1, 0, 1, 0, 1, 0, 1, 0],\n",
              "       [0, 1, 0, 1, 0, 1, 0, 1],\n",
              "       [1, 0, 1, 0, 1, 0, 1, 0],\n",
              "       [0, 1, 0, 1, 0, 1, 0, 1]])"
            ]
          },
          "execution_count": 137,
          "metadata": {},
          "output_type": "execute_result"
        }
      ],
      "execution_count": 137
    },
    {
      "id": "0b84748a",
      "cell_type": "code",
      "source": "import numpy as np\nl = np.linspace(0,100,20)\nl\n",
      "metadata": {
        "trusted": true
      },
      "outputs": [
        {
          "execution_count": 20,
          "output_type": "execute_result",
          "data": {
            "text/plain": "array([  0.        ,   5.26315789,  10.52631579,  15.78947368,\n        21.05263158,  26.31578947,  31.57894737,  36.84210526,\n        42.10526316,  47.36842105,  52.63157895,  57.89473684,\n        63.15789474,  68.42105263,  73.68421053,  78.94736842,\n        84.21052632,  89.47368421,  94.73684211, 100.        ])"
          },
          "metadata": {}
        }
      ],
      "execution_count": 20
    },
    {
      "id": "54b7b004-fb30-4d38-ad67-7bd9ef900db9",
      "cell_type": "code",
      "source": "# create a matrix 4x4 in this matrix \nabc = np.ones(16).reshape(4,4)\nabc",
      "metadata": {
        "trusted": true
      },
      "outputs": [
        {
          "execution_count": 66,
          "output_type": "execute_result",
          "data": {
            "text/plain": "array([[1., 1., 1., 1.],\n       [1., 1., 1., 1.],\n       [1., 1., 1., 1.],\n       [1., 1., 1., 1.]])"
          },
          "metadata": {}
        }
      ],
      "execution_count": 66
    },
    {
      "id": "445a31bf-c6af-4c59-a6d7-0c61ab0c4c4a",
      "cell_type": "code",
      "source": "abc[0:1,]=0\nabc[0:,0]=0\nabc[0:,3]=0\nabc[3]=0\nabc",
      "metadata": {
        "trusted": true
      },
      "outputs": [
        {
          "execution_count": 67,
          "output_type": "execute_result",
          "data": {
            "text/plain": "array([[0., 0., 0., 0.],\n       [0., 1., 1., 0.],\n       [0., 1., 1., 0.],\n       [0., 0., 0., 0.]])"
          },
          "metadata": {}
        }
      ],
      "execution_count": 67
    },
    {
      "id": "622d0109-7c6d-4d6c-9d99-fb8691f4eb4c",
      "cell_type": "code",
      "source": "np.append(abc,[[1],[1],[1],[1]],axis=1)",
      "metadata": {
        "trusted": true
      },
      "outputs": [
        {
          "execution_count": 73,
          "output_type": "execute_result",
          "data": {
            "text/plain": "array([[0., 0., 0., 0., 1.],\n       [0., 1., 1., 0., 1.],\n       [0., 1., 1., 0., 1.],\n       [0., 0., 0., 0., 1.]])"
          },
          "metadata": {}
        }
      ],
      "execution_count": 73
    },
    {
      "id": "45be6142-c36f-4f75-8edf-585e64488197",
      "cell_type": "code",
      "source": "# 55 to 95 floats \na = np.linspace(55,95,10)\na\n\n# to find round decimal, floar and seal\n\n\n# round\n# a.round()\n",
      "metadata": {
        "trusted": true
      },
      "outputs": [
        {
          "execution_count": 101,
          "output_type": "execute_result",
          "data": {
            "text/plain": "array([55.        , 59.44444444, 63.88888889, 68.33333333, 72.77777778,\n       77.22222222, 81.66666667, 86.11111111, 90.55555556, 95.        ])"
          },
          "metadata": {}
        }
      ],
      "execution_count": 101
    },
    {
      "id": "8fb820ab-a237-4373-bcfe-d423d2e427f7",
      "cell_type": "code",
      "source": "# flaor\n\nnp.floor(a)",
      "metadata": {
        "trusted": true
      },
      "outputs": [
        {
          "execution_count": 100,
          "output_type": "execute_result",
          "data": {
            "text/plain": "array([55., 59., 63., 68., 72., 77., 81., 86., 90., 95.])"
          },
          "metadata": {}
        }
      ],
      "execution_count": 100
    },
    {
      "id": "e817edee-b52f-418e-a76b-618e29ace18d",
      "cell_type": "code",
      "source": "np.arange(55,95,2)",
      "metadata": {
        "trusted": true
      },
      "outputs": [
        {
          "execution_count": 102,
          "output_type": "execute_result",
          "data": {
            "text/plain": "array([55, 57, 59, 61, 63, 65, 67, 69, 71, 73, 75, 77, 79, 81, 83, 85, 87,\n       89, 91, 93])"
          },
          "metadata": {}
        }
      ],
      "execution_count": 102
    },
    {
      "id": "3360645b-945d-40cc-b748-eb99c0bbd1d3",
      "cell_type": "code",
      "source": "#  ceil \n\nnp.ceil(a)",
      "metadata": {
        "trusted": true
      },
      "outputs": [
        {
          "execution_count": 99,
          "output_type": "execute_result",
          "data": {
            "text/plain": "array([55., 60., 64., 69., 73., 78., 82., 87., 91., 95.])"
          },
          "metadata": {}
        }
      ],
      "execution_count": 99
    },
    {
      "id": "1a8a2829-4a22-41bd-9c8f-ef1808a3ac39",
      "cell_type": "code",
      "source": "",
      "metadata": {
        "trusted": true
      },
      "outputs": [],
      "execution_count": null
    },
    {
      "id": "081e3d4c-b6ff-4f36-a0ab-92ede34d8b6b",
      "cell_type": "code",
      "source": "",
      "metadata": {
        "trusted": true
      },
      "outputs": [],
      "execution_count": null
    },
    {
      "id": "03f0ac1a-cd6e-4bf9-89ec-6577721e5403",
      "cell_type": "code",
      "source": "",
      "metadata": {
        "trusted": true
      },
      "outputs": [],
      "execution_count": null
    }
  ]
}