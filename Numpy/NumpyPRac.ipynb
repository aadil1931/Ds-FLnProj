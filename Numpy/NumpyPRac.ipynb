{
  "metadata": {
    "kernelspec": {
      "name": "python",
      "display_name": "Python (Pyodide)",
      "language": "python"
    },
    "language_info": {
      "codemirror_mode": {
        "name": "python",
        "version": 3
      },
      "file_extension": ".py",
      "mimetype": "text/x-python",
      "name": "python",
      "nbconvert_exporter": "python",
      "pygments_lexer": "ipython3",
      "version": "3.8"
    }
  },
  "nbformat_minor": 4,
  "nbformat": 4,
  "cells": [
    {
      "cell_type": "code",
      "source": "import numpy as np",
      "metadata": {
        "trusted": true
      },
      "outputs": [],
      "execution_count": 2
    },
    {
      "cell_type": "code",
      "source": "#  1d \narr1 = np.array(np.random.randint(1,100,10))\narr1",
      "metadata": {
        "trusted": true
      },
      "outputs": [
        {
          "execution_count": 388,
          "output_type": "execute_result",
          "data": {
            "text/plain": "array([65, 93, 80, 38, 10, 14, 46, 74, 42, 35])"
          },
          "metadata": {}
        }
      ],
      "execution_count": 388
    },
    {
      "cell_type": "code",
      "source": "#  2d\narr2 = np.array(np.random.randint(1,100,10)).reshape(2,5)\narr2",
      "metadata": {
        "trusted": true
      },
      "outputs": [
        {
          "execution_count": 389,
          "output_type": "execute_result",
          "data": {
            "text/plain": "array([[85, 49, 86, 65, 83],\n       [18,  4, 67, 24, 25]])"
          },
          "metadata": {}
        }
      ],
      "execution_count": 389
    },
    {
      "cell_type": "code",
      "source": "arr3  = np.array(np.random.randint(1,100,20)).reshape(2,5,2)\n",
      "metadata": {
        "trusted": true
      },
      "outputs": [],
      "execution_count": 390
    },
    {
      "cell_type": "code",
      "source": "\nprint(arr2.dtype)\nprint(arr1.dtype)\nprint(arr3.dtype)",
      "metadata": {
        "trusted": true
      },
      "outputs": [
        {
          "name": "stdout",
          "text": "int32\nint32\nint32\n",
          "output_type": "stream"
        }
      ],
      "execution_count": 391
    },
    {
      "cell_type": "code",
      "source": "print(arr1.shape)\nprint(arr2.shape)\nprint(arr3.shape)",
      "metadata": {
        "trusted": true
      },
      "outputs": [
        {
          "name": "stdout",
          "text": "(10,)\n(2, 5)\n(2, 5, 2)\n",
          "output_type": "stream"
        }
      ],
      "execution_count": 392
    },
    {
      "cell_type": "code",
      "source": "arr1.ndim",
      "metadata": {
        "trusted": true
      },
      "outputs": [
        {
          "execution_count": 393,
          "output_type": "execute_result",
          "data": {
            "text/plain": "1"
          },
          "metadata": {}
        }
      ],
      "execution_count": 393
    },
    {
      "cell_type": "code",
      "source": "arr2.ndim",
      "metadata": {
        "trusted": true
      },
      "outputs": [
        {
          "execution_count": 394,
          "output_type": "execute_result",
          "data": {
            "text/plain": "2"
          },
          "metadata": {}
        }
      ],
      "execution_count": 394
    },
    {
      "cell_type": "code",
      "source": "arr3.ndim\n",
      "metadata": {
        "trusted": true
      },
      "outputs": [
        {
          "execution_count": 395,
          "output_type": "execute_result",
          "data": {
            "text/plain": "3"
          },
          "metadata": {}
        }
      ],
      "execution_count": 395
    },
    {
      "cell_type": "code",
      "source": "arra1 = np.zeros(12)\narr1",
      "metadata": {
        "trusted": true
      },
      "outputs": [
        {
          "execution_count": 396,
          "output_type": "execute_result",
          "data": {
            "text/plain": "array([65, 93, 80, 38, 10, 14, 46, 74, 42, 35])"
          },
          "metadata": {}
        }
      ],
      "execution_count": 396
    },
    {
      "cell_type": "code",
      "source": "np.ones(12).reshape(2,6)",
      "metadata": {
        "trusted": true
      },
      "outputs": [
        {
          "execution_count": 397,
          "output_type": "execute_result",
          "data": {
            "text/plain": "array([[1., 1., 1., 1., 1., 1.],\n       [1., 1., 1., 1., 1., 1.]])"
          },
          "metadata": {}
        }
      ],
      "execution_count": 397
    },
    {
      "cell_type": "code",
      "source": "Maths  = np.random.randint(1,100,20)\nMaths",
      "metadata": {
        "trusted": true
      },
      "outputs": [
        {
          "execution_count": 398,
          "output_type": "execute_result",
          "data": {
            "text/plain": "array([89, 73, 14, 23, 57, 20, 80, 71,  7, 99, 32, 91, 19, 35, 55, 75, 46,\n       13, 52, 23])"
          },
          "metadata": {}
        }
      ],
      "execution_count": 398
    },
    {
      "cell_type": "code",
      "source": "asc = np.sort(Maths)\nasc",
      "metadata": {
        "trusted": true
      },
      "outputs": [
        {
          "execution_count": 399,
          "output_type": "execute_result",
          "data": {
            "text/plain": "array([ 7, 13, 14, 19, 20, 23, 23, 32, 35, 46, 52, 55, 57, 71, 73, 75, 80,\n       89, 91, 99])"
          },
          "metadata": {}
        }
      ],
      "execution_count": 399
    },
    {
      "cell_type": "code",
      "source": "np.flip(asc)",
      "metadata": {
        "trusted": true
      },
      "outputs": [
        {
          "execution_count": 400,
          "output_type": "execute_result",
          "data": {
            "text/plain": "array([99, 91, 89, 80, 75, 73, 71, 57, 55, 52, 46, 35, 32, 23, 23, 20, 19,\n       14, 13,  7])"
          },
          "metadata": {}
        }
      ],
      "execution_count": 400
    },
    {
      "cell_type": "code",
      "source": "dcopy = np.copy(asc)",
      "metadata": {
        "trusted": true
      },
      "outputs": [],
      "execution_count": 401
    },
    {
      "cell_type": "code",
      "source": "dcopy[2] = 10",
      "metadata": {
        "trusted": true
      },
      "outputs": [],
      "execution_count": 402
    },
    {
      "cell_type": "code",
      "source": "dcopy",
      "metadata": {
        "trusted": true
      },
      "outputs": [
        {
          "execution_count": 403,
          "output_type": "execute_result",
          "data": {
            "text/plain": "array([ 7, 13, 10, 19, 20, 23, 23, 32, 35, 46, 52, 55, 57, 71, 73, 75, 80,\n       89, 91, 99])"
          },
          "metadata": {}
        }
      ],
      "execution_count": 403
    },
    {
      "cell_type": "code",
      "source": "asc",
      "metadata": {
        "trusted": true
      },
      "outputs": [
        {
          "execution_count": 404,
          "output_type": "execute_result",
          "data": {
            "text/plain": "array([ 7, 13, 14, 19, 20, 23, 23, 32, 35, 46, 52, 55, 57, 71, 73, 75, 80,\n       89, 91, 99])"
          },
          "metadata": {}
        }
      ],
      "execution_count": 404
    },
    {
      "cell_type": "code",
      "source": "idt = np.eye(5)\nidt.flatten()",
      "metadata": {
        "trusted": true
      },
      "outputs": [
        {
          "execution_count": 405,
          "output_type": "execute_result",
          "data": {
            "text/plain": "array([1., 0., 0., 0., 0., 0., 1., 0., 0., 0., 0., 0., 1., 0., 0., 0., 0.,\n       0., 1., 0., 0., 0., 0., 0., 1.])"
          },
          "metadata": {}
        }
      ],
      "execution_count": 405
    },
    {
      "cell_type": "code",
      "source": "idt.ravel()",
      "metadata": {
        "trusted": true
      },
      "outputs": [
        {
          "execution_count": 406,
          "output_type": "execute_result",
          "data": {
            "text/plain": "array([1., 0., 0., 0., 0., 0., 1., 0., 0., 0., 0., 0., 1., 0., 0., 0., 0.,\n       0., 1., 0., 0., 0., 0., 0., 1.])"
          },
          "metadata": {}
        }
      ],
      "execution_count": 406
    },
    {
      "cell_type": "code",
      "source": "td = np.random.randint(1,20,9).reshape(3,3)",
      "metadata": {
        "trusted": true
      },
      "outputs": [],
      "execution_count": 407
    },
    {
      "cell_type": "code",
      "source": "td  = np.append(td , [[1,2,3]], axis = 0)\n",
      "metadata": {
        "trusted": true
      },
      "outputs": [],
      "execution_count": 408
    },
    {
      "cell_type": "code",
      "source": "td",
      "metadata": {
        "trusted": true
      },
      "outputs": [
        {
          "execution_count": 409,
          "output_type": "execute_result",
          "data": {
            "text/plain": "array([[19,  4,  9],\n       [14,  1, 11],\n       [18,  5, 12],\n       [ 1,  2,  3]])"
          },
          "metadata": {}
        }
      ],
      "execution_count": 409
    },
    {
      "cell_type": "code",
      "source": "td = np.append(td,[[10],[1],[12],[14]], axis = 1)",
      "metadata": {
        "trusted": true
      },
      "outputs": [],
      "execution_count": 410
    },
    {
      "cell_type": "code",
      "source": "td",
      "metadata": {
        "trusted": true
      },
      "outputs": [
        {
          "execution_count": 411,
          "output_type": "execute_result",
          "data": {
            "text/plain": "array([[19,  4,  9, 10],\n       [14,  1, 11,  1],\n       [18,  5, 12, 12],\n       [ 1,  2,  3, 14]])"
          },
          "metadata": {}
        }
      ],
      "execution_count": 411
    },
    {
      "cell_type": "code",
      "source": "np.hsplit(td,2)",
      "metadata": {
        "trusted": true
      },
      "outputs": [
        {
          "execution_count": 412,
          "output_type": "execute_result",
          "data": {
            "text/plain": "[array([[19,  4],\n        [14,  1],\n        [18,  5],\n        [ 1,  2]]),\n array([[ 9, 10],\n        [11,  1],\n        [12, 12],\n        [ 3, 14]])]"
          },
          "metadata": {}
        }
      ],
      "execution_count": 412
    },
    {
      "cell_type": "code",
      "source": "np.vsplit(td,2)",
      "metadata": {
        "trusted": true
      },
      "outputs": [
        {
          "execution_count": 413,
          "output_type": "execute_result",
          "data": {
            "text/plain": "[array([[19,  4,  9, 10],\n        [14,  1, 11,  1]]),\n array([[18,  5, 12, 12],\n        [ 1,  2,  3, 14]])]"
          },
          "metadata": {}
        }
      ],
      "execution_count": 413
    },
    {
      "cell_type": "code",
      "source": "np.split(td,2,axis = 0)",
      "metadata": {
        "trusted": true
      },
      "outputs": [
        {
          "execution_count": 414,
          "output_type": "execute_result",
          "data": {
            "text/plain": "[array([[19,  4,  9, 10],\n        [14,  1, 11,  1]]),\n array([[18,  5, 12, 12],\n        [ 1,  2,  3, 14]])]"
          },
          "metadata": {}
        }
      ],
      "execution_count": 414
    },
    {
      "cell_type": "code",
      "source": "fbf  = np.arange(16).reshape(4,4)\nfbf+4",
      "metadata": {
        "trusted": true
      },
      "outputs": [
        {
          "execution_count": 415,
          "output_type": "execute_result",
          "data": {
            "text/plain": "array([[ 4,  5,  6,  7],\n       [ 8,  9, 10, 11],\n       [12, 13, 14, 15],\n       [16, 17, 18, 19]])"
          },
          "metadata": {}
        }
      ],
      "execution_count": 415
    },
    {
      "cell_type": "code",
      "source": "thtn = np.random.uniform(1,100,10)",
      "metadata": {
        "trusted": true
      },
      "outputs": [],
      "execution_count": 416
    },
    {
      "cell_type": "code",
      "source": "np.round(thtn,2)",
      "metadata": {
        "trusted": true
      },
      "outputs": [
        {
          "execution_count": 417,
          "output_type": "execute_result",
          "data": {
            "text/plain": "array([64.49, 25.91, 89.7 , 75.08, 99.89, 85.74, 66.78, 86.19, 67.67,\n       38.85])"
          },
          "metadata": {}
        }
      ],
      "execution_count": 417
    },
    {
      "cell_type": "code",
      "source": "np.ceil(thtn)",
      "metadata": {
        "trusted": true
      },
      "outputs": [
        {
          "execution_count": 418,
          "output_type": "execute_result",
          "data": {
            "text/plain": "array([ 65.,  26.,  90.,  76., 100.,  86.,  67.,  87.,  68.,  39.])"
          },
          "metadata": {}
        }
      ],
      "execution_count": 418
    },
    {
      "cell_type": "code",
      "source": "np.floor(thtn)",
      "metadata": {
        "trusted": true
      },
      "outputs": [
        {
          "execution_count": 419,
          "output_type": "execute_result",
          "data": {
            "text/plain": "array([64., 25., 89., 75., 99., 85., 66., 86., 67., 38.])"
          },
          "metadata": {}
        }
      ],
      "execution_count": 419
    },
    {
      "cell_type": "code",
      "source": "fthn = np.random.randint(1,100,25).reshape(5,5)",
      "metadata": {
        "trusted": true
      },
      "outputs": [],
      "execution_count": 420
    },
    {
      "cell_type": "code",
      "source": "fthn",
      "metadata": {
        "trusted": true
      },
      "outputs": [
        {
          "execution_count": 421,
          "output_type": "execute_result",
          "data": {
            "text/plain": "array([[77, 90, 50, 69, 45],\n       [10, 81, 78, 56, 88],\n       [34, 79, 40, 44, 64],\n       [ 1, 12, 61, 88, 20],\n       [10, 27, 79, 64, 37]])"
          },
          "metadata": {}
        }
      ],
      "execution_count": 421
    },
    {
      "cell_type": "code",
      "source": "np.min(fthn,axis= 0)",
      "metadata": {
        "trusted": true
      },
      "outputs": [
        {
          "execution_count": 422,
          "output_type": "execute_result",
          "data": {
            "text/plain": "array([ 1, 12, 40, 44, 20])"
          },
          "metadata": {}
        }
      ],
      "execution_count": 422
    },
    {
      "cell_type": "code",
      "source": "fthn.max(axis=0)",
      "metadata": {
        "trusted": true
      },
      "outputs": [
        {
          "execution_count": 423,
          "output_type": "execute_result",
          "data": {
            "text/plain": "array([77, 90, 79, 88, 88])"
          },
          "metadata": {}
        }
      ],
      "execution_count": 423
    },
    {
      "cell_type": "code",
      "source": "fthn.std(axis = 0)",
      "metadata": {
        "trusted": true
      },
      "outputs": [
        {
          "execution_count": 424,
          "output_type": "execute_result",
          "data": {
            "text/plain": "array([27.57245002, 31.84587885, 15.31796331, 14.59314908, 23.37006632])"
          },
          "metadata": {}
        }
      ],
      "execution_count": 424
    },
    {
      "cell_type": "code",
      "source": "fthn.var(axis = 0)",
      "metadata": {
        "trusted": true
      },
      "outputs": [
        {
          "execution_count": 425,
          "output_type": "execute_result",
          "data": {
            "text/plain": "array([ 760.24, 1014.16,  234.64,  212.96,  546.16])"
          },
          "metadata": {}
        }
      ],
      "execution_count": 425
    },
    {
      "cell_type": "code",
      "source": "fthn = np.zeros(10)\nfthn[5] = 6\nfthn",
      "metadata": {
        "trusted": true
      },
      "outputs": [
        {
          "execution_count": 426,
          "output_type": "execute_result",
          "data": {
            "text/plain": "array([0., 0., 0., 0., 0., 6., 0., 0., 0., 0.])"
          },
          "metadata": {}
        }
      ],
      "execution_count": 426
    },
    {
      "cell_type": "code",
      "source": "sthn = np.arange(100,151)\nsthn",
      "metadata": {
        "trusted": true
      },
      "outputs": [
        {
          "execution_count": 427,
          "output_type": "execute_result",
          "data": {
            "text/plain": "array([100, 101, 102, 103, 104, 105, 106, 107, 108, 109, 110, 111, 112,\n       113, 114, 115, 116, 117, 118, 119, 120, 121, 122, 123, 124, 125,\n       126, 127, 128, 129, 130, 131, 132, 133, 134, 135, 136, 137, 138,\n       139, 140, 141, 142, 143, 144, 145, 146, 147, 148, 149, 150])"
          },
          "metadata": {}
        }
      ],
      "execution_count": 427
    },
    {
      "cell_type": "code",
      "source": "np.flip(sthn)",
      "metadata": {
        "trusted": true
      },
      "outputs": [
        {
          "execution_count": 428,
          "output_type": "execute_result",
          "data": {
            "text/plain": "array([150, 149, 148, 147, 146, 145, 144, 143, 142, 141, 140, 139, 138,\n       137, 136, 135, 134, 133, 132, 131, 130, 129, 128, 127, 126, 125,\n       124, 123, 122, 121, 120, 119, 118, 117, 116, 115, 114, 113, 112,\n       111, 110, 109, 108, 107, 106, 105, 104, 103, 102, 101, 100])"
          },
          "metadata": {}
        }
      ],
      "execution_count": 428
    },
    {
      "cell_type": "code",
      "source": "np.arange(25).reshape(5,5)",
      "metadata": {
        "trusted": true
      },
      "outputs": [
        {
          "execution_count": 429,
          "output_type": "execute_result",
          "data": {
            "text/plain": "array([[ 0,  1,  2,  3,  4],\n       [ 5,  6,  7,  8,  9],\n       [10, 11, 12, 13, 14],\n       [15, 16, 17, 18, 19],\n       [20, 21, 22, 23, 24]])"
          },
          "metadata": {}
        }
      ],
      "execution_count": 429
    },
    {
      "cell_type": "code",
      "source": "nithn = np.array([1,0,2,0,0,4,0,8])\nnp.nonzero(nithn)",
      "metadata": {
        "trusted": true
      },
      "outputs": [
        {
          "execution_count": 430,
          "output_type": "execute_result",
          "data": {
            "text/plain": "(array([0, 2, 5, 7], dtype=int32),)"
          },
          "metadata": {}
        }
      ],
      "execution_count": 430
    },
    {
      "cell_type": "code",
      "source": "np.where(nithn == 2)",
      "metadata": {
        "trusted": true
      },
      "outputs": [
        {
          "execution_count": 431,
          "output_type": "execute_result",
          "data": {
            "text/plain": "(array([2], dtype=int32),)"
          },
          "metadata": {}
        }
      ],
      "execution_count": 431
    },
    {
      "cell_type": "code",
      "source": "twt = np.ones(100).reshape(10,10)\ntwt[1:9,1:9]=0\ntwt",
      "metadata": {
        "trusted": true
      },
      "outputs": [
        {
          "execution_count": 432,
          "output_type": "execute_result",
          "data": {
            "text/plain": "array([[1., 1., 1., 1., 1., 1., 1., 1., 1., 1.],\n       [1., 0., 0., 0., 0., 0., 0., 0., 0., 1.],\n       [1., 0., 0., 0., 0., 0., 0., 0., 0., 1.],\n       [1., 0., 0., 0., 0., 0., 0., 0., 0., 1.],\n       [1., 0., 0., 0., 0., 0., 0., 0., 0., 1.],\n       [1., 0., 0., 0., 0., 0., 0., 0., 0., 1.],\n       [1., 0., 0., 0., 0., 0., 0., 0., 0., 1.],\n       [1., 0., 0., 0., 0., 0., 0., 0., 0., 1.],\n       [1., 0., 0., 0., 0., 0., 0., 0., 0., 1.],\n       [1., 1., 1., 1., 1., 1., 1., 1., 1., 1.]])"
          },
          "metadata": {}
        }
      ],
      "execution_count": 432
    },
    {
      "cell_type": "code",
      "source": "twt1 = np.zeros(64).reshape(8,8)\ntwt1[::2,1::2]=1\ntwt1[1::2,::2]=1\ntwt1",
      "metadata": {
        "trusted": true
      },
      "outputs": [
        {
          "execution_count": 433,
          "output_type": "execute_result",
          "data": {
            "text/plain": "array([[0., 1., 0., 1., 0., 1., 0., 1.],\n       [1., 0., 1., 0., 1., 0., 1., 0.],\n       [0., 1., 0., 1., 0., 1., 0., 1.],\n       [1., 0., 1., 0., 1., 0., 1., 0.],\n       [0., 1., 0., 1., 0., 1., 0., 1.],\n       [1., 0., 1., 0., 1., 0., 1., 0.],\n       [0., 1., 0., 1., 0., 1., 0., 1.],\n       [1., 0., 1., 0., 1., 0., 1., 0.]])"
          },
          "metadata": {}
        }
      ],
      "execution_count": 433
    },
    {
      "cell_type": "code",
      "source": "mat1 = np.random.randint(1,100,9).reshape(3,3)\nmat2 = np.random.randint(1,100,9).reshape(3,3)\nprint(mat1)\nprint(mat2)",
      "metadata": {
        "trusted": true
      },
      "outputs": [
        {
          "name": "stdout",
          "text": "[[25 42 47]\n [33 32 73]\n [38 44 20]]\n[[42 36 57]\n [83 79 46]\n [69 69 42]]\n",
          "output_type": "stream"
        }
      ],
      "execution_count": 434
    },
    {
      "cell_type": "code",
      "source": "mat1+mat2",
      "metadata": {
        "trusted": true
      },
      "outputs": [
        {
          "execution_count": 435,
          "output_type": "execute_result",
          "data": {
            "text/plain": "array([[ 67,  78, 104],\n       [116, 111, 119],\n       [107, 113,  62]])"
          },
          "metadata": {}
        }
      ],
      "execution_count": 435
    },
    {
      "cell_type": "code",
      "source": "np.dot(mat1,mat2)",
      "metadata": {
        "trusted": true
      },
      "outputs": [
        {
          "execution_count": 436,
          "output_type": "execute_result",
          "data": {
            "text/plain": "array([[7779, 7461, 5331],\n       [9079, 8753, 6419],\n       [6628, 6224, 5030]])"
          },
          "metadata": {}
        }
      ],
      "execution_count": 436
    },
    {
      "cell_type": "code",
      "source": "np.mean(mat1)",
      "metadata": {
        "trusted": true
      },
      "outputs": [
        {
          "execution_count": 437,
          "output_type": "execute_result",
          "data": {
            "text/plain": "39.333333333333336"
          },
          "metadata": {}
        }
      ],
      "execution_count": 437
    },
    {
      "cell_type": "code",
      "source": "np.median(mat1)",
      "metadata": {
        "trusted": true
      },
      "outputs": [
        {
          "execution_count": 438,
          "output_type": "execute_result",
          "data": {
            "text/plain": "38.0"
          },
          "metadata": {}
        }
      ],
      "execution_count": 438
    },
    {
      "cell_type": "code",
      "source": "np.sin(mat1)",
      "metadata": {
        "trusted": true
      },
      "outputs": [
        {
          "execution_count": 439,
          "output_type": "execute_result",
          "data": {
            "text/plain": "array([[-0.13235175, -0.91652155,  0.12357312],\n       [ 0.99991186,  0.55142668, -0.67677196],\n       [ 0.29636858,  0.01770193,  0.91294525]])"
          },
          "metadata": {}
        }
      ],
      "execution_count": 439
    },
    {
      "cell_type": "code",
      "source": "np.log(mat1)",
      "metadata": {
        "trusted": true
      },
      "outputs": [
        {
          "execution_count": 440,
          "output_type": "execute_result",
          "data": {
            "text/plain": "array([[3.21887582, 3.73766962, 3.8501476 ],\n       [3.49650756, 3.4657359 , 4.29045944],\n       [3.63758616, 3.78418963, 2.99573227]])"
          },
          "metadata": {}
        }
      ],
      "execution_count": 440
    },
    {
      "cell_type": "code",
      "source": "import pandas as pd",
      "metadata": {
        "trusted": true
      },
      "outputs": [],
      "execution_count": 441
    },
    {
      "cell_type": "code",
      "source": "cl = \"ProductId ProductName ProductPrice\"\ndl = cl.split()\nindex = \"A B C D E\".split()\ntto = pd.DataFrame(np.random.randint(1,100,size=(5,3)), columns=dl,index = index)\n",
      "metadata": {
        "trusted": true
      },
      "outputs": [],
      "execution_count": 442
    },
    {
      "cell_type": "code",
      "source": "tto",
      "metadata": {
        "trusted": true
      },
      "outputs": [
        {
          "execution_count": 443,
          "output_type": "execute_result",
          "data": {
            "text/plain": "   ProductId  ProductName  ProductPrice\nA          8           71            56\nB         65           66            24\nC         60           54             6\nD         91           51            25\nE         34           26            18",
            "text/html": "<div>\n<style scoped>\n    .dataframe tbody tr th:only-of-type {\n        vertical-align: middle;\n    }\n\n    .dataframe tbody tr th {\n        vertical-align: top;\n    }\n\n    .dataframe thead th {\n        text-align: right;\n    }\n</style>\n<table border=\"1\" class=\"dataframe\">\n  <thead>\n    <tr style=\"text-align: right;\">\n      <th></th>\n      <th>ProductId</th>\n      <th>ProductName</th>\n      <th>ProductPrice</th>\n    </tr>\n  </thead>\n  <tbody>\n    <tr>\n      <th>A</th>\n      <td>8</td>\n      <td>71</td>\n      <td>56</td>\n    </tr>\n    <tr>\n      <th>B</th>\n      <td>65</td>\n      <td>66</td>\n      <td>24</td>\n    </tr>\n    <tr>\n      <th>C</th>\n      <td>60</td>\n      <td>54</td>\n      <td>6</td>\n    </tr>\n    <tr>\n      <th>D</th>\n      <td>91</td>\n      <td>51</td>\n      <td>25</td>\n    </tr>\n    <tr>\n      <th>E</th>\n      <td>34</td>\n      <td>26</td>\n      <td>18</td>\n    </tr>\n  </tbody>\n</table>\n</div>"
          },
          "metadata": {}
        }
      ],
      "execution_count": 443
    },
    {
      "cell_type": "code",
      "source": "tto[[\"ProductId\"]]",
      "metadata": {
        "trusted": true
      },
      "outputs": [
        {
          "execution_count": 444,
          "output_type": "execute_result",
          "data": {
            "text/plain": "   ProductId\nA          8\nB         65\nC         60\nD         91\nE         34",
            "text/html": "<div>\n<style scoped>\n    .dataframe tbody tr th:only-of-type {\n        vertical-align: middle;\n    }\n\n    .dataframe tbody tr th {\n        vertical-align: top;\n    }\n\n    .dataframe thead th {\n        text-align: right;\n    }\n</style>\n<table border=\"1\" class=\"dataframe\">\n  <thead>\n    <tr style=\"text-align: right;\">\n      <th></th>\n      <th>ProductId</th>\n    </tr>\n  </thead>\n  <tbody>\n    <tr>\n      <th>A</th>\n      <td>8</td>\n    </tr>\n    <tr>\n      <th>B</th>\n      <td>65</td>\n    </tr>\n    <tr>\n      <th>C</th>\n      <td>60</td>\n    </tr>\n    <tr>\n      <th>D</th>\n      <td>91</td>\n    </tr>\n    <tr>\n      <th>E</th>\n      <td>34</td>\n    </tr>\n  </tbody>\n</table>\n</div>"
          },
          "metadata": {}
        }
      ],
      "execution_count": 444
    },
    {
      "cell_type": "code",
      "source": "tto.loc[('A','ProductName')]",
      "metadata": {
        "trusted": true
      },
      "outputs": [
        {
          "execution_count": 445,
          "output_type": "execute_result",
          "data": {
            "text/plain": "71"
          },
          "metadata": {}
        }
      ],
      "execution_count": 445
    },
    {
      "cell_type": "code",
      "source": "tto.iloc[0][\"ProductName\"]",
      "metadata": {
        "trusted": true
      },
      "outputs": [
        {
          "execution_count": 446,
          "output_type": "execute_result",
          "data": {
            "text/plain": "71"
          },
          "metadata": {}
        }
      ],
      "execution_count": 446
    },
    {
      "cell_type": "code",
      "source": "tto.iloc[2:]",
      "metadata": {
        "trusted": true
      },
      "outputs": [
        {
          "execution_count": 447,
          "output_type": "execute_result",
          "data": {
            "text/plain": "   ProductId  ProductName  ProductPrice\nC         60           54             6\nD         91           51            25\nE         34           26            18",
            "text/html": "<div>\n<style scoped>\n    .dataframe tbody tr th:only-of-type {\n        vertical-align: middle;\n    }\n\n    .dataframe tbody tr th {\n        vertical-align: top;\n    }\n\n    .dataframe thead th {\n        text-align: right;\n    }\n</style>\n<table border=\"1\" class=\"dataframe\">\n  <thead>\n    <tr style=\"text-align: right;\">\n      <th></th>\n      <th>ProductId</th>\n      <th>ProductName</th>\n      <th>ProductPrice</th>\n    </tr>\n  </thead>\n  <tbody>\n    <tr>\n      <th>C</th>\n      <td>60</td>\n      <td>54</td>\n      <td>6</td>\n    </tr>\n    <tr>\n      <th>D</th>\n      <td>91</td>\n      <td>51</td>\n      <td>25</td>\n    </tr>\n    <tr>\n      <th>E</th>\n      <td>34</td>\n      <td>26</td>\n      <td>18</td>\n    </tr>\n  </tbody>\n</table>\n</div>"
          },
          "metadata": {}
        }
      ],
      "execution_count": 447
    },
    {
      "cell_type": "code",
      "source": "tto.iloc[1:4][[\"ProductId\",\"ProductName\"]]",
      "metadata": {
        "trusted": true
      },
      "outputs": [
        {
          "execution_count": 448,
          "output_type": "execute_result",
          "data": {
            "text/plain": "   ProductId  ProductName\nB         65           66\nC         60           54\nD         91           51",
            "text/html": "<div>\n<style scoped>\n    .dataframe tbody tr th:only-of-type {\n        vertical-align: middle;\n    }\n\n    .dataframe tbody tr th {\n        vertical-align: top;\n    }\n\n    .dataframe thead th {\n        text-align: right;\n    }\n</style>\n<table border=\"1\" class=\"dataframe\">\n  <thead>\n    <tr style=\"text-align: right;\">\n      <th></th>\n      <th>ProductId</th>\n      <th>ProductName</th>\n    </tr>\n  </thead>\n  <tbody>\n    <tr>\n      <th>B</th>\n      <td>65</td>\n      <td>66</td>\n    </tr>\n    <tr>\n      <th>C</th>\n      <td>60</td>\n      <td>54</td>\n    </tr>\n    <tr>\n      <th>D</th>\n      <td>91</td>\n      <td>51</td>\n    </tr>\n  </tbody>\n</table>\n</div>"
          },
          "metadata": {}
        }
      ],
      "execution_count": 448
    },
    {
      "cell_type": "code",
      "source": "tto[0:3][\"ProductPrice\"]",
      "metadata": {
        "trusted": true
      },
      "outputs": [
        {
          "execution_count": 449,
          "output_type": "execute_result",
          "data": {
            "text/plain": "A    56\nB    24\nC     6\nName: ProductPrice, dtype: int32"
          },
          "metadata": {}
        }
      ],
      "execution_count": 449
    },
    {
      "cell_type": "code",
      "source": "\nidx = np.arange(100,151)\nttt = pd.DataFrame( np.random.randint(1,100, size = (51,3)), columns=\"Python DataScience Biology\".split(),index=idx)",
      "metadata": {
        "trusted": true
      },
      "outputs": [],
      "execution_count": 450
    },
    {
      "cell_type": "code",
      "source": "ttt",
      "metadata": {
        "trusted": true
      },
      "outputs": [
        {
          "execution_count": 451,
          "output_type": "execute_result",
          "data": {
            "text/plain": "     Python  DataScience  Biology\n100      39           24       71\n101      58           72       39\n102      31           97       67\n103      66           50       50\n104      91           64       29\n105      89           61       62\n106      31           45       19\n107      97           40       94\n108      65           99       47\n109      27           11        9\n110      85           80       79\n111      10           23       49\n112      26           37        9\n113      90           78       51\n114      34           77       90\n115      65           78       66\n116      86           86       38\n117      85           23       68\n118      88           79       17\n119      28           57        2\n120      47           73       90\n121      56           36        4\n122      61           92       30\n123      29           63       88\n124      43           25       64\n125      78           10       43\n126      23           57       45\n127      17           70       99\n128       9           76       96\n129      65           38       79\n130      71           42       12\n131      64           23       29\n132      39           76       53\n133       4           94       89\n134      86           78       33\n135      47           49       13\n136      34           74        9\n137      39           91       21\n138      61           47       53\n139      33           60       91\n140      11           58       53\n141      50            7       84\n142      14           24       11\n143      71           46       62\n144      90           53       95\n145      53           60       62\n146      26           85       40\n147      93           47       22\n148      12           93        6\n149      76           36       52\n150      56           63       24",
            "text/html": "<div>\n<style scoped>\n    .dataframe tbody tr th:only-of-type {\n        vertical-align: middle;\n    }\n\n    .dataframe tbody tr th {\n        vertical-align: top;\n    }\n\n    .dataframe thead th {\n        text-align: right;\n    }\n</style>\n<table border=\"1\" class=\"dataframe\">\n  <thead>\n    <tr style=\"text-align: right;\">\n      <th></th>\n      <th>Python</th>\n      <th>DataScience</th>\n      <th>Biology</th>\n    </tr>\n  </thead>\n  <tbody>\n    <tr>\n      <th>100</th>\n      <td>39</td>\n      <td>24</td>\n      <td>71</td>\n    </tr>\n    <tr>\n      <th>101</th>\n      <td>58</td>\n      <td>72</td>\n      <td>39</td>\n    </tr>\n    <tr>\n      <th>102</th>\n      <td>31</td>\n      <td>97</td>\n      <td>67</td>\n    </tr>\n    <tr>\n      <th>103</th>\n      <td>66</td>\n      <td>50</td>\n      <td>50</td>\n    </tr>\n    <tr>\n      <th>104</th>\n      <td>91</td>\n      <td>64</td>\n      <td>29</td>\n    </tr>\n    <tr>\n      <th>105</th>\n      <td>89</td>\n      <td>61</td>\n      <td>62</td>\n    </tr>\n    <tr>\n      <th>106</th>\n      <td>31</td>\n      <td>45</td>\n      <td>19</td>\n    </tr>\n    <tr>\n      <th>107</th>\n      <td>97</td>\n      <td>40</td>\n      <td>94</td>\n    </tr>\n    <tr>\n      <th>108</th>\n      <td>65</td>\n      <td>99</td>\n      <td>47</td>\n    </tr>\n    <tr>\n      <th>109</th>\n      <td>27</td>\n      <td>11</td>\n      <td>9</td>\n    </tr>\n    <tr>\n      <th>110</th>\n      <td>85</td>\n      <td>80</td>\n      <td>79</td>\n    </tr>\n    <tr>\n      <th>111</th>\n      <td>10</td>\n      <td>23</td>\n      <td>49</td>\n    </tr>\n    <tr>\n      <th>112</th>\n      <td>26</td>\n      <td>37</td>\n      <td>9</td>\n    </tr>\n    <tr>\n      <th>113</th>\n      <td>90</td>\n      <td>78</td>\n      <td>51</td>\n    </tr>\n    <tr>\n      <th>114</th>\n      <td>34</td>\n      <td>77</td>\n      <td>90</td>\n    </tr>\n    <tr>\n      <th>115</th>\n      <td>65</td>\n      <td>78</td>\n      <td>66</td>\n    </tr>\n    <tr>\n      <th>116</th>\n      <td>86</td>\n      <td>86</td>\n      <td>38</td>\n    </tr>\n    <tr>\n      <th>117</th>\n      <td>85</td>\n      <td>23</td>\n      <td>68</td>\n    </tr>\n    <tr>\n      <th>118</th>\n      <td>88</td>\n      <td>79</td>\n      <td>17</td>\n    </tr>\n    <tr>\n      <th>119</th>\n      <td>28</td>\n      <td>57</td>\n      <td>2</td>\n    </tr>\n    <tr>\n      <th>120</th>\n      <td>47</td>\n      <td>73</td>\n      <td>90</td>\n    </tr>\n    <tr>\n      <th>121</th>\n      <td>56</td>\n      <td>36</td>\n      <td>4</td>\n    </tr>\n    <tr>\n      <th>122</th>\n      <td>61</td>\n      <td>92</td>\n      <td>30</td>\n    </tr>\n    <tr>\n      <th>123</th>\n      <td>29</td>\n      <td>63</td>\n      <td>88</td>\n    </tr>\n    <tr>\n      <th>124</th>\n      <td>43</td>\n      <td>25</td>\n      <td>64</td>\n    </tr>\n    <tr>\n      <th>125</th>\n      <td>78</td>\n      <td>10</td>\n      <td>43</td>\n    </tr>\n    <tr>\n      <th>126</th>\n      <td>23</td>\n      <td>57</td>\n      <td>45</td>\n    </tr>\n    <tr>\n      <th>127</th>\n      <td>17</td>\n      <td>70</td>\n      <td>99</td>\n    </tr>\n    <tr>\n      <th>128</th>\n      <td>9</td>\n      <td>76</td>\n      <td>96</td>\n    </tr>\n    <tr>\n      <th>129</th>\n      <td>65</td>\n      <td>38</td>\n      <td>79</td>\n    </tr>\n    <tr>\n      <th>130</th>\n      <td>71</td>\n      <td>42</td>\n      <td>12</td>\n    </tr>\n    <tr>\n      <th>131</th>\n      <td>64</td>\n      <td>23</td>\n      <td>29</td>\n    </tr>\n    <tr>\n      <th>132</th>\n      <td>39</td>\n      <td>76</td>\n      <td>53</td>\n    </tr>\n    <tr>\n      <th>133</th>\n      <td>4</td>\n      <td>94</td>\n      <td>89</td>\n    </tr>\n    <tr>\n      <th>134</th>\n      <td>86</td>\n      <td>78</td>\n      <td>33</td>\n    </tr>\n    <tr>\n      <th>135</th>\n      <td>47</td>\n      <td>49</td>\n      <td>13</td>\n    </tr>\n    <tr>\n      <th>136</th>\n      <td>34</td>\n      <td>74</td>\n      <td>9</td>\n    </tr>\n    <tr>\n      <th>137</th>\n      <td>39</td>\n      <td>91</td>\n      <td>21</td>\n    </tr>\n    <tr>\n      <th>138</th>\n      <td>61</td>\n      <td>47</td>\n      <td>53</td>\n    </tr>\n    <tr>\n      <th>139</th>\n      <td>33</td>\n      <td>60</td>\n      <td>91</td>\n    </tr>\n    <tr>\n      <th>140</th>\n      <td>11</td>\n      <td>58</td>\n      <td>53</td>\n    </tr>\n    <tr>\n      <th>141</th>\n      <td>50</td>\n      <td>7</td>\n      <td>84</td>\n    </tr>\n    <tr>\n      <th>142</th>\n      <td>14</td>\n      <td>24</td>\n      <td>11</td>\n    </tr>\n    <tr>\n      <th>143</th>\n      <td>71</td>\n      <td>46</td>\n      <td>62</td>\n    </tr>\n    <tr>\n      <th>144</th>\n      <td>90</td>\n      <td>53</td>\n      <td>95</td>\n    </tr>\n    <tr>\n      <th>145</th>\n      <td>53</td>\n      <td>60</td>\n      <td>62</td>\n    </tr>\n    <tr>\n      <th>146</th>\n      <td>26</td>\n      <td>85</td>\n      <td>40</td>\n    </tr>\n    <tr>\n      <th>147</th>\n      <td>93</td>\n      <td>47</td>\n      <td>22</td>\n    </tr>\n    <tr>\n      <th>148</th>\n      <td>12</td>\n      <td>93</td>\n      <td>6</td>\n    </tr>\n    <tr>\n      <th>149</th>\n      <td>76</td>\n      <td>36</td>\n      <td>52</td>\n    </tr>\n    <tr>\n      <th>150</th>\n      <td>56</td>\n      <td>63</td>\n      <td>24</td>\n    </tr>\n  </tbody>\n</table>\n</div>"
          },
          "metadata": {}
        }
      ],
      "execution_count": 451
    },
    {
      "cell_type": "code",
      "source": "ttt['Python'] = ttt['Python'].where(ttt['Python']>=40,41)",
      "metadata": {
        "trusted": true
      },
      "outputs": [],
      "execution_count": 452
    },
    {
      "cell_type": "code",
      "source": "ttt",
      "metadata": {
        "trusted": true
      },
      "outputs": [
        {
          "execution_count": 453,
          "output_type": "execute_result",
          "data": {
            "text/plain": "     Python  DataScience  Biology\n100      41           24       71\n101      58           72       39\n102      41           97       67\n103      66           50       50\n104      91           64       29\n105      89           61       62\n106      41           45       19\n107      97           40       94\n108      65           99       47\n109      41           11        9\n110      85           80       79\n111      41           23       49\n112      41           37        9\n113      90           78       51\n114      41           77       90\n115      65           78       66\n116      86           86       38\n117      85           23       68\n118      88           79       17\n119      41           57        2\n120      47           73       90\n121      56           36        4\n122      61           92       30\n123      41           63       88\n124      43           25       64\n125      78           10       43\n126      41           57       45\n127      41           70       99\n128      41           76       96\n129      65           38       79\n130      71           42       12\n131      64           23       29\n132      41           76       53\n133      41           94       89\n134      86           78       33\n135      47           49       13\n136      41           74        9\n137      41           91       21\n138      61           47       53\n139      41           60       91\n140      41           58       53\n141      50            7       84\n142      41           24       11\n143      71           46       62\n144      90           53       95\n145      53           60       62\n146      41           85       40\n147      93           47       22\n148      41           93        6\n149      76           36       52\n150      56           63       24",
            "text/html": "<div>\n<style scoped>\n    .dataframe tbody tr th:only-of-type {\n        vertical-align: middle;\n    }\n\n    .dataframe tbody tr th {\n        vertical-align: top;\n    }\n\n    .dataframe thead th {\n        text-align: right;\n    }\n</style>\n<table border=\"1\" class=\"dataframe\">\n  <thead>\n    <tr style=\"text-align: right;\">\n      <th></th>\n      <th>Python</th>\n      <th>DataScience</th>\n      <th>Biology</th>\n    </tr>\n  </thead>\n  <tbody>\n    <tr>\n      <th>100</th>\n      <td>41</td>\n      <td>24</td>\n      <td>71</td>\n    </tr>\n    <tr>\n      <th>101</th>\n      <td>58</td>\n      <td>72</td>\n      <td>39</td>\n    </tr>\n    <tr>\n      <th>102</th>\n      <td>41</td>\n      <td>97</td>\n      <td>67</td>\n    </tr>\n    <tr>\n      <th>103</th>\n      <td>66</td>\n      <td>50</td>\n      <td>50</td>\n    </tr>\n    <tr>\n      <th>104</th>\n      <td>91</td>\n      <td>64</td>\n      <td>29</td>\n    </tr>\n    <tr>\n      <th>105</th>\n      <td>89</td>\n      <td>61</td>\n      <td>62</td>\n    </tr>\n    <tr>\n      <th>106</th>\n      <td>41</td>\n      <td>45</td>\n      <td>19</td>\n    </tr>\n    <tr>\n      <th>107</th>\n      <td>97</td>\n      <td>40</td>\n      <td>94</td>\n    </tr>\n    <tr>\n      <th>108</th>\n      <td>65</td>\n      <td>99</td>\n      <td>47</td>\n    </tr>\n    <tr>\n      <th>109</th>\n      <td>41</td>\n      <td>11</td>\n      <td>9</td>\n    </tr>\n    <tr>\n      <th>110</th>\n      <td>85</td>\n      <td>80</td>\n      <td>79</td>\n    </tr>\n    <tr>\n      <th>111</th>\n      <td>41</td>\n      <td>23</td>\n      <td>49</td>\n    </tr>\n    <tr>\n      <th>112</th>\n      <td>41</td>\n      <td>37</td>\n      <td>9</td>\n    </tr>\n    <tr>\n      <th>113</th>\n      <td>90</td>\n      <td>78</td>\n      <td>51</td>\n    </tr>\n    <tr>\n      <th>114</th>\n      <td>41</td>\n      <td>77</td>\n      <td>90</td>\n    </tr>\n    <tr>\n      <th>115</th>\n      <td>65</td>\n      <td>78</td>\n      <td>66</td>\n    </tr>\n    <tr>\n      <th>116</th>\n      <td>86</td>\n      <td>86</td>\n      <td>38</td>\n    </tr>\n    <tr>\n      <th>117</th>\n      <td>85</td>\n      <td>23</td>\n      <td>68</td>\n    </tr>\n    <tr>\n      <th>118</th>\n      <td>88</td>\n      <td>79</td>\n      <td>17</td>\n    </tr>\n    <tr>\n      <th>119</th>\n      <td>41</td>\n      <td>57</td>\n      <td>2</td>\n    </tr>\n    <tr>\n      <th>120</th>\n      <td>47</td>\n      <td>73</td>\n      <td>90</td>\n    </tr>\n    <tr>\n      <th>121</th>\n      <td>56</td>\n      <td>36</td>\n      <td>4</td>\n    </tr>\n    <tr>\n      <th>122</th>\n      <td>61</td>\n      <td>92</td>\n      <td>30</td>\n    </tr>\n    <tr>\n      <th>123</th>\n      <td>41</td>\n      <td>63</td>\n      <td>88</td>\n    </tr>\n    <tr>\n      <th>124</th>\n      <td>43</td>\n      <td>25</td>\n      <td>64</td>\n    </tr>\n    <tr>\n      <th>125</th>\n      <td>78</td>\n      <td>10</td>\n      <td>43</td>\n    </tr>\n    <tr>\n      <th>126</th>\n      <td>41</td>\n      <td>57</td>\n      <td>45</td>\n    </tr>\n    <tr>\n      <th>127</th>\n      <td>41</td>\n      <td>70</td>\n      <td>99</td>\n    </tr>\n    <tr>\n      <th>128</th>\n      <td>41</td>\n      <td>76</td>\n      <td>96</td>\n    </tr>\n    <tr>\n      <th>129</th>\n      <td>65</td>\n      <td>38</td>\n      <td>79</td>\n    </tr>\n    <tr>\n      <th>130</th>\n      <td>71</td>\n      <td>42</td>\n      <td>12</td>\n    </tr>\n    <tr>\n      <th>131</th>\n      <td>64</td>\n      <td>23</td>\n      <td>29</td>\n    </tr>\n    <tr>\n      <th>132</th>\n      <td>41</td>\n      <td>76</td>\n      <td>53</td>\n    </tr>\n    <tr>\n      <th>133</th>\n      <td>41</td>\n      <td>94</td>\n      <td>89</td>\n    </tr>\n    <tr>\n      <th>134</th>\n      <td>86</td>\n      <td>78</td>\n      <td>33</td>\n    </tr>\n    <tr>\n      <th>135</th>\n      <td>47</td>\n      <td>49</td>\n      <td>13</td>\n    </tr>\n    <tr>\n      <th>136</th>\n      <td>41</td>\n      <td>74</td>\n      <td>9</td>\n    </tr>\n    <tr>\n      <th>137</th>\n      <td>41</td>\n      <td>91</td>\n      <td>21</td>\n    </tr>\n    <tr>\n      <th>138</th>\n      <td>61</td>\n      <td>47</td>\n      <td>53</td>\n    </tr>\n    <tr>\n      <th>139</th>\n      <td>41</td>\n      <td>60</td>\n      <td>91</td>\n    </tr>\n    <tr>\n      <th>140</th>\n      <td>41</td>\n      <td>58</td>\n      <td>53</td>\n    </tr>\n    <tr>\n      <th>141</th>\n      <td>50</td>\n      <td>7</td>\n      <td>84</td>\n    </tr>\n    <tr>\n      <th>142</th>\n      <td>41</td>\n      <td>24</td>\n      <td>11</td>\n    </tr>\n    <tr>\n      <th>143</th>\n      <td>71</td>\n      <td>46</td>\n      <td>62</td>\n    </tr>\n    <tr>\n      <th>144</th>\n      <td>90</td>\n      <td>53</td>\n      <td>95</td>\n    </tr>\n    <tr>\n      <th>145</th>\n      <td>53</td>\n      <td>60</td>\n      <td>62</td>\n    </tr>\n    <tr>\n      <th>146</th>\n      <td>41</td>\n      <td>85</td>\n      <td>40</td>\n    </tr>\n    <tr>\n      <th>147</th>\n      <td>93</td>\n      <td>47</td>\n      <td>22</td>\n    </tr>\n    <tr>\n      <th>148</th>\n      <td>41</td>\n      <td>93</td>\n      <td>6</td>\n    </tr>\n    <tr>\n      <th>149</th>\n      <td>76</td>\n      <td>36</td>\n      <td>52</td>\n    </tr>\n    <tr>\n      <th>150</th>\n      <td>56</td>\n      <td>63</td>\n      <td>24</td>\n    </tr>\n  </tbody>\n</table>\n</div>"
          },
          "metadata": {}
        }
      ],
      "execution_count": 453
    },
    {
      "cell_type": "code",
      "source": "ttt = ttt+20\nttt.where(ttt<100,100)",
      "metadata": {
        "trusted": true
      },
      "outputs": [
        {
          "execution_count": 454,
          "output_type": "execute_result",
          "data": {
            "text/plain": "     Python  DataScience  Biology\n100      61           44       91\n101      78           92       59\n102      61          100       87\n103      86           70       70\n104     100           84       49\n105     100           81       82\n106      61           65       39\n107     100           60      100\n108      85          100       67\n109      61           31       29\n110     100          100       99\n111      61           43       69\n112      61           57       29\n113     100           98       71\n114      61           97      100\n115      85           98       86\n116     100          100       58\n117     100           43       88\n118     100           99       37\n119      61           77       22\n120      67           93      100\n121      76           56       24\n122      81          100       50\n123      61           83      100\n124      63           45       84\n125      98           30       63\n126      61           77       65\n127      61           90      100\n128      61           96      100\n129      85           58       99\n130      91           62       32\n131      84           43       49\n132      61           96       73\n133      61          100      100\n134     100           98       53\n135      67           69       33\n136      61           94       29\n137      61          100       41\n138      81           67       73\n139      61           80      100\n140      61           78       73\n141      70           27      100\n142      61           44       31\n143      91           66       82\n144     100           73      100\n145      73           80       82\n146      61          100       60\n147     100           67       42\n148      61          100       26\n149      96           56       72\n150      76           83       44",
            "text/html": "<div>\n<style scoped>\n    .dataframe tbody tr th:only-of-type {\n        vertical-align: middle;\n    }\n\n    .dataframe tbody tr th {\n        vertical-align: top;\n    }\n\n    .dataframe thead th {\n        text-align: right;\n    }\n</style>\n<table border=\"1\" class=\"dataframe\">\n  <thead>\n    <tr style=\"text-align: right;\">\n      <th></th>\n      <th>Python</th>\n      <th>DataScience</th>\n      <th>Biology</th>\n    </tr>\n  </thead>\n  <tbody>\n    <tr>\n      <th>100</th>\n      <td>61</td>\n      <td>44</td>\n      <td>91</td>\n    </tr>\n    <tr>\n      <th>101</th>\n      <td>78</td>\n      <td>92</td>\n      <td>59</td>\n    </tr>\n    <tr>\n      <th>102</th>\n      <td>61</td>\n      <td>100</td>\n      <td>87</td>\n    </tr>\n    <tr>\n      <th>103</th>\n      <td>86</td>\n      <td>70</td>\n      <td>70</td>\n    </tr>\n    <tr>\n      <th>104</th>\n      <td>100</td>\n      <td>84</td>\n      <td>49</td>\n    </tr>\n    <tr>\n      <th>105</th>\n      <td>100</td>\n      <td>81</td>\n      <td>82</td>\n    </tr>\n    <tr>\n      <th>106</th>\n      <td>61</td>\n      <td>65</td>\n      <td>39</td>\n    </tr>\n    <tr>\n      <th>107</th>\n      <td>100</td>\n      <td>60</td>\n      <td>100</td>\n    </tr>\n    <tr>\n      <th>108</th>\n      <td>85</td>\n      <td>100</td>\n      <td>67</td>\n    </tr>\n    <tr>\n      <th>109</th>\n      <td>61</td>\n      <td>31</td>\n      <td>29</td>\n    </tr>\n    <tr>\n      <th>110</th>\n      <td>100</td>\n      <td>100</td>\n      <td>99</td>\n    </tr>\n    <tr>\n      <th>111</th>\n      <td>61</td>\n      <td>43</td>\n      <td>69</td>\n    </tr>\n    <tr>\n      <th>112</th>\n      <td>61</td>\n      <td>57</td>\n      <td>29</td>\n    </tr>\n    <tr>\n      <th>113</th>\n      <td>100</td>\n      <td>98</td>\n      <td>71</td>\n    </tr>\n    <tr>\n      <th>114</th>\n      <td>61</td>\n      <td>97</td>\n      <td>100</td>\n    </tr>\n    <tr>\n      <th>115</th>\n      <td>85</td>\n      <td>98</td>\n      <td>86</td>\n    </tr>\n    <tr>\n      <th>116</th>\n      <td>100</td>\n      <td>100</td>\n      <td>58</td>\n    </tr>\n    <tr>\n      <th>117</th>\n      <td>100</td>\n      <td>43</td>\n      <td>88</td>\n    </tr>\n    <tr>\n      <th>118</th>\n      <td>100</td>\n      <td>99</td>\n      <td>37</td>\n    </tr>\n    <tr>\n      <th>119</th>\n      <td>61</td>\n      <td>77</td>\n      <td>22</td>\n    </tr>\n    <tr>\n      <th>120</th>\n      <td>67</td>\n      <td>93</td>\n      <td>100</td>\n    </tr>\n    <tr>\n      <th>121</th>\n      <td>76</td>\n      <td>56</td>\n      <td>24</td>\n    </tr>\n    <tr>\n      <th>122</th>\n      <td>81</td>\n      <td>100</td>\n      <td>50</td>\n    </tr>\n    <tr>\n      <th>123</th>\n      <td>61</td>\n      <td>83</td>\n      <td>100</td>\n    </tr>\n    <tr>\n      <th>124</th>\n      <td>63</td>\n      <td>45</td>\n      <td>84</td>\n    </tr>\n    <tr>\n      <th>125</th>\n      <td>98</td>\n      <td>30</td>\n      <td>63</td>\n    </tr>\n    <tr>\n      <th>126</th>\n      <td>61</td>\n      <td>77</td>\n      <td>65</td>\n    </tr>\n    <tr>\n      <th>127</th>\n      <td>61</td>\n      <td>90</td>\n      <td>100</td>\n    </tr>\n    <tr>\n      <th>128</th>\n      <td>61</td>\n      <td>96</td>\n      <td>100</td>\n    </tr>\n    <tr>\n      <th>129</th>\n      <td>85</td>\n      <td>58</td>\n      <td>99</td>\n    </tr>\n    <tr>\n      <th>130</th>\n      <td>91</td>\n      <td>62</td>\n      <td>32</td>\n    </tr>\n    <tr>\n      <th>131</th>\n      <td>84</td>\n      <td>43</td>\n      <td>49</td>\n    </tr>\n    <tr>\n      <th>132</th>\n      <td>61</td>\n      <td>96</td>\n      <td>73</td>\n    </tr>\n    <tr>\n      <th>133</th>\n      <td>61</td>\n      <td>100</td>\n      <td>100</td>\n    </tr>\n    <tr>\n      <th>134</th>\n      <td>100</td>\n      <td>98</td>\n      <td>53</td>\n    </tr>\n    <tr>\n      <th>135</th>\n      <td>67</td>\n      <td>69</td>\n      <td>33</td>\n    </tr>\n    <tr>\n      <th>136</th>\n      <td>61</td>\n      <td>94</td>\n      <td>29</td>\n    </tr>\n    <tr>\n      <th>137</th>\n      <td>61</td>\n      <td>100</td>\n      <td>41</td>\n    </tr>\n    <tr>\n      <th>138</th>\n      <td>81</td>\n      <td>67</td>\n      <td>73</td>\n    </tr>\n    <tr>\n      <th>139</th>\n      <td>61</td>\n      <td>80</td>\n      <td>100</td>\n    </tr>\n    <tr>\n      <th>140</th>\n      <td>61</td>\n      <td>78</td>\n      <td>73</td>\n    </tr>\n    <tr>\n      <th>141</th>\n      <td>70</td>\n      <td>27</td>\n      <td>100</td>\n    </tr>\n    <tr>\n      <th>142</th>\n      <td>61</td>\n      <td>44</td>\n      <td>31</td>\n    </tr>\n    <tr>\n      <th>143</th>\n      <td>91</td>\n      <td>66</td>\n      <td>82</td>\n    </tr>\n    <tr>\n      <th>144</th>\n      <td>100</td>\n      <td>73</td>\n      <td>100</td>\n    </tr>\n    <tr>\n      <th>145</th>\n      <td>73</td>\n      <td>80</td>\n      <td>82</td>\n    </tr>\n    <tr>\n      <th>146</th>\n      <td>61</td>\n      <td>100</td>\n      <td>60</td>\n    </tr>\n    <tr>\n      <th>147</th>\n      <td>100</td>\n      <td>67</td>\n      <td>42</td>\n    </tr>\n    <tr>\n      <th>148</th>\n      <td>61</td>\n      <td>100</td>\n      <td>26</td>\n    </tr>\n    <tr>\n      <th>149</th>\n      <td>96</td>\n      <td>56</td>\n      <td>72</td>\n    </tr>\n    <tr>\n      <th>150</th>\n      <td>76</td>\n      <td>83</td>\n      <td>44</td>\n    </tr>\n  </tbody>\n</table>\n</div>"
          },
          "metadata": {}
        }
      ],
      "execution_count": 454
    },
    {
      "cell_type": "code",
      "source": "ttt[(ttt['Python'] > 50) & (ttt['DataScience'] > 60)]\n",
      "metadata": {
        "trusted": true
      },
      "outputs": [
        {
          "execution_count": 455,
          "output_type": "execute_result",
          "data": {
            "text/plain": "     Python  DataScience  Biology\n101      78           92       59\n102      61          117       87\n103      86           70       70\n104     111           84       49\n105     109           81       82\n106      61           65       39\n108      85          119       67\n110     105          100       99\n113     110           98       71\n114      61           97      110\n115      85           98       86\n116     106          106       58\n118     108           99       37\n119      61           77       22\n120      67           93      110\n122      81          112       50\n123      61           83      108\n126      61           77       65\n127      61           90      119\n128      61           96      116\n130      91           62       32\n132      61           96       73\n133      61          114      109\n134     106           98       53\n135      67           69       33\n136      61           94       29\n137      61          111       41\n138      81           67       73\n139      61           80      111\n140      61           78       73\n143      91           66       82\n144     110           73      115\n145      73           80       82\n146      61          105       60\n147     113           67       42\n148      61          113       26\n150      76           83       44",
            "text/html": "<div>\n<style scoped>\n    .dataframe tbody tr th:only-of-type {\n        vertical-align: middle;\n    }\n\n    .dataframe tbody tr th {\n        vertical-align: top;\n    }\n\n    .dataframe thead th {\n        text-align: right;\n    }\n</style>\n<table border=\"1\" class=\"dataframe\">\n  <thead>\n    <tr style=\"text-align: right;\">\n      <th></th>\n      <th>Python</th>\n      <th>DataScience</th>\n      <th>Biology</th>\n    </tr>\n  </thead>\n  <tbody>\n    <tr>\n      <th>101</th>\n      <td>78</td>\n      <td>92</td>\n      <td>59</td>\n    </tr>\n    <tr>\n      <th>102</th>\n      <td>61</td>\n      <td>117</td>\n      <td>87</td>\n    </tr>\n    <tr>\n      <th>103</th>\n      <td>86</td>\n      <td>70</td>\n      <td>70</td>\n    </tr>\n    <tr>\n      <th>104</th>\n      <td>111</td>\n      <td>84</td>\n      <td>49</td>\n    </tr>\n    <tr>\n      <th>105</th>\n      <td>109</td>\n      <td>81</td>\n      <td>82</td>\n    </tr>\n    <tr>\n      <th>106</th>\n      <td>61</td>\n      <td>65</td>\n      <td>39</td>\n    </tr>\n    <tr>\n      <th>108</th>\n      <td>85</td>\n      <td>119</td>\n      <td>67</td>\n    </tr>\n    <tr>\n      <th>110</th>\n      <td>105</td>\n      <td>100</td>\n      <td>99</td>\n    </tr>\n    <tr>\n      <th>113</th>\n      <td>110</td>\n      <td>98</td>\n      <td>71</td>\n    </tr>\n    <tr>\n      <th>114</th>\n      <td>61</td>\n      <td>97</td>\n      <td>110</td>\n    </tr>\n    <tr>\n      <th>115</th>\n      <td>85</td>\n      <td>98</td>\n      <td>86</td>\n    </tr>\n    <tr>\n      <th>116</th>\n      <td>106</td>\n      <td>106</td>\n      <td>58</td>\n    </tr>\n    <tr>\n      <th>118</th>\n      <td>108</td>\n      <td>99</td>\n      <td>37</td>\n    </tr>\n    <tr>\n      <th>119</th>\n      <td>61</td>\n      <td>77</td>\n      <td>22</td>\n    </tr>\n    <tr>\n      <th>120</th>\n      <td>67</td>\n      <td>93</td>\n      <td>110</td>\n    </tr>\n    <tr>\n      <th>122</th>\n      <td>81</td>\n      <td>112</td>\n      <td>50</td>\n    </tr>\n    <tr>\n      <th>123</th>\n      <td>61</td>\n      <td>83</td>\n      <td>108</td>\n    </tr>\n    <tr>\n      <th>126</th>\n      <td>61</td>\n      <td>77</td>\n      <td>65</td>\n    </tr>\n    <tr>\n      <th>127</th>\n      <td>61</td>\n      <td>90</td>\n      <td>119</td>\n    </tr>\n    <tr>\n      <th>128</th>\n      <td>61</td>\n      <td>96</td>\n      <td>116</td>\n    </tr>\n    <tr>\n      <th>130</th>\n      <td>91</td>\n      <td>62</td>\n      <td>32</td>\n    </tr>\n    <tr>\n      <th>132</th>\n      <td>61</td>\n      <td>96</td>\n      <td>73</td>\n    </tr>\n    <tr>\n      <th>133</th>\n      <td>61</td>\n      <td>114</td>\n      <td>109</td>\n    </tr>\n    <tr>\n      <th>134</th>\n      <td>106</td>\n      <td>98</td>\n      <td>53</td>\n    </tr>\n    <tr>\n      <th>135</th>\n      <td>67</td>\n      <td>69</td>\n      <td>33</td>\n    </tr>\n    <tr>\n      <th>136</th>\n      <td>61</td>\n      <td>94</td>\n      <td>29</td>\n    </tr>\n    <tr>\n      <th>137</th>\n      <td>61</td>\n      <td>111</td>\n      <td>41</td>\n    </tr>\n    <tr>\n      <th>138</th>\n      <td>81</td>\n      <td>67</td>\n      <td>73</td>\n    </tr>\n    <tr>\n      <th>139</th>\n      <td>61</td>\n      <td>80</td>\n      <td>111</td>\n    </tr>\n    <tr>\n      <th>140</th>\n      <td>61</td>\n      <td>78</td>\n      <td>73</td>\n    </tr>\n    <tr>\n      <th>143</th>\n      <td>91</td>\n      <td>66</td>\n      <td>82</td>\n    </tr>\n    <tr>\n      <th>144</th>\n      <td>110</td>\n      <td>73</td>\n      <td>115</td>\n    </tr>\n    <tr>\n      <th>145</th>\n      <td>73</td>\n      <td>80</td>\n      <td>82</td>\n    </tr>\n    <tr>\n      <th>146</th>\n      <td>61</td>\n      <td>105</td>\n      <td>60</td>\n    </tr>\n    <tr>\n      <th>147</th>\n      <td>113</td>\n      <td>67</td>\n      <td>42</td>\n    </tr>\n    <tr>\n      <th>148</th>\n      <td>61</td>\n      <td>113</td>\n      <td>26</td>\n    </tr>\n    <tr>\n      <th>150</th>\n      <td>76</td>\n      <td>83</td>\n      <td>44</td>\n    </tr>\n  </tbody>\n</table>\n</div>"
          },
          "metadata": {}
        }
      ],
      "execution_count": 455
    },
    {
      "cell_type": "code",
      "source": "ttt.loc[155] = (100,100,100)",
      "metadata": {
        "trusted": true
      },
      "outputs": [],
      "execution_count": 456
    },
    {
      "cell_type": "code",
      "source": "ttt['Total'] = ttt['Python']+ttt['DataScience']+ttt['Biology']",
      "metadata": {
        "trusted": true
      },
      "outputs": [],
      "execution_count": 457
    },
    {
      "cell_type": "code",
      "source": "ttt['Percentage'] = ttt['Total']/3",
      "metadata": {
        "trusted": true
      },
      "outputs": [],
      "execution_count": 458
    },
    {
      "cell_type": "code",
      "source": "ttt",
      "metadata": {
        "trusted": true
      },
      "outputs": [
        {
          "execution_count": 459,
          "output_type": "execute_result",
          "data": {
            "text/plain": "     Python  DataScience  Biology  Total  Percentage\n100      61           44       91    196   65.333333\n101      78           92       59    229   76.333333\n102      61          117       87    265   88.333333\n103      86           70       70    226   75.333333\n104     111           84       49    244   81.333333\n105     109           81       82    272   90.666667\n106      61           65       39    165   55.000000\n107     117           60      114    291   97.000000\n108      85          119       67    271   90.333333\n109      61           31       29    121   40.333333\n110     105          100       99    304  101.333333\n111      61           43       69    173   57.666667\n112      61           57       29    147   49.000000\n113     110           98       71    279   93.000000\n114      61           97      110    268   89.333333\n115      85           98       86    269   89.666667\n116     106          106       58    270   90.000000\n117     105           43       88    236   78.666667\n118     108           99       37    244   81.333333\n119      61           77       22    160   53.333333\n120      67           93      110    270   90.000000\n121      76           56       24    156   52.000000\n122      81          112       50    243   81.000000\n123      61           83      108    252   84.000000\n124      63           45       84    192   64.000000\n125      98           30       63    191   63.666667\n126      61           77       65    203   67.666667\n127      61           90      119    270   90.000000\n128      61           96      116    273   91.000000\n129      85           58       99    242   80.666667\n130      91           62       32    185   61.666667\n131      84           43       49    176   58.666667\n132      61           96       73    230   76.666667\n133      61          114      109    284   94.666667\n134     106           98       53    257   85.666667\n135      67           69       33    169   56.333333\n136      61           94       29    184   61.333333\n137      61          111       41    213   71.000000\n138      81           67       73    221   73.666667\n139      61           80      111    252   84.000000\n140      61           78       73    212   70.666667\n141      70           27      104    201   67.000000\n142      61           44       31    136   45.333333\n143      91           66       82    239   79.666667\n144     110           73      115    298   99.333333\n145      73           80       82    235   78.333333\n146      61          105       60    226   75.333333\n147     113           67       42    222   74.000000\n148      61          113       26    200   66.666667\n149      96           56       72    224   74.666667\n150      76           83       44    203   67.666667\n155     100          100      100    300  100.000000",
            "text/html": "<div>\n<style scoped>\n    .dataframe tbody tr th:only-of-type {\n        vertical-align: middle;\n    }\n\n    .dataframe tbody tr th {\n        vertical-align: top;\n    }\n\n    .dataframe thead th {\n        text-align: right;\n    }\n</style>\n<table border=\"1\" class=\"dataframe\">\n  <thead>\n    <tr style=\"text-align: right;\">\n      <th></th>\n      <th>Python</th>\n      <th>DataScience</th>\n      <th>Biology</th>\n      <th>Total</th>\n      <th>Percentage</th>\n    </tr>\n  </thead>\n  <tbody>\n    <tr>\n      <th>100</th>\n      <td>61</td>\n      <td>44</td>\n      <td>91</td>\n      <td>196</td>\n      <td>65.333333</td>\n    </tr>\n    <tr>\n      <th>101</th>\n      <td>78</td>\n      <td>92</td>\n      <td>59</td>\n      <td>229</td>\n      <td>76.333333</td>\n    </tr>\n    <tr>\n      <th>102</th>\n      <td>61</td>\n      <td>117</td>\n      <td>87</td>\n      <td>265</td>\n      <td>88.333333</td>\n    </tr>\n    <tr>\n      <th>103</th>\n      <td>86</td>\n      <td>70</td>\n      <td>70</td>\n      <td>226</td>\n      <td>75.333333</td>\n    </tr>\n    <tr>\n      <th>104</th>\n      <td>111</td>\n      <td>84</td>\n      <td>49</td>\n      <td>244</td>\n      <td>81.333333</td>\n    </tr>\n    <tr>\n      <th>105</th>\n      <td>109</td>\n      <td>81</td>\n      <td>82</td>\n      <td>272</td>\n      <td>90.666667</td>\n    </tr>\n    <tr>\n      <th>106</th>\n      <td>61</td>\n      <td>65</td>\n      <td>39</td>\n      <td>165</td>\n      <td>55.000000</td>\n    </tr>\n    <tr>\n      <th>107</th>\n      <td>117</td>\n      <td>60</td>\n      <td>114</td>\n      <td>291</td>\n      <td>97.000000</td>\n    </tr>\n    <tr>\n      <th>108</th>\n      <td>85</td>\n      <td>119</td>\n      <td>67</td>\n      <td>271</td>\n      <td>90.333333</td>\n    </tr>\n    <tr>\n      <th>109</th>\n      <td>61</td>\n      <td>31</td>\n      <td>29</td>\n      <td>121</td>\n      <td>40.333333</td>\n    </tr>\n    <tr>\n      <th>110</th>\n      <td>105</td>\n      <td>100</td>\n      <td>99</td>\n      <td>304</td>\n      <td>101.333333</td>\n    </tr>\n    <tr>\n      <th>111</th>\n      <td>61</td>\n      <td>43</td>\n      <td>69</td>\n      <td>173</td>\n      <td>57.666667</td>\n    </tr>\n    <tr>\n      <th>112</th>\n      <td>61</td>\n      <td>57</td>\n      <td>29</td>\n      <td>147</td>\n      <td>49.000000</td>\n    </tr>\n    <tr>\n      <th>113</th>\n      <td>110</td>\n      <td>98</td>\n      <td>71</td>\n      <td>279</td>\n      <td>93.000000</td>\n    </tr>\n    <tr>\n      <th>114</th>\n      <td>61</td>\n      <td>97</td>\n      <td>110</td>\n      <td>268</td>\n      <td>89.333333</td>\n    </tr>\n    <tr>\n      <th>115</th>\n      <td>85</td>\n      <td>98</td>\n      <td>86</td>\n      <td>269</td>\n      <td>89.666667</td>\n    </tr>\n    <tr>\n      <th>116</th>\n      <td>106</td>\n      <td>106</td>\n      <td>58</td>\n      <td>270</td>\n      <td>90.000000</td>\n    </tr>\n    <tr>\n      <th>117</th>\n      <td>105</td>\n      <td>43</td>\n      <td>88</td>\n      <td>236</td>\n      <td>78.666667</td>\n    </tr>\n    <tr>\n      <th>118</th>\n      <td>108</td>\n      <td>99</td>\n      <td>37</td>\n      <td>244</td>\n      <td>81.333333</td>\n    </tr>\n    <tr>\n      <th>119</th>\n      <td>61</td>\n      <td>77</td>\n      <td>22</td>\n      <td>160</td>\n      <td>53.333333</td>\n    </tr>\n    <tr>\n      <th>120</th>\n      <td>67</td>\n      <td>93</td>\n      <td>110</td>\n      <td>270</td>\n      <td>90.000000</td>\n    </tr>\n    <tr>\n      <th>121</th>\n      <td>76</td>\n      <td>56</td>\n      <td>24</td>\n      <td>156</td>\n      <td>52.000000</td>\n    </tr>\n    <tr>\n      <th>122</th>\n      <td>81</td>\n      <td>112</td>\n      <td>50</td>\n      <td>243</td>\n      <td>81.000000</td>\n    </tr>\n    <tr>\n      <th>123</th>\n      <td>61</td>\n      <td>83</td>\n      <td>108</td>\n      <td>252</td>\n      <td>84.000000</td>\n    </tr>\n    <tr>\n      <th>124</th>\n      <td>63</td>\n      <td>45</td>\n      <td>84</td>\n      <td>192</td>\n      <td>64.000000</td>\n    </tr>\n    <tr>\n      <th>125</th>\n      <td>98</td>\n      <td>30</td>\n      <td>63</td>\n      <td>191</td>\n      <td>63.666667</td>\n    </tr>\n    <tr>\n      <th>126</th>\n      <td>61</td>\n      <td>77</td>\n      <td>65</td>\n      <td>203</td>\n      <td>67.666667</td>\n    </tr>\n    <tr>\n      <th>127</th>\n      <td>61</td>\n      <td>90</td>\n      <td>119</td>\n      <td>270</td>\n      <td>90.000000</td>\n    </tr>\n    <tr>\n      <th>128</th>\n      <td>61</td>\n      <td>96</td>\n      <td>116</td>\n      <td>273</td>\n      <td>91.000000</td>\n    </tr>\n    <tr>\n      <th>129</th>\n      <td>85</td>\n      <td>58</td>\n      <td>99</td>\n      <td>242</td>\n      <td>80.666667</td>\n    </tr>\n    <tr>\n      <th>130</th>\n      <td>91</td>\n      <td>62</td>\n      <td>32</td>\n      <td>185</td>\n      <td>61.666667</td>\n    </tr>\n    <tr>\n      <th>131</th>\n      <td>84</td>\n      <td>43</td>\n      <td>49</td>\n      <td>176</td>\n      <td>58.666667</td>\n    </tr>\n    <tr>\n      <th>132</th>\n      <td>61</td>\n      <td>96</td>\n      <td>73</td>\n      <td>230</td>\n      <td>76.666667</td>\n    </tr>\n    <tr>\n      <th>133</th>\n      <td>61</td>\n      <td>114</td>\n      <td>109</td>\n      <td>284</td>\n      <td>94.666667</td>\n    </tr>\n    <tr>\n      <th>134</th>\n      <td>106</td>\n      <td>98</td>\n      <td>53</td>\n      <td>257</td>\n      <td>85.666667</td>\n    </tr>\n    <tr>\n      <th>135</th>\n      <td>67</td>\n      <td>69</td>\n      <td>33</td>\n      <td>169</td>\n      <td>56.333333</td>\n    </tr>\n    <tr>\n      <th>136</th>\n      <td>61</td>\n      <td>94</td>\n      <td>29</td>\n      <td>184</td>\n      <td>61.333333</td>\n    </tr>\n    <tr>\n      <th>137</th>\n      <td>61</td>\n      <td>111</td>\n      <td>41</td>\n      <td>213</td>\n      <td>71.000000</td>\n    </tr>\n    <tr>\n      <th>138</th>\n      <td>81</td>\n      <td>67</td>\n      <td>73</td>\n      <td>221</td>\n      <td>73.666667</td>\n    </tr>\n    <tr>\n      <th>139</th>\n      <td>61</td>\n      <td>80</td>\n      <td>111</td>\n      <td>252</td>\n      <td>84.000000</td>\n    </tr>\n    <tr>\n      <th>140</th>\n      <td>61</td>\n      <td>78</td>\n      <td>73</td>\n      <td>212</td>\n      <td>70.666667</td>\n    </tr>\n    <tr>\n      <th>141</th>\n      <td>70</td>\n      <td>27</td>\n      <td>104</td>\n      <td>201</td>\n      <td>67.000000</td>\n    </tr>\n    <tr>\n      <th>142</th>\n      <td>61</td>\n      <td>44</td>\n      <td>31</td>\n      <td>136</td>\n      <td>45.333333</td>\n    </tr>\n    <tr>\n      <th>143</th>\n      <td>91</td>\n      <td>66</td>\n      <td>82</td>\n      <td>239</td>\n      <td>79.666667</td>\n    </tr>\n    <tr>\n      <th>144</th>\n      <td>110</td>\n      <td>73</td>\n      <td>115</td>\n      <td>298</td>\n      <td>99.333333</td>\n    </tr>\n    <tr>\n      <th>145</th>\n      <td>73</td>\n      <td>80</td>\n      <td>82</td>\n      <td>235</td>\n      <td>78.333333</td>\n    </tr>\n    <tr>\n      <th>146</th>\n      <td>61</td>\n      <td>105</td>\n      <td>60</td>\n      <td>226</td>\n      <td>75.333333</td>\n    </tr>\n    <tr>\n      <th>147</th>\n      <td>113</td>\n      <td>67</td>\n      <td>42</td>\n      <td>222</td>\n      <td>74.000000</td>\n    </tr>\n    <tr>\n      <th>148</th>\n      <td>61</td>\n      <td>113</td>\n      <td>26</td>\n      <td>200</td>\n      <td>66.666667</td>\n    </tr>\n    <tr>\n      <th>149</th>\n      <td>96</td>\n      <td>56</td>\n      <td>72</td>\n      <td>224</td>\n      <td>74.666667</td>\n    </tr>\n    <tr>\n      <th>150</th>\n      <td>76</td>\n      <td>83</td>\n      <td>44</td>\n      <td>203</td>\n      <td>67.666667</td>\n    </tr>\n    <tr>\n      <th>155</th>\n      <td>100</td>\n      <td>100</td>\n      <td>100</td>\n      <td>300</td>\n      <td>100.000000</td>\n    </tr>\n  </tbody>\n</table>\n</div>"
          },
          "metadata": {}
        }
      ],
      "execution_count": 459
    },
    {
      "cell_type": "code",
      "source": "ttt['Percentage'] = np.ceil(ttt['Percentage'])\n",
      "metadata": {
        "trusted": true
      },
      "outputs": [],
      "execution_count": 460
    },
    {
      "cell_type": "code",
      "source": "ttt['Status'] = np.where(ttt['Percentage']>40, 'Pass','Fail')",
      "metadata": {
        "trusted": true
      },
      "outputs": [],
      "execution_count": 461
    },
    {
      "cell_type": "code",
      "source": "ttt",
      "metadata": {
        "trusted": true
      },
      "outputs": [
        {
          "execution_count": 462,
          "output_type": "execute_result",
          "data": {
            "text/plain": "     Python  DataScience  Biology  Total  Percentage Status\n100      61           44       91    196        66.0   Pass\n101      78           92       59    229        77.0   Pass\n102      61          117       87    265        89.0   Pass\n103      86           70       70    226        76.0   Pass\n104     111           84       49    244        82.0   Pass\n105     109           81       82    272        91.0   Pass\n106      61           65       39    165        55.0   Pass\n107     117           60      114    291        97.0   Pass\n108      85          119       67    271        91.0   Pass\n109      61           31       29    121        41.0   Pass\n110     105          100       99    304       102.0   Pass\n111      61           43       69    173        58.0   Pass\n112      61           57       29    147        49.0   Pass\n113     110           98       71    279        93.0   Pass\n114      61           97      110    268        90.0   Pass\n115      85           98       86    269        90.0   Pass\n116     106          106       58    270        90.0   Pass\n117     105           43       88    236        79.0   Pass\n118     108           99       37    244        82.0   Pass\n119      61           77       22    160        54.0   Pass\n120      67           93      110    270        90.0   Pass\n121      76           56       24    156        52.0   Pass\n122      81          112       50    243        81.0   Pass\n123      61           83      108    252        84.0   Pass\n124      63           45       84    192        64.0   Pass\n125      98           30       63    191        64.0   Pass\n126      61           77       65    203        68.0   Pass\n127      61           90      119    270        90.0   Pass\n128      61           96      116    273        91.0   Pass\n129      85           58       99    242        81.0   Pass\n130      91           62       32    185        62.0   Pass\n131      84           43       49    176        59.0   Pass\n132      61           96       73    230        77.0   Pass\n133      61          114      109    284        95.0   Pass\n134     106           98       53    257        86.0   Pass\n135      67           69       33    169        57.0   Pass\n136      61           94       29    184        62.0   Pass\n137      61          111       41    213        71.0   Pass\n138      81           67       73    221        74.0   Pass\n139      61           80      111    252        84.0   Pass\n140      61           78       73    212        71.0   Pass\n141      70           27      104    201        67.0   Pass\n142      61           44       31    136        46.0   Pass\n143      91           66       82    239        80.0   Pass\n144     110           73      115    298       100.0   Pass\n145      73           80       82    235        79.0   Pass\n146      61          105       60    226        76.0   Pass\n147     113           67       42    222        74.0   Pass\n148      61          113       26    200        67.0   Pass\n149      96           56       72    224        75.0   Pass\n150      76           83       44    203        68.0   Pass\n155     100          100      100    300       100.0   Pass",
            "text/html": "<div>\n<style scoped>\n    .dataframe tbody tr th:only-of-type {\n        vertical-align: middle;\n    }\n\n    .dataframe tbody tr th {\n        vertical-align: top;\n    }\n\n    .dataframe thead th {\n        text-align: right;\n    }\n</style>\n<table border=\"1\" class=\"dataframe\">\n  <thead>\n    <tr style=\"text-align: right;\">\n      <th></th>\n      <th>Python</th>\n      <th>DataScience</th>\n      <th>Biology</th>\n      <th>Total</th>\n      <th>Percentage</th>\n      <th>Status</th>\n    </tr>\n  </thead>\n  <tbody>\n    <tr>\n      <th>100</th>\n      <td>61</td>\n      <td>44</td>\n      <td>91</td>\n      <td>196</td>\n      <td>66.0</td>\n      <td>Pass</td>\n    </tr>\n    <tr>\n      <th>101</th>\n      <td>78</td>\n      <td>92</td>\n      <td>59</td>\n      <td>229</td>\n      <td>77.0</td>\n      <td>Pass</td>\n    </tr>\n    <tr>\n      <th>102</th>\n      <td>61</td>\n      <td>117</td>\n      <td>87</td>\n      <td>265</td>\n      <td>89.0</td>\n      <td>Pass</td>\n    </tr>\n    <tr>\n      <th>103</th>\n      <td>86</td>\n      <td>70</td>\n      <td>70</td>\n      <td>226</td>\n      <td>76.0</td>\n      <td>Pass</td>\n    </tr>\n    <tr>\n      <th>104</th>\n      <td>111</td>\n      <td>84</td>\n      <td>49</td>\n      <td>244</td>\n      <td>82.0</td>\n      <td>Pass</td>\n    </tr>\n    <tr>\n      <th>105</th>\n      <td>109</td>\n      <td>81</td>\n      <td>82</td>\n      <td>272</td>\n      <td>91.0</td>\n      <td>Pass</td>\n    </tr>\n    <tr>\n      <th>106</th>\n      <td>61</td>\n      <td>65</td>\n      <td>39</td>\n      <td>165</td>\n      <td>55.0</td>\n      <td>Pass</td>\n    </tr>\n    <tr>\n      <th>107</th>\n      <td>117</td>\n      <td>60</td>\n      <td>114</td>\n      <td>291</td>\n      <td>97.0</td>\n      <td>Pass</td>\n    </tr>\n    <tr>\n      <th>108</th>\n      <td>85</td>\n      <td>119</td>\n      <td>67</td>\n      <td>271</td>\n      <td>91.0</td>\n      <td>Pass</td>\n    </tr>\n    <tr>\n      <th>109</th>\n      <td>61</td>\n      <td>31</td>\n      <td>29</td>\n      <td>121</td>\n      <td>41.0</td>\n      <td>Pass</td>\n    </tr>\n    <tr>\n      <th>110</th>\n      <td>105</td>\n      <td>100</td>\n      <td>99</td>\n      <td>304</td>\n      <td>102.0</td>\n      <td>Pass</td>\n    </tr>\n    <tr>\n      <th>111</th>\n      <td>61</td>\n      <td>43</td>\n      <td>69</td>\n      <td>173</td>\n      <td>58.0</td>\n      <td>Pass</td>\n    </tr>\n    <tr>\n      <th>112</th>\n      <td>61</td>\n      <td>57</td>\n      <td>29</td>\n      <td>147</td>\n      <td>49.0</td>\n      <td>Pass</td>\n    </tr>\n    <tr>\n      <th>113</th>\n      <td>110</td>\n      <td>98</td>\n      <td>71</td>\n      <td>279</td>\n      <td>93.0</td>\n      <td>Pass</td>\n    </tr>\n    <tr>\n      <th>114</th>\n      <td>61</td>\n      <td>97</td>\n      <td>110</td>\n      <td>268</td>\n      <td>90.0</td>\n      <td>Pass</td>\n    </tr>\n    <tr>\n      <th>115</th>\n      <td>85</td>\n      <td>98</td>\n      <td>86</td>\n      <td>269</td>\n      <td>90.0</td>\n      <td>Pass</td>\n    </tr>\n    <tr>\n      <th>116</th>\n      <td>106</td>\n      <td>106</td>\n      <td>58</td>\n      <td>270</td>\n      <td>90.0</td>\n      <td>Pass</td>\n    </tr>\n    <tr>\n      <th>117</th>\n      <td>105</td>\n      <td>43</td>\n      <td>88</td>\n      <td>236</td>\n      <td>79.0</td>\n      <td>Pass</td>\n    </tr>\n    <tr>\n      <th>118</th>\n      <td>108</td>\n      <td>99</td>\n      <td>37</td>\n      <td>244</td>\n      <td>82.0</td>\n      <td>Pass</td>\n    </tr>\n    <tr>\n      <th>119</th>\n      <td>61</td>\n      <td>77</td>\n      <td>22</td>\n      <td>160</td>\n      <td>54.0</td>\n      <td>Pass</td>\n    </tr>\n    <tr>\n      <th>120</th>\n      <td>67</td>\n      <td>93</td>\n      <td>110</td>\n      <td>270</td>\n      <td>90.0</td>\n      <td>Pass</td>\n    </tr>\n    <tr>\n      <th>121</th>\n      <td>76</td>\n      <td>56</td>\n      <td>24</td>\n      <td>156</td>\n      <td>52.0</td>\n      <td>Pass</td>\n    </tr>\n    <tr>\n      <th>122</th>\n      <td>81</td>\n      <td>112</td>\n      <td>50</td>\n      <td>243</td>\n      <td>81.0</td>\n      <td>Pass</td>\n    </tr>\n    <tr>\n      <th>123</th>\n      <td>61</td>\n      <td>83</td>\n      <td>108</td>\n      <td>252</td>\n      <td>84.0</td>\n      <td>Pass</td>\n    </tr>\n    <tr>\n      <th>124</th>\n      <td>63</td>\n      <td>45</td>\n      <td>84</td>\n      <td>192</td>\n      <td>64.0</td>\n      <td>Pass</td>\n    </tr>\n    <tr>\n      <th>125</th>\n      <td>98</td>\n      <td>30</td>\n      <td>63</td>\n      <td>191</td>\n      <td>64.0</td>\n      <td>Pass</td>\n    </tr>\n    <tr>\n      <th>126</th>\n      <td>61</td>\n      <td>77</td>\n      <td>65</td>\n      <td>203</td>\n      <td>68.0</td>\n      <td>Pass</td>\n    </tr>\n    <tr>\n      <th>127</th>\n      <td>61</td>\n      <td>90</td>\n      <td>119</td>\n      <td>270</td>\n      <td>90.0</td>\n      <td>Pass</td>\n    </tr>\n    <tr>\n      <th>128</th>\n      <td>61</td>\n      <td>96</td>\n      <td>116</td>\n      <td>273</td>\n      <td>91.0</td>\n      <td>Pass</td>\n    </tr>\n    <tr>\n      <th>129</th>\n      <td>85</td>\n      <td>58</td>\n      <td>99</td>\n      <td>242</td>\n      <td>81.0</td>\n      <td>Pass</td>\n    </tr>\n    <tr>\n      <th>130</th>\n      <td>91</td>\n      <td>62</td>\n      <td>32</td>\n      <td>185</td>\n      <td>62.0</td>\n      <td>Pass</td>\n    </tr>\n    <tr>\n      <th>131</th>\n      <td>84</td>\n      <td>43</td>\n      <td>49</td>\n      <td>176</td>\n      <td>59.0</td>\n      <td>Pass</td>\n    </tr>\n    <tr>\n      <th>132</th>\n      <td>61</td>\n      <td>96</td>\n      <td>73</td>\n      <td>230</td>\n      <td>77.0</td>\n      <td>Pass</td>\n    </tr>\n    <tr>\n      <th>133</th>\n      <td>61</td>\n      <td>114</td>\n      <td>109</td>\n      <td>284</td>\n      <td>95.0</td>\n      <td>Pass</td>\n    </tr>\n    <tr>\n      <th>134</th>\n      <td>106</td>\n      <td>98</td>\n      <td>53</td>\n      <td>257</td>\n      <td>86.0</td>\n      <td>Pass</td>\n    </tr>\n    <tr>\n      <th>135</th>\n      <td>67</td>\n      <td>69</td>\n      <td>33</td>\n      <td>169</td>\n      <td>57.0</td>\n      <td>Pass</td>\n    </tr>\n    <tr>\n      <th>136</th>\n      <td>61</td>\n      <td>94</td>\n      <td>29</td>\n      <td>184</td>\n      <td>62.0</td>\n      <td>Pass</td>\n    </tr>\n    <tr>\n      <th>137</th>\n      <td>61</td>\n      <td>111</td>\n      <td>41</td>\n      <td>213</td>\n      <td>71.0</td>\n      <td>Pass</td>\n    </tr>\n    <tr>\n      <th>138</th>\n      <td>81</td>\n      <td>67</td>\n      <td>73</td>\n      <td>221</td>\n      <td>74.0</td>\n      <td>Pass</td>\n    </tr>\n    <tr>\n      <th>139</th>\n      <td>61</td>\n      <td>80</td>\n      <td>111</td>\n      <td>252</td>\n      <td>84.0</td>\n      <td>Pass</td>\n    </tr>\n    <tr>\n      <th>140</th>\n      <td>61</td>\n      <td>78</td>\n      <td>73</td>\n      <td>212</td>\n      <td>71.0</td>\n      <td>Pass</td>\n    </tr>\n    <tr>\n      <th>141</th>\n      <td>70</td>\n      <td>27</td>\n      <td>104</td>\n      <td>201</td>\n      <td>67.0</td>\n      <td>Pass</td>\n    </tr>\n    <tr>\n      <th>142</th>\n      <td>61</td>\n      <td>44</td>\n      <td>31</td>\n      <td>136</td>\n      <td>46.0</td>\n      <td>Pass</td>\n    </tr>\n    <tr>\n      <th>143</th>\n      <td>91</td>\n      <td>66</td>\n      <td>82</td>\n      <td>239</td>\n      <td>80.0</td>\n      <td>Pass</td>\n    </tr>\n    <tr>\n      <th>144</th>\n      <td>110</td>\n      <td>73</td>\n      <td>115</td>\n      <td>298</td>\n      <td>100.0</td>\n      <td>Pass</td>\n    </tr>\n    <tr>\n      <th>145</th>\n      <td>73</td>\n      <td>80</td>\n      <td>82</td>\n      <td>235</td>\n      <td>79.0</td>\n      <td>Pass</td>\n    </tr>\n    <tr>\n      <th>146</th>\n      <td>61</td>\n      <td>105</td>\n      <td>60</td>\n      <td>226</td>\n      <td>76.0</td>\n      <td>Pass</td>\n    </tr>\n    <tr>\n      <th>147</th>\n      <td>113</td>\n      <td>67</td>\n      <td>42</td>\n      <td>222</td>\n      <td>74.0</td>\n      <td>Pass</td>\n    </tr>\n    <tr>\n      <th>148</th>\n      <td>61</td>\n      <td>113</td>\n      <td>26</td>\n      <td>200</td>\n      <td>67.0</td>\n      <td>Pass</td>\n    </tr>\n    <tr>\n      <th>149</th>\n      <td>96</td>\n      <td>56</td>\n      <td>72</td>\n      <td>224</td>\n      <td>75.0</td>\n      <td>Pass</td>\n    </tr>\n    <tr>\n      <th>150</th>\n      <td>76</td>\n      <td>83</td>\n      <td>44</td>\n      <td>203</td>\n      <td>68.0</td>\n      <td>Pass</td>\n    </tr>\n    <tr>\n      <th>155</th>\n      <td>100</td>\n      <td>100</td>\n      <td>100</td>\n      <td>300</td>\n      <td>100.0</td>\n      <td>Pass</td>\n    </tr>\n  </tbody>\n</table>\n</div>"
          },
          "metadata": {}
        }
      ],
      "execution_count": 462
    },
    {
      "cell_type": "code",
      "source": "ttt.sum()",
      "metadata": {
        "trusted": true
      },
      "outputs": [
        {
          "execution_count": 463,
          "output_type": "execute_result",
          "data": {
            "text/plain": "Python                                                      4114\nDataScience                                                 4047\nBiology                                                     3628\nTotal                                                      11789\nPercentage                                                3947.0\nStatus         PassPassPassPassPassPassPassPassPassPassPassPa...\ndtype: object"
          },
          "metadata": {}
        }
      ],
      "execution_count": 463
    },
    {
      "cell_type": "code",
      "source": "ttt.max()",
      "metadata": {
        "trusted": true
      },
      "outputs": [
        {
          "execution_count": 464,
          "output_type": "execute_result",
          "data": {
            "text/plain": "Python           117\nDataScience      119\nBiology          119\nTotal            304\nPercentage     102.0\nStatus          Pass\ndtype: object"
          },
          "metadata": {}
        }
      ],
      "execution_count": 464
    },
    {
      "cell_type": "code",
      "source": "ttt.min()",
      "metadata": {
        "trusted": true
      },
      "outputs": [
        {
          "execution_count": 465,
          "output_type": "execute_result",
          "data": {
            "text/plain": "Python           61\nDataScience      27\nBiology          22\nTotal           121\nPercentage     41.0\nStatus         Pass\ndtype: object"
          },
          "metadata": {}
        }
      ],
      "execution_count": 465
    },
    {
      "cell_type": "code",
      "source": "ttt.std()",
      "metadata": {
        "trusted": true
      },
      "outputs": [
        {
          "name": "stderr",
          "text": "<ipython-input-466-d44d9ab196e3>:1: FutureWarning: The default value of numeric_only in DataFrame.std is deprecated. In a future version, it will default to False. In addition, specifying 'numeric_only=None' is deprecated. Select only valid columns or specify the value of numeric_only to silence this warning.\n  ttt.std()\n",
          "output_type": "stream"
        },
        {
          "execution_count": 466,
          "output_type": "execute_result",
          "data": {
            "text/plain": "Python         19.377219\nDataScience    24.784341\nBiology        29.416959\nTotal          45.306077\nPercentage     15.072712\ndtype: float64"
          },
          "metadata": {}
        }
      ],
      "execution_count": 466
    },
    {
      "cell_type": "code",
      "source": "ttt.var()",
      "metadata": {
        "trusted": true
      },
      "outputs": [
        {
          "name": "stderr",
          "text": "<ipython-input-467-684170ef8824>:1: FutureWarning: The default value of numeric_only in DataFrame.var is deprecated. In a future version, it will default to False. In addition, specifying 'numeric_only=None' is deprecated. Select only valid columns or specify the value of numeric_only to silence this warning.\n  ttt.var()\n",
          "output_type": "stream"
        },
        {
          "execution_count": 467,
          "output_type": "execute_result",
          "data": {
            "text/plain": "Python          375.476621\nDataScience     614.263575\nBiology         865.357466\nTotal          2052.640649\nPercentage      227.186652\ndtype: float64"
          },
          "metadata": {}
        }
      ],
      "execution_count": 467
    },
    {
      "cell_type": "code",
      "source": "ttt.describe()",
      "metadata": {
        "trusted": true
      },
      "outputs": [
        {
          "execution_count": 468,
          "output_type": "execute_result",
          "data": {
            "text/plain": "           Python  DataScience     Biology       Total  Percentage\ncount   52.000000    52.000000   52.000000   52.000000   52.000000\nmean    79.115385    77.826923   69.769231  226.711538   75.903846\nstd     19.377219    24.784341   29.416959   45.306077   15.072712\nmin     61.000000    27.000000   22.000000  121.000000   41.000000\n25%     61.000000    59.500000   43.500000  195.000000   65.500000\n50%     74.500000    80.000000   70.500000  229.500000   77.000000\n75%     96.500000    98.000000   93.000000  268.250000   90.000000\nmax    117.000000   119.000000  119.000000  304.000000  102.000000",
            "text/html": "<div>\n<style scoped>\n    .dataframe tbody tr th:only-of-type {\n        vertical-align: middle;\n    }\n\n    .dataframe tbody tr th {\n        vertical-align: top;\n    }\n\n    .dataframe thead th {\n        text-align: right;\n    }\n</style>\n<table border=\"1\" class=\"dataframe\">\n  <thead>\n    <tr style=\"text-align: right;\">\n      <th></th>\n      <th>Python</th>\n      <th>DataScience</th>\n      <th>Biology</th>\n      <th>Total</th>\n      <th>Percentage</th>\n    </tr>\n  </thead>\n  <tbody>\n    <tr>\n      <th>count</th>\n      <td>52.000000</td>\n      <td>52.000000</td>\n      <td>52.000000</td>\n      <td>52.000000</td>\n      <td>52.000000</td>\n    </tr>\n    <tr>\n      <th>mean</th>\n      <td>79.115385</td>\n      <td>77.826923</td>\n      <td>69.769231</td>\n      <td>226.711538</td>\n      <td>75.903846</td>\n    </tr>\n    <tr>\n      <th>std</th>\n      <td>19.377219</td>\n      <td>24.784341</td>\n      <td>29.416959</td>\n      <td>45.306077</td>\n      <td>15.072712</td>\n    </tr>\n    <tr>\n      <th>min</th>\n      <td>61.000000</td>\n      <td>27.000000</td>\n      <td>22.000000</td>\n      <td>121.000000</td>\n      <td>41.000000</td>\n    </tr>\n    <tr>\n      <th>25%</th>\n      <td>61.000000</td>\n      <td>59.500000</td>\n      <td>43.500000</td>\n      <td>195.000000</td>\n      <td>65.500000</td>\n    </tr>\n    <tr>\n      <th>50%</th>\n      <td>74.500000</td>\n      <td>80.000000</td>\n      <td>70.500000</td>\n      <td>229.500000</td>\n      <td>77.000000</td>\n    </tr>\n    <tr>\n      <th>75%</th>\n      <td>96.500000</td>\n      <td>98.000000</td>\n      <td>93.000000</td>\n      <td>268.250000</td>\n      <td>90.000000</td>\n    </tr>\n    <tr>\n      <th>max</th>\n      <td>117.000000</td>\n      <td>119.000000</td>\n      <td>119.000000</td>\n      <td>304.000000</td>\n      <td>102.000000</td>\n    </tr>\n  </tbody>\n</table>\n</div>"
          },
          "metadata": {}
        }
      ],
      "execution_count": 468
    },
    {
      "cell_type": "code",
      "source": "dic = tto.to_dict(orient =  'list')\ndic",
      "metadata": {
        "trusted": true
      },
      "outputs": [
        {
          "execution_count": 469,
          "output_type": "execute_result",
          "data": {
            "text/plain": "{'ProductId': [8, 65, 60, 91, 34],\n 'ProductName': [71, 66, 54, 51, 26],\n 'ProductPrice': [56, 24, 6, 25, 18]}"
          },
          "metadata": {}
        }
      ],
      "execution_count": 469
    },
    {
      "cell_type": "code",
      "source": "new = pd.DataFrame(dic)",
      "metadata": {
        "trusted": true
      },
      "outputs": [],
      "execution_count": 470
    },
    {
      "cell_type": "code",
      "source": "new  ['ProductPrice']= new['ProductPrice']+500",
      "metadata": {
        "trusted": true
      },
      "outputs": [],
      "execution_count": 471
    },
    {
      "cell_type": "code",
      "source": "new",
      "metadata": {
        "trusted": true
      },
      "outputs": [
        {
          "execution_count": 472,
          "output_type": "execute_result",
          "data": {
            "text/plain": "   ProductId  ProductName  ProductPrice\n0          8           71           556\n1         65           66           524\n2         60           54           506\n3         91           51           525\n4         34           26           518",
            "text/html": "<div>\n<style scoped>\n    .dataframe tbody tr th:only-of-type {\n        vertical-align: middle;\n    }\n\n    .dataframe tbody tr th {\n        vertical-align: top;\n    }\n\n    .dataframe thead th {\n        text-align: right;\n    }\n</style>\n<table border=\"1\" class=\"dataframe\">\n  <thead>\n    <tr style=\"text-align: right;\">\n      <th></th>\n      <th>ProductId</th>\n      <th>ProductName</th>\n      <th>ProductPrice</th>\n    </tr>\n  </thead>\n  <tbody>\n    <tr>\n      <th>0</th>\n      <td>8</td>\n      <td>71</td>\n      <td>556</td>\n    </tr>\n    <tr>\n      <th>1</th>\n      <td>65</td>\n      <td>66</td>\n      <td>524</td>\n    </tr>\n    <tr>\n      <th>2</th>\n      <td>60</td>\n      <td>54</td>\n      <td>506</td>\n    </tr>\n    <tr>\n      <th>3</th>\n      <td>91</td>\n      <td>51</td>\n      <td>525</td>\n    </tr>\n    <tr>\n      <th>4</th>\n      <td>34</td>\n      <td>26</td>\n      <td>518</td>\n    </tr>\n  </tbody>\n</table>\n</div>"
          },
          "metadata": {}
        }
      ],
      "execution_count": 472
    },
    {
      "cell_type": "code",
      "source": "sd= [19, 96, 76, 49, 92]\n\npd.Series(sd,index = (\"A B C D E\").split())",
      "metadata": {
        "trusted": true
      },
      "outputs": [
        {
          "execution_count": 473,
          "output_type": "execute_result",
          "data": {
            "text/plain": "A    19\nB    96\nC    76\nD    49\nE    92\ndtype: int64"
          },
          "metadata": {}
        }
      ],
      "execution_count": 473
    },
    {
      "cell_type": "code",
      "source": "sal  = pd.read_csv(\"Salaries.csv\")",
      "metadata": {
        "trusted": true
      },
      "outputs": [
        {
          "name": "stderr",
          "text": "<ipython-input-474-41c849ca0860>:1: DtypeWarning: Columns (3,4,5,6,12) have mixed types. Specify dtype option on import or set low_memory=False.\n  sal  = pd.read_csv(\"Salaries.csv\")\n",
          "output_type": "stream"
        }
      ],
      "execution_count": 474
    },
    {
      "cell_type": "code",
      "source": "sal",
      "metadata": {
        "trusted": true
      },
      "outputs": [
        {
          "execution_count": 475,
          "output_type": "execute_result",
          "data": {
            "text/plain": "            Id       EmployeeName  \\\n0            1     NATHANIEL FORD   \n1            2       GARY JIMENEZ   \n2            3     ALBERT PARDINI   \n3            4  CHRISTOPHER CHONG   \n4            5    PATRICK GARDNER   \n...        ...                ...   \n148649  148650      Roy I Tillery   \n148650  148651       Not provided   \n148651  148652       Not provided   \n148652  148653       Not provided   \n148653  148654          Joe Lopez   \n\n                                              JobTitle       BasePay  \\\n0       GENERAL MANAGER-METROPOLITAN TRANSIT AUTHORITY     167411.18   \n1                      CAPTAIN III (POLICE DEPARTMENT)     155966.02   \n2                      CAPTAIN III (POLICE DEPARTMENT)     212739.13   \n3                 WIRE ROPE CABLE MAINTENANCE MECHANIC       77916.0   \n4         DEPUTY CHIEF OF DEPARTMENT,(FIRE DEPARTMENT)      134401.6   \n...                                                ...           ...   \n148649                                       Custodian          0.00   \n148650                                    Not provided  Not Provided   \n148651                                    Not provided  Not Provided   \n148652                                    Not provided  Not Provided   \n148653                      Counselor, Log Cabin Ranch          0.00   \n\n         OvertimePay      OtherPay      Benefits   TotalPay  TotalPayBenefits  \\\n0                0.0     400184.25           NaN  567595.43         567595.43   \n1          245131.88     137811.38           NaN  538909.28         538909.28   \n2          106088.18       16452.6           NaN  335279.91         335279.91   \n3           56120.71      198306.9           NaN  332343.61         332343.61   \n4             9737.0     182234.59           NaN  326373.19         326373.19   \n...              ...           ...           ...        ...               ...   \n148649          0.00          0.00          0.00       0.00              0.00   \n148650  Not Provided  Not Provided  Not Provided       0.00              0.00   \n148651  Not Provided  Not Provided  Not Provided       0.00              0.00   \n148652  Not Provided  Not Provided  Not Provided       0.00              0.00   \n148653          0.00       -618.13          0.00    -618.13           -618.13   \n\n        Year  Notes         Agency Status  \n0       2011    NaN  San Francisco    NaN  \n1       2011    NaN  San Francisco    NaN  \n2       2011    NaN  San Francisco    NaN  \n3       2011    NaN  San Francisco    NaN  \n4       2011    NaN  San Francisco    NaN  \n...      ...    ...            ...    ...  \n148649  2014    NaN  San Francisco     PT  \n148650  2014    NaN  San Francisco    NaN  \n148651  2014    NaN  San Francisco    NaN  \n148652  2014    NaN  San Francisco    NaN  \n148653  2014    NaN  San Francisco     PT  \n\n[148654 rows x 13 columns]",
            "text/html": "<div>\n<style scoped>\n    .dataframe tbody tr th:only-of-type {\n        vertical-align: middle;\n    }\n\n    .dataframe tbody tr th {\n        vertical-align: top;\n    }\n\n    .dataframe thead th {\n        text-align: right;\n    }\n</style>\n<table border=\"1\" class=\"dataframe\">\n  <thead>\n    <tr style=\"text-align: right;\">\n      <th></th>\n      <th>Id</th>\n      <th>EmployeeName</th>\n      <th>JobTitle</th>\n      <th>BasePay</th>\n      <th>OvertimePay</th>\n      <th>OtherPay</th>\n      <th>Benefits</th>\n      <th>TotalPay</th>\n      <th>TotalPayBenefits</th>\n      <th>Year</th>\n      <th>Notes</th>\n      <th>Agency</th>\n      <th>Status</th>\n    </tr>\n  </thead>\n  <tbody>\n    <tr>\n      <th>0</th>\n      <td>1</td>\n      <td>NATHANIEL FORD</td>\n      <td>GENERAL MANAGER-METROPOLITAN TRANSIT AUTHORITY</td>\n      <td>167411.18</td>\n      <td>0.0</td>\n      <td>400184.25</td>\n      <td>NaN</td>\n      <td>567595.43</td>\n      <td>567595.43</td>\n      <td>2011</td>\n      <td>NaN</td>\n      <td>San Francisco</td>\n      <td>NaN</td>\n    </tr>\n    <tr>\n      <th>1</th>\n      <td>2</td>\n      <td>GARY JIMENEZ</td>\n      <td>CAPTAIN III (POLICE DEPARTMENT)</td>\n      <td>155966.02</td>\n      <td>245131.88</td>\n      <td>137811.38</td>\n      <td>NaN</td>\n      <td>538909.28</td>\n      <td>538909.28</td>\n      <td>2011</td>\n      <td>NaN</td>\n      <td>San Francisco</td>\n      <td>NaN</td>\n    </tr>\n    <tr>\n      <th>2</th>\n      <td>3</td>\n      <td>ALBERT PARDINI</td>\n      <td>CAPTAIN III (POLICE DEPARTMENT)</td>\n      <td>212739.13</td>\n      <td>106088.18</td>\n      <td>16452.6</td>\n      <td>NaN</td>\n      <td>335279.91</td>\n      <td>335279.91</td>\n      <td>2011</td>\n      <td>NaN</td>\n      <td>San Francisco</td>\n      <td>NaN</td>\n    </tr>\n    <tr>\n      <th>3</th>\n      <td>4</td>\n      <td>CHRISTOPHER CHONG</td>\n      <td>WIRE ROPE CABLE MAINTENANCE MECHANIC</td>\n      <td>77916.0</td>\n      <td>56120.71</td>\n      <td>198306.9</td>\n      <td>NaN</td>\n      <td>332343.61</td>\n      <td>332343.61</td>\n      <td>2011</td>\n      <td>NaN</td>\n      <td>San Francisco</td>\n      <td>NaN</td>\n    </tr>\n    <tr>\n      <th>4</th>\n      <td>5</td>\n      <td>PATRICK GARDNER</td>\n      <td>DEPUTY CHIEF OF DEPARTMENT,(FIRE DEPARTMENT)</td>\n      <td>134401.6</td>\n      <td>9737.0</td>\n      <td>182234.59</td>\n      <td>NaN</td>\n      <td>326373.19</td>\n      <td>326373.19</td>\n      <td>2011</td>\n      <td>NaN</td>\n      <td>San Francisco</td>\n      <td>NaN</td>\n    </tr>\n    <tr>\n      <th>...</th>\n      <td>...</td>\n      <td>...</td>\n      <td>...</td>\n      <td>...</td>\n      <td>...</td>\n      <td>...</td>\n      <td>...</td>\n      <td>...</td>\n      <td>...</td>\n      <td>...</td>\n      <td>...</td>\n      <td>...</td>\n      <td>...</td>\n    </tr>\n    <tr>\n      <th>148649</th>\n      <td>148650</td>\n      <td>Roy I Tillery</td>\n      <td>Custodian</td>\n      <td>0.00</td>\n      <td>0.00</td>\n      <td>0.00</td>\n      <td>0.00</td>\n      <td>0.00</td>\n      <td>0.00</td>\n      <td>2014</td>\n      <td>NaN</td>\n      <td>San Francisco</td>\n      <td>PT</td>\n    </tr>\n    <tr>\n      <th>148650</th>\n      <td>148651</td>\n      <td>Not provided</td>\n      <td>Not provided</td>\n      <td>Not Provided</td>\n      <td>Not Provided</td>\n      <td>Not Provided</td>\n      <td>Not Provided</td>\n      <td>0.00</td>\n      <td>0.00</td>\n      <td>2014</td>\n      <td>NaN</td>\n      <td>San Francisco</td>\n      <td>NaN</td>\n    </tr>\n    <tr>\n      <th>148651</th>\n      <td>148652</td>\n      <td>Not provided</td>\n      <td>Not provided</td>\n      <td>Not Provided</td>\n      <td>Not Provided</td>\n      <td>Not Provided</td>\n      <td>Not Provided</td>\n      <td>0.00</td>\n      <td>0.00</td>\n      <td>2014</td>\n      <td>NaN</td>\n      <td>San Francisco</td>\n      <td>NaN</td>\n    </tr>\n    <tr>\n      <th>148652</th>\n      <td>148653</td>\n      <td>Not provided</td>\n      <td>Not provided</td>\n      <td>Not Provided</td>\n      <td>Not Provided</td>\n      <td>Not Provided</td>\n      <td>Not Provided</td>\n      <td>0.00</td>\n      <td>0.00</td>\n      <td>2014</td>\n      <td>NaN</td>\n      <td>San Francisco</td>\n      <td>NaN</td>\n    </tr>\n    <tr>\n      <th>148653</th>\n      <td>148654</td>\n      <td>Joe Lopez</td>\n      <td>Counselor, Log Cabin Ranch</td>\n      <td>0.00</td>\n      <td>0.00</td>\n      <td>-618.13</td>\n      <td>0.00</td>\n      <td>-618.13</td>\n      <td>-618.13</td>\n      <td>2014</td>\n      <td>NaN</td>\n      <td>San Francisco</td>\n      <td>PT</td>\n    </tr>\n  </tbody>\n</table>\n<p>148654 rows × 13 columns</p>\n</div>"
          },
          "metadata": {}
        }
      ],
      "execution_count": 475
    },
    {
      "cell_type": "code",
      "source": "sal = sal.replace(to_replace = 'Not Provided',value = np.nan)\nsal = sal.replace(to_replace = 'Not provided',value = np.nan)\nsal = sal.fillna(1)\nsal",
      "metadata": {
        "trusted": true
      },
      "outputs": [
        {
          "execution_count": 476,
          "output_type": "execute_result",
          "data": {
            "text/plain": "            Id       EmployeeName  \\\n0            1     NATHANIEL FORD   \n1            2       GARY JIMENEZ   \n2            3     ALBERT PARDINI   \n3            4  CHRISTOPHER CHONG   \n4            5    PATRICK GARDNER   \n...        ...                ...   \n148649  148650      Roy I Tillery   \n148650  148651                  1   \n148651  148652                  1   \n148652  148653                  1   \n148653  148654          Joe Lopez   \n\n                                              JobTitle    BasePay OvertimePay  \\\n0       GENERAL MANAGER-METROPOLITAN TRANSIT AUTHORITY  167411.18         0.0   \n1                      CAPTAIN III (POLICE DEPARTMENT)  155966.02   245131.88   \n2                      CAPTAIN III (POLICE DEPARTMENT)  212739.13   106088.18   \n3                 WIRE ROPE CABLE MAINTENANCE MECHANIC    77916.0    56120.71   \n4         DEPUTY CHIEF OF DEPARTMENT,(FIRE DEPARTMENT)   134401.6      9737.0   \n...                                                ...        ...         ...   \n148649                                       Custodian       0.00        0.00   \n148650                                               1          1           1   \n148651                                               1          1           1   \n148652                                               1          1           1   \n148653                      Counselor, Log Cabin Ranch       0.00        0.00   \n\n         OtherPay Benefits   TotalPay  TotalPayBenefits  Year  Notes  \\\n0       400184.25        1  567595.43         567595.43  2011    1.0   \n1       137811.38        1  538909.28         538909.28  2011    1.0   \n2         16452.6        1  335279.91         335279.91  2011    1.0   \n3        198306.9        1  332343.61         332343.61  2011    1.0   \n4       182234.59        1  326373.19         326373.19  2011    1.0   \n...           ...      ...        ...               ...   ...    ...   \n148649       0.00     0.00       0.00              0.00  2014    1.0   \n148650          1        1       0.00              0.00  2014    1.0   \n148651          1        1       0.00              0.00  2014    1.0   \n148652          1        1       0.00              0.00  2014    1.0   \n148653    -618.13     0.00    -618.13           -618.13  2014    1.0   \n\n               Agency Status  \n0       San Francisco      1  \n1       San Francisco      1  \n2       San Francisco      1  \n3       San Francisco      1  \n4       San Francisco      1  \n...               ...    ...  \n148649  San Francisco     PT  \n148650  San Francisco      1  \n148651  San Francisco      1  \n148652  San Francisco      1  \n148653  San Francisco     PT  \n\n[148654 rows x 13 columns]",
            "text/html": "<div>\n<style scoped>\n    .dataframe tbody tr th:only-of-type {\n        vertical-align: middle;\n    }\n\n    .dataframe tbody tr th {\n        vertical-align: top;\n    }\n\n    .dataframe thead th {\n        text-align: right;\n    }\n</style>\n<table border=\"1\" class=\"dataframe\">\n  <thead>\n    <tr style=\"text-align: right;\">\n      <th></th>\n      <th>Id</th>\n      <th>EmployeeName</th>\n      <th>JobTitle</th>\n      <th>BasePay</th>\n      <th>OvertimePay</th>\n      <th>OtherPay</th>\n      <th>Benefits</th>\n      <th>TotalPay</th>\n      <th>TotalPayBenefits</th>\n      <th>Year</th>\n      <th>Notes</th>\n      <th>Agency</th>\n      <th>Status</th>\n    </tr>\n  </thead>\n  <tbody>\n    <tr>\n      <th>0</th>\n      <td>1</td>\n      <td>NATHANIEL FORD</td>\n      <td>GENERAL MANAGER-METROPOLITAN TRANSIT AUTHORITY</td>\n      <td>167411.18</td>\n      <td>0.0</td>\n      <td>400184.25</td>\n      <td>1</td>\n      <td>567595.43</td>\n      <td>567595.43</td>\n      <td>2011</td>\n      <td>1.0</td>\n      <td>San Francisco</td>\n      <td>1</td>\n    </tr>\n    <tr>\n      <th>1</th>\n      <td>2</td>\n      <td>GARY JIMENEZ</td>\n      <td>CAPTAIN III (POLICE DEPARTMENT)</td>\n      <td>155966.02</td>\n      <td>245131.88</td>\n      <td>137811.38</td>\n      <td>1</td>\n      <td>538909.28</td>\n      <td>538909.28</td>\n      <td>2011</td>\n      <td>1.0</td>\n      <td>San Francisco</td>\n      <td>1</td>\n    </tr>\n    <tr>\n      <th>2</th>\n      <td>3</td>\n      <td>ALBERT PARDINI</td>\n      <td>CAPTAIN III (POLICE DEPARTMENT)</td>\n      <td>212739.13</td>\n      <td>106088.18</td>\n      <td>16452.6</td>\n      <td>1</td>\n      <td>335279.91</td>\n      <td>335279.91</td>\n      <td>2011</td>\n      <td>1.0</td>\n      <td>San Francisco</td>\n      <td>1</td>\n    </tr>\n    <tr>\n      <th>3</th>\n      <td>4</td>\n      <td>CHRISTOPHER CHONG</td>\n      <td>WIRE ROPE CABLE MAINTENANCE MECHANIC</td>\n      <td>77916.0</td>\n      <td>56120.71</td>\n      <td>198306.9</td>\n      <td>1</td>\n      <td>332343.61</td>\n      <td>332343.61</td>\n      <td>2011</td>\n      <td>1.0</td>\n      <td>San Francisco</td>\n      <td>1</td>\n    </tr>\n    <tr>\n      <th>4</th>\n      <td>5</td>\n      <td>PATRICK GARDNER</td>\n      <td>DEPUTY CHIEF OF DEPARTMENT,(FIRE DEPARTMENT)</td>\n      <td>134401.6</td>\n      <td>9737.0</td>\n      <td>182234.59</td>\n      <td>1</td>\n      <td>326373.19</td>\n      <td>326373.19</td>\n      <td>2011</td>\n      <td>1.0</td>\n      <td>San Francisco</td>\n      <td>1</td>\n    </tr>\n    <tr>\n      <th>...</th>\n      <td>...</td>\n      <td>...</td>\n      <td>...</td>\n      <td>...</td>\n      <td>...</td>\n      <td>...</td>\n      <td>...</td>\n      <td>...</td>\n      <td>...</td>\n      <td>...</td>\n      <td>...</td>\n      <td>...</td>\n      <td>...</td>\n    </tr>\n    <tr>\n      <th>148649</th>\n      <td>148650</td>\n      <td>Roy I Tillery</td>\n      <td>Custodian</td>\n      <td>0.00</td>\n      <td>0.00</td>\n      <td>0.00</td>\n      <td>0.00</td>\n      <td>0.00</td>\n      <td>0.00</td>\n      <td>2014</td>\n      <td>1.0</td>\n      <td>San Francisco</td>\n      <td>PT</td>\n    </tr>\n    <tr>\n      <th>148650</th>\n      <td>148651</td>\n      <td>1</td>\n      <td>1</td>\n      <td>1</td>\n      <td>1</td>\n      <td>1</td>\n      <td>1</td>\n      <td>0.00</td>\n      <td>0.00</td>\n      <td>2014</td>\n      <td>1.0</td>\n      <td>San Francisco</td>\n      <td>1</td>\n    </tr>\n    <tr>\n      <th>148651</th>\n      <td>148652</td>\n      <td>1</td>\n      <td>1</td>\n      <td>1</td>\n      <td>1</td>\n      <td>1</td>\n      <td>1</td>\n      <td>0.00</td>\n      <td>0.00</td>\n      <td>2014</td>\n      <td>1.0</td>\n      <td>San Francisco</td>\n      <td>1</td>\n    </tr>\n    <tr>\n      <th>148652</th>\n      <td>148653</td>\n      <td>1</td>\n      <td>1</td>\n      <td>1</td>\n      <td>1</td>\n      <td>1</td>\n      <td>1</td>\n      <td>0.00</td>\n      <td>0.00</td>\n      <td>2014</td>\n      <td>1.0</td>\n      <td>San Francisco</td>\n      <td>1</td>\n    </tr>\n    <tr>\n      <th>148653</th>\n      <td>148654</td>\n      <td>Joe Lopez</td>\n      <td>Counselor, Log Cabin Ranch</td>\n      <td>0.00</td>\n      <td>0.00</td>\n      <td>-618.13</td>\n      <td>0.00</td>\n      <td>-618.13</td>\n      <td>-618.13</td>\n      <td>2014</td>\n      <td>1.0</td>\n      <td>San Francisco</td>\n      <td>PT</td>\n    </tr>\n  </tbody>\n</table>\n<p>148654 rows × 13 columns</p>\n</div>"
          },
          "metadata": {}
        }
      ],
      "execution_count": 476
    },
    {
      "cell_type": "code",
      "source": "sal.info()",
      "metadata": {
        "trusted": true
      },
      "outputs": [
        {
          "name": "stdout",
          "text": "<class 'pandas.core.frame.DataFrame'>\nRangeIndex: 148654 entries, 0 to 148653\nData columns (total 13 columns):\n #   Column            Non-Null Count   Dtype  \n---  ------            --------------   -----  \n 0   Id                148654 non-null  int64  \n 1   EmployeeName      148654 non-null  object \n 2   JobTitle          148654 non-null  object \n 3   BasePay           148654 non-null  object \n 4   OvertimePay       148654 non-null  object \n 5   OtherPay          148654 non-null  object \n 6   Benefits          148654 non-null  object \n 7   TotalPay          148654 non-null  float64\n 8   TotalPayBenefits  148654 non-null  float64\n 9   Year              148654 non-null  int64  \n 10  Notes             148654 non-null  float64\n 11  Agency            148654 non-null  object \n 12  Status            148654 non-null  object \ndtypes: float64(3), int64(2), object(8)\nmemory usage: 10.2+ MB\n",
          "output_type": "stream"
        }
      ],
      "execution_count": 477
    },
    {
      "cell_type": "code",
      "source": "sal['BasePay'] = sal['BasePay'].astype('float')\nsal['OvertimePay'] = sal['OvertimePay'].astype('float')\nsal['OvertimePay'] = sal['OvertimePay'].astype('float')\nsal.info()",
      "metadata": {
        "trusted": true
      },
      "outputs": [
        {
          "name": "stdout",
          "text": "<class 'pandas.core.frame.DataFrame'>\nRangeIndex: 148654 entries, 0 to 148653\nData columns (total 13 columns):\n #   Column            Non-Null Count   Dtype  \n---  ------            --------------   -----  \n 0   Id                148654 non-null  int64  \n 1   EmployeeName      148654 non-null  object \n 2   JobTitle          148654 non-null  object \n 3   BasePay           148654 non-null  float64\n 4   OvertimePay       148654 non-null  float64\n 5   OtherPay          148654 non-null  object \n 6   Benefits          148654 non-null  object \n 7   TotalPay          148654 non-null  float64\n 8   TotalPayBenefits  148654 non-null  float64\n 9   Year              148654 non-null  int64  \n 10  Notes             148654 non-null  float64\n 11  Agency            148654 non-null  object \n 12  Status            148654 non-null  object \ndtypes: float64(5), int64(2), object(6)\nmemory usage: 11.3+ MB\n",
          "output_type": "stream"
        }
      ],
      "execution_count": 478
    },
    {
      "cell_type": "code",
      "source": "sal.head()",
      "metadata": {
        "trusted": true
      },
      "outputs": [
        {
          "execution_count": 479,
          "output_type": "execute_result",
          "data": {
            "text/plain": "   Id       EmployeeName                                        JobTitle  \\\n0   1     NATHANIEL FORD  GENERAL MANAGER-METROPOLITAN TRANSIT AUTHORITY   \n1   2       GARY JIMENEZ                 CAPTAIN III (POLICE DEPARTMENT)   \n2   3     ALBERT PARDINI                 CAPTAIN III (POLICE DEPARTMENT)   \n3   4  CHRISTOPHER CHONG            WIRE ROPE CABLE MAINTENANCE MECHANIC   \n4   5    PATRICK GARDNER    DEPUTY CHIEF OF DEPARTMENT,(FIRE DEPARTMENT)   \n\n     BasePay  OvertimePay   OtherPay Benefits   TotalPay  TotalPayBenefits  \\\n0  167411.18         0.00  400184.25        1  567595.43         567595.43   \n1  155966.02    245131.88  137811.38        1  538909.28         538909.28   \n2  212739.13    106088.18    16452.6        1  335279.91         335279.91   \n3   77916.00     56120.71   198306.9        1  332343.61         332343.61   \n4  134401.60      9737.00  182234.59        1  326373.19         326373.19   \n\n   Year  Notes         Agency Status  \n0  2011    1.0  San Francisco      1  \n1  2011    1.0  San Francisco      1  \n2  2011    1.0  San Francisco      1  \n3  2011    1.0  San Francisco      1  \n4  2011    1.0  San Francisco      1  ",
            "text/html": "<div>\n<style scoped>\n    .dataframe tbody tr th:only-of-type {\n        vertical-align: middle;\n    }\n\n    .dataframe tbody tr th {\n        vertical-align: top;\n    }\n\n    .dataframe thead th {\n        text-align: right;\n    }\n</style>\n<table border=\"1\" class=\"dataframe\">\n  <thead>\n    <tr style=\"text-align: right;\">\n      <th></th>\n      <th>Id</th>\n      <th>EmployeeName</th>\n      <th>JobTitle</th>\n      <th>BasePay</th>\n      <th>OvertimePay</th>\n      <th>OtherPay</th>\n      <th>Benefits</th>\n      <th>TotalPay</th>\n      <th>TotalPayBenefits</th>\n      <th>Year</th>\n      <th>Notes</th>\n      <th>Agency</th>\n      <th>Status</th>\n    </tr>\n  </thead>\n  <tbody>\n    <tr>\n      <th>0</th>\n      <td>1</td>\n      <td>NATHANIEL FORD</td>\n      <td>GENERAL MANAGER-METROPOLITAN TRANSIT AUTHORITY</td>\n      <td>167411.18</td>\n      <td>0.00</td>\n      <td>400184.25</td>\n      <td>1</td>\n      <td>567595.43</td>\n      <td>567595.43</td>\n      <td>2011</td>\n      <td>1.0</td>\n      <td>San Francisco</td>\n      <td>1</td>\n    </tr>\n    <tr>\n      <th>1</th>\n      <td>2</td>\n      <td>GARY JIMENEZ</td>\n      <td>CAPTAIN III (POLICE DEPARTMENT)</td>\n      <td>155966.02</td>\n      <td>245131.88</td>\n      <td>137811.38</td>\n      <td>1</td>\n      <td>538909.28</td>\n      <td>538909.28</td>\n      <td>2011</td>\n      <td>1.0</td>\n      <td>San Francisco</td>\n      <td>1</td>\n    </tr>\n    <tr>\n      <th>2</th>\n      <td>3</td>\n      <td>ALBERT PARDINI</td>\n      <td>CAPTAIN III (POLICE DEPARTMENT)</td>\n      <td>212739.13</td>\n      <td>106088.18</td>\n      <td>16452.6</td>\n      <td>1</td>\n      <td>335279.91</td>\n      <td>335279.91</td>\n      <td>2011</td>\n      <td>1.0</td>\n      <td>San Francisco</td>\n      <td>1</td>\n    </tr>\n    <tr>\n      <th>3</th>\n      <td>4</td>\n      <td>CHRISTOPHER CHONG</td>\n      <td>WIRE ROPE CABLE MAINTENANCE MECHANIC</td>\n      <td>77916.00</td>\n      <td>56120.71</td>\n      <td>198306.9</td>\n      <td>1</td>\n      <td>332343.61</td>\n      <td>332343.61</td>\n      <td>2011</td>\n      <td>1.0</td>\n      <td>San Francisco</td>\n      <td>1</td>\n    </tr>\n    <tr>\n      <th>4</th>\n      <td>5</td>\n      <td>PATRICK GARDNER</td>\n      <td>DEPUTY CHIEF OF DEPARTMENT,(FIRE DEPARTMENT)</td>\n      <td>134401.60</td>\n      <td>9737.00</td>\n      <td>182234.59</td>\n      <td>1</td>\n      <td>326373.19</td>\n      <td>326373.19</td>\n      <td>2011</td>\n      <td>1.0</td>\n      <td>San Francisco</td>\n      <td>1</td>\n    </tr>\n  </tbody>\n</table>\n</div>"
          },
          "metadata": {}
        }
      ],
      "execution_count": 479
    },
    {
      "cell_type": "code",
      "source": "sal.tail()",
      "metadata": {
        "trusted": true
      },
      "outputs": [
        {
          "execution_count": 480,
          "output_type": "execute_result",
          "data": {
            "text/plain": "            Id   EmployeeName                    JobTitle  BasePay  \\\n148649  148650  Roy I Tillery                   Custodian      0.0   \n148650  148651              1                           1      1.0   \n148651  148652              1                           1      1.0   \n148652  148653              1                           1      1.0   \n148653  148654      Joe Lopez  Counselor, Log Cabin Ranch      0.0   \n\n        OvertimePay OtherPay Benefits  TotalPay  TotalPayBenefits  Year  \\\n148649          0.0     0.00     0.00      0.00              0.00  2014   \n148650          1.0        1        1      0.00              0.00  2014   \n148651          1.0        1        1      0.00              0.00  2014   \n148652          1.0        1        1      0.00              0.00  2014   \n148653          0.0  -618.13     0.00   -618.13           -618.13  2014   \n\n        Notes         Agency Status  \n148649    1.0  San Francisco     PT  \n148650    1.0  San Francisco      1  \n148651    1.0  San Francisco      1  \n148652    1.0  San Francisco      1  \n148653    1.0  San Francisco     PT  ",
            "text/html": "<div>\n<style scoped>\n    .dataframe tbody tr th:only-of-type {\n        vertical-align: middle;\n    }\n\n    .dataframe tbody tr th {\n        vertical-align: top;\n    }\n\n    .dataframe thead th {\n        text-align: right;\n    }\n</style>\n<table border=\"1\" class=\"dataframe\">\n  <thead>\n    <tr style=\"text-align: right;\">\n      <th></th>\n      <th>Id</th>\n      <th>EmployeeName</th>\n      <th>JobTitle</th>\n      <th>BasePay</th>\n      <th>OvertimePay</th>\n      <th>OtherPay</th>\n      <th>Benefits</th>\n      <th>TotalPay</th>\n      <th>TotalPayBenefits</th>\n      <th>Year</th>\n      <th>Notes</th>\n      <th>Agency</th>\n      <th>Status</th>\n    </tr>\n  </thead>\n  <tbody>\n    <tr>\n      <th>148649</th>\n      <td>148650</td>\n      <td>Roy I Tillery</td>\n      <td>Custodian</td>\n      <td>0.0</td>\n      <td>0.0</td>\n      <td>0.00</td>\n      <td>0.00</td>\n      <td>0.00</td>\n      <td>0.00</td>\n      <td>2014</td>\n      <td>1.0</td>\n      <td>San Francisco</td>\n      <td>PT</td>\n    </tr>\n    <tr>\n      <th>148650</th>\n      <td>148651</td>\n      <td>1</td>\n      <td>1</td>\n      <td>1.0</td>\n      <td>1.0</td>\n      <td>1</td>\n      <td>1</td>\n      <td>0.00</td>\n      <td>0.00</td>\n      <td>2014</td>\n      <td>1.0</td>\n      <td>San Francisco</td>\n      <td>1</td>\n    </tr>\n    <tr>\n      <th>148651</th>\n      <td>148652</td>\n      <td>1</td>\n      <td>1</td>\n      <td>1.0</td>\n      <td>1.0</td>\n      <td>1</td>\n      <td>1</td>\n      <td>0.00</td>\n      <td>0.00</td>\n      <td>2014</td>\n      <td>1.0</td>\n      <td>San Francisco</td>\n      <td>1</td>\n    </tr>\n    <tr>\n      <th>148652</th>\n      <td>148653</td>\n      <td>1</td>\n      <td>1</td>\n      <td>1.0</td>\n      <td>1.0</td>\n      <td>1</td>\n      <td>1</td>\n      <td>0.00</td>\n      <td>0.00</td>\n      <td>2014</td>\n      <td>1.0</td>\n      <td>San Francisco</td>\n      <td>1</td>\n    </tr>\n    <tr>\n      <th>148653</th>\n      <td>148654</td>\n      <td>Joe Lopez</td>\n      <td>Counselor, Log Cabin Ranch</td>\n      <td>0.0</td>\n      <td>0.0</td>\n      <td>-618.13</td>\n      <td>0.00</td>\n      <td>-618.13</td>\n      <td>-618.13</td>\n      <td>2014</td>\n      <td>1.0</td>\n      <td>San Francisco</td>\n      <td>PT</td>\n    </tr>\n  </tbody>\n</table>\n</div>"
          },
          "metadata": {}
        }
      ],
      "execution_count": 480
    },
    {
      "cell_type": "code",
      "source": "sal['BasePay'].mean()",
      "metadata": {
        "trusted": true
      },
      "outputs": [
        {
          "execution_count": 481,
          "output_type": "execute_result",
          "data": {
            "text/plain": "66053.73338483997"
          },
          "metadata": {}
        }
      ],
      "execution_count": 481
    },
    {
      "cell_type": "code",
      "source": "sal['OvertimePay'].max()",
      "metadata": {
        "trusted": true
      },
      "outputs": [
        {
          "execution_count": 482,
          "output_type": "execute_result",
          "data": {
            "text/plain": "245131.88"
          },
          "metadata": {}
        }
      ],
      "execution_count": 482
    },
    {
      "cell_type": "code",
      "source": "sal[sal['EmployeeName'] == 'JOSEPH DRISCOLL']['JobTitle']",
      "metadata": {
        "trusted": true
      },
      "outputs": [
        {
          "execution_count": 483,
          "output_type": "execute_result",
          "data": {
            "text/plain": "24    CAPTAIN, FIRE SUPPRESSION\nName: JobTitle, dtype: object"
          },
          "metadata": {}
        }
      ],
      "execution_count": 483
    },
    {
      "cell_type": "code",
      "source": "sal[sal['EmployeeName'] == 'JOSEPH DRISCOLL']['TotalPayBenefits']",
      "metadata": {
        "trusted": true
      },
      "outputs": [
        {
          "execution_count": 484,
          "output_type": "execute_result",
          "data": {
            "text/plain": "24    270324.91\nName: TotalPayBenefits, dtype: float64"
          },
          "metadata": {}
        }
      ],
      "execution_count": 484
    },
    {
      "cell_type": "code",
      "source": "sal[sal['TotalPayBenefits'] == sal['TotalPayBenefits'].max()]['EmployeeName']\n",
      "metadata": {
        "trusted": true
      },
      "outputs": [
        {
          "execution_count": 485,
          "output_type": "execute_result",
          "data": {
            "text/plain": "0    NATHANIEL FORD\nName: EmployeeName, dtype: object"
          },
          "metadata": {}
        }
      ],
      "execution_count": 485
    },
    {
      "cell_type": "code",
      "source": "sal[sal['TotalPayBenefits'] == sal['TotalPayBenefits'].min()]\n",
      "metadata": {
        "trusted": true
      },
      "outputs": [
        {
          "execution_count": 486,
          "output_type": "execute_result",
          "data": {
            "text/plain": "            Id EmployeeName                    JobTitle  BasePay  OvertimePay  \\\n148653  148654    Joe Lopez  Counselor, Log Cabin Ranch      0.0          0.0   \n\n       OtherPay Benefits  TotalPay  TotalPayBenefits  Year  Notes  \\\n148653  -618.13     0.00   -618.13           -618.13  2014    1.0   \n\n               Agency Status  \n148653  San Francisco     PT  ",
            "text/html": "<div>\n<style scoped>\n    .dataframe tbody tr th:only-of-type {\n        vertical-align: middle;\n    }\n\n    .dataframe tbody tr th {\n        vertical-align: top;\n    }\n\n    .dataframe thead th {\n        text-align: right;\n    }\n</style>\n<table border=\"1\" class=\"dataframe\">\n  <thead>\n    <tr style=\"text-align: right;\">\n      <th></th>\n      <th>Id</th>\n      <th>EmployeeName</th>\n      <th>JobTitle</th>\n      <th>BasePay</th>\n      <th>OvertimePay</th>\n      <th>OtherPay</th>\n      <th>Benefits</th>\n      <th>TotalPay</th>\n      <th>TotalPayBenefits</th>\n      <th>Year</th>\n      <th>Notes</th>\n      <th>Agency</th>\n      <th>Status</th>\n    </tr>\n  </thead>\n  <tbody>\n    <tr>\n      <th>148653</th>\n      <td>148654</td>\n      <td>Joe Lopez</td>\n      <td>Counselor, Log Cabin Ranch</td>\n      <td>0.0</td>\n      <td>0.0</td>\n      <td>-618.13</td>\n      <td>0.00</td>\n      <td>-618.13</td>\n      <td>-618.13</td>\n      <td>2014</td>\n      <td>1.0</td>\n      <td>San Francisco</td>\n      <td>PT</td>\n    </tr>\n  </tbody>\n</table>\n</div>"
          },
          "metadata": {}
        }
      ],
      "execution_count": 486
    },
    {
      "cell_type": "code",
      "source": "sal.groupby('Year').mean()['BasePay']",
      "metadata": {
        "trusted": true
      },
      "outputs": [
        {
          "name": "stderr",
          "text": "<ipython-input-487-a42aa5aba483>:1: FutureWarning: The default value of numeric_only in DataFrameGroupBy.mean is deprecated. In a future version, numeric_only will default to False. Either specify numeric_only or select only columns which should be valid for the function.\n  sal.groupby('Year').mean()['BasePay']\n",
          "output_type": "stream"
        },
        {
          "execution_count": 487,
          "output_type": "execute_result",
          "data": {
            "text/plain": "Year\n2011    63595.956517\n2012    65436.406857\n2013    68509.848243\n2014    66557.437855\nName: BasePay, dtype: float64"
          },
          "metadata": {}
        }
      ],
      "execution_count": 487
    },
    {
      "cell_type": "code",
      "source": "sal['JobTitle'].nunique()",
      "metadata": {
        "trusted": true
      },
      "outputs": [
        {
          "execution_count": 488,
          "output_type": "execute_result",
          "data": {
            "text/plain": "2159"
          },
          "metadata": {}
        }
      ],
      "execution_count": 488
    },
    {
      "cell_type": "code",
      "source": "sal['JobTitle'].value_counts().head()",
      "metadata": {
        "trusted": true
      },
      "outputs": [
        {
          "execution_count": 489,
          "output_type": "execute_result",
          "data": {
            "text/plain": "Transit Operator                7036\nSpecial Nurse                   4389\nRegistered Nurse                3736\nPublic Svc Aide-Public Works    2518\nPolice Officer 3                2421\nName: JobTitle, dtype: int64"
          },
          "metadata": {}
        }
      ],
      "execution_count": 489
    },
    {
      "cell_type": "code",
      "source": "sum(sal[sal['Year'] == 2013]['JobTitle'].value_counts() == 1)\n\n",
      "metadata": {
        "trusted": true
      },
      "outputs": [
        {
          "execution_count": 490,
          "output_type": "execute_result",
          "data": {
            "text/plain": "202"
          },
          "metadata": {}
        }
      ],
      "execution_count": 490
    },
    {
      "cell_type": "code",
      "source": "sal['JobTitle'].str.contains('Chief').sum()",
      "metadata": {
        "trusted": true
      },
      "outputs": [
        {
          "execution_count": 491,
          "output_type": "execute_result",
          "data": {
            "text/plain": "423"
          },
          "metadata": {}
        }
      ],
      "execution_count": 491
    },
    {
      "cell_type": "code",
      "source": "\n",
      "metadata": {
        "trusted": true
      },
      "outputs": [],
      "execution_count": null
    },
    {
      "cell_type": "code",
      "source": "arr = np.arange(10,51)\narr",
      "metadata": {
        "trusted": true
      },
      "outputs": [
        {
          "execution_count": 492,
          "output_type": "execute_result",
          "data": {
            "text/plain": "array([10, 11, 12, 13, 14, 15, 16, 17, 18, 19, 20, 21, 22, 23, 24, 25, 26,\n       27, 28, 29, 30, 31, 32, 33, 34, 35, 36, 37, 38, 39, 40, 41, 42, 43,\n       44, 45, 46, 47, 48, 49, 50])"
          },
          "metadata": {}
        }
      ],
      "execution_count": 492
    },
    {
      "cell_type": "code",
      "source": "arr = np.random.randint(0,8,size = (3,3))\narr",
      "metadata": {
        "trusted": true
      },
      "outputs": [
        {
          "execution_count": 493,
          "output_type": "execute_result",
          "data": {
            "text/plain": "array([[1, 4, 7],\n       [6, 4, 2],\n       [7, 0, 2]])"
          },
          "metadata": {}
        }
      ],
      "execution_count": 493
    },
    {
      "cell_type": "code",
      "source": "np.eye(3)",
      "metadata": {
        "trusted": true
      },
      "outputs": [
        {
          "execution_count": 494,
          "output_type": "execute_result",
          "data": {
            "text/plain": "array([[1., 0., 0.],\n       [0., 1., 0.],\n       [0., 0., 1.]])"
          },
          "metadata": {}
        }
      ],
      "execution_count": 494
    },
    {
      "cell_type": "code",
      "source": "np.random.rand(1)",
      "metadata": {
        "trusted": true
      },
      "outputs": [
        {
          "execution_count": 495,
          "output_type": "execute_result",
          "data": {
            "text/plain": "array([0.1436197])"
          },
          "metadata": {}
        }
      ],
      "execution_count": 495
    },
    {
      "cell_type": "code",
      "source": "arr = np.random.rand(25)\narr",
      "metadata": {
        "trusted": true
      },
      "outputs": [
        {
          "execution_count": 496,
          "output_type": "execute_result",
          "data": {
            "text/plain": "array([0.64654463, 0.00150734, 0.52914464, 0.92587982, 0.21001378,\n       0.40020355, 0.25101307, 0.58764654, 0.45461802, 0.87020815,\n       0.926538  , 0.69318919, 0.3244032 , 0.51308627, 0.17614667,\n       0.11765358, 0.5639795 , 0.18641879, 0.99915866, 0.19296364,\n       0.15540397, 0.25074599, 0.52886088, 0.54763895, 0.9094994 ])"
          },
          "metadata": {}
        }
      ],
      "execution_count": 496
    },
    {
      "cell_type": "code",
      "source": "arr = np.linspace(0.01,1,100).reshape(10,10)\narr",
      "metadata": {
        "trusted": true
      },
      "outputs": [
        {
          "execution_count": 497,
          "output_type": "execute_result",
          "data": {
            "text/plain": "array([[0.01, 0.02, 0.03, 0.04, 0.05, 0.06, 0.07, 0.08, 0.09, 0.1 ],\n       [0.11, 0.12, 0.13, 0.14, 0.15, 0.16, 0.17, 0.18, 0.19, 0.2 ],\n       [0.21, 0.22, 0.23, 0.24, 0.25, 0.26, 0.27, 0.28, 0.29, 0.3 ],\n       [0.31, 0.32, 0.33, 0.34, 0.35, 0.36, 0.37, 0.38, 0.39, 0.4 ],\n       [0.41, 0.42, 0.43, 0.44, 0.45, 0.46, 0.47, 0.48, 0.49, 0.5 ],\n       [0.51, 0.52, 0.53, 0.54, 0.55, 0.56, 0.57, 0.58, 0.59, 0.6 ],\n       [0.61, 0.62, 0.63, 0.64, 0.65, 0.66, 0.67, 0.68, 0.69, 0.7 ],\n       [0.71, 0.72, 0.73, 0.74, 0.75, 0.76, 0.77, 0.78, 0.79, 0.8 ],\n       [0.81, 0.82, 0.83, 0.84, 0.85, 0.86, 0.87, 0.88, 0.89, 0.9 ],\n       [0.91, 0.92, 0.93, 0.94, 0.95, 0.96, 0.97, 0.98, 0.99, 1.  ]])"
          },
          "metadata": {}
        }
      ],
      "execution_count": 497
    },
    {
      "cell_type": "code",
      "source": "arr = np.linspace(0,1,20)\narr",
      "metadata": {
        "trusted": true
      },
      "outputs": [
        {
          "execution_count": 498,
          "output_type": "execute_result",
          "data": {
            "text/plain": "array([0.        , 0.05263158, 0.10526316, 0.15789474, 0.21052632,\n       0.26315789, 0.31578947, 0.36842105, 0.42105263, 0.47368421,\n       0.52631579, 0.57894737, 0.63157895, 0.68421053, 0.73684211,\n       0.78947368, 0.84210526, 0.89473684, 0.94736842, 1.        ])"
          },
          "metadata": {}
        }
      ],
      "execution_count": 498
    },
    {
      "cell_type": "code",
      "source": "arr = np.arange(1,26).reshape(5,5)\narr",
      "metadata": {
        "trusted": true
      },
      "outputs": [
        {
          "execution_count": 499,
          "output_type": "execute_result",
          "data": {
            "text/plain": "array([[ 1,  2,  3,  4,  5],\n       [ 6,  7,  8,  9, 10],\n       [11, 12, 13, 14, 15],\n       [16, 17, 18, 19, 20],\n       [21, 22, 23, 24, 25]])"
          },
          "metadata": {}
        }
      ],
      "execution_count": 499
    },
    {
      "cell_type": "code",
      "source": "arr[2:,1:]",
      "metadata": {
        "trusted": true
      },
      "outputs": [
        {
          "execution_count": 500,
          "output_type": "execute_result",
          "data": {
            "text/plain": "array([[12, 13, 14, 15],\n       [17, 18, 19, 20],\n       [22, 23, 24, 25]])"
          },
          "metadata": {}
        }
      ],
      "execution_count": 500
    },
    {
      "cell_type": "code",
      "source": "arr[3,4]",
      "metadata": {
        "trusted": true
      },
      "outputs": [
        {
          "execution_count": 501,
          "output_type": "execute_result",
          "data": {
            "text/plain": "20"
          },
          "metadata": {}
        }
      ],
      "execution_count": 501
    },
    {
      "cell_type": "code",
      "source": "arr[2:,1:2]",
      "metadata": {
        "trusted": true
      },
      "outputs": [
        {
          "execution_count": 502,
          "output_type": "execute_result",
          "data": {
            "text/plain": "array([[12],\n       [17],\n       [22]])"
          },
          "metadata": {}
        }
      ],
      "execution_count": 502
    },
    {
      "cell_type": "code",
      "source": "arr.sum(axis = 0)",
      "metadata": {
        "trusted": true
      },
      "outputs": [
        {
          "execution_count": 503,
          "output_type": "execute_result",
          "data": {
            "text/plain": "array([55, 60, 65, 70, 75])"
          },
          "metadata": {}
        }
      ],
      "execution_count": 503
    },
    {
      "cell_type": "code",
      "source": "arr.std(axis = 1)",
      "metadata": {
        "trusted": true
      },
      "outputs": [
        {
          "execution_count": 504,
          "output_type": "execute_result",
          "data": {
            "text/plain": "array([1.41421356, 1.41421356, 1.41421356, 1.41421356, 1.41421356])"
          },
          "metadata": {}
        }
      ],
      "execution_count": 504
    },
    {
      "cell_type": "code",
      "source": "arr.min(axis = 1)",
      "metadata": {
        "trusted": true
      },
      "outputs": [
        {
          "execution_count": 505,
          "output_type": "execute_result",
          "data": {
            "text/plain": "array([ 1,  6, 11, 16, 21])"
          },
          "metadata": {}
        }
      ],
      "execution_count": 505
    },
    {
      "cell_type": "code",
      "source": "arr.max(axis = 1)",
      "metadata": {
        "trusted": true
      },
      "outputs": [
        {
          "execution_count": 506,
          "output_type": "execute_result",
          "data": {
            "text/plain": "array([ 5, 10, 15, 20, 25])"
          },
          "metadata": {}
        }
      ],
      "execution_count": 506
    },
    {
      "cell_type": "code",
      "source": "arr.var(axis = 1)",
      "metadata": {
        "trusted": true
      },
      "outputs": [
        {
          "execution_count": 507,
          "output_type": "execute_result",
          "data": {
            "text/plain": "array([2., 2., 2., 2., 2.])"
          },
          "metadata": {}
        }
      ],
      "execution_count": 507
    },
    {
      "cell_type": "code",
      "source": "a = np.zeros(4).reshape(2,2)",
      "metadata": {
        "trusted": true
      },
      "outputs": [],
      "execution_count": 508
    },
    {
      "cell_type": "code",
      "source": "a[0,:] = np.nan",
      "metadata": {
        "trusted": true
      },
      "outputs": [],
      "execution_count": 509
    },
    {
      "cell_type": "code",
      "source": "a",
      "metadata": {
        "trusted": true
      },
      "outputs": [
        {
          "execution_count": 510,
          "output_type": "execute_result",
          "data": {
            "text/plain": "array([[nan, nan],\n       [ 0.,  0.]])"
          },
          "metadata": {}
        }
      ],
      "execution_count": 510
    },
    {
      "cell_type": "code",
      "source": "np.ones(12).reshape(2,2,3)",
      "metadata": {
        "trusted": true
      },
      "outputs": [
        {
          "execution_count": 511,
          "output_type": "execute_result",
          "data": {
            "text/plain": "array([[[1., 1., 1.],\n        [1., 1., 1.]],\n\n       [[1., 1., 1.],\n        [1., 1., 1.]]])"
          },
          "metadata": {}
        }
      ],
      "execution_count": 511
    },
    {
      "cell_type": "code",
      "source": "arr = np.random.randint(1,100,10)\narr",
      "metadata": {
        "trusted": true
      },
      "outputs": [
        {
          "execution_count": 512,
          "output_type": "execute_result",
          "data": {
            "text/plain": "array([93,  6, 88, 16, 21, 53, 85, 28, 87, 81])"
          },
          "metadata": {}
        }
      ],
      "execution_count": 512
    },
    {
      "cell_type": "code",
      "source": "a= np.sort(arr)",
      "metadata": {
        "trusted": true
      },
      "outputs": [],
      "execution_count": 513
    },
    {
      "cell_type": "code",
      "source": "np.flip(a)",
      "metadata": {
        "trusted": true
      },
      "outputs": [
        {
          "execution_count": 514,
          "output_type": "execute_result",
          "data": {
            "text/plain": "array([93, 88, 87, 85, 81, 53, 28, 21, 16,  6])"
          },
          "metadata": {}
        }
      ],
      "execution_count": 514
    },
    {
      "cell_type": "code",
      "source": "b = np.copy(a)",
      "metadata": {
        "trusted": true
      },
      "outputs": [],
      "execution_count": 515
    },
    {
      "cell_type": "code",
      "source": "np.eye(5).ravel()",
      "metadata": {
        "trusted": true
      },
      "outputs": [
        {
          "execution_count": 516,
          "output_type": "execute_result",
          "data": {
            "text/plain": "array([1., 0., 0., 0., 0., 0., 1., 0., 0., 0., 0., 0., 1., 0., 0., 0., 0.,\n       0., 1., 0., 0., 0., 0., 0., 1.])"
          },
          "metadata": {}
        }
      ],
      "execution_count": 516
    },
    {
      "cell_type": "code",
      "source": "arr = np.random.randint(1,100,size = (3,3))\narr",
      "metadata": {
        "trusted": true
      },
      "outputs": [
        {
          "execution_count": 517,
          "output_type": "execute_result",
          "data": {
            "text/plain": "array([[78, 27, 16],\n       [41, 40, 81],\n       [84, 59, 47]])"
          },
          "metadata": {}
        }
      ],
      "execution_count": 517
    },
    {
      "cell_type": "code",
      "source": "np.append(arr,[[12],[13],[15]],axis = 1)",
      "metadata": {
        "trusted": true
      },
      "outputs": [
        {
          "execution_count": 518,
          "output_type": "execute_result",
          "data": {
            "text/plain": "array([[78, 27, 16, 12],\n       [41, 40, 81, 13],\n       [84, 59, 47, 15]])"
          },
          "metadata": {}
        }
      ],
      "execution_count": 518
    },
    {
      "cell_type": "code",
      "source": "np.split(arr,3,axis = 1)",
      "metadata": {
        "trusted": true
      },
      "outputs": [
        {
          "execution_count": 519,
          "output_type": "execute_result",
          "data": {
            "text/plain": "[array([[78],\n        [41],\n        [84]]),\n array([[27],\n        [40],\n        [59]]),\n array([[16],\n        [81],\n        [47]])]"
          },
          "metadata": {}
        }
      ],
      "execution_count": 519
    },
    {
      "cell_type": "code",
      "source": "arr = np.random.randint(1,100,size = (4,4))\narr",
      "metadata": {
        "trusted": true
      },
      "outputs": [
        {
          "execution_count": 520,
          "output_type": "execute_result",
          "data": {
            "text/plain": "array([[ 9, 79,  2, 31],\n       [97, 36, 71, 52],\n       [25, 15, 17, 69],\n       [12, 38, 93, 78]])"
          },
          "metadata": {}
        }
      ],
      "execution_count": 520
    },
    {
      "cell_type": "code",
      "source": "arr+4",
      "metadata": {
        "trusted": true
      },
      "outputs": [
        {
          "execution_count": 521,
          "output_type": "execute_result",
          "data": {
            "text/plain": "array([[ 13,  83,   6,  35],\n       [101,  40,  75,  56],\n       [ 29,  19,  21,  73],\n       [ 16,  42,  97,  82]])"
          },
          "metadata": {}
        }
      ],
      "execution_count": 521
    },
    {
      "cell_type": "code",
      "source": "arr = np.random.uniform(1,100,size = (3,3))",
      "metadata": {
        "trusted": true
      },
      "outputs": [],
      "execution_count": 522
    },
    {
      "cell_type": "code",
      "source": "np.round(arr,2)",
      "metadata": {
        "trusted": true
      },
      "outputs": [
        {
          "execution_count": 523,
          "output_type": "execute_result",
          "data": {
            "text/plain": "array([[67.25, 11.49, 92.93],\n       [69.11, 70.76, 82.45],\n       [25.75, 91.39, 67.  ]])"
          },
          "metadata": {}
        }
      ],
      "execution_count": 523
    },
    {
      "cell_type": "code",
      "source": "np.ceil(arr)",
      "metadata": {
        "trusted": true
      },
      "outputs": [
        {
          "execution_count": 524,
          "output_type": "execute_result",
          "data": {
            "text/plain": "array([[68., 12., 93.],\n       [70., 71., 83.],\n       [26., 92., 68.]])"
          },
          "metadata": {}
        }
      ],
      "execution_count": 524
    },
    {
      "cell_type": "code",
      "source": "np.floor(arr)",
      "metadata": {
        "trusted": true
      },
      "outputs": [
        {
          "execution_count": 525,
          "output_type": "execute_result",
          "data": {
            "text/plain": "array([[67., 11., 92.],\n       [69., 70., 82.],\n       [25., 91., 67.]])"
          },
          "metadata": {}
        }
      ],
      "execution_count": 525
    },
    {
      "cell_type": "code",
      "source": "np.max(arr)",
      "metadata": {
        "trusted": true
      },
      "outputs": [
        {
          "execution_count": 526,
          "output_type": "execute_result",
          "data": {
            "text/plain": "92.92622663018633"
          },
          "metadata": {}
        }
      ],
      "execution_count": 526
    },
    {
      "cell_type": "code",
      "source": "\n\n\n",
      "metadata": {
        "trusted": true
      },
      "outputs": [],
      "execution_count": null
    },
    {
      "cell_type": "code",
      "source": "one = pd.DataFrame(np.random.randint(1,100,size = (5,2)),columns = \"ProductId  ProductPrice\".split())\none[\"Name\"] = \"Maggie Pasta Lays Kurkure Masala\".split()",
      "metadata": {
        "trusted": true
      },
      "outputs": [],
      "execution_count": 527
    },
    {
      "cell_type": "code",
      "source": "one",
      "metadata": {
        "trusted": true
      },
      "outputs": [
        {
          "execution_count": 528,
          "output_type": "execute_result",
          "data": {
            "text/plain": "   ProductId  ProductPrice     Name\n0          6            42   Maggie\n1         23            71    Pasta\n2         99            81     Lays\n3         37            89  Kurkure\n4         10            56   Masala",
            "text/html": "<div>\n<style scoped>\n    .dataframe tbody tr th:only-of-type {\n        vertical-align: middle;\n    }\n\n    .dataframe tbody tr th {\n        vertical-align: top;\n    }\n\n    .dataframe thead th {\n        text-align: right;\n    }\n</style>\n<table border=\"1\" class=\"dataframe\">\n  <thead>\n    <tr style=\"text-align: right;\">\n      <th></th>\n      <th>ProductId</th>\n      <th>ProductPrice</th>\n      <th>Name</th>\n    </tr>\n  </thead>\n  <tbody>\n    <tr>\n      <th>0</th>\n      <td>6</td>\n      <td>42</td>\n      <td>Maggie</td>\n    </tr>\n    <tr>\n      <th>1</th>\n      <td>23</td>\n      <td>71</td>\n      <td>Pasta</td>\n    </tr>\n    <tr>\n      <th>2</th>\n      <td>99</td>\n      <td>81</td>\n      <td>Lays</td>\n    </tr>\n    <tr>\n      <th>3</th>\n      <td>37</td>\n      <td>89</td>\n      <td>Kurkure</td>\n    </tr>\n    <tr>\n      <th>4</th>\n      <td>10</td>\n      <td>56</td>\n      <td>Masala</td>\n    </tr>\n  </tbody>\n</table>\n</div>"
          },
          "metadata": {}
        }
      ],
      "execution_count": 528
    },
    {
      "cell_type": "code",
      "source": "\nindi = np.arange(100,151)\neig = pd.DataFrame( np.random.randint(1,100, size = (51,3)), columns=\"Python DataScience Biology\".split(),index=idx)",
      "metadata": {
        "trusted": true
      },
      "outputs": [],
      "execution_count": 529
    },
    {
      "cell_type": "code",
      "source": "eig",
      "metadata": {
        "trusted": true
      },
      "outputs": [
        {
          "execution_count": 530,
          "output_type": "execute_result",
          "data": {
            "text/plain": "     Python  DataScience  Biology\n100      22           10       71\n101      58            1       22\n102      43           72       68\n103      82           86       90\n104      47           85       35\n105      93           88       93\n106      78           11       23\n107      14           16       61\n108      50           93       63\n109      86           35       53\n110      40           36       49\n111      38           97       13\n112      46            3       24\n113      16           73       40\n114      84           46       59\n115      53           99       60\n116      36           39       91\n117      54           25       28\n118      14           34       71\n119       5           31       76\n120      78            1       51\n121       7           11       93\n122      17           90       76\n123       1           28       36\n124      18           21       70\n125      12           35       80\n126      23           14       90\n127      46           26       36\n128      25           68       40\n129      59           32       41\n130      62           92       77\n131      41           68       16\n132      13           45       56\n133      96           14       89\n134      86           60       64\n135       4           67       36\n136      67           30       37\n137       4           49       15\n138      59           92       40\n139      39           82       78\n140      22           67        8\n141      61           19       79\n142      49           88       52\n143      22           61       39\n144       3           47       34\n145      85           49       48\n146      79           43       71\n147      56           97       39\n148      79           79        1\n149      58           45       99\n150      52           65       87",
            "text/html": "<div>\n<style scoped>\n    .dataframe tbody tr th:only-of-type {\n        vertical-align: middle;\n    }\n\n    .dataframe tbody tr th {\n        vertical-align: top;\n    }\n\n    .dataframe thead th {\n        text-align: right;\n    }\n</style>\n<table border=\"1\" class=\"dataframe\">\n  <thead>\n    <tr style=\"text-align: right;\">\n      <th></th>\n      <th>Python</th>\n      <th>DataScience</th>\n      <th>Biology</th>\n    </tr>\n  </thead>\n  <tbody>\n    <tr>\n      <th>100</th>\n      <td>22</td>\n      <td>10</td>\n      <td>71</td>\n    </tr>\n    <tr>\n      <th>101</th>\n      <td>58</td>\n      <td>1</td>\n      <td>22</td>\n    </tr>\n    <tr>\n      <th>102</th>\n      <td>43</td>\n      <td>72</td>\n      <td>68</td>\n    </tr>\n    <tr>\n      <th>103</th>\n      <td>82</td>\n      <td>86</td>\n      <td>90</td>\n    </tr>\n    <tr>\n      <th>104</th>\n      <td>47</td>\n      <td>85</td>\n      <td>35</td>\n    </tr>\n    <tr>\n      <th>105</th>\n      <td>93</td>\n      <td>88</td>\n      <td>93</td>\n    </tr>\n    <tr>\n      <th>106</th>\n      <td>78</td>\n      <td>11</td>\n      <td>23</td>\n    </tr>\n    <tr>\n      <th>107</th>\n      <td>14</td>\n      <td>16</td>\n      <td>61</td>\n    </tr>\n    <tr>\n      <th>108</th>\n      <td>50</td>\n      <td>93</td>\n      <td>63</td>\n    </tr>\n    <tr>\n      <th>109</th>\n      <td>86</td>\n      <td>35</td>\n      <td>53</td>\n    </tr>\n    <tr>\n      <th>110</th>\n      <td>40</td>\n      <td>36</td>\n      <td>49</td>\n    </tr>\n    <tr>\n      <th>111</th>\n      <td>38</td>\n      <td>97</td>\n      <td>13</td>\n    </tr>\n    <tr>\n      <th>112</th>\n      <td>46</td>\n      <td>3</td>\n      <td>24</td>\n    </tr>\n    <tr>\n      <th>113</th>\n      <td>16</td>\n      <td>73</td>\n      <td>40</td>\n    </tr>\n    <tr>\n      <th>114</th>\n      <td>84</td>\n      <td>46</td>\n      <td>59</td>\n    </tr>\n    <tr>\n      <th>115</th>\n      <td>53</td>\n      <td>99</td>\n      <td>60</td>\n    </tr>\n    <tr>\n      <th>116</th>\n      <td>36</td>\n      <td>39</td>\n      <td>91</td>\n    </tr>\n    <tr>\n      <th>117</th>\n      <td>54</td>\n      <td>25</td>\n      <td>28</td>\n    </tr>\n    <tr>\n      <th>118</th>\n      <td>14</td>\n      <td>34</td>\n      <td>71</td>\n    </tr>\n    <tr>\n      <th>119</th>\n      <td>5</td>\n      <td>31</td>\n      <td>76</td>\n    </tr>\n    <tr>\n      <th>120</th>\n      <td>78</td>\n      <td>1</td>\n      <td>51</td>\n    </tr>\n    <tr>\n      <th>121</th>\n      <td>7</td>\n      <td>11</td>\n      <td>93</td>\n    </tr>\n    <tr>\n      <th>122</th>\n      <td>17</td>\n      <td>90</td>\n      <td>76</td>\n    </tr>\n    <tr>\n      <th>123</th>\n      <td>1</td>\n      <td>28</td>\n      <td>36</td>\n    </tr>\n    <tr>\n      <th>124</th>\n      <td>18</td>\n      <td>21</td>\n      <td>70</td>\n    </tr>\n    <tr>\n      <th>125</th>\n      <td>12</td>\n      <td>35</td>\n      <td>80</td>\n    </tr>\n    <tr>\n      <th>126</th>\n      <td>23</td>\n      <td>14</td>\n      <td>90</td>\n    </tr>\n    <tr>\n      <th>127</th>\n      <td>46</td>\n      <td>26</td>\n      <td>36</td>\n    </tr>\n    <tr>\n      <th>128</th>\n      <td>25</td>\n      <td>68</td>\n      <td>40</td>\n    </tr>\n    <tr>\n      <th>129</th>\n      <td>59</td>\n      <td>32</td>\n      <td>41</td>\n    </tr>\n    <tr>\n      <th>130</th>\n      <td>62</td>\n      <td>92</td>\n      <td>77</td>\n    </tr>\n    <tr>\n      <th>131</th>\n      <td>41</td>\n      <td>68</td>\n      <td>16</td>\n    </tr>\n    <tr>\n      <th>132</th>\n      <td>13</td>\n      <td>45</td>\n      <td>56</td>\n    </tr>\n    <tr>\n      <th>133</th>\n      <td>96</td>\n      <td>14</td>\n      <td>89</td>\n    </tr>\n    <tr>\n      <th>134</th>\n      <td>86</td>\n      <td>60</td>\n      <td>64</td>\n    </tr>\n    <tr>\n      <th>135</th>\n      <td>4</td>\n      <td>67</td>\n      <td>36</td>\n    </tr>\n    <tr>\n      <th>136</th>\n      <td>67</td>\n      <td>30</td>\n      <td>37</td>\n    </tr>\n    <tr>\n      <th>137</th>\n      <td>4</td>\n      <td>49</td>\n      <td>15</td>\n    </tr>\n    <tr>\n      <th>138</th>\n      <td>59</td>\n      <td>92</td>\n      <td>40</td>\n    </tr>\n    <tr>\n      <th>139</th>\n      <td>39</td>\n      <td>82</td>\n      <td>78</td>\n    </tr>\n    <tr>\n      <th>140</th>\n      <td>22</td>\n      <td>67</td>\n      <td>8</td>\n    </tr>\n    <tr>\n      <th>141</th>\n      <td>61</td>\n      <td>19</td>\n      <td>79</td>\n    </tr>\n    <tr>\n      <th>142</th>\n      <td>49</td>\n      <td>88</td>\n      <td>52</td>\n    </tr>\n    <tr>\n      <th>143</th>\n      <td>22</td>\n      <td>61</td>\n      <td>39</td>\n    </tr>\n    <tr>\n      <th>144</th>\n      <td>3</td>\n      <td>47</td>\n      <td>34</td>\n    </tr>\n    <tr>\n      <th>145</th>\n      <td>85</td>\n      <td>49</td>\n      <td>48</td>\n    </tr>\n    <tr>\n      <th>146</th>\n      <td>79</td>\n      <td>43</td>\n      <td>71</td>\n    </tr>\n    <tr>\n      <th>147</th>\n      <td>56</td>\n      <td>97</td>\n      <td>39</td>\n    </tr>\n    <tr>\n      <th>148</th>\n      <td>79</td>\n      <td>79</td>\n      <td>1</td>\n    </tr>\n    <tr>\n      <th>149</th>\n      <td>58</td>\n      <td>45</td>\n      <td>99</td>\n    </tr>\n    <tr>\n      <th>150</th>\n      <td>52</td>\n      <td>65</td>\n      <td>87</td>\n    </tr>\n  </tbody>\n</table>\n</div>"
          },
          "metadata": {}
        }
      ],
      "execution_count": 530
    },
    {
      "cell_type": "code",
      "source": "eig['Python'] = eig['Python'].where(eig['Python'] > 40 ,41)",
      "metadata": {
        "trusted": true
      },
      "outputs": [],
      "execution_count": 531
    },
    {
      "cell_type": "code",
      "source": "eig = eig+20\neig = eig.where(eig < 100, 100)",
      "metadata": {
        "trusted": true
      },
      "outputs": [],
      "execution_count": 532
    },
    {
      "cell_type": "code",
      "source": "eig[(eig[\"Python\"]>50) & (eig[\"DataScience\"]>60)]",
      "metadata": {
        "trusted": true
      },
      "outputs": [
        {
          "execution_count": 533,
          "output_type": "execute_result",
          "data": {
            "text/plain": "     Python  DataScience  Biology\n102      63           92       88\n103     100          100      100\n104      67          100       55\n105     100          100      100\n108      70          100       83\n111      61          100       33\n113      61           93       60\n114     100           66       79\n115      73          100       80\n122      61          100       96\n128      61           88       60\n130      82          100       97\n131      61           88       36\n132      61           65       76\n134     100           80       84\n135      61           87       56\n137      61           69       35\n138      79          100       60\n139      61          100       98\n140      61           87       28\n142      69          100       72\n143      61           81       59\n144      61           67       54\n145     100           69       68\n146      99           63       91\n147      76          100       59\n148      99           99       21\n149      78           65      100\n150      72           85      100",
            "text/html": "<div>\n<style scoped>\n    .dataframe tbody tr th:only-of-type {\n        vertical-align: middle;\n    }\n\n    .dataframe tbody tr th {\n        vertical-align: top;\n    }\n\n    .dataframe thead th {\n        text-align: right;\n    }\n</style>\n<table border=\"1\" class=\"dataframe\">\n  <thead>\n    <tr style=\"text-align: right;\">\n      <th></th>\n      <th>Python</th>\n      <th>DataScience</th>\n      <th>Biology</th>\n    </tr>\n  </thead>\n  <tbody>\n    <tr>\n      <th>102</th>\n      <td>63</td>\n      <td>92</td>\n      <td>88</td>\n    </tr>\n    <tr>\n      <th>103</th>\n      <td>100</td>\n      <td>100</td>\n      <td>100</td>\n    </tr>\n    <tr>\n      <th>104</th>\n      <td>67</td>\n      <td>100</td>\n      <td>55</td>\n    </tr>\n    <tr>\n      <th>105</th>\n      <td>100</td>\n      <td>100</td>\n      <td>100</td>\n    </tr>\n    <tr>\n      <th>108</th>\n      <td>70</td>\n      <td>100</td>\n      <td>83</td>\n    </tr>\n    <tr>\n      <th>111</th>\n      <td>61</td>\n      <td>100</td>\n      <td>33</td>\n    </tr>\n    <tr>\n      <th>113</th>\n      <td>61</td>\n      <td>93</td>\n      <td>60</td>\n    </tr>\n    <tr>\n      <th>114</th>\n      <td>100</td>\n      <td>66</td>\n      <td>79</td>\n    </tr>\n    <tr>\n      <th>115</th>\n      <td>73</td>\n      <td>100</td>\n      <td>80</td>\n    </tr>\n    <tr>\n      <th>122</th>\n      <td>61</td>\n      <td>100</td>\n      <td>96</td>\n    </tr>\n    <tr>\n      <th>128</th>\n      <td>61</td>\n      <td>88</td>\n      <td>60</td>\n    </tr>\n    <tr>\n      <th>130</th>\n      <td>82</td>\n      <td>100</td>\n      <td>97</td>\n    </tr>\n    <tr>\n      <th>131</th>\n      <td>61</td>\n      <td>88</td>\n      <td>36</td>\n    </tr>\n    <tr>\n      <th>132</th>\n      <td>61</td>\n      <td>65</td>\n      <td>76</td>\n    </tr>\n    <tr>\n      <th>134</th>\n      <td>100</td>\n      <td>80</td>\n      <td>84</td>\n    </tr>\n    <tr>\n      <th>135</th>\n      <td>61</td>\n      <td>87</td>\n      <td>56</td>\n    </tr>\n    <tr>\n      <th>137</th>\n      <td>61</td>\n      <td>69</td>\n      <td>35</td>\n    </tr>\n    <tr>\n      <th>138</th>\n      <td>79</td>\n      <td>100</td>\n      <td>60</td>\n    </tr>\n    <tr>\n      <th>139</th>\n      <td>61</td>\n      <td>100</td>\n      <td>98</td>\n    </tr>\n    <tr>\n      <th>140</th>\n      <td>61</td>\n      <td>87</td>\n      <td>28</td>\n    </tr>\n    <tr>\n      <th>142</th>\n      <td>69</td>\n      <td>100</td>\n      <td>72</td>\n    </tr>\n    <tr>\n      <th>143</th>\n      <td>61</td>\n      <td>81</td>\n      <td>59</td>\n    </tr>\n    <tr>\n      <th>144</th>\n      <td>61</td>\n      <td>67</td>\n      <td>54</td>\n    </tr>\n    <tr>\n      <th>145</th>\n      <td>100</td>\n      <td>69</td>\n      <td>68</td>\n    </tr>\n    <tr>\n      <th>146</th>\n      <td>99</td>\n      <td>63</td>\n      <td>91</td>\n    </tr>\n    <tr>\n      <th>147</th>\n      <td>76</td>\n      <td>100</td>\n      <td>59</td>\n    </tr>\n    <tr>\n      <th>148</th>\n      <td>99</td>\n      <td>99</td>\n      <td>21</td>\n    </tr>\n    <tr>\n      <th>149</th>\n      <td>78</td>\n      <td>65</td>\n      <td>100</td>\n    </tr>\n    <tr>\n      <th>150</th>\n      <td>72</td>\n      <td>85</td>\n      <td>100</td>\n    </tr>\n  </tbody>\n</table>\n</div>"
          },
          "metadata": {}
        }
      ],
      "execution_count": 533
    },
    {
      "cell_type": "code",
      "source": "eig['Total'] = eig[\"Python\"]+eig[\"DataScience\"]+eig[\"Biology\"]",
      "metadata": {
        "trusted": true
      },
      "outputs": [],
      "execution_count": 534
    },
    {
      "cell_type": "code",
      "source": "eig['Percentage'] = eig[\"Total\"]/3",
      "metadata": {
        "trusted": true
      },
      "outputs": [],
      "execution_count": 535
    },
    {
      "cell_type": "code",
      "source": "eig['Status'] = np.where(eig[\"Percentage\"]>40,\"Pass\",\"Fail\")",
      "metadata": {
        "trusted": true
      },
      "outputs": [],
      "execution_count": 536
    },
    {
      "cell_type": "code",
      "source": "a=eig.sum().drop(\"Status\")\na.drop(\"Grade\")",
      "metadata": {
        "trusted": true
      },
      "outputs": [
        {
          "ename": "<class 'KeyError'>",
          "evalue": "\"['Grade'] not found in axis\"",
          "traceback": [
            "\u001b[0;31m---------------------------------------------------------------------------\u001b[0m",
            "\u001b[0;31mKeyError\u001b[0m                                  Traceback (most recent call last)",
            "Cell \u001b[0;32mIn[537], line 2\u001b[0m\n\u001b[1;32m      1\u001b[0m a\u001b[38;5;241m=\u001b[39meig\u001b[38;5;241m.\u001b[39msum()\u001b[38;5;241m.\u001b[39mdrop(\u001b[38;5;124m\"\u001b[39m\u001b[38;5;124mStatus\u001b[39m\u001b[38;5;124m\"\u001b[39m)\n\u001b[0;32m----> 2\u001b[0m \u001b[43ma\u001b[49m\u001b[38;5;241;43m.\u001b[39;49m\u001b[43mdrop\u001b[49m\u001b[43m(\u001b[49m\u001b[38;5;124;43m\"\u001b[39;49m\u001b[38;5;124;43mGrade\u001b[39;49m\u001b[38;5;124;43m\"\u001b[39;49m\u001b[43m)\u001b[49m\n",
            "File \u001b[0;32m/lib/python3.11/site-packages/pandas/util/_decorators.py:331\u001b[0m, in \u001b[0;36mdeprecate_nonkeyword_arguments.<locals>.decorate.<locals>.wrapper\u001b[0;34m(*args, **kwargs)\u001b[0m\n\u001b[1;32m    325\u001b[0m \u001b[38;5;28;01mif\u001b[39;00m \u001b[38;5;28mlen\u001b[39m(args) \u001b[38;5;241m>\u001b[39m num_allow_args:\n\u001b[1;32m    326\u001b[0m     warnings\u001b[38;5;241m.\u001b[39mwarn(\n\u001b[1;32m    327\u001b[0m         msg\u001b[38;5;241m.\u001b[39mformat(arguments\u001b[38;5;241m=\u001b[39m_format_argument_list(allow_args)),\n\u001b[1;32m    328\u001b[0m         \u001b[38;5;167;01mFutureWarning\u001b[39;00m,\n\u001b[1;32m    329\u001b[0m         stacklevel\u001b[38;5;241m=\u001b[39mfind_stack_level(),\n\u001b[1;32m    330\u001b[0m     )\n\u001b[0;32m--> 331\u001b[0m \u001b[38;5;28;01mreturn\u001b[39;00m \u001b[43mfunc\u001b[49m\u001b[43m(\u001b[49m\u001b[38;5;241;43m*\u001b[39;49m\u001b[43margs\u001b[49m\u001b[43m,\u001b[49m\u001b[43m \u001b[49m\u001b[38;5;241;43m*\u001b[39;49m\u001b[38;5;241;43m*\u001b[39;49m\u001b[43mkwargs\u001b[49m\u001b[43m)\u001b[49m\n",
            "File \u001b[0;32m/lib/python3.11/site-packages/pandas/core/series.py:5237\u001b[0m, in \u001b[0;36mSeries.drop\u001b[0;34m(self, labels, axis, index, columns, level, inplace, errors)\u001b[0m\n\u001b[1;32m   5140\u001b[0m \u001b[38;5;129m@deprecate_nonkeyword_arguments\u001b[39m(version\u001b[38;5;241m=\u001b[39m\u001b[38;5;28;01mNone\u001b[39;00m, allowed_args\u001b[38;5;241m=\u001b[39m[\u001b[38;5;124m\"\u001b[39m\u001b[38;5;124mself\u001b[39m\u001b[38;5;124m\"\u001b[39m, \u001b[38;5;124m\"\u001b[39m\u001b[38;5;124mlabels\u001b[39m\u001b[38;5;124m\"\u001b[39m])\n\u001b[1;32m   5141\u001b[0m \u001b[38;5;28;01mdef\u001b[39;00m \u001b[38;5;21mdrop\u001b[39m(  \u001b[38;5;66;03m# type: ignore[override]\u001b[39;00m\n\u001b[1;32m   5142\u001b[0m     \u001b[38;5;28mself\u001b[39m,\n\u001b[0;32m   (...)\u001b[0m\n\u001b[1;32m   5149\u001b[0m     errors: IgnoreRaise \u001b[38;5;241m=\u001b[39m \u001b[38;5;124m\"\u001b[39m\u001b[38;5;124mraise\u001b[39m\u001b[38;5;124m\"\u001b[39m,\n\u001b[1;32m   5150\u001b[0m ) \u001b[38;5;241m-\u001b[39m\u001b[38;5;241m>\u001b[39m Series \u001b[38;5;241m|\u001b[39m \u001b[38;5;28;01mNone\u001b[39;00m:\n\u001b[1;32m   5151\u001b[0m \u001b[38;5;250m    \u001b[39m\u001b[38;5;124;03m\"\"\"\u001b[39;00m\n\u001b[1;32m   5152\u001b[0m \u001b[38;5;124;03m    Return Series with specified index labels removed.\u001b[39;00m\n\u001b[1;32m   5153\u001b[0m \n\u001b[0;32m   (...)\u001b[0m\n\u001b[1;32m   5235\u001b[0m \u001b[38;5;124;03m    dtype: float64\u001b[39;00m\n\u001b[1;32m   5236\u001b[0m \u001b[38;5;124;03m    \"\"\"\u001b[39;00m\n\u001b[0;32m-> 5237\u001b[0m     \u001b[38;5;28;01mreturn\u001b[39;00m \u001b[38;5;28;43msuper\u001b[39;49m\u001b[43m(\u001b[49m\u001b[43m)\u001b[49m\u001b[38;5;241;43m.\u001b[39;49m\u001b[43mdrop\u001b[49m\u001b[43m(\u001b[49m\n\u001b[1;32m   5238\u001b[0m \u001b[43m        \u001b[49m\u001b[43mlabels\u001b[49m\u001b[38;5;241;43m=\u001b[39;49m\u001b[43mlabels\u001b[49m\u001b[43m,\u001b[49m\n\u001b[1;32m   5239\u001b[0m \u001b[43m        \u001b[49m\u001b[43maxis\u001b[49m\u001b[38;5;241;43m=\u001b[39;49m\u001b[43maxis\u001b[49m\u001b[43m,\u001b[49m\n\u001b[1;32m   5240\u001b[0m \u001b[43m        \u001b[49m\u001b[43mindex\u001b[49m\u001b[38;5;241;43m=\u001b[39;49m\u001b[43mindex\u001b[49m\u001b[43m,\u001b[49m\n\u001b[1;32m   5241\u001b[0m \u001b[43m        \u001b[49m\u001b[43mcolumns\u001b[49m\u001b[38;5;241;43m=\u001b[39;49m\u001b[43mcolumns\u001b[49m\u001b[43m,\u001b[49m\n\u001b[1;32m   5242\u001b[0m \u001b[43m        \u001b[49m\u001b[43mlevel\u001b[49m\u001b[38;5;241;43m=\u001b[39;49m\u001b[43mlevel\u001b[49m\u001b[43m,\u001b[49m\n\u001b[1;32m   5243\u001b[0m \u001b[43m        \u001b[49m\u001b[43minplace\u001b[49m\u001b[38;5;241;43m=\u001b[39;49m\u001b[43minplace\u001b[49m\u001b[43m,\u001b[49m\n\u001b[1;32m   5244\u001b[0m \u001b[43m        \u001b[49m\u001b[43merrors\u001b[49m\u001b[38;5;241;43m=\u001b[39;49m\u001b[43merrors\u001b[49m\u001b[43m,\u001b[49m\n\u001b[1;32m   5245\u001b[0m \u001b[43m    \u001b[49m\u001b[43m)\u001b[49m\n",
            "File \u001b[0;32m/lib/python3.11/site-packages/pandas/util/_decorators.py:331\u001b[0m, in \u001b[0;36mdeprecate_nonkeyword_arguments.<locals>.decorate.<locals>.wrapper\u001b[0;34m(*args, **kwargs)\u001b[0m\n\u001b[1;32m    325\u001b[0m \u001b[38;5;28;01mif\u001b[39;00m \u001b[38;5;28mlen\u001b[39m(args) \u001b[38;5;241m>\u001b[39m num_allow_args:\n\u001b[1;32m    326\u001b[0m     warnings\u001b[38;5;241m.\u001b[39mwarn(\n\u001b[1;32m    327\u001b[0m         msg\u001b[38;5;241m.\u001b[39mformat(arguments\u001b[38;5;241m=\u001b[39m_format_argument_list(allow_args)),\n\u001b[1;32m    328\u001b[0m         \u001b[38;5;167;01mFutureWarning\u001b[39;00m,\n\u001b[1;32m    329\u001b[0m         stacklevel\u001b[38;5;241m=\u001b[39mfind_stack_level(),\n\u001b[1;32m    330\u001b[0m     )\n\u001b[0;32m--> 331\u001b[0m \u001b[38;5;28;01mreturn\u001b[39;00m \u001b[43mfunc\u001b[49m\u001b[43m(\u001b[49m\u001b[38;5;241;43m*\u001b[39;49m\u001b[43margs\u001b[49m\u001b[43m,\u001b[49m\u001b[43m \u001b[49m\u001b[38;5;241;43m*\u001b[39;49m\u001b[38;5;241;43m*\u001b[39;49m\u001b[43mkwargs\u001b[49m\u001b[43m)\u001b[49m\n",
            "File \u001b[0;32m/lib/python3.11/site-packages/pandas/core/generic.py:4505\u001b[0m, in \u001b[0;36mNDFrame.drop\u001b[0;34m(self, labels, axis, index, columns, level, inplace, errors)\u001b[0m\n\u001b[1;32m   4503\u001b[0m \u001b[38;5;28;01mfor\u001b[39;00m axis, labels \u001b[38;5;129;01min\u001b[39;00m axes\u001b[38;5;241m.\u001b[39mitems():\n\u001b[1;32m   4504\u001b[0m     \u001b[38;5;28;01mif\u001b[39;00m labels \u001b[38;5;129;01mis\u001b[39;00m \u001b[38;5;129;01mnot\u001b[39;00m \u001b[38;5;28;01mNone\u001b[39;00m:\n\u001b[0;32m-> 4505\u001b[0m         obj \u001b[38;5;241m=\u001b[39m \u001b[43mobj\u001b[49m\u001b[38;5;241;43m.\u001b[39;49m\u001b[43m_drop_axis\u001b[49m\u001b[43m(\u001b[49m\u001b[43mlabels\u001b[49m\u001b[43m,\u001b[49m\u001b[43m \u001b[49m\u001b[43maxis\u001b[49m\u001b[43m,\u001b[49m\u001b[43m \u001b[49m\u001b[43mlevel\u001b[49m\u001b[38;5;241;43m=\u001b[39;49m\u001b[43mlevel\u001b[49m\u001b[43m,\u001b[49m\u001b[43m \u001b[49m\u001b[43merrors\u001b[49m\u001b[38;5;241;43m=\u001b[39;49m\u001b[43merrors\u001b[49m\u001b[43m)\u001b[49m\n\u001b[1;32m   4507\u001b[0m \u001b[38;5;28;01mif\u001b[39;00m inplace:\n\u001b[1;32m   4508\u001b[0m     \u001b[38;5;28mself\u001b[39m\u001b[38;5;241m.\u001b[39m_update_inplace(obj)\n",
            "File \u001b[0;32m/lib/python3.11/site-packages/pandas/core/generic.py:4546\u001b[0m, in \u001b[0;36mNDFrame._drop_axis\u001b[0;34m(self, labels, axis, level, errors, only_slice)\u001b[0m\n\u001b[1;32m   4544\u001b[0m         new_axis \u001b[38;5;241m=\u001b[39m axis\u001b[38;5;241m.\u001b[39mdrop(labels, level\u001b[38;5;241m=\u001b[39mlevel, errors\u001b[38;5;241m=\u001b[39merrors)\n\u001b[1;32m   4545\u001b[0m     \u001b[38;5;28;01melse\u001b[39;00m:\n\u001b[0;32m-> 4546\u001b[0m         new_axis \u001b[38;5;241m=\u001b[39m \u001b[43maxis\u001b[49m\u001b[38;5;241;43m.\u001b[39;49m\u001b[43mdrop\u001b[49m\u001b[43m(\u001b[49m\u001b[43mlabels\u001b[49m\u001b[43m,\u001b[49m\u001b[43m \u001b[49m\u001b[43merrors\u001b[49m\u001b[38;5;241;43m=\u001b[39;49m\u001b[43merrors\u001b[49m\u001b[43m)\u001b[49m\n\u001b[1;32m   4547\u001b[0m     indexer \u001b[38;5;241m=\u001b[39m axis\u001b[38;5;241m.\u001b[39mget_indexer(new_axis)\n\u001b[1;32m   4549\u001b[0m \u001b[38;5;66;03m# Case for non-unique axis\u001b[39;00m\n\u001b[1;32m   4550\u001b[0m \u001b[38;5;28;01melse\u001b[39;00m:\n",
            "File \u001b[0;32m/lib/python3.11/site-packages/pandas/core/indexes/base.py:6934\u001b[0m, in \u001b[0;36mIndex.drop\u001b[0;34m(self, labels, errors)\u001b[0m\n\u001b[1;32m   6932\u001b[0m \u001b[38;5;28;01mif\u001b[39;00m mask\u001b[38;5;241m.\u001b[39many():\n\u001b[1;32m   6933\u001b[0m     \u001b[38;5;28;01mif\u001b[39;00m errors \u001b[38;5;241m!=\u001b[39m \u001b[38;5;124m\"\u001b[39m\u001b[38;5;124mignore\u001b[39m\u001b[38;5;124m\"\u001b[39m:\n\u001b[0;32m-> 6934\u001b[0m         \u001b[38;5;28;01mraise\u001b[39;00m \u001b[38;5;167;01mKeyError\u001b[39;00m(\u001b[38;5;124mf\u001b[39m\u001b[38;5;124m\"\u001b[39m\u001b[38;5;132;01m{\u001b[39;00m\u001b[38;5;28mlist\u001b[39m(labels[mask])\u001b[38;5;132;01m}\u001b[39;00m\u001b[38;5;124m not found in axis\u001b[39m\u001b[38;5;124m\"\u001b[39m)\n\u001b[1;32m   6935\u001b[0m     indexer \u001b[38;5;241m=\u001b[39m indexer[\u001b[38;5;241m~\u001b[39mmask]\n\u001b[1;32m   6936\u001b[0m \u001b[38;5;28;01mreturn\u001b[39;00m \u001b[38;5;28mself\u001b[39m\u001b[38;5;241m.\u001b[39mdelete(indexer)\n",
            "\u001b[0;31mKeyError\u001b[0m: \"['Grade'] not found in axis\""
          ],
          "output_type": "error"
        }
      ],
      "execution_count": 537
    },
    {
      "cell_type": "code",
      "source": "eig.var()",
      "metadata": {
        "trusted": true
      },
      "outputs": [
        {
          "name": "stderr",
          "text": "<ipython-input-538-73c409ba9d9d>:1: FutureWarning: The default value of numeric_only in DataFrame.var is deprecated. In a future version, it will default to False. In addition, specifying 'numeric_only=None' is deprecated. Select only valid columns or specify the value of numeric_only to silence this warning.\n  eig.var()\n",
          "output_type": "stream"
        },
        {
          "execution_count": 538,
          "output_type": "execute_result",
          "data": {
            "text/plain": "Python          234.546667\nDataScience     703.863529\nBiology         534.254118\nTotal          1408.810196\nPercentage      156.534466\ndtype: float64"
          },
          "metadata": {}
        }
      ],
      "execution_count": 538
    },
    {
      "cell_type": "code",
      "source": "eig.describe()",
      "metadata": {
        "trusted": true
      },
      "outputs": [
        {
          "execution_count": 539,
          "output_type": "execute_result",
          "data": {
            "text/plain": "           Python  DataScience     Biology       Total  Percentage\ncount   51.000000    51.000000   51.000000   51.000000   51.000000\nmean    73.666667    67.764706   72.470588  213.901961   71.300654\nstd     15.314916    26.530426   23.113938   37.534120   12.511373\nmin     61.000000    21.000000   21.000000  133.000000   44.333333\n25%     61.000000    47.000000   56.000000  188.000000   62.666667\n50%     66.000000    66.000000   73.000000  209.000000   69.666667\n75%     81.500000    96.000000   96.000000  242.000000   80.666667\nmax    100.000000   100.000000  100.000000  300.000000  100.000000",
            "text/html": "<div>\n<style scoped>\n    .dataframe tbody tr th:only-of-type {\n        vertical-align: middle;\n    }\n\n    .dataframe tbody tr th {\n        vertical-align: top;\n    }\n\n    .dataframe thead th {\n        text-align: right;\n    }\n</style>\n<table border=\"1\" class=\"dataframe\">\n  <thead>\n    <tr style=\"text-align: right;\">\n      <th></th>\n      <th>Python</th>\n      <th>DataScience</th>\n      <th>Biology</th>\n      <th>Total</th>\n      <th>Percentage</th>\n    </tr>\n  </thead>\n  <tbody>\n    <tr>\n      <th>count</th>\n      <td>51.000000</td>\n      <td>51.000000</td>\n      <td>51.000000</td>\n      <td>51.000000</td>\n      <td>51.000000</td>\n    </tr>\n    <tr>\n      <th>mean</th>\n      <td>73.666667</td>\n      <td>67.764706</td>\n      <td>72.470588</td>\n      <td>213.901961</td>\n      <td>71.300654</td>\n    </tr>\n    <tr>\n      <th>std</th>\n      <td>15.314916</td>\n      <td>26.530426</td>\n      <td>23.113938</td>\n      <td>37.534120</td>\n      <td>12.511373</td>\n    </tr>\n    <tr>\n      <th>min</th>\n      <td>61.000000</td>\n      <td>21.000000</td>\n      <td>21.000000</td>\n      <td>133.000000</td>\n      <td>44.333333</td>\n    </tr>\n    <tr>\n      <th>25%</th>\n      <td>61.000000</td>\n      <td>47.000000</td>\n      <td>56.000000</td>\n      <td>188.000000</td>\n      <td>62.666667</td>\n    </tr>\n    <tr>\n      <th>50%</th>\n      <td>66.000000</td>\n      <td>66.000000</td>\n      <td>73.000000</td>\n      <td>209.000000</td>\n      <td>69.666667</td>\n    </tr>\n    <tr>\n      <th>75%</th>\n      <td>81.500000</td>\n      <td>96.000000</td>\n      <td>96.000000</td>\n      <td>242.000000</td>\n      <td>80.666667</td>\n    </tr>\n    <tr>\n      <th>max</th>\n      <td>100.000000</td>\n      <td>100.000000</td>\n      <td>100.000000</td>\n      <td>300.000000</td>\n      <td>100.000000</td>\n    </tr>\n  </tbody>\n</table>\n</div>"
          },
          "metadata": {}
        }
      ],
      "execution_count": 539
    },
    {
      "cell_type": "code",
      "source": "",
      "metadata": {
        "trusted": true
      },
      "outputs": [],
      "execution_count": null
    },
    {
      "cell_type": "code",
      "source": "import pandas as pd \n",
      "metadata": {
        "trusted": true
      },
      "outputs": [],
      "execution_count": 541
    },
    {
      "cell_type": "code",
      "source": "s = pd.read_csv('Salaries.csv')",
      "metadata": {
        "trusted": true
      },
      "outputs": [
        {
          "name": "stderr",
          "text": "<ipython-input-543-7569c28abd7d>:1: DtypeWarning: Columns (3,4,5,6,12) have mixed types. Specify dtype option on import or set low_memory=False.\n  s = pd.read_csv('Salaries.csv')\n",
          "output_type": "stream"
        }
      ],
      "execution_count": 543
    },
    {
      "cell_type": "code",
      "source": "s.head()",
      "metadata": {
        "trusted": true
      },
      "outputs": [
        {
          "execution_count": 545,
          "output_type": "execute_result",
          "data": {
            "text/plain": "   Id       EmployeeName                                        JobTitle  \\\n0   1     NATHANIEL FORD  GENERAL MANAGER-METROPOLITAN TRANSIT AUTHORITY   \n1   2       GARY JIMENEZ                 CAPTAIN III (POLICE DEPARTMENT)   \n2   3     ALBERT PARDINI                 CAPTAIN III (POLICE DEPARTMENT)   \n3   4  CHRISTOPHER CHONG            WIRE ROPE CABLE MAINTENANCE MECHANIC   \n4   5    PATRICK GARDNER    DEPUTY CHIEF OF DEPARTMENT,(FIRE DEPARTMENT)   \n\n     BasePay OvertimePay   OtherPay Benefits   TotalPay  TotalPayBenefits  \\\n0  167411.18         0.0  400184.25      NaN  567595.43         567595.43   \n1  155966.02   245131.88  137811.38      NaN  538909.28         538909.28   \n2  212739.13   106088.18    16452.6      NaN  335279.91         335279.91   \n3    77916.0    56120.71   198306.9      NaN  332343.61         332343.61   \n4   134401.6      9737.0  182234.59      NaN  326373.19         326373.19   \n\n   Year  Notes         Agency Status  \n0  2011    NaN  San Francisco    NaN  \n1  2011    NaN  San Francisco    NaN  \n2  2011    NaN  San Francisco    NaN  \n3  2011    NaN  San Francisco    NaN  \n4  2011    NaN  San Francisco    NaN  ",
            "text/html": "<div>\n<style scoped>\n    .dataframe tbody tr th:only-of-type {\n        vertical-align: middle;\n    }\n\n    .dataframe tbody tr th {\n        vertical-align: top;\n    }\n\n    .dataframe thead th {\n        text-align: right;\n    }\n</style>\n<table border=\"1\" class=\"dataframe\">\n  <thead>\n    <tr style=\"text-align: right;\">\n      <th></th>\n      <th>Id</th>\n      <th>EmployeeName</th>\n      <th>JobTitle</th>\n      <th>BasePay</th>\n      <th>OvertimePay</th>\n      <th>OtherPay</th>\n      <th>Benefits</th>\n      <th>TotalPay</th>\n      <th>TotalPayBenefits</th>\n      <th>Year</th>\n      <th>Notes</th>\n      <th>Agency</th>\n      <th>Status</th>\n    </tr>\n  </thead>\n  <tbody>\n    <tr>\n      <th>0</th>\n      <td>1</td>\n      <td>NATHANIEL FORD</td>\n      <td>GENERAL MANAGER-METROPOLITAN TRANSIT AUTHORITY</td>\n      <td>167411.18</td>\n      <td>0.0</td>\n      <td>400184.25</td>\n      <td>NaN</td>\n      <td>567595.43</td>\n      <td>567595.43</td>\n      <td>2011</td>\n      <td>NaN</td>\n      <td>San Francisco</td>\n      <td>NaN</td>\n    </tr>\n    <tr>\n      <th>1</th>\n      <td>2</td>\n      <td>GARY JIMENEZ</td>\n      <td>CAPTAIN III (POLICE DEPARTMENT)</td>\n      <td>155966.02</td>\n      <td>245131.88</td>\n      <td>137811.38</td>\n      <td>NaN</td>\n      <td>538909.28</td>\n      <td>538909.28</td>\n      <td>2011</td>\n      <td>NaN</td>\n      <td>San Francisco</td>\n      <td>NaN</td>\n    </tr>\n    <tr>\n      <th>2</th>\n      <td>3</td>\n      <td>ALBERT PARDINI</td>\n      <td>CAPTAIN III (POLICE DEPARTMENT)</td>\n      <td>212739.13</td>\n      <td>106088.18</td>\n      <td>16452.6</td>\n      <td>NaN</td>\n      <td>335279.91</td>\n      <td>335279.91</td>\n      <td>2011</td>\n      <td>NaN</td>\n      <td>San Francisco</td>\n      <td>NaN</td>\n    </tr>\n    <tr>\n      <th>3</th>\n      <td>4</td>\n      <td>CHRISTOPHER CHONG</td>\n      <td>WIRE ROPE CABLE MAINTENANCE MECHANIC</td>\n      <td>77916.0</td>\n      <td>56120.71</td>\n      <td>198306.9</td>\n      <td>NaN</td>\n      <td>332343.61</td>\n      <td>332343.61</td>\n      <td>2011</td>\n      <td>NaN</td>\n      <td>San Francisco</td>\n      <td>NaN</td>\n    </tr>\n    <tr>\n      <th>4</th>\n      <td>5</td>\n      <td>PATRICK GARDNER</td>\n      <td>DEPUTY CHIEF OF DEPARTMENT,(FIRE DEPARTMENT)</td>\n      <td>134401.6</td>\n      <td>9737.0</td>\n      <td>182234.59</td>\n      <td>NaN</td>\n      <td>326373.19</td>\n      <td>326373.19</td>\n      <td>2011</td>\n      <td>NaN</td>\n      <td>San Francisco</td>\n      <td>NaN</td>\n    </tr>\n  </tbody>\n</table>\n</div>"
          },
          "metadata": {}
        }
      ],
      "execution_count": 545
    },
    {
      "cell_type": "code",
      "source": "s.tail()",
      "metadata": {
        "trusted": true
      },
      "outputs": [
        {
          "execution_count": 548,
          "output_type": "execute_result",
          "data": {
            "text/plain": "            Id   EmployeeName                    JobTitle       BasePay  \\\n148649  148650  Roy I Tillery                   Custodian          0.00   \n148650  148651   Not provided                Not provided  Not Provided   \n148651  148652   Not provided                Not provided  Not Provided   \n148652  148653   Not provided                Not provided  Not Provided   \n148653  148654      Joe Lopez  Counselor, Log Cabin Ranch          0.00   \n\n         OvertimePay      OtherPay      Benefits  TotalPay  TotalPayBenefits  \\\n148649          0.00          0.00          0.00      0.00              0.00   \n148650  Not Provided  Not Provided  Not Provided      0.00              0.00   \n148651  Not Provided  Not Provided  Not Provided      0.00              0.00   \n148652  Not Provided  Not Provided  Not Provided      0.00              0.00   \n148653          0.00       -618.13          0.00   -618.13           -618.13   \n\n        Year  Notes         Agency Status  \n148649  2014    NaN  San Francisco     PT  \n148650  2014    NaN  San Francisco    NaN  \n148651  2014    NaN  San Francisco    NaN  \n148652  2014    NaN  San Francisco    NaN  \n148653  2014    NaN  San Francisco     PT  ",
            "text/html": "<div>\n<style scoped>\n    .dataframe tbody tr th:only-of-type {\n        vertical-align: middle;\n    }\n\n    .dataframe tbody tr th {\n        vertical-align: top;\n    }\n\n    .dataframe thead th {\n        text-align: right;\n    }\n</style>\n<table border=\"1\" class=\"dataframe\">\n  <thead>\n    <tr style=\"text-align: right;\">\n      <th></th>\n      <th>Id</th>\n      <th>EmployeeName</th>\n      <th>JobTitle</th>\n      <th>BasePay</th>\n      <th>OvertimePay</th>\n      <th>OtherPay</th>\n      <th>Benefits</th>\n      <th>TotalPay</th>\n      <th>TotalPayBenefits</th>\n      <th>Year</th>\n      <th>Notes</th>\n      <th>Agency</th>\n      <th>Status</th>\n    </tr>\n  </thead>\n  <tbody>\n    <tr>\n      <th>148649</th>\n      <td>148650</td>\n      <td>Roy I Tillery</td>\n      <td>Custodian</td>\n      <td>0.00</td>\n      <td>0.00</td>\n      <td>0.00</td>\n      <td>0.00</td>\n      <td>0.00</td>\n      <td>0.00</td>\n      <td>2014</td>\n      <td>NaN</td>\n      <td>San Francisco</td>\n      <td>PT</td>\n    </tr>\n    <tr>\n      <th>148650</th>\n      <td>148651</td>\n      <td>Not provided</td>\n      <td>Not provided</td>\n      <td>Not Provided</td>\n      <td>Not Provided</td>\n      <td>Not Provided</td>\n      <td>Not Provided</td>\n      <td>0.00</td>\n      <td>0.00</td>\n      <td>2014</td>\n      <td>NaN</td>\n      <td>San Francisco</td>\n      <td>NaN</td>\n    </tr>\n    <tr>\n      <th>148651</th>\n      <td>148652</td>\n      <td>Not provided</td>\n      <td>Not provided</td>\n      <td>Not Provided</td>\n      <td>Not Provided</td>\n      <td>Not Provided</td>\n      <td>Not Provided</td>\n      <td>0.00</td>\n      <td>0.00</td>\n      <td>2014</td>\n      <td>NaN</td>\n      <td>San Francisco</td>\n      <td>NaN</td>\n    </tr>\n    <tr>\n      <th>148652</th>\n      <td>148653</td>\n      <td>Not provided</td>\n      <td>Not provided</td>\n      <td>Not Provided</td>\n      <td>Not Provided</td>\n      <td>Not Provided</td>\n      <td>Not Provided</td>\n      <td>0.00</td>\n      <td>0.00</td>\n      <td>2014</td>\n      <td>NaN</td>\n      <td>San Francisco</td>\n      <td>NaN</td>\n    </tr>\n    <tr>\n      <th>148653</th>\n      <td>148654</td>\n      <td>Joe Lopez</td>\n      <td>Counselor, Log Cabin Ranch</td>\n      <td>0.00</td>\n      <td>0.00</td>\n      <td>-618.13</td>\n      <td>0.00</td>\n      <td>-618.13</td>\n      <td>-618.13</td>\n      <td>2014</td>\n      <td>NaN</td>\n      <td>San Francisco</td>\n      <td>PT</td>\n    </tr>\n  </tbody>\n</table>\n</div>"
          },
          "metadata": {}
        }
      ],
      "execution_count": 548
    },
    {
      "cell_type": "code",
      "source": "s.info()",
      "metadata": {
        "trusted": true
      },
      "outputs": [
        {
          "name": "stdout",
          "text": "<class 'pandas.core.frame.DataFrame'>\nRangeIndex: 148654 entries, 0 to 148653\nData columns (total 13 columns):\n #   Column            Non-Null Count   Dtype  \n---  ------            --------------   -----  \n 0   Id                148654 non-null  int64  \n 1   EmployeeName      148654 non-null  object \n 2   JobTitle          148654 non-null  object \n 3   BasePay           148049 non-null  object \n 4   OvertimePay       148654 non-null  object \n 5   OtherPay          148654 non-null  object \n 6   Benefits          112495 non-null  object \n 7   TotalPay          148654 non-null  float64\n 8   TotalPayBenefits  148654 non-null  float64\n 9   Year              148654 non-null  int64  \n 10  Notes             0 non-null       float64\n 11  Agency            148654 non-null  object \n 12  Status            38119 non-null   object \ndtypes: float64(3), int64(2), object(8)\nmemory usage: 10.2+ MB\n",
          "output_type": "stream"
        }
      ],
      "execution_count": 549
    },
    {
      "cell_type": "code",
      "source": "s = s.replace(to_replace = \"Not Provided\", value = np.nan)\ns = s.replace(to_replace = \"Not provided\", value = np.nan)",
      "metadata": {
        "trusted": true
      },
      "outputs": [],
      "execution_count": 550
    },
    {
      "cell_type": "code",
      "source": "s[\"BasePay\"].astype('float').mean()",
      "metadata": {
        "trusted": true
      },
      "outputs": [
        {
          "execution_count": 562,
          "output_type": "execute_result",
          "data": {
            "text/plain": "66325.4488404877"
          },
          "metadata": {}
        }
      ],
      "execution_count": 562
    },
    {
      "cell_type": "code",
      "source": "s[\"BasePay\"].astype('float').max()",
      "metadata": {
        "trusted": true
      },
      "outputs": [
        {
          "execution_count": 563,
          "output_type": "execute_result",
          "data": {
            "text/plain": "319275.01"
          },
          "metadata": {}
        }
      ],
      "execution_count": 563
    },
    {
      "cell_type": "code",
      "source": "s[s['EmployeeName'] == 'JOSEPH DRISCOLL']['JobTitle']",
      "metadata": {
        "trusted": true
      },
      "outputs": [
        {
          "execution_count": 566,
          "output_type": "execute_result",
          "data": {
            "text/plain": "24    CAPTAIN, FIRE SUPPRESSION\nName: JobTitle, dtype: object"
          },
          "metadata": {}
        }
      ],
      "execution_count": 566
    },
    {
      "cell_type": "code",
      "source": "s[s['TotalPayBenefits'] == s['TotalPayBenefits'].max()]",
      "metadata": {
        "trusted": true
      },
      "outputs": [
        {
          "execution_count": 584,
          "output_type": "execute_result",
          "data": {
            "text/plain": "   Id    EmployeeName                                        JobTitle  \\\n0   1  NATHANIEL FORD  GENERAL MANAGER-METROPOLITAN TRANSIT AUTHORITY   \n\n     BasePay OvertimePay   OtherPay Benefits   TotalPay  TotalPayBenefits  \\\n0  167411.18         0.0  400184.25      NaN  567595.43         567595.43   \n\n   Year  Notes         Agency Status  \n0  2011    NaN  San Francisco    NaN  ",
            "text/html": "<div>\n<style scoped>\n    .dataframe tbody tr th:only-of-type {\n        vertical-align: middle;\n    }\n\n    .dataframe tbody tr th {\n        vertical-align: top;\n    }\n\n    .dataframe thead th {\n        text-align: right;\n    }\n</style>\n<table border=\"1\" class=\"dataframe\">\n  <thead>\n    <tr style=\"text-align: right;\">\n      <th></th>\n      <th>Id</th>\n      <th>EmployeeName</th>\n      <th>JobTitle</th>\n      <th>BasePay</th>\n      <th>OvertimePay</th>\n      <th>OtherPay</th>\n      <th>Benefits</th>\n      <th>TotalPay</th>\n      <th>TotalPayBenefits</th>\n      <th>Year</th>\n      <th>Notes</th>\n      <th>Agency</th>\n      <th>Status</th>\n    </tr>\n  </thead>\n  <tbody>\n    <tr>\n      <th>0</th>\n      <td>1</td>\n      <td>NATHANIEL FORD</td>\n      <td>GENERAL MANAGER-METROPOLITAN TRANSIT AUTHORITY</td>\n      <td>167411.18</td>\n      <td>0.0</td>\n      <td>400184.25</td>\n      <td>NaN</td>\n      <td>567595.43</td>\n      <td>567595.43</td>\n      <td>2011</td>\n      <td>NaN</td>\n      <td>San Francisco</td>\n      <td>NaN</td>\n    </tr>\n  </tbody>\n</table>\n</div>"
          },
          "metadata": {}
        }
      ],
      "execution_count": 584
    },
    {
      "cell_type": "code",
      "source": "s[\"BasePay\"].astype('float').fillna(1)\ns.groupby('Year')[\"BasePay\"].mean()",
      "metadata": {
        "trusted": true
      },
      "outputs": [
        {
          "execution_count": 598,
          "output_type": "execute_result",
          "data": {
            "text/plain": "Year\n2011    63595.956517\n2012    65436.406857\n2013    69630.030216\n2014    66564.421924\nName: BasePay, dtype: float64"
          },
          "metadata": {}
        }
      ],
      "execution_count": 598
    },
    {
      "cell_type": "code",
      "source": "s['JobTitle'].nunique()",
      "metadata": {
        "trusted": true
      },
      "outputs": [
        {
          "execution_count": 599,
          "output_type": "execute_result",
          "data": {
            "text/plain": "2158"
          },
          "metadata": {}
        }
      ],
      "execution_count": 599
    },
    {
      "cell_type": "code",
      "source": "sal[sal['Year'] == 2013]['JobTitle']",
      "metadata": {
        "trusted": true
      },
      "outputs": [
        {
          "execution_count": 629,
          "output_type": "execute_result",
          "data": {
            "text/plain": "72925                    Chief of Police\n72926             Chief, Fire Department\n72927     Battalion Chief, Fire Suppress\n72928                  Asst Med Examiner\n72929       Dep Dir for Investments, Ret\n                       ...              \n110526           PS Aide Health Services\n110527                      Senior Clerk\n110528                  Police Officer 3\n110529                  Police Officer 3\n110530                  Police Officer 3\nName: JobTitle, Length: 37606, dtype: object"
          },
          "metadata": {}
        }
      ],
      "execution_count": 629
    },
    {
      "cell_type": "code",
      "source": "np.sum(s['JobTitle'].str.contains('Chief'))\n",
      "metadata": {
        "trusted": true
      },
      "outputs": [
        {
          "execution_count": 643,
          "output_type": "execute_result",
          "data": {
            "text/plain": "423"
          },
          "metadata": {}
        }
      ],
      "execution_count": 643
    },
    {
      "cell_type": "code",
      "source": "",
      "metadata": {
        "trusted": true
      },
      "outputs": [],
      "execution_count": null
    }
  ]
}